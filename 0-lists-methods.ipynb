{
  "cells": [
    {
      "cell_type": "markdown",
      "metadata": {
        "id": "AqzRvrbfEiKG"
      },
      "source": [
        "# List Methods"
      ]
    },
    {
      "cell_type": "markdown",
      "metadata": {
        "id": "HRPcOP9sEiKL"
      },
      "source": [
        "### Introduction"
      ]
    },
    {
      "cell_type": "markdown",
      "metadata": {
        "id": "cPrmh4vtEiKL"
      },
      "source": [
        "So far we have seen how to both create lists with our square brackets.  "
      ]
    },
    {
      "cell_type": "code",
      "execution_count": 1,
      "metadata": {
        "id": "R8VU9fj7EiKM"
      },
      "outputs": [],
      "source": [
        "cities = ['nyc', 'philadelphia', 'chicago', 'los angeles', 'seattle']"
      ]
    },
    {
      "cell_type": "markdown",
      "metadata": {
        "id": "2YQyM22UEiKN"
      },
      "source": [
        "And how to access data from a list with the bracket accessors."
      ]
    },
    {
      "cell_type": "code",
      "execution_count": 2,
      "metadata": {
        "id": "Z9BeBwO4EiKO",
        "outputId": "aa0b8ac1-b67d-4c97-eb8f-eaca1756f3a1",
        "colab": {
          "base_uri": "https://localhost:8080/",
          "height": 36
        }
      },
      "outputs": [
        {
          "output_type": "execute_result",
          "data": {
            "text/plain": [
              "'nyc'"
            ],
            "application/vnd.google.colaboratory.intrinsic+json": {
              "type": "string"
            }
          },
          "metadata": {},
          "execution_count": 2
        }
      ],
      "source": [
        "cities[0]"
      ]
    },
    {
      "cell_type": "code",
      "execution_count": 3,
      "metadata": {
        "id": "y29czy29EiKP",
        "outputId": "6956f505-5f55-47cd-f347-e14e2a0b8acc",
        "colab": {
          "base_uri": "https://localhost:8080/",
          "height": 36
        }
      },
      "outputs": [
        {
          "output_type": "execute_result",
          "data": {
            "text/plain": [
              "'philadelphia'"
            ],
            "application/vnd.google.colaboratory.intrinsic+json": {
              "type": "string"
            }
          },
          "metadata": {},
          "execution_count": 3
        }
      ],
      "source": [
        "cities[1]"
      ]
    },
    {
      "cell_type": "markdown",
      "metadata": {
        "id": "fWfkxYM5EiKQ"
      },
      "source": [
        "In this lesson, we'll first cover the methods for altering a list, and discuss how to further explore the data in a list by finding unique elements of a list, and sorting a list."
      ]
    },
    {
      "cell_type": "markdown",
      "metadata": {
        "id": "JDLeNTiNEiKQ"
      },
      "source": [
        "### Altering our Lists"
      ]
    },
    {
      "cell_type": "markdown",
      "metadata": {
        "id": "tpxyEDBTEiKR"
      },
      "source": [
        "Let's keep going with our list of cities."
      ]
    },
    {
      "cell_type": "code",
      "execution_count": 4,
      "metadata": {
        "id": "xA6fjuzmEiKS"
      },
      "outputs": [],
      "source": [
        "cities = ['nyc', 'philadelphia', 'chicago', 'los angeles', 'seattle']"
      ]
    },
    {
      "cell_type": "markdown",
      "metadata": {
        "id": "CR0FVyK4EiKS"
      },
      "source": [
        "Now as we may know, we can add to the list of cities with the append method."
      ]
    },
    {
      "cell_type": "code",
      "execution_count": 5,
      "metadata": {
        "id": "-djpjj0SEiKT"
      },
      "outputs": [],
      "source": [
        "cities.append('denver')"
      ]
    },
    {
      "cell_type": "code",
      "execution_count": 6,
      "metadata": {
        "id": "BuGj--GAEiKT",
        "outputId": "de26510a-aa32-4db9-bd26-730ea274444d",
        "colab": {
          "base_uri": "https://localhost:8080/"
        }
      },
      "outputs": [
        {
          "output_type": "execute_result",
          "data": {
            "text/plain": [
              "['nyc', 'philadelphia', 'chicago', 'los angeles', 'seattle', 'denver']"
            ]
          },
          "metadata": {},
          "execution_count": 6
        }
      ],
      "source": [
        "cities"
      ]
    },
    {
      "cell_type": "markdown",
      "metadata": {
        "id": "2F1xz1VXEiKU"
      },
      "source": [
        "Notice that with `append`, we are adding an element *to the end* of the list.  If we ever want to remove an element from a list we can do so with the `pop` method. "
      ]
    },
    {
      "cell_type": "code",
      "execution_count": 7,
      "metadata": {
        "id": "SJWSPBUOEiKU",
        "outputId": "382cfceb-f975-4810-c0c8-9bed0114a59f",
        "colab": {
          "base_uri": "https://localhost:8080/",
          "height": 36
        }
      },
      "outputs": [
        {
          "output_type": "execute_result",
          "data": {
            "text/plain": [
              "'denver'"
            ],
            "application/vnd.google.colaboratory.intrinsic+json": {
              "type": "string"
            }
          },
          "metadata": {},
          "execution_count": 7
        }
      ],
      "source": [
        "cities.pop()"
      ]
    },
    {
      "cell_type": "markdown",
      "metadata": {
        "id": "mmsrnAV3EiKY"
      },
      "source": [
        "So if we call `pop` once the last element is removed from the list."
      ]
    },
    {
      "cell_type": "code",
      "execution_count": 8,
      "metadata": {
        "id": "YLlTNBioEiKY",
        "outputId": "c652b894-12bc-4bf4-f737-e35676690390",
        "colab": {
          "base_uri": "https://localhost:8080/"
        }
      },
      "outputs": [
        {
          "output_type": "execute_result",
          "data": {
            "text/plain": [
              "['nyc', 'philadelphia', 'chicago', 'los angeles', 'seattle']"
            ]
          },
          "metadata": {},
          "execution_count": 8
        }
      ],
      "source": [
        "cities"
      ]
    },
    {
      "cell_type": "markdown",
      "metadata": {
        "id": "uxCA7fWLEiKZ"
      },
      "source": [
        "### Organizing a list"
      ]
    },
    {
      "cell_type": "markdown",
      "metadata": {
        "id": "EmPyQXPeEiKZ"
      },
      "source": [
        "Now that we learned about how to alter a list, let's cover how to get unique elements from a list."
      ]
    },
    {
      "cell_type": "markdown",
      "metadata": {
        "id": "mT7wkiOqEiKZ"
      },
      "source": [
        "1. Getting unique elements"
      ]
    },
    {
      "cell_type": "markdown",
      "metadata": {
        "id": "9bGRNdQoEiKZ"
      },
      "source": [
        "Imagine that we accidentally add a couple of cities to the list twice."
      ]
    },
    {
      "cell_type": "code",
      "execution_count": 9,
      "metadata": {
        "id": "gX63tpukEiKa"
      },
      "outputs": [],
      "source": [
        "cities.append('nyc')"
      ]
    },
    {
      "cell_type": "code",
      "execution_count": 10,
      "metadata": {
        "id": "g-OUalPNEiKa"
      },
      "outputs": [],
      "source": [
        "cities.append('chicago')"
      ]
    },
    {
      "cell_type": "code",
      "execution_count": 11,
      "metadata": {
        "id": "nC-rs08XEiKa",
        "outputId": "6f640bb7-90b6-46d9-d90d-a304b36d201c",
        "colab": {
          "base_uri": "https://localhost:8080/"
        }
      },
      "outputs": [
        {
          "output_type": "execute_result",
          "data": {
            "text/plain": [
              "['nyc', 'philadelphia', 'chicago', 'los angeles', 'seattle', 'nyc', 'chicago']"
            ]
          },
          "metadata": {},
          "execution_count": 11
        }
      ],
      "source": [
        "cities"
      ]
    },
    {
      "cell_type": "markdown",
      "metadata": {
        "id": "OlcRZ-t0EiKa"
      },
      "source": [
        "Oftentimes, we may want to get a *unique* list of items.  There is no method direct method on a list to accomplish this.  Instead, we'll need to use the `set`."
      ]
    },
    {
      "cell_type": "code",
      "execution_count": 12,
      "metadata": {
        "id": "gorDjWStEiKb",
        "outputId": "73ea615a-2be6-4d1b-bd49-9c5505447c0a",
        "colab": {
          "base_uri": "https://localhost:8080/"
        }
      },
      "outputs": [
        {
          "output_type": "execute_result",
          "data": {
            "text/plain": [
              "{'chicago', 'los angeles', 'nyc', 'philadelphia', 'seattle'}"
            ]
          },
          "metadata": {},
          "execution_count": 12
        }
      ],
      "source": [
        "unique_cities = set(cities)\n",
        "\n",
        "unique_cities"
      ]
    },
    {
      "cell_type": "code",
      "execution_count": 13,
      "metadata": {
        "id": "zBQJRo4-EiKb",
        "outputId": "ea480a8e-1633-4524-d38a-21cb6f547d52",
        "colab": {
          "base_uri": "https://localhost:8080/"
        }
      },
      "outputs": [
        {
          "output_type": "execute_result",
          "data": {
            "text/plain": [
              "set"
            ]
          },
          "metadata": {},
          "execution_count": 13
        }
      ],
      "source": [
        "type(unique_cities)"
      ]
    },
    {
      "cell_type": "markdown",
      "metadata": {
        "id": "mMBOXC6jEiKb"
      },
      "source": [
        "> A set is a collection of unique items."
      ]
    },
    {
      "cell_type": "markdown",
      "metadata": {
        "id": "ByFuOErgEiKb"
      },
      "source": [
        "So by using a set we can find the unique elements of a list.  But other than that, sets have very limited capabilities in Python.  For example, we cannot slice or select specific elements from a set."
      ]
    },
    {
      "cell_type": "code",
      "execution_count": 14,
      "metadata": {
        "id": "qaXpb9XjEiKc",
        "outputId": "a2fd5329-7bbf-465c-af8d-1b38d688f873",
        "colab": {
          "base_uri": "https://localhost:8080/",
          "height": 166
        }
      },
      "outputs": [
        {
          "output_type": "error",
          "ename": "TypeError",
          "evalue": "ignored",
          "traceback": [
            "\u001b[0;31m---------------------------------------------------------------------------\u001b[0m",
            "\u001b[0;31mTypeError\u001b[0m                                 Traceback (most recent call last)",
            "\u001b[0;32m<ipython-input-14-7931582fea77>\u001b[0m in \u001b[0;36m<module>\u001b[0;34m()\u001b[0m\n\u001b[0;32m----> 1\u001b[0;31m \u001b[0munique_cities\u001b[0m\u001b[0;34m[\u001b[0m\u001b[0;36m0\u001b[0m\u001b[0;34m]\u001b[0m\u001b[0;34m\u001b[0m\u001b[0;34m\u001b[0m\u001b[0m\n\u001b[0m",
            "\u001b[0;31mTypeError\u001b[0m: 'set' object is not subscriptable"
          ]
        }
      ],
      "source": [
        "unique_cities[0]"
      ]
    },
    {
      "cell_type": "markdown",
      "metadata": {
        "id": "Hr3aMwVEEiKc"
      },
      "source": [
        "Nor can we add or remove elements with a set."
      ]
    },
    {
      "cell_type": "code",
      "execution_count": 15,
      "metadata": {
        "id": "9OVUEYi-EiKc",
        "outputId": "7f29e2ba-b18f-4c80-eb9e-0f4df563cf3f",
        "colab": {
          "base_uri": "https://localhost:8080/",
          "height": 166
        }
      },
      "outputs": [
        {
          "output_type": "error",
          "ename": "AttributeError",
          "evalue": "ignored",
          "traceback": [
            "\u001b[0;31m---------------------------------------------------------------------------\u001b[0m",
            "\u001b[0;31mAttributeError\u001b[0m                            Traceback (most recent call last)",
            "\u001b[0;32m<ipython-input-15-45331213f089>\u001b[0m in \u001b[0;36m<module>\u001b[0;34m()\u001b[0m\n\u001b[0;32m----> 1\u001b[0;31m \u001b[0munique_cities\u001b[0m\u001b[0;34m.\u001b[0m\u001b[0mappend\u001b[0m\u001b[0;34m(\u001b[0m\u001b[0;34m'miami'\u001b[0m\u001b[0;34m)\u001b[0m\u001b[0;34m\u001b[0m\u001b[0;34m\u001b[0m\u001b[0m\n\u001b[0m",
            "\u001b[0;31mAttributeError\u001b[0m: 'set' object has no attribute 'append'"
          ]
        }
      ],
      "source": [
        "unique_cities.append('miami')"
      ]
    },
    {
      "cell_type": "markdown",
      "metadata": {
        "id": "vhyH4sYHEiKc"
      },
      "source": [
        "So oftentimes, we'll use a set to get a unique collection of a values, and the coerce our set back into a list."
      ]
    },
    {
      "cell_type": "code",
      "execution_count": 16,
      "metadata": {
        "id": "NBWfslS6EiKd",
        "outputId": "f9eb791a-a638-422f-835c-3f983d4d87aa",
        "colab": {
          "base_uri": "https://localhost:8080/"
        }
      },
      "outputs": [
        {
          "output_type": "execute_result",
          "data": {
            "text/plain": [
              "['nyc', 'philadelphia', 'seattle', 'chicago', 'los angeles']"
            ]
          },
          "metadata": {},
          "execution_count": 16
        }
      ],
      "source": [
        "cities_unique = list(set(cities))\n",
        "\n",
        "cities_unique"
      ]
    },
    {
      "cell_type": "markdown",
      "metadata": {
        "id": "GvYAqt9QEiKd"
      },
      "source": [
        "2. Sorting our list"
      ]
    },
    {
      "cell_type": "markdown",
      "metadata": {
        "id": "bwZLXkrNEiKd"
      },
      "source": [
        "Now that we have a unique list of cities, another thing we may want to do to order the list further is sort our list.  We can do so with the `sorted` method."
      ]
    },
    {
      "cell_type": "code",
      "execution_count": 17,
      "metadata": {
        "id": "WvB15DkREiKd",
        "outputId": "11d55221-de01-4c83-fc1c-7b425882213c",
        "colab": {
          "base_uri": "https://localhost:8080/"
        }
      },
      "outputs": [
        {
          "output_type": "execute_result",
          "data": {
            "text/plain": [
              "['chicago', 'los angeles', 'nyc', 'philadelphia', 'seattle']"
            ]
          },
          "metadata": {},
          "execution_count": 17
        }
      ],
      "source": [
        "sorted(cities_unique)"
      ]
    },
    {
      "cell_type": "markdown",
      "metadata": {
        "id": "DREDJ5n6EiKe"
      },
      "source": [
        "So we can see that the sorted method can handle alphanumeric characters.  It also, of course, can handle numbers:"
      ]
    },
    {
      "cell_type": "code",
      "execution_count": 18,
      "metadata": {
        "id": "n-_7oF8GEiKe",
        "outputId": "5a679258-00e5-433e-dbc5-9cee0060860f",
        "colab": {
          "base_uri": "https://localhost:8080/"
        }
      },
      "outputs": [
        {
          "output_type": "execute_result",
          "data": {
            "text/plain": [
              "[1, 10, 25, 50]"
            ]
          },
          "metadata": {},
          "execution_count": 18
        }
      ],
      "source": [
        "sorted([10, 50, 25, 1])"
      ]
    },
    {
      "cell_type": "markdown",
      "metadata": {
        "id": "LiIaXBI8EiKe"
      },
      "source": [
        "### Summary"
      ]
    },
    {
      "cell_type": "markdown",
      "metadata": {
        "id": "I0eBdT5dEiKe"
      },
      "source": [
        "In this lesson, we covered a few more operations that we can use when working with lists in Python.\n",
        "\n",
        "* `append`: Add an element to the end of a list\n",
        "* `pop`: Remove an element from the end of a list\n",
        "* `sorted`: Sorts our elements in a list"
      ]
    },
    {
      "cell_type": "markdown",
      "metadata": {
        "id": "bUERdMq3EiKe"
      },
      "source": [
        "We also learned about the set datatype, which stores a unique collection of items.  We can use set to find the unique items from our list."
      ]
    },
    {
      "cell_type": "code",
      "execution_count": 19,
      "metadata": {
        "id": "zRaKKWCnEiKf",
        "outputId": "dcce8993-983d-4135-a806-5b959f20d7dc",
        "colab": {
          "base_uri": "https://localhost:8080/"
        }
      },
      "outputs": [
        {
          "output_type": "execute_result",
          "data": {
            "text/plain": [
              "{'miami', 'nyc'}"
            ]
          },
          "metadata": {},
          "execution_count": 19
        }
      ],
      "source": [
        "set(['nyc', 'nyc', 'miami'])"
      ]
    },
    {
      "cell_type": "markdown",
      "metadata": {
        "id": "fUMB156AEiKf"
      },
      "source": [
        "And then because we cannot perform many operations on a set, we can then convert our set back into a list."
      ]
    },
    {
      "cell_type": "code",
      "execution_count": 20,
      "metadata": {
        "id": "WH7lyTnREiKf",
        "outputId": "e3e22b76-4fa6-44a1-c1eb-62696d2ef522",
        "colab": {
          "base_uri": "https://localhost:8080/"
        }
      },
      "outputs": [
        {
          "output_type": "execute_result",
          "data": {
            "text/plain": [
              "['nyc', 'miami']"
            ]
          },
          "metadata": {},
          "execution_count": 20
        }
      ],
      "source": [
        "list(set(['nyc', 'nyc', 'miami']))"
      ]
    }
  ],
  "metadata": {
    "kernelspec": {
      "display_name": "Python 3 (ipykernel)",
      "language": "python",
      "name": "python3"
    },
    "language_info": {
      "codemirror_mode": {
        "name": "ipython",
        "version": 3
      },
      "file_extension": ".py",
      "mimetype": "text/x-python",
      "name": "python",
      "nbconvert_exporter": "python",
      "pygments_lexer": "ipython3",
      "version": "3.9.7"
    },
    "colab": {
      "name": "0-lists-methods.ipynb",
      "provenance": []
    }
  },
  "nbformat": 4,
  "nbformat_minor": 0
}