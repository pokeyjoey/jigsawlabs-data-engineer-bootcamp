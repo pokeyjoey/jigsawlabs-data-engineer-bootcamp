{
  "cells": [
    {
      "cell_type": "markdown",
      "metadata": {
        "id": "OLzv81sCQDnL"
      },
      "source": [
        "# Intro to Debugging "
      ]
    },
    {
      "cell_type": "markdown",
      "metadata": {
        "id": "_auhmHeEQDnO"
      },
      "source": [
        "### Introduction"
      ]
    },
    {
      "cell_type": "markdown",
      "metadata": {
        "id": "BrL7wXXTQDnP"
      },
      "source": [
        "One of the tricky parts of programming, is that a single mistyped character can prevent a program from working.  But the nice thing about programming, is that Python tries to tell you what is going wrong.  It accomplishes this with error messages.  \n",
        "\n",
        "In this lesson, we'll take a look at some common error messages, and practice debugging our code."
      ]
    },
    {
      "cell_type": "markdown",
      "metadata": {
        "id": "W9SbA3fTQDnP"
      },
      "source": [
        "### 1. Reading the error message"
      ]
    },
    {
      "cell_type": "markdown",
      "metadata": {
        "id": "kFF9RjzzQDnQ"
      },
      "source": [
        "Our first step in debugging should be to read and understand the error message.  Let's take a look.  For example, let's try to select the first element from a set."
      ]
    },
    {
      "cell_type": "code",
      "execution_count": 1,
      "metadata": {
        "id": "x3J8tJNuQDnQ"
      },
      "outputs": [],
      "source": [
        "cities = set(['nyc', 'la', 'chicago'])"
      ]
    },
    {
      "cell_type": "code",
      "execution_count": 2,
      "metadata": {
        "id": "UQNgqLYMQDnR",
        "outputId": "b168a984-0360-4dc1-e5fe-fbeae0c867dc",
        "colab": {
          "base_uri": "https://localhost:8080/",
          "height": 36
        }
      },
      "outputs": [
        {
          "output_type": "execute_result",
          "data": {
            "text/plain": [
              "'la'"
            ],
            "application/vnd.google.colaboratory.intrinsic+json": {
              "type": "string"
            }
          },
          "metadata": {},
          "execution_count": 2
        }
      ],
      "source": [
        "list(cities)[0]"
      ]
    },
    {
      "cell_type": "code",
      "execution_count": 3,
      "metadata": {
        "id": "Z2z6BErhQDnS",
        "outputId": "3eac9a8c-bb9d-4926-b077-70c3e93f50c6",
        "colab": {
          "base_uri": "https://localhost:8080/",
          "height": 166
        }
      },
      "outputs": [
        {
          "output_type": "error",
          "ename": "TypeError",
          "evalue": "ignored",
          "traceback": [
            "\u001b[0;31m---------------------------------------------------------------------------\u001b[0m",
            "\u001b[0;31mTypeError\u001b[0m                                 Traceback (most recent call last)",
            "\u001b[0;32m<ipython-input-3-8e277aba1488>\u001b[0m in \u001b[0;36m<module>\u001b[0;34m()\u001b[0m\n\u001b[0;32m----> 1\u001b[0;31m \u001b[0mcities\u001b[0m\u001b[0;34m[\u001b[0m\u001b[0;36m0\u001b[0m\u001b[0;34m]\u001b[0m\u001b[0;34m\u001b[0m\u001b[0;34m\u001b[0m\u001b[0m\n\u001b[0m",
            "\u001b[0;31mTypeError\u001b[0m: 'set' object is not subscriptable"
          ]
        }
      ],
      "source": [
        "cities[0]"
      ]
    },
    {
      "cell_type": "markdown",
      "metadata": {
        "id": "RmCduAV2QDnT"
      },
      "source": [
        "Take a look at the error message, which we'll copy below.\n",
        "```\n",
        "----> 1 cities[0]\n",
        "\n",
        "TypeError: 'set' object is not subscriptable\n",
        "```"
      ]
    },
    {
      "cell_type": "markdown",
      "metadata": {
        "id": "zXz-T9reQDnU"
      },
      "source": [
        "So the first thing we'll see is the arrow, where the Python interpreter believes the error is located.  The next thing we see is a `TypeError`.\n",
        "\n",
        "With `TypeError`, we are trying to perform an operation which is not allowed on this type.  That is, we are trying to select a specific element from a set, when this operation is not permitted.\n",
        "\n",
        "If we keep going, we can see the details of this error message.\n",
        "\n",
        "```\n",
        "'set' object is not subscriptable\n",
        "```"
      ]
    },
    {
      "cell_type": "markdown",
      "metadata": {
        "id": "Mj2pGv3SQDnV"
      },
      "source": [
        "Now what does `subscriptable` mean?  If we do not understand the error message, a good move is simply to copy it into google and see what it tells us."
      ]
    },
    {
      "cell_type": "markdown",
      "metadata": {
        "id": "I5DJ-89tQDnV"
      },
      "source": [
        "> <img src=\"https://raw.githubusercontent.com/eng-6-22/mod-1-a-data-structures/main/0-programming-patterns/python-type-error.png\" width=\"60%\">"
      ]
    },
    {
      "cell_type": "markdown",
      "metadata": {
        "id": "-c73Rm9rQDnV"
      },
      "source": [
        "From here, click on the link and then we can view the top answer."
      ]
    },
    {
      "cell_type": "markdown",
      "metadata": {
        "id": "goMsBG6WQDnW"
      },
      "source": [
        "> <img src=\"https://raw.githubusercontent.com/eng-6-22/mod-1-a-data-structures/main/0-programming-patterns/top-answer.png\" width=\"60%\">"
      ]
    },
    {
      "cell_type": "markdown",
      "metadata": {
        "id": "U3Jhbvh0QDnW"
      },
      "source": [
        "And we can see that it tells us that `sets` do not support indexing.\n",
        "\n",
        "At this point, perhaps we should explain what `subscriptable` means."
      ]
    },
    {
      "cell_type": "markdown",
      "metadata": {
        "id": "yHTG3a1dQDnW"
      },
      "source": [
        "> An object is `subscriptable` if we can select specific components from our datatype.  And when we're using the square brackets to select from some data, that's what we're trying to do.  \n",
        "\n",
        "> As we know our, lists, dictionaries, and strings *are* subscriptable.\n",
        "\n",
        "```python\n",
        "restaurant = {'name': 'chipotle', 'employees': ['sam', 'fred', 'barbara']}\n",
        "restaurant['employees'] # ['sam', 'fred', 'barbara'] \n",
        "```"
      ]
    },
    {
      "cell_type": "markdown",
      "metadata": {
        "id": "XmWc_rxWQDnW"
      },
      "source": [
        "### 2. Look at what's hidden"
      ]
    },
    {
      "cell_type": "markdown",
      "metadata": {
        "id": "XuD9C8KMQDnX"
      },
      "source": [
        "If the first step is to read the error message, the second step is to look at what's hidden.  Let's see an example."
      ]
    },
    {
      "cell_type": "code",
      "execution_count": 4,
      "metadata": {
        "id": "sfzVUCKuQDnX"
      },
      "outputs": [],
      "source": [
        "presidents = [{'name': 'gw', 'party': 'fed'}, {'name': 'ja'}, {'name': 'lincoln', 'party': 'republican'}]"
      ]
    },
    {
      "cell_type": "code",
      "execution_count": 5,
      "metadata": {
        "id": "RDWUQvlDQDnX",
        "outputId": "2b40ac87-2bb2-4269-a39b-578baf96f418",
        "colab": {
          "base_uri": "https://localhost:8080/"
        }
      },
      "outputs": [
        {
          "output_type": "execute_result",
          "data": {
            "text/plain": [
              "[{'name': 'gw', 'party': 'fed'},\n",
              " {'name': 'ja'},\n",
              " {'name': 'lincoln', 'party': 'republican'}]"
            ]
          },
          "metadata": {},
          "execution_count": 5
        }
      ],
      "source": [
        "presidents[-3:]"
      ]
    },
    {
      "cell_type": "code",
      "execution_count": 6,
      "metadata": {
        "id": "7uYPb2h3QDnY",
        "outputId": "4273bead-2ed1-4304-c658-231f152d26ce",
        "colab": {
          "base_uri": "https://localhost:8080/",
          "height": 235
        }
      },
      "outputs": [
        {
          "output_type": "error",
          "ename": "KeyError",
          "evalue": "ignored",
          "traceback": [
            "\u001b[0;31m---------------------------------------------------------------------------\u001b[0m",
            "\u001b[0;31mKeyError\u001b[0m                                  Traceback (most recent call last)",
            "\u001b[0;32m<ipython-input-6-5ae03bbd8f26>\u001b[0m in \u001b[0;36m<module>\u001b[0;34m()\u001b[0m\n\u001b[1;32m      4\u001b[0m \u001b[0;32mfor\u001b[0m \u001b[0mpresident\u001b[0m \u001b[0;32min\u001b[0m \u001b[0mpresidents\u001b[0m\u001b[0;34m:\u001b[0m\u001b[0;34m\u001b[0m\u001b[0;34m\u001b[0m\u001b[0m\n\u001b[1;32m      5\u001b[0m \u001b[0;34m\u001b[0m\u001b[0m\n\u001b[0;32m----> 6\u001b[0;31m     \u001b[0mparty\u001b[0m \u001b[0;34m=\u001b[0m \u001b[0mpresident\u001b[0m\u001b[0;34m[\u001b[0m\u001b[0;34m'party'\u001b[0m\u001b[0;34m]\u001b[0m\u001b[0;34m\u001b[0m\u001b[0;34m\u001b[0m\u001b[0m\n\u001b[0m\u001b[1;32m      7\u001b[0m \u001b[0;34m\u001b[0m\u001b[0m\n\u001b[1;32m      8\u001b[0m     \u001b[0mparties\u001b[0m\u001b[0;34m.\u001b[0m\u001b[0mappend\u001b[0m\u001b[0;34m(\u001b[0m\u001b[0mparty\u001b[0m\u001b[0;34m)\u001b[0m\u001b[0;34m\u001b[0m\u001b[0;34m\u001b[0m\u001b[0m\n",
            "\u001b[0;31mKeyError\u001b[0m: 'party'"
          ]
        }
      ],
      "source": [
        "import pdb\n",
        "\n",
        "parties = []\n",
        "for president in presidents:\n",
        "    \n",
        "    party = president['party']\n",
        "    \n",
        "    parties.append(party)"
      ]
    },
    {
      "cell_type": "code",
      "execution_count": 14,
      "metadata": {
        "id": "3YRUzDVMQDnY",
        "outputId": "d5b39960-be72-440e-ee11-c220d5ac48a8",
        "colab": {
          "base_uri": "https://localhost:8080/"
        }
      },
      "outputs": [
        {
          "output_type": "stream",
          "name": "stdout",
          "text": [
            "['sam', 'fred', 'barbara']\n"
          ]
        }
      ],
      "source": [
        "employees = ['sam', 'fred', 'barbara']\n",
        "print(employees)\n",
        "\n",
        "employees.append('susan')"
      ]
    },
    {
      "cell_type": "code",
      "execution_count": 16,
      "metadata": {
        "id": "CecWEEQ3QDnY",
        "outputId": "f193a018-b6e3-4f76-f44d-034fc63e3db6",
        "colab": {
          "base_uri": "https://localhost:8080/"
        }
      },
      "outputs": [
        {
          "output_type": "stream",
          "name": "stdout",
          "text": [
            "susan\n"
          ]
        }
      ],
      "source": [
        "print(employees[-1])"
      ]
    },
    {
      "cell_type": "markdown",
      "metadata": {
        "id": "PxqgsEjRQDnZ"
      },
      "source": [
        "Ok, so here we see that `subscriptable` error again, but this time it's telling us that `NoneType` is not subscriptable.  Where did `None` come from.  \n",
        "\n",
        "**Stop**\n",
        "\n",
        "Now that we read the error message, our next step should not be to go directly into fixing the error, but to look at data contained in the variable.  \n",
        "\n",
        "How do we do that?  Just type in the variable name."
      ]
    },
    {
      "cell_type": "markdown",
      "metadata": {
        "id": "Te1eD0msQDnZ"
      },
      "source": [
        "> Press shift + return below."
      ]
    },
    {
      "cell_type": "code",
      "execution_count": 17,
      "metadata": {
        "id": "DxNNMkLqQDnZ",
        "outputId": "005292cb-8de5-4df3-c315-80ed5d85f090",
        "colab": {
          "base_uri": "https://localhost:8080/"
        }
      },
      "outputs": [
        {
          "output_type": "stream",
          "name": "stdout",
          "text": [
            "['sam', 'fred', 'barbara', 'susan']\n"
          ]
        }
      ],
      "source": [
        "employees\n",
        "print(employees)"
      ]
    },
    {
      "cell_type": "markdown",
      "metadata": {
        "id": "XsimaNkvQDnZ"
      },
      "source": [
        "See that, `employees` shows something different than we expected.  When we don't see anything displayed with the variable name this means that employees is equal to `None`."
      ]
    },
    {
      "cell_type": "code",
      "execution_count": null,
      "metadata": {
        "id": "8jaiMjF_QDnZ",
        "outputId": "52ca596b-7b17-4929-c8f8-52567a5440e2"
      },
      "outputs": [
        {
          "data": {
            "text/plain": [
              "True"
            ]
          },
          "execution_count": 27,
          "metadata": {},
          "output_type": "execute_result"
        }
      ],
      "source": [
        "employees == None"
      ]
    },
    {
      "cell_type": "markdown",
      "metadata": {
        "id": "MR2nqRBwQDna"
      },
      "source": [
        "### 3. Move backwards"
      ]
    },
    {
      "cell_type": "markdown",
      "metadata": {
        "id": "kGuhiqK3QDna"
      },
      "source": [
        "So now that we saw that employees is different than we expected, the next step is to discover why.  Sometimes, we can just look at the code, and see where the error is."
      ]
    },
    {
      "cell_type": "markdown",
      "metadata": {
        "id": "bRqK4zuVQDna"
      },
      "source": [
        "But a safer method for identifying the error is to start where the code *is* what we expected, and then find the spot where things changed.  Ok, now let's do this."
      ]
    },
    {
      "cell_type": "markdown",
      "metadata": {
        "id": "db5v3H3dQDna"
      },
      "source": [
        "> Our code looks like the following:"
      ]
    },
    {
      "cell_type": "code",
      "execution_count": 18,
      "metadata": {
        "id": "JNidbcJBQDna"
      },
      "outputs": [],
      "source": [
        "employees = ['sam', 'fred', 'barbara']\n",
        "\n",
        "employees = employees.append('susan')"
      ]
    },
    {
      "cell_type": "markdown",
      "metadata": {
        "id": "jdvJVx0fQDna"
      },
      "source": [
        "Ok, so now we'll start where we're relatively confident the variable is what we expect."
      ]
    },
    {
      "cell_type": "code",
      "execution_count": 19,
      "metadata": {
        "id": "gdiMStxgQDnb"
      },
      "outputs": [],
      "source": [
        "employees = ['sam', 'fred', 'barbara']"
      ]
    },
    {
      "cell_type": "code",
      "execution_count": 20,
      "metadata": {
        "id": "nWm_Q-AEQDnb",
        "outputId": "67f71910-0f92-4ce7-ea82-beca8a04b10a",
        "colab": {
          "base_uri": "https://localhost:8080/"
        }
      },
      "outputs": [
        {
          "output_type": "execute_result",
          "data": {
            "text/plain": [
              "['sam', 'fred', 'barbara']"
            ]
          },
          "metadata": {},
          "execution_count": 20
        }
      ],
      "source": [
        "employees"
      ]
    },
    {
      "cell_type": "markdown",
      "metadata": {
        "id": "7XRuqgIIQDnb"
      },
      "source": [
        "Ok, so that part looks good.  Onto the next line.  We can breakdown the next line by removing the variable name."
      ]
    },
    {
      "cell_type": "code",
      "execution_count": 21,
      "metadata": {
        "id": "6bmchJS8QDnb"
      },
      "outputs": [],
      "source": [
        "employees.append('barbara')"
      ]
    },
    {
      "cell_type": "markdown",
      "metadata": {
        "id": "EskznRCaQDnb"
      },
      "source": [
        "Notice that we don't see any result on the line above.  This is where the error is coming from.  The append method returns `None`, and we were then doing:"
      ]
    },
    {
      "cell_type": "code",
      "execution_count": null,
      "metadata": {
        "id": "PVqctROUQDnc"
      },
      "outputs": [],
      "source": [
        "employees = employees.append('barbara')"
      ]
    },
    {
      "cell_type": "markdown",
      "metadata": {
        "id": "PC4wk8HOQDnc"
      },
      "source": [
        "This reassigns the variable `employees` from our list to the return value of `append`, `None`.  "
      ]
    },
    {
      "cell_type": "code",
      "execution_count": 22,
      "metadata": {
        "id": "xFS8HcQzQDnc",
        "outputId": "55d4c5c1-ab4a-4a5a-8cc7-b87567aca920",
        "colab": {
          "base_uri": "https://localhost:8080/"
        }
      },
      "outputs": [
        {
          "output_type": "execute_result",
          "data": {
            "text/plain": [
              "['sam', 'fred', 'barbara', 'barbara']"
            ]
          },
          "metadata": {},
          "execution_count": 22
        }
      ],
      "source": [
        "employees"
      ]
    },
    {
      "cell_type": "markdown",
      "metadata": {
        "id": "5zy-Nh0pQDnc"
      },
      "source": [
        "We'll learn more about return values, when we discuss functions in the future.  But for now the point is that when we first run into an error, our procedure should not be to directly fix the issue, but first to look and understand the problem.  From there, we want to identify code that operates as we expect, and continue moving through our code until we identify where our variables are different that we expect."
      ]
    },
    {
      "cell_type": "markdown",
      "metadata": {
        "id": "ZGtRO5H4QDnc"
      },
      "source": [
        "### Summary"
      ]
    },
    {
      "cell_type": "markdown",
      "metadata": {
        "id": "FPMt2Zk6QDnc"
      },
      "source": [
        "In this lesson, we learned about debugging.  The first step to debugging is simply to read the error message.  When we read the error message, note that there is an arrow that guesses where the error is originating.  Then there is a *category* of the error -- for example, with the `TypeError`, we are performing an operation that is not permitted on that type.  And finally, we can understand the error message (often with the help of Google).\n",
        "\n",
        "Then we saw the second step of debugging our error messages.  This is to *look* at what's hidden.  And for us right now, what's hidden is what's in a variable.  So before trying to make the fix, we first want to find code that operates as we expect, and from there move identify where the code operates differently than our expectation.  \n",
        "\n",
        "That's the cause of our bug."
      ]
    },
    {
      "cell_type": "code",
      "execution_count": null,
      "metadata": {
        "id": "yIpbw7DYQDnc"
      },
      "outputs": [],
      "source": [
        ""
      ]
    }
  ],
  "metadata": {
    "kernelspec": {
      "display_name": "Python 3 (ipykernel)",
      "language": "python",
      "name": "python3"
    },
    "language_info": {
      "codemirror_mode": {
        "name": "ipython",
        "version": 3
      },
      "file_extension": ".py",
      "mimetype": "text/x-python",
      "name": "python",
      "nbconvert_exporter": "python",
      "pygments_lexer": "ipython3",
      "version": "3.9.10"
    },
    "colab": {
      "name": "1-intro-to-debugging.ipynb",
      "provenance": []
    }
  },
  "nbformat": 4,
  "nbformat_minor": 0
}