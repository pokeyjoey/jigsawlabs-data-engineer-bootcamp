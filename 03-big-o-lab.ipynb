{
  "cells": [
    {
      "cell_type": "markdown",
      "metadata": {
        "id": "8kSDeyJNP49v"
      },
      "source": [
        "# Big O Lab"
      ]
    },
    {
      "cell_type": "markdown",
      "metadata": {
        "id": "rbF7xyWuP49z"
      },
      "source": [
        "### Introduction"
      ]
    },
    {
      "cell_type": "markdown",
      "metadata": {
        "id": "ZOAfPXiCP490"
      },
      "source": [
        "In this lesson, we'll practice writing some typical methods that perhaps we have seen before in Python.  After doing so, we'll calculate the time complexity of our function."
      ]
    },
    {
      "cell_type": "markdown",
      "metadata": {
        "id": "4CeRjzrCP490"
      },
      "source": [
        "### Find the Minimum"
      ]
    },
    {
      "cell_type": "markdown",
      "metadata": {
        "id": "AjJCJ6lRP491"
      },
      "source": [
        "Given a list find the minimum element.  \n",
        "\n",
        "> Do not use Python's `min` function."
      ]
    },
    {
      "cell_type": "code",
      "execution_count": 1,
      "metadata": {
        "id": "9MXFZ11EP491"
      },
      "outputs": [],
      "source": [
        "original_list = [64, 39, 79, 73, 81, 42, 74, 63, 52, 36, 67]"
      ]
    },
    {
      "cell_type": "code",
      "execution_count": 2,
      "metadata": {
        "id": "S8GjTyI9P492"
      },
      "outputs": [],
      "source": [
        "def min_list(elements):\n",
        "    minimum = elements[0]\n",
        "    for element in elements:\n",
        "      if element < minimum:\n",
        "        minimum = element\n",
        "\n",
        "    return minimum"
      ]
    },
    {
      "cell_type": "code",
      "execution_count": 3,
      "metadata": {
        "id": "l8nsh0YlP493",
        "outputId": "5b520be4-c4d0-4980-8ef1-9ca72b1e6571",
        "colab": {
          "base_uri": "https://localhost:8080/"
        }
      },
      "outputs": [
        {
          "output_type": "execute_result",
          "data": {
            "text/plain": [
              "36"
            ]
          },
          "metadata": {},
          "execution_count": 3
        }
      ],
      "source": [
        "min_list(original_list) \n",
        "# 36"
      ]
    },
    {
      "cell_type": "markdown",
      "metadata": {
        "id": "pse1KUCJP494"
      },
      "source": [
        "Calculate the big O of your function."
      ]
    },
    {
      "cell_type": "markdown",
      "metadata": {
        "id": "CTqqxoVYP494"
      },
      "source": [
        "### Finding Uniqueness"
      ]
    },
    {
      "cell_type": "markdown",
      "metadata": {
        "id": "Zpx6n2kyP495"
      },
      "source": [
        "Now a list is unique if there are no repeating elements.  Write a function called `all_unique` below that returns True if all of the elements in a list is True and False if there are repeating elements.  \n",
        "\n",
        "> Avoid using Python's `set` operation in writing your function.    "
      ]
    },
    {
      "cell_type": "code",
      "execution_count": 6,
      "metadata": {
        "id": "RfxmISRSP495"
      },
      "outputs": [],
      "source": [
        "import numpy as np\n",
        "non_unique = [ -78,   81,   63,   79,  -27,   52,  -18,   20,   52,   39,   -1,\n",
        "        -48,   12,  -46,  -49,   64,   36,  -71,   73,  -70,   -8,   11,\n",
        "        -98,  -95,  -68,   67,   42,  -79,   52,  -93,   30,   67,   -4,\n",
        "        -35,   17,  -70,  -27,  -15,  -68,   74,   -1,  -44,  -67,  -94,\n",
        "        -46]\n",
        "\n",
        "unique_elements = [-98, -95, -94, -93, -79, -78, -71, -70, -68, -67, -49, -48, -46,\n",
        "       -44, -35, -27, -18, -15,  -8,  -4,  -1,  11,  12,  17,  20,  30,\n",
        "        36,  39,  42,  52,  63,  64,  67,  73,  74,  79,  81]"
      ]
    },
    {
      "cell_type": "code",
      "execution_count": 9,
      "metadata": {
        "id": "3DumvRCJP496"
      },
      "outputs": [],
      "source": [
        "def all_unique(elements):\n",
        "    \n",
        "    for index in range(len(elements)):\n",
        "      current_element = elements[index]\n",
        "      count = 0\n",
        "\n",
        "      for element in elements:\n",
        "        if current_element == element:\n",
        "          count = count + 1\n",
        "          \n",
        "        if count > 1:\n",
        "          return False\n",
        "\n",
        "    return True\n",
        "      "
      ]
    },
    {
      "cell_type": "code",
      "execution_count": 7,
      "metadata": {
        "id": "wu9eM-eFP496",
        "outputId": "e521e771-9775-480d-e062-108fcdaa39f0",
        "colab": {
          "base_uri": "https://localhost:8080/"
        }
      },
      "outputs": [
        {
          "output_type": "execute_result",
          "data": {
            "text/plain": [
              "False"
            ]
          },
          "metadata": {},
          "execution_count": 7
        }
      ],
      "source": [
        "all_unique(non_unique)\n",
        "# False"
      ]
    },
    {
      "cell_type": "code",
      "execution_count": 10,
      "metadata": {
        "id": "1yiMNTTWP497",
        "outputId": "50c714ca-db0e-4077-ce24-8a54e4a43a05",
        "colab": {
          "base_uri": "https://localhost:8080/"
        }
      },
      "outputs": [
        {
          "output_type": "execute_result",
          "data": {
            "text/plain": [
              "True"
            ]
          },
          "metadata": {},
          "execution_count": 10
        }
      ],
      "source": [
        "all_unique(unique_elements)\n",
        "# True"
      ]
    },
    {
      "cell_type": "markdown",
      "metadata": {
        "id": "yAfOAffzP497"
      },
      "source": [
        "Then calculate the time complexity of your function.  If there are any improvements you would like to make to your code, rewrite it below. "
      ]
    },
    {
      "cell_type": "markdown",
      "metadata": {
        "id": "dD8uQYNDP497"
      },
      "source": [
        "### Reversing a List"
      ]
    },
    {
      "cell_type": "markdown",
      "metadata": {
        "id": "_kVe8oSEP498"
      },
      "source": [
        "Next let's write a function to reverse a list in Python.  \n",
        "\n",
        "> Do not use the `reverse` function or the slice function in doing so.  Also avoid using recursion, whatever that means."
      ]
    },
    {
      "cell_type": "code",
      "execution_count": 22,
      "metadata": {
        "id": "359lItfmP498"
      },
      "outputs": [],
      "source": [
        "original_list = [7, 2, 4, 6, 3, 3, 5, 2]"
      ]
    },
    {
      "cell_type": "code",
      "source": [
        ""
      ],
      "metadata": {
        "id": "Jg6hXDfxUYjK"
      },
      "execution_count": 22,
      "outputs": []
    },
    {
      "cell_type": "code",
      "execution_count": 53,
      "metadata": {
        "id": "G3e8mvGBP498"
      },
      "outputs": [],
      "source": [
        "def reverse_list(original_list):\n",
        "    print(' in reverse list')\n",
        "    reversed_list = []\n",
        "    start_index = len(original_list)-1\n",
        "    stop_index = -1 # stop index in range is not inclusive\n",
        "    step = -1 \n",
        "\n",
        "    print('start_index: {0}'.format(start_index))\n",
        "    print('stop_index: {0}'.format(stop_index))\n",
        "\n",
        "    for index in range(start_index, stop_index, -1):\n",
        "      reversed_list.append(original_list[index])\n",
        "\n",
        "    return reversed_list\n"
      ]
    },
    {
      "cell_type": "code",
      "execution_count": 54,
      "metadata": {
        "id": "XfZMQg9pP499",
        "outputId": "8e69ac27-9da3-4d10-e4e1-05172a2a10f4",
        "colab": {
          "base_uri": "https://localhost:8080/"
        }
      },
      "outputs": [
        {
          "output_type": "stream",
          "name": "stdout",
          "text": [
            " in reverse list\n",
            "start_index: 7\n",
            "stop_index: -1\n"
          ]
        },
        {
          "output_type": "execute_result",
          "data": {
            "text/plain": [
              "[2, 5, 3, 3, 6, 4, 2, 7]"
            ]
          },
          "metadata": {},
          "execution_count": 54
        }
      ],
      "source": [
        "reverse_list(original_list)\n",
        "\n",
        "# [2, 5, 3, 3, 6, 4, 2, 7]"
      ]
    },
    {
      "cell_type": "markdown",
      "metadata": {
        "id": "Mm0iKukvP499"
      },
      "source": [
        "> Calculate the big o of your function."
      ]
    },
    {
      "cell_type": "markdown",
      "metadata": {
        "id": "nCF-qBtoP499"
      },
      "source": [
        "### Reconsidering the Functions"
      ]
    },
    {
      "cell_type": "markdown",
      "metadata": {
        "id": "9_V7WD3BP499"
      },
      "source": [
        "Now some of the functions we wrote above may be simpler if we first sort the inputs.  Which functions perhaps become easier to write by first sorting the elements in the list.  Rewrite those functions below. \n",
        "\n",
        "How does the big O of the functions change?"
      ]
    },
    {
      "cell_type": "code",
      "source": [
        "original_list = [7, 2, 4, 6, 3, 3, 5, 2]\n",
        "sorted_list = original_list.sort()\n",
        "\n",
        "def reverse_list(origical_list):\n",
        "    print(' in reverse list')\n",
        "    original_list = []\n",
        "    start_index = len(original_list)-1\n",
        "    stop_index = -1 # stop index in range is not inclusive\n",
        "    step = -1 \n",
        "\n",
        "    print('start_index: {0}'.format(start_index))\n",
        "    print('stop_index: {0}'.format(stop_index))\n",
        "\n",
        "    for index in range(start_index, stop_index, -1):\n",
        "      original_list.append(original_list[index])\n",
        "\n",
        "    return original_list\n",
        "\n",
        "reverse_list(original_list)"
      ],
      "metadata": {
        "id": "AirqE076aJPp",
        "outputId": "ac0c956c-5388-4ccc-8814-289fadba2e16",
        "colab": {
          "base_uri": "https://localhost:8080/"
        }
      },
      "execution_count": 56,
      "outputs": [
        {
          "output_type": "stream",
          "name": "stdout",
          "text": [
            " in reverse list\n",
            "start_index: -1\n",
            "stop_index: -1\n"
          ]
        },
        {
          "output_type": "execute_result",
          "data": {
            "text/plain": [
              "[]"
            ]
          },
          "metadata": {},
          "execution_count": 56
        }
      ]
    },
    {
      "cell_type": "markdown",
      "metadata": {
        "id": "PABcHNWcP49-"
      },
      "source": [
        "### Resources\n",
        "\n",
        "[Time Complexity Resource](https://www.ics.uci.edu/~pattis/ICS-33/lectures/complexitypython.txt)"
      ]
    },
    {
      "cell_type": "markdown",
      "metadata": {
        "id": "Oj9-ngCiP49-"
      },
      "source": [
        "[StackOverflow Reverse](https://stackoverflow.com/questions/5249348/creating-a-reverse-method-for-a-python-list-from-scratch)"
      ]
    }
  ],
  "metadata": {
    "kernelspec": {
      "display_name": "Python 3",
      "language": "python",
      "name": "python3"
    },
    "language_info": {
      "codemirror_mode": {
        "name": "ipython",
        "version": 3
      },
      "file_extension": ".py",
      "mimetype": "text/x-python",
      "name": "python",
      "nbconvert_exporter": "python",
      "pygments_lexer": "ipython3",
      "version": "3.9.1"
    },
    "colab": {
      "name": "03-big-o-lab.ipynb",
      "provenance": []
    }
  },
  "nbformat": 4,
  "nbformat_minor": 0
}