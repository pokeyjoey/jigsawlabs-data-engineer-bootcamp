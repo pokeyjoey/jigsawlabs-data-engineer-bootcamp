{
  "cells": [
    {
      "cell_type": "markdown",
      "metadata": {
        "id": "rlmm7PcECxU4"
      },
      "source": [
        "# Discussion Questions"
      ]
    },
    {
      "cell_type": "markdown",
      "metadata": {
        "id": "mUZpiOPvCxU8"
      },
      "source": [
        "### Review Data Structures"
      ]
    },
    {
      "cell_type": "markdown",
      "metadata": {
        "id": "xsKU_-76CxU9"
      },
      "source": [
        "1. Create a list of restaurants, and assign them to the variable `restaurant_names`.\n",
        "    * Sweetgreen\n",
        "    * Chipotle\n",
        "    * Burger King\n",
        "  "
      ]
    },
    {
      "cell_type": "code",
      "execution_count": 1,
      "metadata": {
        "id": "5hIBZupWCxU9"
      },
      "outputs": [],
      "source": [
        "restaurant_names = ['Sweetgreen', ' Chipotle', 'Burger King']\n"
      ]
    },
    {
      "cell_type": "markdown",
      "metadata": {
        "id": "9-KnMv_CCxU-"
      },
      "source": [
        "2. Select the last restaurant from the list of `restaurant_names`."
      ]
    },
    {
      "cell_type": "code",
      "execution_count": 3,
      "metadata": {
        "id": "bQ_ZurQ5CxU-",
        "outputId": "8679a237-b94d-43ac-8987-578ca65c49cc",
        "colab": {
          "base_uri": "https://localhost:8080/",
          "height": 36
        }
      },
      "outputs": [
        {
          "output_type": "execute_result",
          "data": {
            "text/plain": [
              "'Burger King'"
            ],
            "application/vnd.google.colaboratory.intrinsic+json": {
              "type": "string"
            }
          },
          "metadata": {},
          "execution_count": 3
        }
      ],
      "source": [
        "restaurant_names[-1]"
      ]
    },
    {
      "cell_type": "markdown",
      "metadata": {
        "id": "AEACebOfCxU-"
      },
      "source": [
        "3. Create a list of restaurants where each element represents the information below.  Assign the list to the variable `restaurants`.\n",
        "\n",
        "| name  | franchises  | cuisine   |   \n",
        "|---|---|---|\n",
        "|  chipotle | 2500  |  mexican |\n",
        "|  sweetgreen | 75  |  salads |\n",
        "|  burger king | 18000  |  fast food |\n",
        "\n"
      ]
    },
    {
      "cell_type": "code",
      "execution_count": 4,
      "metadata": {
        "id": "mm1naRsRCxU_"
      },
      "outputs": [],
      "source": [
        "restaurants = [{'name': 'chipotle', 'franchises': '2500', 'cuisine': 'mexican'},\n",
        "               {'name': 'sweetgreen\t', 'franchises': '75', 'cuisine': 'salads'},\n",
        "               {'name': 'burger king\t', 'franchises': '18000', 'cuisine': 'fast food'}]"
      ]
    },
    {
      "cell_type": "markdown",
      "metadata": {
        "id": "Q-jImp2KCxU_"
      },
      "source": [
        "4. Start from the variable `restaurants` and select the last element's `cuisine`.  "
      ]
    },
    {
      "cell_type": "code",
      "execution_count": 8,
      "metadata": {
        "id": "pll3PyNDCxVA",
        "outputId": "32d361f8-817a-4732-915a-35e64651b569",
        "colab": {
          "base_uri": "https://localhost:8080/"
        }
      },
      "outputs": [
        {
          "output_type": "stream",
          "name": "stdout",
          "text": [
            "fast food\n"
          ]
        }
      ],
      "source": [
        "cusine = restaurants[-1].get('cuisine')\n",
        "print(cusine)"
      ]
    },
    {
      "cell_type": "markdown",
      "metadata": {
        "id": "GZ3Q__TPCxVA"
      },
      "source": [
        "* When should we use dictionaries to represent our data, and when should we use lists?"
      ]
    },
    {
      "cell_type": "code",
      "execution_count": null,
      "metadata": {
        "id": "rw3khI5rCxVB"
      },
      "outputs": [],
      "source": [
        ""
      ]
    },
    {
      "cell_type": "markdown",
      "metadata": {
        "id": "_91d-MqxCxVB"
      },
      "source": [
        "### Bonus"
      ]
    },
    {
      "cell_type": "markdown",
      "metadata": {
        "id": "30r3OBkKCxVB"
      },
      "source": [
        "* Begin to explore restaurant chains data"
      ]
    },
    {
      "cell_type": "code",
      "execution_count": 9,
      "metadata": {
        "id": "3pK8XOcnCxVC"
      },
      "outputs": [],
      "source": [
        "import pandas as pd\n",
        "url = \"https://en.wikipedia.org/wiki/List_of_the_largest_fast_food_restaurant_chains\""
      ]
    },
    {
      "cell_type": "code",
      "execution_count": 10,
      "metadata": {
        "id": "Edf_0HNKCxVD"
      },
      "outputs": [],
      "source": [
        "tables = pd.read_html(url, index_col = 0)"
      ]
    },
    {
      "cell_type": "code",
      "execution_count": 11,
      "metadata": {
        "id": "L3_Jx0amCxVD"
      },
      "outputs": [],
      "source": [
        "restaurant_chains_data =  tables[-1].to_dict('records')"
      ]
    },
    {
      "cell_type": "code",
      "execution_count": 12,
      "metadata": {
        "id": "rbjEaqGbCxVE",
        "outputId": "e3b5a82f-5614-4834-94ad-7971d3d3082d",
        "colab": {
          "base_uri": "https://localhost:8080/"
        }
      },
      "outputs": [
        {
          "output_type": "execute_result",
          "data": {
            "text/plain": [
              "[{'Name': nan,\n",
              "  'Name.1': \"McDonald's\",\n",
              "  'Number of locations': '40,100[1]',\n",
              "  'Revenue': 'US$21.07 billion (2020)[2]'},\n",
              " {'Name': nan,\n",
              "  'Name.1': 'Subway',\n",
              "  'Number of locations': '36,800[3]',\n",
              "  'Revenue': 'US$16.1 billion (2020)[2]'}]"
            ]
          },
          "metadata": {},
          "execution_count": 12
        }
      ],
      "source": [
        "restaurant_chains_data[:2]"
      ]
    },
    {
      "cell_type": "code",
      "execution_count": null,
      "metadata": {
        "id": "i2gkAlSkCxVF"
      },
      "outputs": [],
      "source": [
        ""
      ]
    }
  ],
  "metadata": {
    "kernelspec": {
      "display_name": "Python 3",
      "language": "python",
      "name": "python3"
    },
    "language_info": {
      "codemirror_mode": {
        "name": "ipython",
        "version": 3
      },
      "file_extension": ".py",
      "mimetype": "text/x-python",
      "name": "python",
      "nbconvert_exporter": "python",
      "pygments_lexer": "ipython3",
      "version": "3.7.4"
    },
    "colab": {
      "name": "1-discuss-lists-dicts-loops.ipynb",
      "provenance": []
    }
  },
  "nbformat": 4,
  "nbformat_minor": 0
}