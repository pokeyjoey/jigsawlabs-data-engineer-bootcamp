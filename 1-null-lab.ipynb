{
  "cells": [
    {
      "cell_type": "markdown",
      "id": "f9c30a62-267a-4e30-abbe-70f87d8370ea",
      "metadata": {
        "id": "f9c30a62-267a-4e30-abbe-70f87d8370ea"
      },
      "source": [
        "# Working with Null Values Lab"
      ]
    },
    {
      "cell_type": "markdown",
      "id": "ef1dcfea-9550-49c9-a741-f438e9f31210",
      "metadata": {
        "id": "ef1dcfea-9550-49c9-a741-f438e9f31210"
      },
      "source": [
        "### Introduction"
      ]
    },
    {
      "cell_type": "markdown",
      "id": "dd844762-a710-4995-87e1-180e9eae617f",
      "metadata": {
        "id": "dd844762-a710-4995-87e1-180e9eae617f"
      },
      "source": [
        "In this lab, we'll practice working with the COALESCE and NULLIF commands.  Let's get started."
      ]
    },
    {
      "cell_type": "markdown",
      "id": "b83783ad-349b-4a73-b6f7-d8c12fc6e0ef",
      "metadata": {
        "id": "b83783ad-349b-4a73-b6f7-d8c12fc6e0ef"
      },
      "source": [
        "### Loading our Data"
      ]
    },
    {
      "cell_type": "markdown",
      "id": "78ec1fa6-c402-4e1f-81c8-1eb9cffdaab0",
      "metadata": {
        "id": "78ec1fa6-c402-4e1f-81c8-1eb9cffdaab0"
      },
      "source": [
        "Let's create and load our data into the CRM database with the following."
      ]
    },
    {
      "cell_type": "code",
      "execution_count": 1,
      "id": "8d6a5f14-7536-45bc-9ea7-cda22cc83546",
      "metadata": {
        "id": "8d6a5f14-7536-45bc-9ea7-cda22cc83546"
      },
      "outputs": [],
      "source": [
        "import sqlite3\n",
        "conn = sqlite3.connect('crm.db')"
      ]
    },
    {
      "cell_type": "code",
      "execution_count": 2,
      "id": "70e8cebd-4521-409f-8332-38a89d4beee0",
      "metadata": {
        "colab": {
          "base_uri": "https://localhost:8080/",
          "height": 112
        },
        "id": "70e8cebd-4521-409f-8332-38a89d4beee0",
        "outputId": "f03307c6-6b44-45ee-cec7-1b8db87ead90"
      },
      "outputs": [
        {
          "output_type": "execute_result",
          "data": {
            "text/plain": [
              "   id first_name last_name    cell_phone    home_phone    work_phone\n",
              "0   1       Ynes   Durrett  273-102-2043  850-519-2573  152-593-2967\n",
              "1   2        NaN  Gascoyne  301-931-3773  310-959-7139  741-504-0114"
            ],
            "text/html": [
              "\n",
              "  <div id=\"df-a3af0519-2c34-4e96-beb0-647e06bf8ac3\">\n",
              "    <div class=\"colab-df-container\">\n",
              "      <div>\n",
              "<style scoped>\n",
              "    .dataframe tbody tr th:only-of-type {\n",
              "        vertical-align: middle;\n",
              "    }\n",
              "\n",
              "    .dataframe tbody tr th {\n",
              "        vertical-align: top;\n",
              "    }\n",
              "\n",
              "    .dataframe thead th {\n",
              "        text-align: right;\n",
              "    }\n",
              "</style>\n",
              "<table border=\"1\" class=\"dataframe\">\n",
              "  <thead>\n",
              "    <tr style=\"text-align: right;\">\n",
              "      <th></th>\n",
              "      <th>id</th>\n",
              "      <th>first_name</th>\n",
              "      <th>last_name</th>\n",
              "      <th>cell_phone</th>\n",
              "      <th>home_phone</th>\n",
              "      <th>work_phone</th>\n",
              "    </tr>\n",
              "  </thead>\n",
              "  <tbody>\n",
              "    <tr>\n",
              "      <th>0</th>\n",
              "      <td>1</td>\n",
              "      <td>Ynes</td>\n",
              "      <td>Durrett</td>\n",
              "      <td>273-102-2043</td>\n",
              "      <td>850-519-2573</td>\n",
              "      <td>152-593-2967</td>\n",
              "    </tr>\n",
              "    <tr>\n",
              "      <th>1</th>\n",
              "      <td>2</td>\n",
              "      <td>NaN</td>\n",
              "      <td>Gascoyne</td>\n",
              "      <td>301-931-3773</td>\n",
              "      <td>310-959-7139</td>\n",
              "      <td>741-504-0114</td>\n",
              "    </tr>\n",
              "  </tbody>\n",
              "</table>\n",
              "</div>\n",
              "      <button class=\"colab-df-convert\" onclick=\"convertToInteractive('df-a3af0519-2c34-4e96-beb0-647e06bf8ac3')\"\n",
              "              title=\"Convert this dataframe to an interactive table.\"\n",
              "              style=\"display:none;\">\n",
              "        \n",
              "  <svg xmlns=\"http://www.w3.org/2000/svg\" height=\"24px\"viewBox=\"0 0 24 24\"\n",
              "       width=\"24px\">\n",
              "    <path d=\"M0 0h24v24H0V0z\" fill=\"none\"/>\n",
              "    <path d=\"M18.56 5.44l.94 2.06.94-2.06 2.06-.94-2.06-.94-.94-2.06-.94 2.06-2.06.94zm-11 1L8.5 8.5l.94-2.06 2.06-.94-2.06-.94L8.5 2.5l-.94 2.06-2.06.94zm10 10l.94 2.06.94-2.06 2.06-.94-2.06-.94-.94-2.06-.94 2.06-2.06.94z\"/><path d=\"M17.41 7.96l-1.37-1.37c-.4-.4-.92-.59-1.43-.59-.52 0-1.04.2-1.43.59L10.3 9.45l-7.72 7.72c-.78.78-.78 2.05 0 2.83L4 21.41c.39.39.9.59 1.41.59.51 0 1.02-.2 1.41-.59l7.78-7.78 2.81-2.81c.8-.78.8-2.07 0-2.86zM5.41 20L4 18.59l7.72-7.72 1.47 1.35L5.41 20z\"/>\n",
              "  </svg>\n",
              "      </button>\n",
              "      \n",
              "  <style>\n",
              "    .colab-df-container {\n",
              "      display:flex;\n",
              "      flex-wrap:wrap;\n",
              "      gap: 12px;\n",
              "    }\n",
              "\n",
              "    .colab-df-convert {\n",
              "      background-color: #E8F0FE;\n",
              "      border: none;\n",
              "      border-radius: 50%;\n",
              "      cursor: pointer;\n",
              "      display: none;\n",
              "      fill: #1967D2;\n",
              "      height: 32px;\n",
              "      padding: 0 0 0 0;\n",
              "      width: 32px;\n",
              "    }\n",
              "\n",
              "    .colab-df-convert:hover {\n",
              "      background-color: #E2EBFA;\n",
              "      box-shadow: 0px 1px 2px rgba(60, 64, 67, 0.3), 0px 1px 3px 1px rgba(60, 64, 67, 0.15);\n",
              "      fill: #174EA6;\n",
              "    }\n",
              "\n",
              "    [theme=dark] .colab-df-convert {\n",
              "      background-color: #3B4455;\n",
              "      fill: #D2E3FC;\n",
              "    }\n",
              "\n",
              "    [theme=dark] .colab-df-convert:hover {\n",
              "      background-color: #434B5C;\n",
              "      box-shadow: 0px 1px 3px 1px rgba(0, 0, 0, 0.15);\n",
              "      filter: drop-shadow(0px 1px 2px rgba(0, 0, 0, 0.3));\n",
              "      fill: #FFFFFF;\n",
              "    }\n",
              "  </style>\n",
              "\n",
              "      <script>\n",
              "        const buttonEl =\n",
              "          document.querySelector('#df-a3af0519-2c34-4e96-beb0-647e06bf8ac3 button.colab-df-convert');\n",
              "        buttonEl.style.display =\n",
              "          google.colab.kernel.accessAllowed ? 'block' : 'none';\n",
              "\n",
              "        async function convertToInteractive(key) {\n",
              "          const element = document.querySelector('#df-a3af0519-2c34-4e96-beb0-647e06bf8ac3');\n",
              "          const dataTable =\n",
              "            await google.colab.kernel.invokeFunction('convertToInteractive',\n",
              "                                                     [key], {});\n",
              "          if (!dataTable) return;\n",
              "\n",
              "          const docLinkHtml = 'Like what you see? Visit the ' +\n",
              "            '<a target=\"_blank\" href=https://colab.research.google.com/notebooks/data_table.ipynb>data table notebook</a>'\n",
              "            + ' to learn more about interactive tables.';\n",
              "          element.innerHTML = '';\n",
              "          dataTable['output_type'] = 'display_data';\n",
              "          await google.colab.output.renderOutput(dataTable, element);\n",
              "          const docLink = document.createElement('div');\n",
              "          docLink.innerHTML = docLinkHtml;\n",
              "          element.appendChild(docLink);\n",
              "        }\n",
              "      </script>\n",
              "    </div>\n",
              "  </div>\n",
              "  "
            ]
          },
          "metadata": {},
          "execution_count": 2
        }
      ],
      "source": [
        "import pandas as pd\n",
        "url = \"https://raw.githubusercontent.com/data-eng-10-21/case-when/main/coerced_persons.csv\"\n",
        "df = pd.read_csv(url)\n",
        "df[:2]"
      ]
    },
    {
      "cell_type": "code",
      "execution_count": 4,
      "id": "ded41c00-1bf9-4c4f-9fd5-2531ff1ebca2",
      "metadata": {
        "id": "ded41c00-1bf9-4c4f-9fd5-2531ff1ebca2"
      },
      "outputs": [],
      "source": [
        "df.to_sql('persons', conn, index = False)"
      ]
    },
    {
      "cell_type": "code",
      "execution_count": 5,
      "id": "e8c659a3-2b3c-4370-882f-3e4a3500ef09",
      "metadata": {
        "colab": {
          "base_uri": "https://localhost:8080/",
          "height": 81
        },
        "id": "e8c659a3-2b3c-4370-882f-3e4a3500ef09",
        "outputId": "b2dbc6e1-cae6-465e-8c77-554b369f838c"
      },
      "outputs": [
        {
          "output_type": "execute_result",
          "data": {
            "text/plain": [
              "   id first_name last_name    cell_phone    home_phone    work_phone\n",
              "0   1       Ynes   Durrett  273-102-2043  850-519-2573  152-593-2967"
            ],
            "text/html": [
              "\n",
              "  <div id=\"df-eedfd623-07ab-47f8-98cf-51bfbbff5ea6\">\n",
              "    <div class=\"colab-df-container\">\n",
              "      <div>\n",
              "<style scoped>\n",
              "    .dataframe tbody tr th:only-of-type {\n",
              "        vertical-align: middle;\n",
              "    }\n",
              "\n",
              "    .dataframe tbody tr th {\n",
              "        vertical-align: top;\n",
              "    }\n",
              "\n",
              "    .dataframe thead th {\n",
              "        text-align: right;\n",
              "    }\n",
              "</style>\n",
              "<table border=\"1\" class=\"dataframe\">\n",
              "  <thead>\n",
              "    <tr style=\"text-align: right;\">\n",
              "      <th></th>\n",
              "      <th>id</th>\n",
              "      <th>first_name</th>\n",
              "      <th>last_name</th>\n",
              "      <th>cell_phone</th>\n",
              "      <th>home_phone</th>\n",
              "      <th>work_phone</th>\n",
              "    </tr>\n",
              "  </thead>\n",
              "  <tbody>\n",
              "    <tr>\n",
              "      <th>0</th>\n",
              "      <td>1</td>\n",
              "      <td>Ynes</td>\n",
              "      <td>Durrett</td>\n",
              "      <td>273-102-2043</td>\n",
              "      <td>850-519-2573</td>\n",
              "      <td>152-593-2967</td>\n",
              "    </tr>\n",
              "  </tbody>\n",
              "</table>\n",
              "</div>\n",
              "      <button class=\"colab-df-convert\" onclick=\"convertToInteractive('df-eedfd623-07ab-47f8-98cf-51bfbbff5ea6')\"\n",
              "              title=\"Convert this dataframe to an interactive table.\"\n",
              "              style=\"display:none;\">\n",
              "        \n",
              "  <svg xmlns=\"http://www.w3.org/2000/svg\" height=\"24px\"viewBox=\"0 0 24 24\"\n",
              "       width=\"24px\">\n",
              "    <path d=\"M0 0h24v24H0V0z\" fill=\"none\"/>\n",
              "    <path d=\"M18.56 5.44l.94 2.06.94-2.06 2.06-.94-2.06-.94-.94-2.06-.94 2.06-2.06.94zm-11 1L8.5 8.5l.94-2.06 2.06-.94-2.06-.94L8.5 2.5l-.94 2.06-2.06.94zm10 10l.94 2.06.94-2.06 2.06-.94-2.06-.94-.94-2.06-.94 2.06-2.06.94z\"/><path d=\"M17.41 7.96l-1.37-1.37c-.4-.4-.92-.59-1.43-.59-.52 0-1.04.2-1.43.59L10.3 9.45l-7.72 7.72c-.78.78-.78 2.05 0 2.83L4 21.41c.39.39.9.59 1.41.59.51 0 1.02-.2 1.41-.59l7.78-7.78 2.81-2.81c.8-.78.8-2.07 0-2.86zM5.41 20L4 18.59l7.72-7.72 1.47 1.35L5.41 20z\"/>\n",
              "  </svg>\n",
              "      </button>\n",
              "      \n",
              "  <style>\n",
              "    .colab-df-container {\n",
              "      display:flex;\n",
              "      flex-wrap:wrap;\n",
              "      gap: 12px;\n",
              "    }\n",
              "\n",
              "    .colab-df-convert {\n",
              "      background-color: #E8F0FE;\n",
              "      border: none;\n",
              "      border-radius: 50%;\n",
              "      cursor: pointer;\n",
              "      display: none;\n",
              "      fill: #1967D2;\n",
              "      height: 32px;\n",
              "      padding: 0 0 0 0;\n",
              "      width: 32px;\n",
              "    }\n",
              "\n",
              "    .colab-df-convert:hover {\n",
              "      background-color: #E2EBFA;\n",
              "      box-shadow: 0px 1px 2px rgba(60, 64, 67, 0.3), 0px 1px 3px 1px rgba(60, 64, 67, 0.15);\n",
              "      fill: #174EA6;\n",
              "    }\n",
              "\n",
              "    [theme=dark] .colab-df-convert {\n",
              "      background-color: #3B4455;\n",
              "      fill: #D2E3FC;\n",
              "    }\n",
              "\n",
              "    [theme=dark] .colab-df-convert:hover {\n",
              "      background-color: #434B5C;\n",
              "      box-shadow: 0px 1px 3px 1px rgba(0, 0, 0, 0.15);\n",
              "      filter: drop-shadow(0px 1px 2px rgba(0, 0, 0, 0.3));\n",
              "      fill: #FFFFFF;\n",
              "    }\n",
              "  </style>\n",
              "\n",
              "      <script>\n",
              "        const buttonEl =\n",
              "          document.querySelector('#df-eedfd623-07ab-47f8-98cf-51bfbbff5ea6 button.colab-df-convert');\n",
              "        buttonEl.style.display =\n",
              "          google.colab.kernel.accessAllowed ? 'block' : 'none';\n",
              "\n",
              "        async function convertToInteractive(key) {\n",
              "          const element = document.querySelector('#df-eedfd623-07ab-47f8-98cf-51bfbbff5ea6');\n",
              "          const dataTable =\n",
              "            await google.colab.kernel.invokeFunction('convertToInteractive',\n",
              "                                                     [key], {});\n",
              "          if (!dataTable) return;\n",
              "\n",
              "          const docLinkHtml = 'Like what you see? Visit the ' +\n",
              "            '<a target=\"_blank\" href=https://colab.research.google.com/notebooks/data_table.ipynb>data table notebook</a>'\n",
              "            + ' to learn more about interactive tables.';\n",
              "          element.innerHTML = '';\n",
              "          dataTable['output_type'] = 'display_data';\n",
              "          await google.colab.output.renderOutput(dataTable, element);\n",
              "          const docLink = document.createElement('div');\n",
              "          docLink.innerHTML = docLinkHtml;\n",
              "          element.appendChild(docLink);\n",
              "        }\n",
              "      </script>\n",
              "    </div>\n",
              "  </div>\n",
              "  "
            ]
          },
          "metadata": {},
          "execution_count": 5
        }
      ],
      "source": [
        "import pandas as pd\n",
        "\n",
        "pd.read_sql(\"SELECT * FROM persons LIMIT 1;\",conn)"
      ]
    },
    {
      "cell_type": "markdown",
      "id": "630c7311-74e1-4b52-bcf2-65e9da658308",
      "metadata": {
        "id": "630c7311-74e1-4b52-bcf2-65e9da658308"
      },
      "source": [
        "### Querying Null Values"
      ]
    },
    {
      "cell_type": "markdown",
      "id": "7d705a4b-e9ba-4f95-8e67-662d309dba57",
      "metadata": {
        "id": "7d705a4b-e9ba-4f95-8e67-662d309dba57"
      },
      "source": [
        "Let's begin by selecting some of the rows with null values.  Find the number of rows where `home_phone` is null."
      ]
    },
    {
      "cell_type": "code",
      "execution_count": 6,
      "id": "31951225-89f1-4188-ab26-656c0f761ea8",
      "metadata": {
        "colab": {
          "base_uri": "https://localhost:8080/",
          "height": 81
        },
        "id": "31951225-89f1-4188-ab26-656c0f761ea8",
        "outputId": "b09c0905-530e-41d2-f14c-4e1ac28fb81c"
      },
      "outputs": [
        {
          "output_type": "execute_result",
          "data": {
            "text/plain": [
              "   count(*)\n",
              "0       224"
            ],
            "text/html": [
              "\n",
              "  <div id=\"df-2191a204-62c3-477f-8f30-5a30a050e5c4\">\n",
              "    <div class=\"colab-df-container\">\n",
              "      <div>\n",
              "<style scoped>\n",
              "    .dataframe tbody tr th:only-of-type {\n",
              "        vertical-align: middle;\n",
              "    }\n",
              "\n",
              "    .dataframe tbody tr th {\n",
              "        vertical-align: top;\n",
              "    }\n",
              "\n",
              "    .dataframe thead th {\n",
              "        text-align: right;\n",
              "    }\n",
              "</style>\n",
              "<table border=\"1\" class=\"dataframe\">\n",
              "  <thead>\n",
              "    <tr style=\"text-align: right;\">\n",
              "      <th></th>\n",
              "      <th>count(*)</th>\n",
              "    </tr>\n",
              "  </thead>\n",
              "  <tbody>\n",
              "    <tr>\n",
              "      <th>0</th>\n",
              "      <td>224</td>\n",
              "    </tr>\n",
              "  </tbody>\n",
              "</table>\n",
              "</div>\n",
              "      <button class=\"colab-df-convert\" onclick=\"convertToInteractive('df-2191a204-62c3-477f-8f30-5a30a050e5c4')\"\n",
              "              title=\"Convert this dataframe to an interactive table.\"\n",
              "              style=\"display:none;\">\n",
              "        \n",
              "  <svg xmlns=\"http://www.w3.org/2000/svg\" height=\"24px\"viewBox=\"0 0 24 24\"\n",
              "       width=\"24px\">\n",
              "    <path d=\"M0 0h24v24H0V0z\" fill=\"none\"/>\n",
              "    <path d=\"M18.56 5.44l.94 2.06.94-2.06 2.06-.94-2.06-.94-.94-2.06-.94 2.06-2.06.94zm-11 1L8.5 8.5l.94-2.06 2.06-.94-2.06-.94L8.5 2.5l-.94 2.06-2.06.94zm10 10l.94 2.06.94-2.06 2.06-.94-2.06-.94-.94-2.06-.94 2.06-2.06.94z\"/><path d=\"M17.41 7.96l-1.37-1.37c-.4-.4-.92-.59-1.43-.59-.52 0-1.04.2-1.43.59L10.3 9.45l-7.72 7.72c-.78.78-.78 2.05 0 2.83L4 21.41c.39.39.9.59 1.41.59.51 0 1.02-.2 1.41-.59l7.78-7.78 2.81-2.81c.8-.78.8-2.07 0-2.86zM5.41 20L4 18.59l7.72-7.72 1.47 1.35L5.41 20z\"/>\n",
              "  </svg>\n",
              "      </button>\n",
              "      \n",
              "  <style>\n",
              "    .colab-df-container {\n",
              "      display:flex;\n",
              "      flex-wrap:wrap;\n",
              "      gap: 12px;\n",
              "    }\n",
              "\n",
              "    .colab-df-convert {\n",
              "      background-color: #E8F0FE;\n",
              "      border: none;\n",
              "      border-radius: 50%;\n",
              "      cursor: pointer;\n",
              "      display: none;\n",
              "      fill: #1967D2;\n",
              "      height: 32px;\n",
              "      padding: 0 0 0 0;\n",
              "      width: 32px;\n",
              "    }\n",
              "\n",
              "    .colab-df-convert:hover {\n",
              "      background-color: #E2EBFA;\n",
              "      box-shadow: 0px 1px 2px rgba(60, 64, 67, 0.3), 0px 1px 3px 1px rgba(60, 64, 67, 0.15);\n",
              "      fill: #174EA6;\n",
              "    }\n",
              "\n",
              "    [theme=dark] .colab-df-convert {\n",
              "      background-color: #3B4455;\n",
              "      fill: #D2E3FC;\n",
              "    }\n",
              "\n",
              "    [theme=dark] .colab-df-convert:hover {\n",
              "      background-color: #434B5C;\n",
              "      box-shadow: 0px 1px 3px 1px rgba(0, 0, 0, 0.15);\n",
              "      filter: drop-shadow(0px 1px 2px rgba(0, 0, 0, 0.3));\n",
              "      fill: #FFFFFF;\n",
              "    }\n",
              "  </style>\n",
              "\n",
              "      <script>\n",
              "        const buttonEl =\n",
              "          document.querySelector('#df-2191a204-62c3-477f-8f30-5a30a050e5c4 button.colab-df-convert');\n",
              "        buttonEl.style.display =\n",
              "          google.colab.kernel.accessAllowed ? 'block' : 'none';\n",
              "\n",
              "        async function convertToInteractive(key) {\n",
              "          const element = document.querySelector('#df-2191a204-62c3-477f-8f30-5a30a050e5c4');\n",
              "          const dataTable =\n",
              "            await google.colab.kernel.invokeFunction('convertToInteractive',\n",
              "                                                     [key], {});\n",
              "          if (!dataTable) return;\n",
              "\n",
              "          const docLinkHtml = 'Like what you see? Visit the ' +\n",
              "            '<a target=\"_blank\" href=https://colab.research.google.com/notebooks/data_table.ipynb>data table notebook</a>'\n",
              "            + ' to learn more about interactive tables.';\n",
              "          element.innerHTML = '';\n",
              "          dataTable['output_type'] = 'display_data';\n",
              "          await google.colab.output.renderOutput(dataTable, element);\n",
              "          const docLink = document.createElement('div');\n",
              "          docLink.innerHTML = docLinkHtml;\n",
              "          element.appendChild(docLink);\n",
              "        }\n",
              "      </script>\n",
              "    </div>\n",
              "  </div>\n",
              "  "
            ]
          },
          "metadata": {},
          "execution_count": 6
        }
      ],
      "source": [
        "query = \"\"\"\n",
        "    SELECT count(*)\n",
        "    FROM persons\n",
        "    WHERE home_phone IS NULL \n",
        "\"\"\"\n",
        "\n",
        "pd.read_sql(query ,conn)\n",
        "\n",
        "# \thome_phone_null\n",
        "# 0\t224"
      ]
    },
    {
      "cell_type": "markdown",
      "id": "c1d29f6a-ff49-43ee-8ac0-300c6f7e8c51",
      "metadata": {
        "id": "c1d29f6a-ff49-43ee-8ac0-300c6f7e8c51"
      },
      "source": [
        "Now it turns out the count function will only count non-null values on a specific column.  Let's count the non-null values in home phone.  "
      ]
    },
    {
      "cell_type": "code",
      "execution_count": 7,
      "id": "4b82fb08-edc1-4b62-8363-a0a72f727fb1",
      "metadata": {
        "colab": {
          "base_uri": "https://localhost:8080/",
          "height": 81
        },
        "id": "4b82fb08-edc1-4b62-8363-a0a72f727fb1",
        "outputId": "2c8d01d1-be20-424e-a064-87f0336dc837"
      },
      "outputs": [
        {
          "output_type": "execute_result",
          "data": {
            "text/plain": [
              "   count(*)\n",
              "0       776"
            ],
            "text/html": [
              "\n",
              "  <div id=\"df-26e03c9a-e32b-4c27-b635-9d7b0d08591d\">\n",
              "    <div class=\"colab-df-container\">\n",
              "      <div>\n",
              "<style scoped>\n",
              "    .dataframe tbody tr th:only-of-type {\n",
              "        vertical-align: middle;\n",
              "    }\n",
              "\n",
              "    .dataframe tbody tr th {\n",
              "        vertical-align: top;\n",
              "    }\n",
              "\n",
              "    .dataframe thead th {\n",
              "        text-align: right;\n",
              "    }\n",
              "</style>\n",
              "<table border=\"1\" class=\"dataframe\">\n",
              "  <thead>\n",
              "    <tr style=\"text-align: right;\">\n",
              "      <th></th>\n",
              "      <th>count(*)</th>\n",
              "    </tr>\n",
              "  </thead>\n",
              "  <tbody>\n",
              "    <tr>\n",
              "      <th>0</th>\n",
              "      <td>776</td>\n",
              "    </tr>\n",
              "  </tbody>\n",
              "</table>\n",
              "</div>\n",
              "      <button class=\"colab-df-convert\" onclick=\"convertToInteractive('df-26e03c9a-e32b-4c27-b635-9d7b0d08591d')\"\n",
              "              title=\"Convert this dataframe to an interactive table.\"\n",
              "              style=\"display:none;\">\n",
              "        \n",
              "  <svg xmlns=\"http://www.w3.org/2000/svg\" height=\"24px\"viewBox=\"0 0 24 24\"\n",
              "       width=\"24px\">\n",
              "    <path d=\"M0 0h24v24H0V0z\" fill=\"none\"/>\n",
              "    <path d=\"M18.56 5.44l.94 2.06.94-2.06 2.06-.94-2.06-.94-.94-2.06-.94 2.06-2.06.94zm-11 1L8.5 8.5l.94-2.06 2.06-.94-2.06-.94L8.5 2.5l-.94 2.06-2.06.94zm10 10l.94 2.06.94-2.06 2.06-.94-2.06-.94-.94-2.06-.94 2.06-2.06.94z\"/><path d=\"M17.41 7.96l-1.37-1.37c-.4-.4-.92-.59-1.43-.59-.52 0-1.04.2-1.43.59L10.3 9.45l-7.72 7.72c-.78.78-.78 2.05 0 2.83L4 21.41c.39.39.9.59 1.41.59.51 0 1.02-.2 1.41-.59l7.78-7.78 2.81-2.81c.8-.78.8-2.07 0-2.86zM5.41 20L4 18.59l7.72-7.72 1.47 1.35L5.41 20z\"/>\n",
              "  </svg>\n",
              "      </button>\n",
              "      \n",
              "  <style>\n",
              "    .colab-df-container {\n",
              "      display:flex;\n",
              "      flex-wrap:wrap;\n",
              "      gap: 12px;\n",
              "    }\n",
              "\n",
              "    .colab-df-convert {\n",
              "      background-color: #E8F0FE;\n",
              "      border: none;\n",
              "      border-radius: 50%;\n",
              "      cursor: pointer;\n",
              "      display: none;\n",
              "      fill: #1967D2;\n",
              "      height: 32px;\n",
              "      padding: 0 0 0 0;\n",
              "      width: 32px;\n",
              "    }\n",
              "\n",
              "    .colab-df-convert:hover {\n",
              "      background-color: #E2EBFA;\n",
              "      box-shadow: 0px 1px 2px rgba(60, 64, 67, 0.3), 0px 1px 3px 1px rgba(60, 64, 67, 0.15);\n",
              "      fill: #174EA6;\n",
              "    }\n",
              "\n",
              "    [theme=dark] .colab-df-convert {\n",
              "      background-color: #3B4455;\n",
              "      fill: #D2E3FC;\n",
              "    }\n",
              "\n",
              "    [theme=dark] .colab-df-convert:hover {\n",
              "      background-color: #434B5C;\n",
              "      box-shadow: 0px 1px 3px 1px rgba(0, 0, 0, 0.15);\n",
              "      filter: drop-shadow(0px 1px 2px rgba(0, 0, 0, 0.3));\n",
              "      fill: #FFFFFF;\n",
              "    }\n",
              "  </style>\n",
              "\n",
              "      <script>\n",
              "        const buttonEl =\n",
              "          document.querySelector('#df-26e03c9a-e32b-4c27-b635-9d7b0d08591d button.colab-df-convert');\n",
              "        buttonEl.style.display =\n",
              "          google.colab.kernel.accessAllowed ? 'block' : 'none';\n",
              "\n",
              "        async function convertToInteractive(key) {\n",
              "          const element = document.querySelector('#df-26e03c9a-e32b-4c27-b635-9d7b0d08591d');\n",
              "          const dataTable =\n",
              "            await google.colab.kernel.invokeFunction('convertToInteractive',\n",
              "                                                     [key], {});\n",
              "          if (!dataTable) return;\n",
              "\n",
              "          const docLinkHtml = 'Like what you see? Visit the ' +\n",
              "            '<a target=\"_blank\" href=https://colab.research.google.com/notebooks/data_table.ipynb>data table notebook</a>'\n",
              "            + ' to learn more about interactive tables.';\n",
              "          element.innerHTML = '';\n",
              "          dataTable['output_type'] = 'display_data';\n",
              "          await google.colab.output.renderOutput(dataTable, element);\n",
              "          const docLink = document.createElement('div');\n",
              "          docLink.innerHTML = docLinkHtml;\n",
              "          element.appendChild(docLink);\n",
              "        }\n",
              "      </script>\n",
              "    </div>\n",
              "  </div>\n",
              "  "
            ]
          },
          "metadata": {},
          "execution_count": 7
        }
      ],
      "source": [
        "query = \"\"\"\n",
        "  SELECT count(*) \n",
        "  FROM persons\n",
        "  WHERE home_phone IS NOT NULL\n",
        "\"\"\"\n",
        "\n",
        "pd.read_sql(query ,conn)\n",
        "\n",
        "# \tnon_null_home_phone\n",
        "# 0\t776"
      ]
    },
    {
      "cell_type": "markdown",
      "id": "33ddb5be-cb94-43ce-9692-17f9d75517af",
      "metadata": {
        "id": "33ddb5be-cb94-43ce-9692-17f9d75517af"
      },
      "source": [
        "So we can see that 776 of our rows had home phone numbers that were not null."
      ]
    },
    {
      "cell_type": "markdown",
      "id": "e27280d5-55bc-4a55-9f9c-ee2832035a56",
      "metadata": {
        "id": "e27280d5-55bc-4a55-9f9c-ee2832035a56"
      },
      "source": [
        "Now write a select statement that returns the null values in the home_phone, cell_phone and work_phone columns.  Name these columns `missing_phone`, `missing_cell` and `missing_work`."
      ]
    },
    {
      "cell_type": "code",
      "execution_count": null,
      "id": "ee553875-79cb-4e6a-a1bb-e187ac6e0f75",
      "metadata": {
        "id": "ee553875-79cb-4e6a-a1bb-e187ac6e0f75",
        "outputId": "06c33d99-408b-4c26-e9e2-e72bcccfa1b5"
      },
      "outputs": [
        {
          "data": {
            "text/html": [
              "<div>\n",
              "<style scoped>\n",
              "    .dataframe tbody tr th:only-of-type {\n",
              "        vertical-align: middle;\n",
              "    }\n",
              "\n",
              "    .dataframe tbody tr th {\n",
              "        vertical-align: top;\n",
              "    }\n",
              "\n",
              "    .dataframe thead th {\n",
              "        text-align: right;\n",
              "    }\n",
              "</style>\n",
              "<table border=\"1\" class=\"dataframe\">\n",
              "  <thead>\n",
              "    <tr style=\"text-align: right;\">\n",
              "      <th></th>\n",
              "      <th>missing_phone</th>\n",
              "      <th>missing_cell</th>\n",
              "      <th>missing_work</th>\n",
              "    </tr>\n",
              "  </thead>\n",
              "  <tbody>\n",
              "    <tr>\n",
              "      <th>0</th>\n",
              "      <td>224</td>\n",
              "      <td>0</td>\n",
              "      <td>224</td>\n",
              "    </tr>\n",
              "  </tbody>\n",
              "</table>\n",
              "</div>"
            ],
            "text/plain": [
              "   missing_phone  missing_cell  missing_work\n",
              "0            224             0           224"
            ]
          },
          "execution_count": 30,
          "metadata": {},
          "output_type": "execute_result"
        }
      ],
      "source": [
        "query = \"\"\"\n",
        "  SELECT (count(*))\n",
        "\n",
        "\"\"\"\n",
        "\n",
        "pd.read_sql(query, conn)"
      ]
    },
    {
      "cell_type": "markdown",
      "id": "13db07a0-3280-4c22-b141-d16c6fdb87e1",
      "metadata": {
        "id": "13db07a0-3280-4c22-b141-d16c6fdb87e1"
      },
      "source": [
        "### Coercing Null Values "
      ]
    },
    {
      "cell_type": "markdown",
      "id": "d41f5d00-ab95-4114-9ea5-4d6fa21f4c07",
      "metadata": {
        "id": "d41f5d00-ab95-4114-9ea5-4d6fa21f4c07"
      },
      "source": [
        "Now let's start coercing some with some of our null values.  Begin by selecting the `id` and `home_phone` from the first 8 rows, replacing any null `home_phone` with the string `'Unknown'`."
      ]
    },
    {
      "cell_type": "code",
      "execution_count": null,
      "id": "8a4dc778-9cab-4362-93fd-0e4f6386155a",
      "metadata": {
        "id": "8a4dc778-9cab-4362-93fd-0e4f6386155a",
        "outputId": "817f7a0d-a8ce-4184-c6da-f7ff5a699738"
      },
      "outputs": [
        {
          "data": {
            "text/html": [
              "<div>\n",
              "<style scoped>\n",
              "    .dataframe tbody tr th:only-of-type {\n",
              "        vertical-align: middle;\n",
              "    }\n",
              "\n",
              "    .dataframe tbody tr th {\n",
              "        vertical-align: top;\n",
              "    }\n",
              "\n",
              "    .dataframe thead th {\n",
              "        text-align: right;\n",
              "    }\n",
              "</style>\n",
              "<table border=\"1\" class=\"dataframe\">\n",
              "  <thead>\n",
              "    <tr style=\"text-align: right;\">\n",
              "      <th></th>\n",
              "      <th>id</th>\n",
              "      <th>home_phone</th>\n",
              "      <th>cell_phone</th>\n",
              "      <th>work_phone</th>\n",
              "    </tr>\n",
              "  </thead>\n",
              "  <tbody>\n",
              "    <tr>\n",
              "      <th>0</th>\n",
              "      <td>1</td>\n",
              "      <td>850-519-2573</td>\n",
              "      <td>273-102-2043</td>\n",
              "      <td>152-593-2967</td>\n",
              "    </tr>\n",
              "    <tr>\n",
              "      <th>1</th>\n",
              "      <td>2</td>\n",
              "      <td>310-959-7139</td>\n",
              "      <td>301-931-3773</td>\n",
              "      <td>741-504-0114</td>\n",
              "    </tr>\n",
              "    <tr>\n",
              "      <th>2</th>\n",
              "      <td>3</td>\n",
              "      <td>474-798-1579</td>\n",
              "      <td>324-169-8178</td>\n",
              "      <td>447-945-4760</td>\n",
              "    </tr>\n",
              "    <tr>\n",
              "      <th>3</th>\n",
              "      <td>4</td>\n",
              "      <td>Unknown</td>\n",
              "      <td>439-258-2695</td>\n",
              "      <td>None</td>\n",
              "    </tr>\n",
              "    <tr>\n",
              "      <th>4</th>\n",
              "      <td>5</td>\n",
              "      <td>Unknown</td>\n",
              "      <td>254-692-3658</td>\n",
              "      <td>None</td>\n",
              "    </tr>\n",
              "    <tr>\n",
              "      <th>5</th>\n",
              "      <td>6</td>\n",
              "      <td>Unknown</td>\n",
              "      <td>505-447-9193</td>\n",
              "      <td>None</td>\n",
              "    </tr>\n",
              "    <tr>\n",
              "      <th>6</th>\n",
              "      <td>7</td>\n",
              "      <td>807-792-5705</td>\n",
              "      <td>471-468-9219</td>\n",
              "      <td>456-531-6413</td>\n",
              "    </tr>\n",
              "    <tr>\n",
              "      <th>7</th>\n",
              "      <td>8</td>\n",
              "      <td>928-375-5660</td>\n",
              "      <td>514-287-9273</td>\n",
              "      <td>798-832-6223</td>\n",
              "    </tr>\n",
              "  </tbody>\n",
              "</table>\n",
              "</div>"
            ],
            "text/plain": [
              "   id    home_phone    cell_phone    work_phone\n",
              "0   1  850-519-2573  273-102-2043  152-593-2967\n",
              "1   2  310-959-7139  301-931-3773  741-504-0114\n",
              "2   3  474-798-1579  324-169-8178  447-945-4760\n",
              "3   4       Unknown  439-258-2695          None\n",
              "4   5       Unknown  254-692-3658          None\n",
              "5   6       Unknown  505-447-9193          None\n",
              "6   7  807-792-5705  471-468-9219  456-531-6413\n",
              "7   8  928-375-5660  514-287-9273  798-832-6223"
            ]
          },
          "execution_count": 23,
          "metadata": {},
          "output_type": "execute_result"
        }
      ],
      "source": [
        "query = \"\"\"\n",
        "\n",
        "\"\"\"\n",
        "\n",
        "pd.read_sql(query ,conn)\n",
        "\n",
        "# \tid\thome_phone\n",
        "# 0\t1\t850-519-2573\n",
        "# 1\t2\t310-959-7139\n",
        "# 2\t3\t474-798-1579\n",
        "# 3\t4\tUnknown\n",
        "# 4\t5\tUnknown\n",
        "# 5\t6\tUnknown\n",
        "# 6\t7\t807-792-5705\n",
        "# 7\t8\t928-375-5660"
      ]
    },
    {
      "cell_type": "markdown",
      "id": "f45e3bcb-a623-4b6a-b87a-cac74168e732",
      "metadata": {
        "id": "f45e3bcb-a623-4b6a-b87a-cac74168e732"
      },
      "source": [
        "Next select the `id` and `home_phone` from first ten rows of the persons table, but display the `cell_phone` whenever the `home_phone` is null, and alias the column to `phone`."
      ]
    },
    {
      "cell_type": "code",
      "execution_count": null,
      "id": "3b49df54-cef7-4f52-a464-850edc60ba3f",
      "metadata": {
        "id": "3b49df54-cef7-4f52-a464-850edc60ba3f",
        "outputId": "277d9a78-226a-4ee8-f982-01d9eb105123"
      },
      "outputs": [
        {
          "data": {
            "text/html": [
              "<div>\n",
              "<style scoped>\n",
              "    .dataframe tbody tr th:only-of-type {\n",
              "        vertical-align: middle;\n",
              "    }\n",
              "\n",
              "    .dataframe tbody tr th {\n",
              "        vertical-align: top;\n",
              "    }\n",
              "\n",
              "    .dataframe thead th {\n",
              "        text-align: right;\n",
              "    }\n",
              "</style>\n",
              "<table border=\"1\" class=\"dataframe\">\n",
              "  <thead>\n",
              "    <tr style=\"text-align: right;\">\n",
              "      <th></th>\n",
              "      <th>id</th>\n",
              "      <th>phone</th>\n",
              "    </tr>\n",
              "  </thead>\n",
              "  <tbody>\n",
              "    <tr>\n",
              "      <th>0</th>\n",
              "      <td>1</td>\n",
              "      <td>850-519-2573</td>\n",
              "    </tr>\n",
              "    <tr>\n",
              "      <th>1</th>\n",
              "      <td>2</td>\n",
              "      <td>310-959-7139</td>\n",
              "    </tr>\n",
              "    <tr>\n",
              "      <th>2</th>\n",
              "      <td>3</td>\n",
              "      <td>474-798-1579</td>\n",
              "    </tr>\n",
              "    <tr>\n",
              "      <th>3</th>\n",
              "      <td>4</td>\n",
              "      <td>439-258-2695</td>\n",
              "    </tr>\n",
              "    <tr>\n",
              "      <th>4</th>\n",
              "      <td>5</td>\n",
              "      <td>254-692-3658</td>\n",
              "    </tr>\n",
              "    <tr>\n",
              "      <th>5</th>\n",
              "      <td>6</td>\n",
              "      <td>505-447-9193</td>\n",
              "    </tr>\n",
              "    <tr>\n",
              "      <th>6</th>\n",
              "      <td>7</td>\n",
              "      <td>807-792-5705</td>\n",
              "    </tr>\n",
              "    <tr>\n",
              "      <th>7</th>\n",
              "      <td>8</td>\n",
              "      <td>928-375-5660</td>\n",
              "    </tr>\n",
              "  </tbody>\n",
              "</table>\n",
              "</div>"
            ],
            "text/plain": [
              "   id         phone\n",
              "0   1  850-519-2573\n",
              "1   2  310-959-7139\n",
              "2   3  474-798-1579\n",
              "3   4  439-258-2695\n",
              "4   5  254-692-3658\n",
              "5   6  505-447-9193\n",
              "6   7  807-792-5705\n",
              "7   8  928-375-5660"
            ]
          },
          "execution_count": 24,
          "metadata": {},
          "output_type": "execute_result"
        }
      ],
      "source": [
        "query = \"\"\"\n",
        "\n",
        "\"\"\"\n",
        "\n",
        "pd.read_sql(query, conn)\n",
        "\n",
        "# \tid\tphone\n",
        "# 0\t1\t850-519-2573\n",
        "# 1\t2\t310-959-7139\n",
        "# 2\t3\t474-798-1579\n",
        "# 3\t4\t439-258-2695\n",
        "# 4\t5\t254-692-3658\n",
        "# 5\t6\t505-447-9193\n",
        "# 6\t7\t807-792-5705\n",
        "# 7\t8\t928-375-5660"
      ]
    },
    {
      "cell_type": "markdown",
      "id": "15dd7134-2f4c-49ae-ae1c-685f909373bb",
      "metadata": {
        "id": "15dd7134-2f4c-49ae-ae1c-685f909373bb"
      },
      "source": [
        "### Working with Missing Values"
      ]
    },
    {
      "cell_type": "markdown",
      "id": "900be04d-8fc3-4b2d-89e7-6404aa510d9b",
      "metadata": {
        "id": "900be04d-8fc3-4b2d-89e7-6404aa510d9b"
      },
      "source": [
        "Let's begin by counting the number of rows where the cell_phone is an empty string and name the result as `missing_cell_phone_num`."
      ]
    },
    {
      "cell_type": "code",
      "execution_count": null,
      "id": "c2e1b7b5-029e-4b9b-a04d-9067be7a6b27",
      "metadata": {
        "id": "c2e1b7b5-029e-4b9b-a04d-9067be7a6b27",
        "outputId": "e6d40c13-40b8-4feb-b2fc-77eaf4468d47"
      },
      "outputs": [
        {
          "data": {
            "text/html": [
              "<div>\n",
              "<style scoped>\n",
              "    .dataframe tbody tr th:only-of-type {\n",
              "        vertical-align: middle;\n",
              "    }\n",
              "\n",
              "    .dataframe tbody tr th {\n",
              "        vertical-align: top;\n",
              "    }\n",
              "\n",
              "    .dataframe thead th {\n",
              "        text-align: right;\n",
              "    }\n",
              "</style>\n",
              "<table border=\"1\" class=\"dataframe\">\n",
              "  <thead>\n",
              "    <tr style=\"text-align: right;\">\n",
              "      <th></th>\n",
              "      <th>missing_cell_phone_nums</th>\n",
              "    </tr>\n",
              "  </thead>\n",
              "  <tbody>\n",
              "    <tr>\n",
              "      <th>0</th>\n",
              "      <td>40</td>\n",
              "    </tr>\n",
              "  </tbody>\n",
              "</table>\n",
              "</div>"
            ],
            "text/plain": [
              "   missing_cell_phone_nums\n",
              "0                       40"
            ]
          },
          "execution_count": 34,
          "metadata": {},
          "output_type": "execute_result"
        }
      ],
      "source": [
        "query = \"\"\"\n",
        "\n",
        "\"\"\"\n",
        "pd.read_sql(query, conn)\n",
        "\n",
        "# \tmissing_cell_phone_nums\n",
        "# 0\t40"
      ]
    },
    {
      "cell_type": "markdown",
      "id": "ac57cbc0-8fca-440d-8d45-eb4db006e6dd",
      "metadata": {
        "id": "ac57cbc0-8fca-440d-8d45-eb4db006e6dd"
      },
      "source": [
        "Next, let's coerce these empty strings to be null, and then select the first 10 rows with null values.\n",
        "\n",
        "> Display the id and the phone columns."
      ]
    },
    {
      "cell_type": "code",
      "execution_count": null,
      "id": "1724d2c3-2cc3-410a-b373-a676f259dd67",
      "metadata": {
        "id": "1724d2c3-2cc3-410a-b373-a676f259dd67",
        "outputId": "85b5ba3f-7cc1-4173-bb7a-b0e2c2de6776"
      },
      "outputs": [
        {
          "data": {
            "text/html": [
              "<div>\n",
              "<style scoped>\n",
              "    .dataframe tbody tr th:only-of-type {\n",
              "        vertical-align: middle;\n",
              "    }\n",
              "\n",
              "    .dataframe tbody tr th {\n",
              "        vertical-align: top;\n",
              "    }\n",
              "\n",
              "    .dataframe thead th {\n",
              "        text-align: right;\n",
              "    }\n",
              "</style>\n",
              "<table border=\"1\" class=\"dataframe\">\n",
              "  <thead>\n",
              "    <tr style=\"text-align: right;\">\n",
              "      <th></th>\n",
              "      <th>id</th>\n",
              "      <th>phone</th>\n",
              "      <th>cell_phone</th>\n",
              "    </tr>\n",
              "  </thead>\n",
              "  <tbody>\n",
              "    <tr>\n",
              "      <th>0</th>\n",
              "      <td>16</td>\n",
              "      <td>None</td>\n",
              "      <td></td>\n",
              "    </tr>\n",
              "    <tr>\n",
              "      <th>1</th>\n",
              "      <td>42</td>\n",
              "      <td>None</td>\n",
              "      <td></td>\n",
              "    </tr>\n",
              "    <tr>\n",
              "      <th>2</th>\n",
              "      <td>96</td>\n",
              "      <td>None</td>\n",
              "      <td></td>\n",
              "    </tr>\n",
              "    <tr>\n",
              "      <th>3</th>\n",
              "      <td>110</td>\n",
              "      <td>None</td>\n",
              "      <td></td>\n",
              "    </tr>\n",
              "    <tr>\n",
              "      <th>4</th>\n",
              "      <td>133</td>\n",
              "      <td>None</td>\n",
              "      <td></td>\n",
              "    </tr>\n",
              "    <tr>\n",
              "      <th>5</th>\n",
              "      <td>154</td>\n",
              "      <td>None</td>\n",
              "      <td></td>\n",
              "    </tr>\n",
              "    <tr>\n",
              "      <th>6</th>\n",
              "      <td>210</td>\n",
              "      <td>None</td>\n",
              "      <td></td>\n",
              "    </tr>\n",
              "    <tr>\n",
              "      <th>7</th>\n",
              "      <td>216</td>\n",
              "      <td>None</td>\n",
              "      <td></td>\n",
              "    </tr>\n",
              "    <tr>\n",
              "      <th>8</th>\n",
              "      <td>231</td>\n",
              "      <td>None</td>\n",
              "      <td></td>\n",
              "    </tr>\n",
              "    <tr>\n",
              "      <th>9</th>\n",
              "      <td>241</td>\n",
              "      <td>None</td>\n",
              "      <td></td>\n",
              "    </tr>\n",
              "  </tbody>\n",
              "</table>\n",
              "</div>"
            ],
            "text/plain": [
              "    id phone cell_phone\n",
              "0   16  None           \n",
              "1   42  None           \n",
              "2   96  None           \n",
              "3  110  None           \n",
              "4  133  None           \n",
              "5  154  None           \n",
              "6  210  None           \n",
              "7  216  None           \n",
              "8  231  None           \n",
              "9  241  None           "
            ]
          },
          "execution_count": 40,
          "metadata": {},
          "output_type": "execute_result"
        }
      ],
      "source": [
        "query = \"\"\"\n",
        "\n",
        "\"\"\"\n",
        "pd.read_sql(query, conn)\n",
        "\n",
        "# \tid\tphone\n",
        "# 0\t16\tNone\n",
        "# 1\t42\tNone\n",
        "# 2\t96\tNone\n",
        "# 3\t110\tNone\n",
        "# 4\t133\tNone\n",
        "# 5\t154\tNone\n",
        "# 6\t210\tNone\n",
        "# 7\t216\tNone\n",
        "# 8\t231\tNone\n",
        "# 9\t241\tNone"
      ]
    },
    {
      "cell_type": "markdown",
      "id": "218eebf8-64ad-41c9-b3fb-2c82fb79f851",
      "metadata": {
        "id": "218eebf8-64ad-41c9-b3fb-2c82fb79f851"
      },
      "source": [
        "Next, let's display the `work_phone` number for any `cell_phone` numbers that are an empty string. Then select the phone numbers that are still null.\n",
        "\n",
        "There should only be seven rows that are still null."
      ]
    },
    {
      "cell_type": "code",
      "execution_count": null,
      "id": "51a36dcf-fab4-4649-b4da-77e3bdc6f4ce",
      "metadata": {
        "id": "51a36dcf-fab4-4649-b4da-77e3bdc6f4ce",
        "outputId": "2f6e7bea-89f7-4b81-9da9-a7862e0509a0"
      },
      "outputs": [
        {
          "data": {
            "text/html": [
              "<div>\n",
              "<style scoped>\n",
              "    .dataframe tbody tr th:only-of-type {\n",
              "        vertical-align: middle;\n",
              "    }\n",
              "\n",
              "    .dataframe tbody tr th {\n",
              "        vertical-align: top;\n",
              "    }\n",
              "\n",
              "    .dataframe thead th {\n",
              "        text-align: right;\n",
              "    }\n",
              "</style>\n",
              "<table border=\"1\" class=\"dataframe\">\n",
              "  <thead>\n",
              "    <tr style=\"text-align: right;\">\n",
              "      <th></th>\n",
              "      <th>id</th>\n",
              "      <th>phone</th>\n",
              "    </tr>\n",
              "  </thead>\n",
              "  <tbody>\n",
              "    <tr>\n",
              "      <th>0</th>\n",
              "      <td>16</td>\n",
              "      <td>None</td>\n",
              "    </tr>\n",
              "    <tr>\n",
              "      <th>1</th>\n",
              "      <td>216</td>\n",
              "      <td>None</td>\n",
              "    </tr>\n",
              "    <tr>\n",
              "      <th>2</th>\n",
              "      <td>396</td>\n",
              "      <td>None</td>\n",
              "    </tr>\n",
              "    <tr>\n",
              "      <th>3</th>\n",
              "      <td>404</td>\n",
              "      <td>None</td>\n",
              "    </tr>\n",
              "    <tr>\n",
              "      <th>4</th>\n",
              "      <td>624</td>\n",
              "      <td>None</td>\n",
              "    </tr>\n",
              "    <tr>\n",
              "      <th>5</th>\n",
              "      <td>682</td>\n",
              "      <td>None</td>\n",
              "    </tr>\n",
              "    <tr>\n",
              "      <th>6</th>\n",
              "      <td>781</td>\n",
              "      <td>None</td>\n",
              "    </tr>\n",
              "  </tbody>\n",
              "</table>\n",
              "</div>"
            ],
            "text/plain": [
              "    id phone\n",
              "0   16  None\n",
              "1  216  None\n",
              "2  396  None\n",
              "3  404  None\n",
              "4  624  None\n",
              "5  682  None\n",
              "6  781  None"
            ]
          },
          "execution_count": 49,
          "metadata": {},
          "output_type": "execute_result"
        }
      ],
      "source": [
        "query = \"\"\"\n",
        "\n",
        "\"\"\"\n",
        "pd.read_sql(query, conn)\n",
        "\n",
        "# \tid\tphone\n",
        "# 0\t16\tNone\n",
        "# 1\t216\tNone\n",
        "# 2\t396\tNone\n",
        "# 3\t404\tNone\n",
        "# 4\t624\tNone\n",
        "# 5\t682\tNone\n",
        "# 6\t781\tNone"
      ]
    },
    {
      "cell_type": "markdown",
      "id": "9b40ae88-35a4-4bb8-9a5a-aed9a52579a0",
      "metadata": {
        "id": "9b40ae88-35a4-4bb8-9a5a-aed9a52579a0"
      },
      "source": [
        "### Summary"
      ]
    },
    {
      "cell_type": "markdown",
      "id": "24295370-9ad4-4fad-9137-ded205a33a46",
      "metadata": {
        "id": "24295370-9ad4-4fad-9137-ded205a33a46"
      },
      "source": [
        "In this lesson, we practiced working with null values in SQL.  We did so through working with the COALESCE command, which replaces null values with a hardcoded value or the value from another column.\n",
        "\n",
        "And we also practiced working with the `NULLIF` command which converts specified values to null.  Finally, we practiced working with COALESCE and NULLIF together, to first convert specific values to null and then apply coalesce for all of our null values."
      ]
    }
  ],
  "metadata": {
    "kernelspec": {
      "display_name": "Python 3 (ipykernel)",
      "language": "python",
      "name": "python3"
    },
    "language_info": {
      "codemirror_mode": {
        "name": "ipython",
        "version": 3
      },
      "file_extension": ".py",
      "mimetype": "text/x-python",
      "name": "python",
      "nbconvert_exporter": "python",
      "pygments_lexer": "ipython3",
      "version": "3.9.7"
    },
    "colab": {
      "provenance": []
    }
  },
  "nbformat": 4,
  "nbformat_minor": 5
}