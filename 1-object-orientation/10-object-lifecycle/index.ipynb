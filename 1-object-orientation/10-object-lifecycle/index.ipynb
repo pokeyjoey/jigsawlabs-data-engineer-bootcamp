{
  "cells": [
    {
      "cell_type": "markdown",
      "metadata": {
        "id": "xgSuHBA9mtYq"
      },
      "source": [
        "# Object Lifecycle"
      ]
    },
    {
      "cell_type": "markdown",
      "metadata": {
        "id": "GJR7nH4nmtYu"
      },
      "source": [
        "### Introduction"
      ]
    },
    {
      "cell_type": "markdown",
      "metadata": {
        "id": "oUlgVYflmtYv"
      },
      "source": [
        "So far we have defined shown how to add methods to our object, and to add data to our objects.  However, when we add data to our objects, notice that we can include or exclude whatever data we would like. "
      ]
    },
    {
      "cell_type": "code",
      "execution_count": 1,
      "metadata": {
        "id": "BNHe3pGpmtYw"
      },
      "outputs": [],
      "source": [
        "class Laundromat:\n",
        "    pass"
      ]
    },
    {
      "cell_type": "code",
      "execution_count": 2,
      "metadata": {
        "id": "belmA9cWmtYy"
      },
      "outputs": [],
      "source": [
        "bk_laundromat = Laundromat()\n",
        "bk_laundromat.whatever = 'something else'"
      ]
    },
    {
      "cell_type": "code",
      "execution_count": 3,
      "metadata": {
        "id": "EHoWQzeFmtYz",
        "outputId": "c6719b22-efe6-4e8f-827b-080712f45d7f",
        "colab": {
          "base_uri": "https://localhost:8080/"
        }
      },
      "outputs": [
        {
          "output_type": "execute_result",
          "data": {
            "text/plain": [
              "{'whatever': 'something else'}"
            ]
          },
          "metadata": {},
          "execution_count": 3
        }
      ],
      "source": [
        "bk_laundromat.__dict__"
      ]
    },
    {
      "cell_type": "markdown",
      "metadata": {
        "id": "WmsG8FyjmtY0"
      },
      "source": [
        "This laundromat doesn't tell us it's location, but it does tell have an attribute for `whatever`?  In this lesson, we'll see how we can force an object to include certain information when it's created."
      ]
    },
    {
      "cell_type": "markdown",
      "metadata": {
        "id": "HfBJYJmemtY3"
      },
      "source": [
        "### Initializing an Object"
      ]
    },
    {
      "cell_type": "markdown",
      "metadata": {
        "id": "WE2ElbZcmtY4"
      },
      "source": [
        "Now imagine if we want to require that to create a `Laundromat` instance, we must specify the name of the owner, and the address.  We can do the following."
      ]
    },
    {
      "cell_type": "code",
      "execution_count": 4,
      "metadata": {
        "id": "NCkMRnxmmtY5"
      },
      "outputs": [],
      "source": [
        "class Laundromat:\n",
        "    def __init__(self, owner_name, address):\n",
        "        pass"
      ]
    },
    {
      "cell_type": "markdown",
      "metadata": {
        "id": "ud7I6G2TmtY5"
      },
      "source": [
        "Now notice what happens."
      ]
    },
    {
      "cell_type": "code",
      "execution_count": 5,
      "metadata": {
        "id": "k-UAOffkmtY6",
        "outputId": "cf499f63-003a-4827-a8af-061ce81c82bb",
        "colab": {
          "base_uri": "https://localhost:8080/",
          "height": 166
        }
      },
      "outputs": [
        {
          "output_type": "error",
          "ename": "TypeError",
          "evalue": "ignored",
          "traceback": [
            "\u001b[0;31m---------------------------------------------------------------------------\u001b[0m",
            "\u001b[0;31mTypeError\u001b[0m                                 Traceback (most recent call last)",
            "\u001b[0;32m<ipython-input-5-77efbc51965d>\u001b[0m in \u001b[0;36m<module>\u001b[0;34m()\u001b[0m\n\u001b[0;32m----> 1\u001b[0;31m \u001b[0mLaundromat\u001b[0m\u001b[0;34m(\u001b[0m\u001b[0;34m)\u001b[0m\u001b[0;34m\u001b[0m\u001b[0;34m\u001b[0m\u001b[0m\n\u001b[0m",
            "\u001b[0;31mTypeError\u001b[0m: __init__() missing 2 required positional arguments: 'owner_name' and 'address'"
          ]
        }
      ],
      "source": [
        "Laundromat()"
      ]
    },
    {
      "cell_type": "markdown",
      "metadata": {
        "id": "5peibh8FmtY6"
      },
      "source": [
        "Read the error message above.  This time when we try to create a laundromat object, we must pass through two arguments to the instance, the `owner_name` and `address`."
      ]
    },
    {
      "cell_type": "code",
      "execution_count": 6,
      "metadata": {
        "id": "JV2ugHvWmtY7"
      },
      "outputs": [],
      "source": [
        "queens_laundromat = Laundromat('bob', '165 Queens')"
      ]
    },
    {
      "cell_type": "markdown",
      "metadata": {
        "id": "QV7KL-DFmtY7"
      },
      "source": [
        "Now even after passing through the proper arguments, we see that the information is not stored in our object."
      ]
    },
    {
      "cell_type": "code",
      "execution_count": 7,
      "metadata": {
        "id": "XxthHmX9mtY7",
        "outputId": "a2797107-51e4-46d0-e8ef-785608960675",
        "colab": {
          "base_uri": "https://localhost:8080/"
        }
      },
      "outputs": [
        {
          "output_type": "execute_result",
          "data": {
            "text/plain": [
              "{}"
            ]
          },
          "metadata": {},
          "execution_count": 7
        }
      ],
      "source": [
        "queens_laundromat.__dict__"
      ]
    },
    {
      "cell_type": "markdown",
      "metadata": {
        "id": "WUKes9-bmtY8"
      },
      "source": [
        "And this makes sense, as our `__init__` method does not actually *do anything*.  Let's update our `__init__` method so that it assigns the correct data to our instance."
      ]
    },
    {
      "cell_type": "code",
      "execution_count": 8,
      "metadata": {
        "id": "DKtU6PWhmtY8"
      },
      "outputs": [],
      "source": [
        "class Laundromat:\n",
        "    def __init__(self, owner_name, address):\n",
        "        self.owner_name = owner_name\n",
        "        self.address = address"
      ]
    },
    {
      "cell_type": "code",
      "execution_count": 9,
      "metadata": {
        "id": "xIIRPL3DmtY9"
      },
      "outputs": [],
      "source": [
        "queens_laundromat = Laundromat('bob', '123 queens')"
      ]
    },
    {
      "cell_type": "code",
      "execution_count": 10,
      "metadata": {
        "id": "QoeCNZZamtY9",
        "outputId": "9a52e7b8-3b56-455d-f01e-b199d8bdbfbc",
        "colab": {
          "base_uri": "https://localhost:8080/"
        }
      },
      "outputs": [
        {
          "output_type": "execute_result",
          "data": {
            "text/plain": [
              "{'address': '123 queens', 'owner_name': 'bob'}"
            ]
          },
          "metadata": {},
          "execution_count": 10
        }
      ],
      "source": [
        "queens_laundromat.__dict__"
      ]
    },
    {
      "cell_type": "markdown",
      "metadata": {
        "id": "8on5aLzCmtY9"
      },
      "source": [
        "Now we can see that our information is properly stored."
      ]
    },
    {
      "cell_type": "markdown",
      "metadata": {
        "id": "tamS01vnmtY9"
      },
      "source": [
        "### What just happened?"
      ]
    },
    {
      "cell_type": "markdown",
      "metadata": {
        "id": "jLTSaA8umtY-"
      },
      "source": [
        "So when we initialize a new object, you can think of a few things as happening.\n",
        "\n",
        "1. Python creates a new instance of our class.  \n",
        "2. Then it calls the `__init__` method with `self` taking on the value of the newly created instance\n",
        "3. The `__init__` method is run\n",
        "4. And the newly created instance is returned."
      ]
    },
    {
      "cell_type": "code",
      "execution_count": 11,
      "metadata": {
        "id": "48VvwdeDmtY-"
      },
      "outputs": [],
      "source": [
        "brooklyn_laundromat = Laundromat('susan', '456 brooklyn')"
      ]
    },
    {
      "cell_type": "code",
      "execution_count": 12,
      "metadata": {
        "id": "4wC4hAltmtY-",
        "outputId": "19c07514-9266-4b09-d9a8-70d921966617",
        "colab": {
          "base_uri": "https://localhost:8080/"
        }
      },
      "outputs": [
        {
          "output_type": "execute_result",
          "data": {
            "text/plain": [
              "{'address': '456 brooklyn', 'owner_name': 'susan'}"
            ]
          },
          "metadata": {},
          "execution_count": 12
        }
      ],
      "source": [
        "brooklyn_laundromat.__dict__"
      ]
    },
    {
      "cell_type": "markdown",
      "metadata": {
        "id": "uuVtPFuZmtY_"
      },
      "source": [
        "### Summary\n",
        "\n",
        "In this lesson, we learned about the `__init__` method.  This method is called when we first initialize an object in Python.  We can use this method to force instances of a class to have define certain attributes when they are created.  For example we saw that once we wrote our class as: "
      ]
    },
    {
      "cell_type": "markdown",
      "metadata": {
        "id": "2nIDc8M1mtY_"
      },
      "source": [
        "```python\n",
        "class Laundromat:\n",
        "    def __init__(self, owner_name, address):\n",
        "        pass\n",
        "```"
      ]
    },
    {
      "cell_type": "markdown",
      "metadata": {
        "id": "NVc4wRoqmtY_"
      },
      "source": [
        "that we then needed to pass through certain values when initializing our object."
      ]
    },
    {
      "cell_type": "code",
      "execution_count": null,
      "metadata": {
        "id": "qgtkma4smtZA",
        "outputId": "0d2ea3af-a3b2-420e-f421-140c45d194c7"
      },
      "outputs": [
        {
          "ename": "TypeError",
          "evalue": "__init__() missing 2 required positional arguments: 'owner_name' and 'address'",
          "output_type": "error",
          "traceback": [
            "\u001b[0;31m---------------------------------------------------------------------------\u001b[0m",
            "\u001b[0;31mTypeError\u001b[0m                                 Traceback (most recent call last)",
            "\u001b[0;32m<ipython-input-24-77efbc51965d>\u001b[0m in \u001b[0;36m<module>\u001b[0;34m()\u001b[0m\n\u001b[0;32m----> 1\u001b[0;31m \u001b[0mLaundromat\u001b[0m\u001b[0;34m(\u001b[0m\u001b[0;34m)\u001b[0m\u001b[0;34m\u001b[0m\u001b[0m\n\u001b[0m",
            "\u001b[0;31mTypeError\u001b[0m: __init__() missing 2 required positional arguments: 'owner_name' and 'address'"
          ]
        }
      ],
      "source": [
        "Laundromat()"
      ]
    },
    {
      "cell_type": "markdown",
      "metadata": {
        "id": "nkZjLcdzmtZA"
      },
      "source": [
        "We also unpacked the steps that occur when a new instance is initialized."
      ]
    },
    {
      "cell_type": "markdown",
      "metadata": {
        "id": "Gg9T2zVqmtZA"
      },
      "source": [
        "1. Python creates a new instance of our class.  \n",
        "2. Then it calls the `__init__` method with `self` taking on the value of the newly created instance\n",
        "3. The `__init__` method is run\n",
        "4. And the newly created instance is returned."
      ]
    }
  ],
  "metadata": {
    "kernelspec": {
      "display_name": "Python 3",
      "language": "python",
      "name": "python3"
    },
    "language_info": {
      "codemirror_mode": {
        "name": "ipython",
        "version": 3
      },
      "file_extension": ".py",
      "mimetype": "text/x-python",
      "name": "python",
      "nbconvert_exporter": "python",
      "pygments_lexer": "ipython3",
      "version": "3.7.4"
    },
    "colab": {
      "name": "index.ipynb",
      "provenance": []
    }
  },
  "nbformat": 4,
  "nbformat_minor": 0
}