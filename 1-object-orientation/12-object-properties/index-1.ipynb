{
  "cells": [
    {
      "cell_type": "markdown",
      "metadata": {
        "id": "MFYCXFt49pqT"
      },
      "source": [
        "# Object Properties"
      ]
    },
    {
      "cell_type": "markdown",
      "metadata": {
        "id": "yW4pu9yp9pqX"
      },
      "source": [
        "### Introduction"
      ]
    },
    {
      "cell_type": "markdown",
      "metadata": {
        "id": "UwI4heS69pqX"
      },
      "source": [
        "Let's discuss another way that we can begin to formalize the data that an instance contains, with object properties."
      ]
    },
    {
      "cell_type": "markdown",
      "metadata": {
        "id": "wOddFQOM9pqY"
      },
      "source": [
        "### Back to the Laundromat"
      ]
    },
    {
      "cell_type": "markdown",
      "metadata": {
        "id": "nGA2LPYY9pqY"
      },
      "source": [
        "Here, again is our `Laundromat` class."
      ]
    },
    {
      "cell_type": "code",
      "execution_count": 1,
      "metadata": {
        "id": "hdXcEM5A9pqY"
      },
      "outputs": [],
      "source": [
        "class Laundromat:\n",
        "    def __init__(self, owner_name, address):\n",
        "        self.owner_name = owner_name\n",
        "        self.address = address"
      ]
    },
    {
      "cell_type": "code",
      "execution_count": 2,
      "metadata": {
        "id": "J2uqT6ie9pqa"
      },
      "outputs": [],
      "source": [
        "queens_laundromat = Laundromat('bob', '123 queens')"
      ]
    },
    {
      "cell_type": "code",
      "execution_count": 3,
      "metadata": {
        "id": "Wp7GOZKj9pqa",
        "outputId": "e0e41db5-f2f3-4e16-a31f-3dfd69a80a46",
        "colab": {
          "base_uri": "https://localhost:8080/",
          "height": 36
        }
      },
      "outputs": [
        {
          "output_type": "execute_result",
          "data": {
            "text/plain": [
              "'bob'"
            ],
            "application/vnd.google.colaboratory.intrinsic+json": {
              "type": "string"
            }
          },
          "metadata": {},
          "execution_count": 3
        }
      ],
      "source": [
        "queens_laundromat.owner_name"
      ]
    },
    {
      "cell_type": "markdown",
      "metadata": {
        "id": "NgmIN9C-9pqb"
      },
      "source": [
        "Now, all seems good.  \n",
        "\n",
        "However, what if we do not like that formatting of `owner_name`.  Perhaps we would like the name to always be capitalized.  \n",
        "\n",
        "Right now, owner name can come back in any format, but it would be nice if there were a way to format how our data was stored.  For example, we might want the owner's name capitalized.  Or the address to include a zip code.  \n",
        "\n",
        "We'll see that we can enforce how our data is stored if we have setting and getting attributes occur through a method."
      ]
    },
    {
      "cell_type": "markdown",
      "metadata": {
        "id": "Fy4XyfnE9pqc"
      },
      "source": [
        "### Introduction to getters and setters"
      ]
    },
    {
      "cell_type": "markdown",
      "metadata": {
        "id": "GVhaAFAM9pqc"
      },
      "source": [
        "Let's see how we can accomplish this."
      ]
    },
    {
      "cell_type": "code",
      "execution_count": 4,
      "metadata": {
        "id": "i2NyKz4h9pqd"
      },
      "outputs": [],
      "source": [
        "class Laundromat:\n",
        "    def __init__(self, owner_name, address):\n",
        "        self.setOwnerName(owner_name)\n",
        "        self._address = address\n",
        "        \n",
        "    def ownerName(self):\n",
        "        return self._owner_name\n",
        "    \n",
        "    def setOwnerName(self, name):\n",
        "        self._owner_name = name.capitalize()"
      ]
    },
    {
      "cell_type": "markdown",
      "metadata": {
        "id": "xprBQuA09pqd"
      },
      "source": [
        "And take a look at what occurs."
      ]
    },
    {
      "cell_type": "code",
      "execution_count": 5,
      "metadata": {
        "id": "g8PmZEWC9pqe"
      },
      "outputs": [],
      "source": [
        "laundromat = Laundromat('bob', '123 queens')"
      ]
    },
    {
      "cell_type": "code",
      "execution_count": 6,
      "metadata": {
        "id": "v8IFGuxe9pqe",
        "outputId": "43b70673-397e-4ff1-fed3-98819e0a02d3",
        "colab": {
          "base_uri": "https://localhost:8080/",
          "height": 36
        }
      },
      "outputs": [
        {
          "output_type": "execute_result",
          "data": {
            "text/plain": [
              "'Bob'"
            ],
            "application/vnd.google.colaboratory.intrinsic+json": {
              "type": "string"
            }
          },
          "metadata": {},
          "execution_count": 6
        }
      ],
      "source": [
        "laundromat.ownerName()"
      ]
    },
    {
      "cell_type": "markdown",
      "metadata": {
        "id": "YJyqMunj9pqe"
      },
      "source": [
        "> So even though we pass through the owner name as lowercased, by setting it through the method, it is always transformed to be uppercased."
      ]
    },
    {
      "cell_type": "markdown",
      "metadata": {
        "id": "Xp_4yCnO9pqf"
      },
      "source": [
        "What we just did - creating methods for setting and retrieving our data is pretty standard throughout programming.  The methods are called `getter` and `setter` methods.\n",
        "\n",
        "A setter method is a method that in charge of setting an attribute on an instance, and a getter method is in charge of retrieving that attribute on an instance."
      ]
    },
    {
      "cell_type": "markdown",
      "metadata": {
        "id": "u8qFAUyx9pqf"
      },
      "source": [
        "### A smoothe interface"
      ]
    },
    {
      "cell_type": "markdown",
      "metadata": {
        "id": "-__TIVtt9pqf"
      },
      "source": [
        "There's just one issue that we may have.  Using our getter and setter methods are more clunky than when we just set the data directly. \n",
        "\n",
        "Here is how we set data using our setter method.\n",
        "\n",
        "```python\n",
        "laundromat.setOwnerName(name)\n",
        "```"
      ]
    },
    {
      "cell_type": "markdown",
      "metadata": {
        "id": "mWQglAfQ9pqf"
      },
      "source": [
        "It's ok, but we'd like to do better."
      ]
    },
    {
      "cell_type": "markdown",
      "metadata": {
        "id": "N6mhZBUr9pqg"
      },
      "source": [
        " We would really like to be able to use the simple interface that we had previously, but still get the benefit of protecting and altering our data with a method.  Ideally we could do something like the following."
      ]
    },
    {
      "cell_type": "markdown",
      "metadata": {
        "id": "Cab1hp_v9pqg"
      },
      "source": [
        "```python\n",
        "laundromat.name = 'bob'`\n",
        "laundromat.name \n",
        "# 'bob'\n",
        "```"
      ]
    },
    {
      "cell_type": "markdown",
      "metadata": {
        "id": "7haDp6PE9pqg"
      },
      "source": [
        "To implement this cleaner interface, we'll start by trying to change our getter method."
      ]
    },
    {
      "cell_type": "code",
      "execution_count": 7,
      "metadata": {
        "id": "1mSmyoU-9pqg"
      },
      "outputs": [],
      "source": [
        "class Laundromat:\n",
        "    def __init__(self, owner_name, address):\n",
        "        self.setOwnerName(owner_name)\n",
        "        self._address = address\n",
        "        \n",
        "    def name(self):\n",
        "        return self._owner_name\n",
        "    \n",
        "    def setOwnerName(self, name):\n",
        "        self._owner_name = name.capitalize()"
      ]
    },
    {
      "cell_type": "code",
      "execution_count": 8,
      "metadata": {
        "id": "VAxJpUmS9pqh"
      },
      "outputs": [],
      "source": [
        "laundromat = Laundromat('bob', '123 queens')"
      ]
    },
    {
      "cell_type": "code",
      "execution_count": 9,
      "metadata": {
        "id": "voRtt0XT9pqh",
        "outputId": "ab73a745-9088-4664-fb83-08edc9c1fc80",
        "colab": {
          "base_uri": "https://localhost:8080/"
        }
      },
      "outputs": [
        {
          "output_type": "execute_result",
          "data": {
            "text/plain": [
              "<bound method Laundromat.name of <__main__.Laundromat object at 0x7f6e248b9ad0>>"
            ]
          },
          "metadata": {},
          "execution_count": 9
        }
      ],
      "source": [
        "laundromat.name"
      ]
    },
    {
      "cell_type": "markdown",
      "metadata": {
        "id": "XhqHsA5o9pqh"
      },
      "source": [
        "Bummer.  That doesn't work.  Calling `laundromat.name` just returns the name method.  We still need to tack on the parentheses to execute the method."
      ]
    },
    {
      "cell_type": "code",
      "execution_count": 10,
      "metadata": {
        "id": "QTZXHf5B9pqh",
        "outputId": "01e3428c-a0a4-4842-8cf9-a4d4bba13100",
        "colab": {
          "base_uri": "https://localhost:8080/",
          "height": 36
        }
      },
      "outputs": [
        {
          "output_type": "execute_result",
          "data": {
            "text/plain": [
              "'Bob'"
            ],
            "application/vnd.google.colaboratory.intrinsic+json": {
              "type": "string"
            }
          },
          "metadata": {},
          "execution_count": 10
        }
      ],
      "source": [
        "laundromat.name()"
      ]
    },
    {
      "cell_type": "markdown",
      "metadata": {
        "id": "DZgWmOQT9pqi"
      },
      "source": [
        "### The property object in action"
      ]
    },
    {
      "cell_type": "markdown",
      "metadata": {
        "id": "NbAYHnkx9pqi"
      },
      "source": [
        "We can fix this by using a Python property object.  \n",
        "\n",
        "\n",
        "The property object is best understood by seeing it in action, so let's go.  First, let's create a property object."
      ]
    },
    {
      "cell_type": "code",
      "execution_count": 11,
      "metadata": {
        "id": "Y_c38Qv59pqi",
        "outputId": "ecd74f2d-943e-4202-84da-b2ef08867a29",
        "colab": {
          "base_uri": "https://localhost:8080/"
        }
      },
      "outputs": [
        {
          "output_type": "execute_result",
          "data": {
            "text/plain": [
              "<property at 0x7f6e248a3770>"
            ]
          },
          "metadata": {},
          "execution_count": 11
        }
      ],
      "source": [
        "property()"
      ]
    },
    {
      "cell_type": "markdown",
      "metadata": {
        "id": "zopb1pFs9pqi"
      },
      "source": [
        "> We create a property object using the built in `property` constructor.\n",
        "\n",
        "In creating this object, we can pass through our getter method as the first argument.  So below we first define our getter method and then we pass it through our `property` constructor in the last following line."
      ]
    },
    {
      "cell_type": "code",
      "execution_count": 12,
      "metadata": {
        "id": "6xeBuhJ39pqi"
      },
      "outputs": [],
      "source": [
        "def get_owner_name(self):\n",
        "    return self._owner_name\n",
        "owner_name_property = property(get_owner_name) "
      ]
    },
    {
      "cell_type": "markdown",
      "metadata": {
        "id": "YY0YXyd59pqj"
      },
      "source": [
        "In doing this, the function `get_owner_name` is now the getter function on this property."
      ]
    },
    {
      "cell_type": "code",
      "execution_count": 13,
      "metadata": {
        "id": "5nCamIH79pqj",
        "outputId": "6c3d2b50-bd67-4c21-ce59-d0afb4b6fa50",
        "colab": {
          "base_uri": "https://localhost:8080/"
        }
      },
      "outputs": [
        {
          "output_type": "execute_result",
          "data": {
            "text/plain": [
              "<function __main__.get_owner_name>"
            ]
          },
          "metadata": {},
          "execution_count": 13
        }
      ],
      "source": [
        "owner_name_property.fget"
      ]
    },
    {
      "cell_type": "markdown",
      "metadata": {
        "id": "a7JmXC6G9pqj"
      },
      "source": [
        "This has nice consequences when used inside of a class, let's see."
      ]
    },
    {
      "cell_type": "code",
      "execution_count": 14,
      "metadata": {
        "id": "ZhSXAWD39pqj"
      },
      "outputs": [],
      "source": [
        "class Laundromat:\n",
        "    def __init__(self, owner_name, address):\n",
        "        self._owner_name = owner_name\n",
        "        self._address = address\n",
        "        \n",
        "    def get_owner_name(self):\n",
        "        return self._owner_name\n",
        "    owner_name = property(get_owner_name)"
      ]
    },
    {
      "cell_type": "code",
      "execution_count": 15,
      "metadata": {
        "id": "lZtSKjQh9pqj"
      },
      "outputs": [],
      "source": [
        "laundromat = Laundromat('bob', '123 queens')"
      ]
    },
    {
      "cell_type": "code",
      "execution_count": 16,
      "metadata": {
        "id": "geS6fTMj9pqk",
        "outputId": "66fbb94a-897c-4464-bc4c-e62d752a8151",
        "colab": {
          "base_uri": "https://localhost:8080/",
          "height": 36
        }
      },
      "outputs": [
        {
          "output_type": "execute_result",
          "data": {
            "text/plain": [
              "'bob'"
            ],
            "application/vnd.google.colaboratory.intrinsic+json": {
              "type": "string"
            }
          },
          "metadata": {},
          "execution_count": 16
        }
      ],
      "source": [
        "laundromat.owner_name"
      ]
    },
    {
      "cell_type": "markdown",
      "metadata": {
        "id": "lwNZTnCI9pqk"
      },
      "source": [
        "Ok, so no more parentheses, yet we still called our `get_owner_name` function! Woohoo!"
      ]
    },
    {
      "cell_type": "markdown",
      "metadata": {
        "id": "VMLLSlGS9pqk"
      },
      "source": [
        "Let's break down how this worked."
      ]
    },
    {
      "cell_type": "markdown",
      "metadata": {
        "id": "1K4ZJ5zn9pqk"
      },
      "source": [
        "So in the last line of the `Laundromat` class, we set the class attribute `owner_name` equal to our property object.  And that property object has the function `get_owner_name` passed through as the getter.  \n",
        "\n",
        "This means that whenever we call `laundromat.owner_name`, this points to our property object, which immediately executes the getter function.  "
      ]
    },
    {
      "cell_type": "markdown",
      "metadata": {
        "id": "FK5PvWA09pqk"
      },
      "source": [
        "### Using the property function for setters"
      ]
    },
    {
      "cell_type": "markdown",
      "metadata": {
        "id": "B1aZomkP9pqk"
      },
      "source": [
        "Now the property function can also be used to ensure that correct setter function is called.  Let's see it.\n",
        "\n",
        "We'll start with creating our property object with our getter, just like last time."
      ]
    },
    {
      "cell_type": "code",
      "execution_count": 17,
      "metadata": {
        "id": "EU_d-yL09pql"
      },
      "outputs": [],
      "source": [
        "def get_owner_name(self):\n",
        "    return self._owner_name\n",
        "owner_name_property = property(get_owner_name) "
      ]
    },
    {
      "cell_type": "markdown",
      "metadata": {
        "id": "7qzu1Qe19pql"
      },
      "source": [
        "Now we have our property object with our `get_owner_name` linked up as our getter."
      ]
    },
    {
      "cell_type": "code",
      "execution_count": 18,
      "metadata": {
        "id": "pDEoIgcx9pql",
        "outputId": "57b809a6-aef9-4c46-d9c7-e6c28aa9927d",
        "colab": {
          "base_uri": "https://localhost:8080/"
        }
      },
      "outputs": [
        {
          "output_type": "execute_result",
          "data": {
            "text/plain": [
              "<function __main__.get_owner_name>"
            ]
          },
          "metadata": {},
          "execution_count": 18
        }
      ],
      "source": [
        "owner_name_property.fget"
      ]
    },
    {
      "cell_type": "markdown",
      "metadata": {
        "id": "ubqv6UrJ9pql"
      },
      "source": [
        "Now we can also link up our property object to a setter with the following.  First we define the setter, `set_owner_name`.  Then we link it up as the `owner_name_property`'s setter with the `.setter` method."
      ]
    },
    {
      "cell_type": "code",
      "execution_count": 19,
      "metadata": {
        "id": "hIfh36am9pql"
      },
      "outputs": [],
      "source": [
        "def set_owner_name(self, owner_name):\n",
        "    self._owner_name = owner_name\n",
        "owner_name_property = owner_name_property.setter(set_owner_name)"
      ]
    },
    {
      "cell_type": "code",
      "execution_count": 20,
      "metadata": {
        "id": "98BwXtMJ9pqm",
        "outputId": "d3ac0e25-cb27-44d4-e107-9de5ddcfd6d0",
        "colab": {
          "base_uri": "https://localhost:8080/"
        }
      },
      "outputs": [
        {
          "output_type": "execute_result",
          "data": {
            "text/plain": [
              "<function __main__.set_owner_name>"
            ]
          },
          "metadata": {},
          "execution_count": 20
        }
      ],
      "source": [
        "owner_name_property.fset"
      ]
    },
    {
      "cell_type": "markdown",
      "metadata": {
        "id": "UAifa67J9pqm"
      },
      "source": [
        "So this is how we link up a function to be a property object's setter.  \n",
        "\n",
        "Once again, let's now see what happens when we move this inside of a class."
      ]
    },
    {
      "cell_type": "code",
      "execution_count": 21,
      "metadata": {
        "id": "P1pY0Sql9pqm"
      },
      "outputs": [],
      "source": [
        "class Laundromat:\n",
        "    def __init__(self, owner_name, address):\n",
        "        self._owner_name = owner_name\n",
        "        self._address = address\n",
        "        \n",
        "    def get_owner_name(self):\n",
        "        return self._owner_name\n",
        "    owner_name = property(get_owner_name)\n",
        "    \n",
        "    def set_owner_name(self, owner_name):\n",
        "        self._owner_name = owner_name.capitalize()\n",
        "    owner_name = owner_name.setter(set_owner_name)"
      ]
    },
    {
      "cell_type": "code",
      "execution_count": 22,
      "metadata": {
        "id": "JpEMir2B9pqm"
      },
      "outputs": [],
      "source": [
        "queens_laundromat = Laundromat('bob', '123 queens')"
      ]
    },
    {
      "cell_type": "code",
      "execution_count": 23,
      "metadata": {
        "id": "ozJXNO2K9pqm",
        "outputId": "ccf2d838-e64a-47a0-c91a-9fd52e3d212e",
        "colab": {
          "base_uri": "https://localhost:8080/",
          "height": 36
        }
      },
      "outputs": [
        {
          "output_type": "execute_result",
          "data": {
            "text/plain": [
              "'bob'"
            ],
            "application/vnd.google.colaboratory.intrinsic+json": {
              "type": "string"
            }
          },
          "metadata": {},
          "execution_count": 23
        }
      ],
      "source": [
        "queens_laundromat.owner_name"
      ]
    },
    {
      "cell_type": "markdown",
      "metadata": {
        "id": "5zFzztjG9pqn"
      },
      "source": [
        "Now let's try updating the value of `owner_name`."
      ]
    },
    {
      "cell_type": "code",
      "execution_count": 24,
      "metadata": {
        "id": "ERgp1UeH9pqn"
      },
      "outputs": [],
      "source": [
        "queens_laundromat.owner_name = 'fred'"
      ]
    },
    {
      "cell_type": "code",
      "execution_count": 25,
      "metadata": {
        "id": "hnIUvLYe9pqn",
        "outputId": "7e659186-7782-43be-a174-8c56ba1db213",
        "colab": {
          "base_uri": "https://localhost:8080/",
          "height": 36
        }
      },
      "outputs": [
        {
          "output_type": "execute_result",
          "data": {
            "text/plain": [
              "'Fred'"
            ],
            "application/vnd.google.colaboratory.intrinsic+json": {
              "type": "string"
            }
          },
          "metadata": {},
          "execution_count": 25
        }
      ],
      "source": [
        "queens_laundromat.owner_name"
      ]
    },
    {
      "cell_type": "markdown",
      "metadata": {
        "id": "ZXILxs_I9pqn"
      },
      "source": [
        "Notice that our owner_name is now capitalized.  This occurs because when we called `queens_laundromat.owner_name = 'fred'`, this referenced our `owner_name` property.  The `owner_name` property has the `set_owner_name` function set up as it's setter.  So this means that whenever the `owner_name = ` is used, whatever is to the right of the equals sign is passed through as an argument to the setter method, `set_owner_name`.  That method takes in the `owner_name` as an argument, capitalizes it and then sets it to the property `_owner_name`.  Then when we call `queens_laundromat.owner_name`, the property of `_owner_name` is returned."
      ]
    },
    {
      "cell_type": "markdown",
      "metadata": {
        "id": "izme5vhW9pqn"
      },
      "source": [
        "### Summary"
      ]
    },
    {
      "cell_type": "markdown",
      "metadata": {
        "id": "fow47gZ59pqo"
      },
      "source": [
        "In this lesson, we learned how to use property objects.  Property objects allow us to wrap our data inside of a method, yet get and set that data as if it were not wrapped inside of a method.  The way that we do this is by linking up a getter function and a setter function to our property object.  \n",
        "\n",
        "We can link up our getter function to the property object simply by passing it through as an argument to the property constructor.\n",
        "```python\n",
        "def getter_function():\n",
        "    pass\n",
        "property_object = property(getter_function)\n",
        "```\n",
        "\n",
        "And we can link up our setter function by calling `.setter` on our property object, and passing through setter function.\n",
        "\n",
        "```python\n",
        "def setter_function():\n",
        "    pass\n",
        "property_object.setter(setter_function)\n",
        "```"
      ]
    }
  ],
  "metadata": {
    "kernelspec": {
      "display_name": "Python 3",
      "language": "python",
      "name": "python3"
    },
    "language_info": {
      "codemirror_mode": {
        "name": "ipython",
        "version": 3
      },
      "file_extension": ".py",
      "mimetype": "text/x-python",
      "name": "python",
      "nbconvert_exporter": "python",
      "pygments_lexer": "ipython3",
      "version": "3.7.4"
    },
    "colab": {
      "name": "index-1.ipynb",
      "provenance": []
    }
  },
  "nbformat": 4,
  "nbformat_minor": 0
}