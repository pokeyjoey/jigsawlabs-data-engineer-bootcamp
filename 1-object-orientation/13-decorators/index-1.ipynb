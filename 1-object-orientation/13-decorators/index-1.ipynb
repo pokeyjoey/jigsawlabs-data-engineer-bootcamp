{
  "cells": [
    {
      "cell_type": "markdown",
      "metadata": {
        "id": "Mqq3IARoAypg"
      },
      "source": [
        "# Object Decorators"
      ]
    },
    {
      "cell_type": "markdown",
      "metadata": {
        "id": "9aBCqzpOAypj"
      },
      "source": [
        "### Introduction"
      ]
    },
    {
      "cell_type": "markdown",
      "metadata": {
        "id": "tuDVbBheAypk"
      },
      "source": [
        "In the last lesson, we saw how we can use the property object to allow us to wrap our data inside of a method, and access the data as if it were not inside of a method.  \n",
        "\n",
        "In this lesson, we'll see how to make the process of using decorators a little less cumbersome with the use of decorators."
      ]
    },
    {
      "cell_type": "markdown",
      "metadata": {
        "id": "AHYTu725Aypl"
      },
      "source": [
        "### Let's Review"
      ]
    },
    {
      "cell_type": "markdown",
      "metadata": {
        "id": "hvWC2yNrAypl"
      },
      "source": [
        "We created a class with property objects with the following."
      ]
    },
    {
      "cell_type": "code",
      "execution_count": 1,
      "metadata": {
        "id": "mc38QlBmAypl"
      },
      "outputs": [],
      "source": [
        "class Laundromat:\n",
        "    def __init__(self, owner_name, address):\n",
        "        self._owner_name = owner_name\n",
        "        self._address = address\n",
        "        \n",
        "    def get_owner_name(self):\n",
        "        return self._owner_name\n",
        "    owner_name = property(get_owner_name)\n",
        "    \n",
        "    def set_owner_name(self, owner_name):\n",
        "        self._owner_name = owner_name.capitalize()\n",
        "    owner_name = owner_name.setter(set_owner_name)"
      ]
    },
    {
      "cell_type": "markdown",
      "metadata": {
        "id": "lwlt3KPnAypn"
      },
      "source": [
        "Writing our code like this allowed us to call our setter or getter methods when calling `.owner_name`.  Let's see this in action."
      ]
    },
    {
      "cell_type": "code",
      "execution_count": 2,
      "metadata": {
        "id": "CreCbbyPAypo"
      },
      "outputs": [],
      "source": [
        "bk_laundromat = Laundromat('bob', '123 brooklyn')"
      ]
    },
    {
      "cell_type": "markdown",
      "metadata": {
        "id": "Xg-JLgHkAypo"
      },
      "source": [
        "Now notice what happens if we assign a new owner to our `bk_laundromat`."
      ]
    },
    {
      "cell_type": "code",
      "execution_count": 3,
      "metadata": {
        "id": "Ak0FtN0NAypp"
      },
      "outputs": [],
      "source": [
        "bk_laundromat.owner_name = 'fred'"
      ]
    },
    {
      "cell_type": "code",
      "execution_count": 4,
      "metadata": {
        "id": "U7b177tbAypp",
        "outputId": "cdbeab2d-ec2a-4ae7-b932-52cbecaa8dd3",
        "colab": {
          "base_uri": "https://localhost:8080/",
          "height": 36
        }
      },
      "outputs": [
        {
          "output_type": "execute_result",
          "data": {
            "text/plain": [
              "'Fred'"
            ],
            "application/vnd.google.colaboratory.intrinsic+json": {
              "type": "string"
            }
          },
          "metadata": {},
          "execution_count": 4
        }
      ],
      "source": [
        "bk_laundromat.owner_name"
      ]
    },
    {
      "cell_type": "markdown",
      "metadata": {
        "id": "3VtksNpxAypq"
      },
      "source": [
        "The name `Fred` is capitalized, because with our properties in our class, by calling `bk_laundromat.owner_name = 'fred'`, we are really calling the `set_owner_name` method and passing through `owner_name` as an argument."
      ]
    },
    {
      "cell_type": "markdown",
      "metadata": {
        "id": "MVTAvNApAypq"
      },
      "source": [
        "### A small refactoring"
      ]
    },
    {
      "cell_type": "markdown",
      "metadata": {
        "id": "xTFH45W1Aypr"
      },
      "source": [
        "One issue with our code like this, is that there are now two different ways to call our setters and getters.  One way is by using our properties, like we see whenever we now call `bk_laundromat.owner_name`.  And the other way is by directly using the setter or getter method like so."
      ]
    },
    {
      "cell_type": "code",
      "execution_count": 5,
      "metadata": {
        "id": "okEXaiDDAypr",
        "outputId": "f63ebce2-d69b-487d-d71e-2eec07b8873f",
        "colab": {
          "base_uri": "https://localhost:8080/",
          "height": 36
        }
      },
      "outputs": [
        {
          "output_type": "execute_result",
          "data": {
            "text/plain": [
              "'Fred'"
            ],
            "application/vnd.google.colaboratory.intrinsic+json": {
              "type": "string"
            }
          },
          "metadata": {},
          "execution_count": 5
        }
      ],
      "source": [
        "bk_laundromat.get_owner_name()"
      ]
    },
    {
      "cell_type": "markdown",
      "metadata": {
        "id": "qqo6p7T9Ayps"
      },
      "source": [
        "We can change our class, so that our setter and getter methods are not directly accessible, like so."
      ]
    },
    {
      "cell_type": "code",
      "execution_count": 6,
      "metadata": {
        "id": "KddG3LCaAyps"
      },
      "outputs": [],
      "source": [
        "class Laundromat:\n",
        "    def __init__(self, owner_name, address):\n",
        "        self._owner_name = owner_name\n",
        "        self._address = address\n",
        "        \n",
        "    def owner_name(self):\n",
        "        return self._owner_name\n",
        "    owner_name = property(owner_name)\n",
        "    \n",
        "    def set_owner_name(self, owner_name):\n",
        "        self._owner_name = owner_name.capitalize()\n",
        "    owner_name = owner_name.setter(set_owner_name)"
      ]
    },
    {
      "cell_type": "code",
      "execution_count": 7,
      "metadata": {
        "id": "JsVZCwKMAyps"
      },
      "outputs": [],
      "source": [
        "laundromat = Laundromat('sally', '456 bk')"
      ]
    },
    {
      "cell_type": "code",
      "execution_count": 8,
      "metadata": {
        "id": "eYv_mjmiAypt",
        "outputId": "3be4f97a-bb16-42fe-da7a-723ecf860f07",
        "colab": {
          "base_uri": "https://localhost:8080/",
          "height": 36
        }
      },
      "outputs": [
        {
          "output_type": "execute_result",
          "data": {
            "text/plain": [
              "'sally'"
            ],
            "application/vnd.google.colaboratory.intrinsic+json": {
              "type": "string"
            }
          },
          "metadata": {},
          "execution_count": 8
        }
      ],
      "source": [
        "laundromat.owner_name"
      ]
    },
    {
      "cell_type": "markdown",
      "metadata": {
        "id": "9vnYupssAypt"
      },
      "source": [
        "Now when we try to call `laundromat.owner_name` as a method we see that it is no longer there."
      ]
    },
    {
      "cell_type": "code",
      "execution_count": 9,
      "metadata": {
        "id": "Gd-OoiU6Aypt",
        "outputId": "84a913e2-1ea3-43c8-eabc-7fe2ef82a56b",
        "colab": {
          "base_uri": "https://localhost:8080/",
          "height": 166
        }
      },
      "outputs": [
        {
          "output_type": "error",
          "ename": "TypeError",
          "evalue": "ignored",
          "traceback": [
            "\u001b[0;31m---------------------------------------------------------------------------\u001b[0m",
            "\u001b[0;31mTypeError\u001b[0m                                 Traceback (most recent call last)",
            "\u001b[0;32m<ipython-input-9-b40a6cf997e9>\u001b[0m in \u001b[0;36m<module>\u001b[0;34m()\u001b[0m\n\u001b[0;32m----> 1\u001b[0;31m \u001b[0mlaundromat\u001b[0m\u001b[0;34m.\u001b[0m\u001b[0mowner_name\u001b[0m\u001b[0;34m(\u001b[0m\u001b[0;34m)\u001b[0m\u001b[0;34m\u001b[0m\u001b[0;34m\u001b[0m\u001b[0m\n\u001b[0m",
            "\u001b[0;31mTypeError\u001b[0m: 'str' object is not callable"
          ]
        }
      ],
      "source": [
        "laundromat.owner_name()"
      ]
    },
    {
      "cell_type": "markdown",
      "metadata": {
        "id": "Ba7pvPzqAypu"
      },
      "source": [
        "The reason why is because the method `owner_name` is overridden by the attribute `owner_name`.  And there can be only one."
      ]
    },
    {
      "cell_type": "code",
      "execution_count": 10,
      "metadata": {
        "id": "96xRPlTKAypu",
        "outputId": "a0008a8e-e6a8-4425-aaf9-d9e64f84cfd3",
        "colab": {
          "base_uri": "https://localhost:8080/"
        }
      },
      "outputs": [
        {
          "output_type": "execute_result",
          "data": {
            "text/plain": [
              "mappingproxy({'__dict__': <attribute '__dict__' of 'Laundromat' objects>,\n",
              "              '__doc__': None,\n",
              "              '__init__': <function __main__.Laundromat.__init__>,\n",
              "              '__module__': '__main__',\n",
              "              '__weakref__': <attribute '__weakref__' of 'Laundromat' objects>,\n",
              "              'owner_name': <property at 0x7ff9197272f0>,\n",
              "              'set_owner_name': <function __main__.Laundromat.set_owner_name>})"
            ]
          },
          "metadata": {},
          "execution_count": 10
        }
      ],
      "source": [
        "Laundromat.__dict__"
      ]
    },
    {
      "cell_type": "markdown",
      "metadata": {
        "id": "kFc7bIHkAypu"
      },
      "source": [
        "Great, so by naming our getter function the same as our property attribute, we have hidden direct access to our getter function."
      ]
    },
    {
      "cell_type": "markdown",
      "metadata": {
        "id": "vrXx7XMMAypv"
      },
      "source": [
        "### Using decorators"
      ]
    },
    {
      "cell_type": "markdown",
      "metadata": {
        "id": "J7H9xoX9Aypv"
      },
      "source": [
        "Ok, now time for a shortcut."
      ]
    },
    {
      "cell_type": "code",
      "execution_count": 11,
      "metadata": {
        "id": "vq2KW3akAypv"
      },
      "outputs": [],
      "source": [
        "class Laundromat:\n",
        "    def __init__(self, owner_name, address):\n",
        "        self._owner_name = owner_name\n",
        "        self._address = address\n",
        "    \n",
        "    @property\n",
        "    def owner_name(self):\n",
        "        return self._owner_name\n",
        "    # owner_name = property(owner_name)"
      ]
    },
    {
      "cell_type": "code",
      "execution_count": 12,
      "metadata": {
        "id": "L2YD_A_XAypv"
      },
      "outputs": [],
      "source": [
        "bk_laundromat = Laundromat('bob', '123 bk')"
      ]
    },
    {
      "cell_type": "code",
      "execution_count": 13,
      "metadata": {
        "id": "D6xhiiAUAypw",
        "outputId": "f51db952-e437-4f7b-bcbf-28d22c4c3ac9",
        "colab": {
          "base_uri": "https://localhost:8080/",
          "height": 36
        }
      },
      "outputs": [
        {
          "output_type": "execute_result",
          "data": {
            "text/plain": [
              "'bob'"
            ],
            "application/vnd.google.colaboratory.intrinsic+json": {
              "type": "string"
            }
          },
          "metadata": {},
          "execution_count": 13
        }
      ],
      "source": [
        "bk_laundromat.owner_name"
      ]
    },
    {
      "cell_type": "markdown",
      "metadata": {
        "id": "XAyUnivOAypw"
      },
      "source": [
        "Ok, so above, we commented out the `owner_name = property(owner_name)` line and replaced it with the word `@property` above our `owner_name` method."
      ]
    },
    {
      "cell_type": "markdown",
      "metadata": {
        "id": "lN1NZgdhAypw"
      },
      "source": [
        "So what the heck is this @ sign above a method?  That is a decorator.  Let's zoom in on our use of a decorator."
      ]
    },
    {
      "cell_type": "markdown",
      "metadata": {
        "id": "Wo1a_i0gAypw"
      },
      "source": [
        "```python\n",
        "@property\n",
        "def owner_name(self):\n",
        "    return self._owner_name\n",
        "```"
      ]
    },
    {
      "cell_type": "markdown",
      "metadata": {
        "id": "nrZHNdSMAypx"
      },
      "source": [
        "This is equivalent to the following.\n",
        "```python\n",
        "owner_name = property(owner_name)\n",
        "```"
      ]
    },
    {
      "cell_type": "markdown",
      "metadata": {
        "id": "QLbtN8-YAypx"
      },
      "source": [
        "So by using a decorator, we are passing through the function `owner_name` as an argument to `property()`, and then assigning the result to `owner_name`."
      ]
    },
    {
      "cell_type": "markdown",
      "metadata": {
        "id": "KxNVgPTcAypx"
      },
      "source": [
        "Let's see another example of using decorators, using a decorator for our setters."
      ]
    },
    {
      "cell_type": "markdown",
      "metadata": {
        "id": "BNtyYoSBAypx"
      },
      "source": [
        "### Using decorators for setters"
      ]
    },
    {
      "cell_type": "markdown",
      "metadata": {
        "id": "8SXhcJN4Aypy"
      },
      "source": [
        "So what we want to do is change our code to link up our setter propertty to use a decorator.  This is what we started with.\n",
        "\n",
        "```python\n",
        "    def set_owner_name(self, owner_name):\n",
        "        self._owner_name = owner_name.capitalize()\n",
        "    owner_name = owner_name.setter(set_owner_name)\n",
        "```"
      ]
    },
    {
      "cell_type": "markdown",
      "metadata": {
        "id": "EKFrOtwhAypy"
      },
      "source": [
        "And using a decorator we rewrite this as the following."
      ]
    },
    {
      "cell_type": "markdown",
      "metadata": {
        "id": "VUPdqBC5Aypy"
      },
      "source": [
        "```python\n",
        "@owner_name.setter\n",
        "def owner_name(self, owner_name):\n",
        "    return self._owner_name\n",
        "```"
      ]
    },
    {
      "cell_type": "markdown",
      "metadata": {
        "id": "YZLdR8FaAypz"
      },
      "source": [
        "Let's think about why this works.  By using a decorator, we are saying to pass through the `owner_name` function into the `owner_name.setter` method and then assign this result to the attributte `owner_name`."
      ]
    },
    {
      "cell_type": "markdown",
      "metadata": {
        "id": "fMzSnn8PAypz"
      },
      "source": [
        "### Putting it all together "
      ]
    },
    {
      "cell_type": "markdown",
      "metadata": {
        "id": "J35v60p0Aypz"
      },
      "source": [
        "So our general pattern for setters is the following: "
      ]
    },
    {
      "cell_type": "markdown",
      "metadata": {
        "id": "Wf8k5dHiAypz"
      },
      "source": [
        "```python\n",
        "@method\n",
        "def function_name(self, owner_name):\n",
        "    return self._owner_name\n",
        "```\n",
        "Translates to \n",
        "\n",
        "```python\n",
        "function_name = method(function_name)\n",
        "```"
      ]
    },
    {
      "cell_type": "markdown",
      "metadata": {
        "id": "iuEc0jjLAypz"
      },
      "source": [
        "Now let's see our class rewritten using properties."
      ]
    },
    {
      "cell_type": "code",
      "execution_count": 14,
      "metadata": {
        "id": "glJBIihmAypz"
      },
      "outputs": [],
      "source": [
        "class Laundromat:\n",
        "    def __init__(self, owner_name, address):\n",
        "        self._owner_name = owner_name\n",
        "        self._address = address\n",
        "    \n",
        "    @property\n",
        "    def owner_name(self):\n",
        "        return self._owner_name\n",
        "    \n",
        "    @owner_name.setter\n",
        "    def owner_name(self, owner_name):\n",
        "        self._owner_name = owner_name.capitalize()"
      ]
    },
    {
      "cell_type": "code",
      "execution_count": 15,
      "metadata": {
        "id": "zLTT8xL4Ayp0"
      },
      "outputs": [],
      "source": [
        "bk_laundromat = Laundromat('susan', '123 bk')"
      ]
    },
    {
      "cell_type": "code",
      "execution_count": 16,
      "metadata": {
        "id": "12SXOQCiAyp0"
      },
      "outputs": [],
      "source": [
        "bk_laundromat.owner_name = 'samira'"
      ]
    },
    {
      "cell_type": "code",
      "execution_count": 17,
      "metadata": {
        "id": "3sP3AiieAyp0",
        "outputId": "0699e87f-dfe1-4c73-abf8-4def35031dd1",
        "colab": {
          "base_uri": "https://localhost:8080/",
          "height": 36
        }
      },
      "outputs": [
        {
          "output_type": "execute_result",
          "data": {
            "text/plain": [
              "'Samira'"
            ],
            "application/vnd.google.colaboratory.intrinsic+json": {
              "type": "string"
            }
          },
          "metadata": {},
          "execution_count": 17
        }
      ],
      "source": [
        "bk_laundromat.owner_name"
      ]
    },
    {
      "cell_type": "markdown",
      "metadata": {
        "id": "-qCcMx4VAyp0"
      },
      "source": [
        "### Summary"
      ]
    },
    {
      "cell_type": "markdown",
      "metadata": {
        "id": "5RSK1C-HAyp0"
      },
      "source": [
        "In this lesson, we saw how to use decorators to clean up the defining of our properties.\n",
        "\n",
        "The general formula is the following:\n",
        "```python\n",
        "@method\n",
        "def function_name(self, owner_name):\n",
        "    return self._owner_name\n",
        "```\n",
        "Translates to\n",
        "```python\n",
        "function_name = method(function_name)\n",
        "````"
      ]
    },
    {
      "cell_type": "markdown",
      "metadata": {
        "id": "m8YEdzsaAyp1"
      },
      "source": [
        "So for our getter method we replace:\n",
        "\n",
        "```python\n",
        "def owner_name(self):\n",
        "    return self._owner_name\n",
        "owner_name = property(owner_name)\n",
        "```\n",
        "\n",
        "with \n",
        "```python\n",
        "@property\n",
        "def owner_name(self):\n",
        "    return self._owner_name\n",
        "```\n",
        "\n",
        "And for our setter we replace:\n",
        "```python\n",
        "def set_owner_name(self, owner_name):\n",
        "    self._owner_name = owner_name.capitalize()\n",
        "owner_name = owner_name.setter(set_owner_name)\n",
        "```\n",
        "\n",
        "with \n",
        "\n",
        "```python\n",
        "@owner_name.setter\n",
        "def owner_name(self, owner_name):\n",
        "    self._owner_name = owner_name.capitalize()\n",
        "```"
      ]
    }
  ],
  "metadata": {
    "kernelspec": {
      "display_name": "Python 3",
      "language": "python",
      "name": "python3"
    },
    "language_info": {
      "codemirror_mode": {
        "name": "ipython",
        "version": 3
      },
      "file_extension": ".py",
      "mimetype": "text/x-python",
      "name": "python",
      "nbconvert_exporter": "python",
      "pygments_lexer": "ipython3",
      "version": "3.7.4"
    },
    "colab": {
      "name": "index-1.ipynb",
      "provenance": []
    }
  },
  "nbformat": 4,
  "nbformat_minor": 0
}