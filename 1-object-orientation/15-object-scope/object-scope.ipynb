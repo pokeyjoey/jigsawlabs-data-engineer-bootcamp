{
  "cells": [
    {
      "cell_type": "markdown",
      "metadata": {
        "id": "fBF5Fzch95Vq"
      },
      "source": [
        "# Object Scope"
      ]
    },
    {
      "cell_type": "markdown",
      "metadata": {
        "id": "dpOpRr_C95Vu"
      },
      "source": [
        "### Introduction\n",
        "\n",
        "Now that we are working with objects, we have different ways to both store and access our data.  We'll explore that in this lesson."
      ]
    },
    {
      "cell_type": "markdown",
      "metadata": {
        "id": "oxM9FSMA95Vv"
      },
      "source": [
        "### Local scope and Object Scope"
      ]
    },
    {
      "cell_type": "markdown",
      "metadata": {
        "id": "18lQ69JN95Vv"
      },
      "source": [
        "Before working with objects, we really just have two differnet kinds of scope: local scope, and global scope."
      ]
    },
    {
      "cell_type": "code",
      "execution_count": 1,
      "metadata": {
        "id": "CjpE1PM595Vw"
      },
      "outputs": [],
      "source": [
        "global_greeting = 'hello global world'\n",
        "\n",
        "def say_greeting():\n",
        "    local_greeting = 'hello local function'"
      ]
    },
    {
      "cell_type": "markdown",
      "metadata": {
        "id": "pRUvj2UB95Vx"
      },
      "source": [
        "As we know, we can access our global variables throughout our module (python file), whereas local variables we can only access from inside the function.  "
      ]
    },
    {
      "cell_type": "code",
      "execution_count": 2,
      "metadata": {
        "id": "1Ioe7lQj95Vx",
        "outputId": "8042896f-61c0-4bbd-f373-749bab1c0e44",
        "colab": {
          "base_uri": "https://localhost:8080/",
          "height": 36
        }
      },
      "outputs": [
        {
          "output_type": "execute_result",
          "data": {
            "text/plain": [
              "'hello global world'"
            ],
            "application/vnd.google.colaboratory.intrinsic+json": {
              "type": "string"
            }
          },
          "metadata": {},
          "execution_count": 2
        }
      ],
      "source": [
        "global_greeting"
      ]
    },
    {
      "cell_type": "code",
      "execution_count": 3,
      "metadata": {
        "id": "5l-u_hBH95Vz",
        "outputId": "26f09342-b445-47b7-e571-f6c71b825449",
        "colab": {
          "base_uri": "https://localhost:8080/",
          "height": 166
        }
      },
      "outputs": [
        {
          "output_type": "error",
          "ename": "NameError",
          "evalue": "ignored",
          "traceback": [
            "\u001b[0;31m---------------------------------------------------------------------------\u001b[0m",
            "\u001b[0;31mNameError\u001b[0m                                 Traceback (most recent call last)",
            "\u001b[0;32m<ipython-input-3-209a2096fb29>\u001b[0m in \u001b[0;36m<module>\u001b[0;34m()\u001b[0m\n\u001b[0;32m----> 1\u001b[0;31m \u001b[0mlocal_greeting\u001b[0m\u001b[0;34m\u001b[0m\u001b[0;34m\u001b[0m\u001b[0m\n\u001b[0m",
            "\u001b[0;31mNameError\u001b[0m: name 'local_greeting' is not defined"
          ]
        }
      ],
      "source": [
        "local_greeting"
      ]
    },
    {
      "cell_type": "markdown",
      "metadata": {
        "id": "_vpRFf8695Vz"
      },
      "source": [
        "To access our local variables, we need to throw our variable over the walls of the function with a `return` statement. "
      ]
    },
    {
      "cell_type": "code",
      "execution_count": 4,
      "metadata": {
        "id": "NlzSJO2b95V0",
        "outputId": "7deb27ba-b0b6-4856-c6f1-050082306ced",
        "colab": {
          "base_uri": "https://localhost:8080/",
          "height": 36
        }
      },
      "outputs": [
        {
          "output_type": "execute_result",
          "data": {
            "text/plain": [
              "'hello local function'"
            ],
            "application/vnd.google.colaboratory.intrinsic+json": {
              "type": "string"
            }
          },
          "metadata": {},
          "execution_count": 4
        }
      ],
      "source": [
        "def say_greeting():\n",
        "    local_greeting = 'hello local function'\n",
        "    return local_greeting\n",
        "\n",
        "say_greeting()"
      ]
    },
    {
      "cell_type": "markdown",
      "metadata": {
        "id": "83r8M_nQ95V1"
      },
      "source": [
        "### Instance Scope (Object Level Scope)"
      ]
    },
    {
      "cell_type": "markdown",
      "metadata": {
        "id": "SQPSBIew95V1"
      },
      "source": [
        "Now that we have working with objects, we have a new level of scope.  These are attributes that are available throughout our object.\n",
        "\n",
        "Unlike before, we can store our data not through declaring a variable (whether local or global), but by adding an attribute to the instance."
      ]
    },
    {
      "cell_type": "code",
      "execution_count": 5,
      "metadata": {
        "id": "maBgTYZp95V2"
      },
      "outputs": [],
      "source": [
        "class Person():\n",
        "    def __init__(self, name):\n",
        "        self.name = name\n",
        "\n",
        "    def say_greeting(self):\n",
        "        return f'hello my name is {self.name}'"
      ]
    },
    {
      "cell_type": "code",
      "execution_count": 6,
      "metadata": {
        "id": "yRaIT7t195V2",
        "outputId": "24b9e8d7-0dc5-46a8-dfb8-7066b6d4e199",
        "colab": {
          "base_uri": "https://localhost:8080/",
          "height": 36
        }
      },
      "outputs": [
        {
          "output_type": "execute_result",
          "data": {
            "text/plain": [
              "'hello my name is bob smith'"
            ],
            "application/vnd.google.colaboratory.intrinsic+json": {
              "type": "string"
            }
          },
          "metadata": {},
          "execution_count": 6
        }
      ],
      "source": [
        "bob = Person('bob smith')\n",
        "\n",
        "bob.say_greeting()"
      ]
    },
    {
      "cell_type": "markdown",
      "metadata": {
        "id": "y3Txe-o495V2"
      },
      "source": [
        "So above, in the `init` function, we store the `name` attribute on the object, and we then access that attribute in a different function.  The attribute is stored on the instance."
      ]
    },
    {
      "cell_type": "code",
      "execution_count": 7,
      "metadata": {
        "id": "_qJdSLmk95V3",
        "outputId": "f95a52ad-b60e-452b-a720-d144dce2a4dd",
        "colab": {
          "base_uri": "https://localhost:8080/",
          "height": 36
        }
      },
      "outputs": [
        {
          "output_type": "execute_result",
          "data": {
            "text/plain": [
              "'bob smith'"
            ],
            "application/vnd.google.colaboratory.intrinsic+json": {
              "type": "string"
            }
          },
          "metadata": {},
          "execution_count": 7
        }
      ],
      "source": [
        "bob.name"
      ]
    },
    {
      "cell_type": "markdown",
      "metadata": {
        "id": "T1XjNPPu95V3"
      },
      "source": [
        "So now when storing our data, it's important to think about whether we will need that data throughout the instance or just during the life of a function."
      ]
    },
    {
      "cell_type": "markdown",
      "metadata": {
        "id": "g2Bs3hn195V4"
      },
      "source": [
        "For example, below in the `say_greeting` function, we declare a local variable `greeting` that is only available in that object.  This makes sense, as it is the only place that we would need the greeting.  It's not really something we need to access throughout an instance."
      ]
    },
    {
      "cell_type": "code",
      "execution_count": 8,
      "metadata": {
        "id": "pQOS7Yu795V4"
      },
      "outputs": [],
      "source": [
        "class Person():\n",
        "    def __init__(self, name):\n",
        "        self.name = name # instance scope\n",
        "\n",
        "    def say_greeting(self):\n",
        "        greeting = 'hello my name is' # local scope\n",
        "        return f'{greeting} {self.name}'"
      ]
    },
    {
      "cell_type": "markdown",
      "metadata": {
        "id": "UJX_0lvR95V4"
      },
      "source": [
        "### Making data accessible"
      ]
    },
    {
      "cell_type": "markdown",
      "metadata": {
        "id": "9oysc-sK95V5"
      },
      "source": [
        "Notice also that with instances, we now have two different ways to make our data accessible outside of a function.\n",
        "\n",
        "One is by storing the data as an attribute."
      ]
    },
    {
      "cell_type": "code",
      "execution_count": 9,
      "metadata": {
        "id": "X3mMtNaB95V5",
        "outputId": "127cee79-a3d5-42d6-fc06-be83ca139264",
        "colab": {
          "base_uri": "https://localhost:8080/"
        }
      },
      "outputs": [
        {
          "output_type": "execute_result",
          "data": {
            "text/plain": [
              "{'name': 'bob smith'}"
            ]
          },
          "metadata": {},
          "execution_count": 9
        }
      ],
      "source": [
        "bob = Person('bob smith')\n",
        "bob.__dict__"
      ]
    },
    {
      "cell_type": "code",
      "execution_count": 10,
      "metadata": {
        "id": "4scN2R2S95V6",
        "outputId": "25d7b8f5-6358-4940-d920-ec7e60e6c914",
        "colab": {
          "base_uri": "https://localhost:8080/",
          "height": 36
        }
      },
      "outputs": [
        {
          "output_type": "execute_result",
          "data": {
            "text/plain": [
              "'bob smith'"
            ],
            "application/vnd.google.colaboratory.intrinsic+json": {
              "type": "string"
            }
          },
          "metadata": {},
          "execution_count": 10
        }
      ],
      "source": [
        "bob.name"
      ]
    },
    {
      "cell_type": "markdown",
      "metadata": {
        "id": "cVnIQj1N95V6"
      },
      "source": [
        "And the other is by returing the value from a function.  For example, with `say_name` we do not store the greeting on the instance, but rather make it accessible by throwing it over the walls of the function."
      ]
    },
    {
      "cell_type": "code",
      "execution_count": 11,
      "metadata": {
        "id": "TTMuOJft95V6",
        "outputId": "b13c4383-91b9-4f7f-fd11-5af18d070645",
        "colab": {
          "base_uri": "https://localhost:8080/",
          "height": 36
        }
      },
      "outputs": [
        {
          "output_type": "execute_result",
          "data": {
            "text/plain": [
              "'hello my name is bob smith'"
            ],
            "application/vnd.google.colaboratory.intrinsic+json": {
              "type": "string"
            }
          },
          "metadata": {},
          "execution_count": 11
        }
      ],
      "source": [
        "bob.say_greeting()"
      ]
    },
    {
      "cell_type": "markdown",
      "metadata": {
        "id": "0JVgHs7E95V7"
      },
      "source": [
        "Which we choose really depends on whether we think the value should be a property of the object, and that we should *change* the object by calling the function..or if we only need the value when we call the function, and so should simply return the value from the function."
      ]
    },
    {
      "cell_type": "markdown",
      "metadata": {
        "id": "qmGeSIX_95V7"
      },
      "source": [
        "### Summary\n",
        "\n",
        "In this lesson, we went into a more in depth understanding of scope."
      ]
    },
    {
      "cell_type": "code",
      "execution_count": 12,
      "metadata": {
        "id": "B7IYI0X595V7"
      },
      "outputs": [],
      "source": [
        "class Person():\n",
        "    def __init__(self, name):\n",
        "        self.name = name # instance scope\n",
        "\n",
        "    def say_greeting(self):\n",
        "        greeting = 'hello my name is' # local scope\n",
        "        return f'{greeting} {self.name}'"
      ]
    },
    {
      "cell_type": "markdown",
      "metadata": {
        "id": "bJgpqlcW95V7"
      },
      "source": [
        "As we saw, we can now make our variables local to a function, global, or store an attribute on an instance so that it is accessible anywhere on the instance.  Which we choose, depends on how we anticipate using the data.  \n",
        "\n",
        "If it's an attribute that seems to belong to the object, we can store it on the instance.  Whereas if it is something we only need in the context of a specific function then we can use a local variable, and make the contents of a function available by returning the value."
      ]
    }
  ],
  "metadata": {
    "kernelspec": {
      "display_name": "Python 3.9.10 64-bit",
      "language": "python",
      "name": "python3"
    },
    "language_info": {
      "codemirror_mode": {
        "name": "ipython",
        "version": 3
      },
      "file_extension": ".py",
      "mimetype": "text/x-python",
      "name": "python",
      "nbconvert_exporter": "python",
      "pygments_lexer": "ipython3",
      "version": "3.9.10"
    },
    "orig_nbformat": 4,
    "vscode": {
      "interpreter": {
        "hash": "aee8b7b246df8f9039afb4144a1f6fd8d2ca17a180786b69acc140d282b71a49"
      }
    },
    "colab": {
      "name": "object-scope.ipynb",
      "provenance": []
    }
  },
  "nbformat": 4,
  "nbformat_minor": 0
}