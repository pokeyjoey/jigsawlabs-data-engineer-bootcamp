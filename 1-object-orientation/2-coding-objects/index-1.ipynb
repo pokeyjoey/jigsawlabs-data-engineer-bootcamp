{
  "cells": [
    {
      "cell_type": "markdown",
      "metadata": {
        "id": "qeXOBg1PNcoj"
      },
      "source": [
        "# Coding Objects"
      ]
    },
    {
      "cell_type": "markdown",
      "metadata": {
        "id": "LwY8qigHNcom"
      },
      "source": [
        "### Introduction"
      ]
    },
    {
      "cell_type": "markdown",
      "metadata": {
        "id": "GwsxowhANcon"
      },
      "source": [
        "In the last lessons, we explored some of the benefits that objects apparently bring. Here, let's see them in action."
      ]
    },
    {
      "cell_type": "markdown",
      "metadata": {
        "id": "QdaNhbusNcon"
      },
      "source": [
        "### Creating our first object"
      ]
    },
    {
      "cell_type": "markdown",
      "metadata": {
        "id": "LmT-ohKFNcoo"
      },
      "source": [
        "Steve Jobs tells us that objects are like people, so let's make one."
      ]
    },
    {
      "cell_type": "code",
      "execution_count": 1,
      "metadata": {
        "id": "Dv7Qu-gJNcoo"
      },
      "outputs": [],
      "source": [
        "class Person:\n",
        "    pass"
      ]
    },
    {
      "cell_type": "code",
      "execution_count": 2,
      "metadata": {
        "id": "rJI8JzPXNcoq",
        "outputId": "61e9108a-8268-4721-813e-f4675dd7b0da",
        "colab": {
          "base_uri": "https://localhost:8080/"
        }
      },
      "outputs": [
        {
          "output_type": "execute_result",
          "data": {
            "text/plain": [
              "<__main__.Person at 0x7fe78b039890>"
            ]
          },
          "metadata": {},
          "execution_count": 2
        }
      ],
      "source": [
        "Person()"
      ]
    },
    {
      "cell_type": "markdown",
      "metadata": {
        "id": "8_86UEMhNcor"
      },
      "source": [
        "We create an object in two steps.\n",
        "\n",
        "1. Define a `class`, whatever that means.  \n",
        "2. Then create an instance of that class."
      ]
    },
    {
      "cell_type": "markdown",
      "metadata": {
        "id": "5sKMo-KyNcor"
      },
      "source": [
        "Notice that these are the same steps that we have with functions.  First we define them, and then we use them.  Let's dig into these steps in turn."
      ]
    },
    {
      "cell_type": "markdown",
      "metadata": {
        "id": "r2WFLMrRNcos"
      },
      "source": [
        "### 1. Defining a class"
      ]
    },
    {
      "cell_type": "markdown",
      "metadata": {
        "id": "7YpTWGflNcot"
      },
      "source": [
        "This is our code for defining a class."
      ]
    },
    {
      "cell_type": "markdown",
      "metadata": {
        "id": "zDYr548_Ncot"
      },
      "source": [
        "```python\n",
        "class Person:\n",
        "    pass\n",
        "```"
      ]
    },
    {
      "cell_type": "markdown",
      "metadata": {
        "id": "IMrKgJGWNcot"
      },
      "source": [
        "We can create a new class with the keyword `class` followed by the name of the class that we are creating, here `Person`. Then we end the line with a colon.  \n",
        "\n",
        "> That word `pass`, is only required when we have nothing inside of our class."
      ]
    },
    {
      "cell_type": "markdown",
      "metadata": {
        "id": "7Ys3-RddNcou"
      },
      "source": [
        "### 2. Creating an Instance"
      ]
    },
    {
      "cell_type": "markdown",
      "metadata": {
        "id": "EmgqAHdCNcou"
      },
      "source": [
        "Once we have created a class, we then create *an instance of that class*.  We create an instance of our class, simply by typing the name of our class followed by parentheses."
      ]
    },
    {
      "cell_type": "code",
      "execution_count": 3,
      "metadata": {
        "id": "anBRuHTBNcou",
        "outputId": "a0e9c7b2-ca4b-4090-ed40-dbf33aac8cf7",
        "colab": {
          "base_uri": "https://localhost:8080/"
        }
      },
      "outputs": [
        {
          "output_type": "execute_result",
          "data": {
            "text/plain": [
              "<__main__.Person at 0x7fe78546fa10>"
            ]
          },
          "metadata": {},
          "execution_count": 3
        }
      ],
      "source": [
        "Person()"
      ]
    },
    {
      "cell_type": "markdown",
      "metadata": {
        "id": "gCqbX7ZUNcov"
      },
      "source": [
        "### 3. Do it solo"
      ]
    },
    {
      "cell_type": "markdown",
      "metadata": {
        "id": "ERtTQ6FtNcov"
      },
      "source": [
        "Now try creating your own class.  Define a `Dog` class, and then create an instance of a Dog.  "
      ]
    },
    {
      "cell_type": "code",
      "execution_count": 5,
      "metadata": {
        "id": "dAE08JChNcov"
      },
      "outputs": [],
      "source": [
        "class dog:\n",
        "  pass"
      ]
    },
    {
      "cell_type": "code",
      "source": [
        "fido = dog()"
      ],
      "metadata": {
        "id": "CCJ9tEigNrFA"
      },
      "execution_count": 7,
      "outputs": []
    },
    {
      "cell_type": "markdown",
      "metadata": {
        "id": "KKmiFj7xNcov"
      },
      "source": [
        "### Summary"
      ]
    },
    {
      "cell_type": "markdown",
      "metadata": {
        "id": "iR1ow0nRNcow"
      },
      "source": [
        "In this lesson, we learned how to instantiate objects.  Doing so involves two steps.  First, we need to define a class.\n",
        "\n",
        "```python\n",
        "class Person:\n",
        "    pass\n",
        "```\n",
        "\n",
        "Once we define a class, then create an instance of this class, simply by typing the name of the class followed by parentheses.\n",
        "\n",
        "```python\n",
        "homer = Person()\n",
        "```"
      ]
    }
  ],
  "metadata": {
    "kernelspec": {
      "display_name": "Python 3",
      "language": "python",
      "name": "python3"
    },
    "language_info": {
      "codemirror_mode": {
        "name": "ipython",
        "version": 3
      },
      "file_extension": ".py",
      "mimetype": "text/x-python",
      "name": "python",
      "nbconvert_exporter": "python",
      "pygments_lexer": "ipython3",
      "version": "3.8.3"
    },
    "colab": {
      "name": "index-1.ipynb",
      "provenance": []
    }
  },
  "nbformat": 4,
  "nbformat_minor": 0
}