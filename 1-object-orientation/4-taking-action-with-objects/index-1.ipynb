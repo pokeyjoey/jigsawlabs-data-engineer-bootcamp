{
  "cells": [
    {
      "cell_type": "markdown",
      "metadata": {
        "id": "NB3VseHePgeW"
      },
      "source": [
        "# Taking Action with Objects"
      ]
    },
    {
      "cell_type": "markdown",
      "metadata": {
        "id": "eRlFs4okPgec"
      },
      "source": [
        "### Introduction"
      ]
    },
    {
      "cell_type": "markdown",
      "metadata": {
        "id": "rpODFzXtPgec"
      },
      "source": [
        "In the last lesson we saw how to instantiate objects, and add some attributes to our objects. However let's take another look at part of our Steve Jobs quote.\n",
        "\n",
        "> Steve Jobs: Here’s an example: If I’m your laundry object, you can give me your dirty clothes and send me a message that says, “Can you get my clothes laundered, please.” \n",
        "\n",
        "According to Steve Jobs, our objects should not only hold data but also be able to take some action.  Let's give our objects this capability in this lesson."
      ]
    },
    {
      "cell_type": "markdown",
      "metadata": {
        "id": "TWTIGsETPged"
      },
      "source": [
        "### Building Object Attributes"
      ]
    },
    {
      "cell_type": "markdown",
      "metadata": {
        "id": "iL2WebS_Pged"
      },
      "source": [
        "We can start by defining a laundromat class."
      ]
    },
    {
      "cell_type": "code",
      "execution_count": 1,
      "metadata": {
        "id": "cjd-Fz5dPgee"
      },
      "outputs": [],
      "source": [
        "class Laundromat:\n",
        "    pass"
      ]
    },
    {
      "cell_type": "markdown",
      "metadata": {
        "id": "EaeN6NIEPgef"
      },
      "source": [
        "Next let's create an instance of a `Laundromat`."
      ]
    },
    {
      "cell_type": "code",
      "execution_count": 2,
      "metadata": {
        "id": "ff2S4G_PPgeg",
        "outputId": "7611a3ce-28bb-42df-c81a-b2cb0732a06d",
        "colab": {
          "base_uri": "https://localhost:8080/"
        }
      },
      "outputs": [
        {
          "output_type": "execute_result",
          "data": {
            "text/plain": [
              "<__main__.Laundromat at 0x7f60f7016150>"
            ]
          },
          "metadata": {},
          "execution_count": 2
        }
      ],
      "source": [
        "manhattan_laundromat = Laundromat()\n",
        "manhattan_laundromat"
      ]
    },
    {
      "cell_type": "markdown",
      "metadata": {
        "id": "hlWQ_d-bPgeh"
      },
      "source": [
        "But of course our laundromat doesn't do too much.  So let's give our laundromat's the ability to open the laundromat, and close the laundromat.  Now we want this capability on all of our laundromat's so to do so, we need to define this on our class."
      ]
    },
    {
      "cell_type": "code",
      "execution_count": 3,
      "metadata": {
        "id": "jIKkcm99Pgei"
      },
      "outputs": [],
      "source": [
        "class Laundromat:\n",
        "    def openUp(self):\n",
        "        return 'Welcome, come in.'\n",
        "    \n",
        "    def closeUp(self):\n",
        "        return 'Ok, you can all go home now.'"
      ]
    },
    {
      "cell_type": "markdown",
      "metadata": {
        "id": "7z2GH3_XPgei"
      },
      "source": [
        "So what we just did is add two different methods to our `Laundromat` class.  Each of these methods takes a keyword argument of `self`, which we will explain later.  Let's see what we accomplished by adding these methods."
      ]
    },
    {
      "cell_type": "code",
      "execution_count": 4,
      "metadata": {
        "id": "ZoUc7APRPgej"
      },
      "outputs": [],
      "source": [
        "queens_laundromat = Laundromat()"
      ]
    },
    {
      "cell_type": "code",
      "execution_count": 5,
      "metadata": {
        "id": "CfDE9B8bPgej",
        "outputId": "082c7b65-2d9b-4767-f2a4-df0511acea47",
        "colab": {
          "base_uri": "https://localhost:8080/",
          "height": 36
        }
      },
      "outputs": [
        {
          "output_type": "execute_result",
          "data": {
            "text/plain": [
              "'Welcome, come in.'"
            ],
            "application/vnd.google.colaboratory.intrinsic+json": {
              "type": "string"
            }
          },
          "metadata": {},
          "execution_count": 5
        }
      ],
      "source": [
        "queens_laundromat.openUp()"
      ]
    },
    {
      "cell_type": "code",
      "execution_count": 6,
      "metadata": {
        "id": "6f2ym6r4Pgek",
        "outputId": "1855defd-cb11-46b8-c18c-26274d97b6ad",
        "colab": {
          "base_uri": "https://localhost:8080/",
          "height": 36
        }
      },
      "outputs": [
        {
          "output_type": "execute_result",
          "data": {
            "text/plain": [
              "'Ok, you can all go home now.'"
            ],
            "application/vnd.google.colaboratory.intrinsic+json": {
              "type": "string"
            }
          },
          "metadata": {},
          "execution_count": 6
        }
      ],
      "source": [
        "queens_laundromat.closeUp()"
      ]
    },
    {
      "cell_type": "markdown",
      "metadata": {
        "id": "Bm5Zy1jzPgek"
      },
      "source": [
        "So each object that we instantiate from the `Laundromat` class immediately has each of the methods defined inside that class.  \n",
        "\n",
        "Notice, however, that we cannot call these methods ourside of our class."
      ]
    },
    {
      "cell_type": "code",
      "execution_count": 7,
      "metadata": {
        "id": "iP41cUlFPgek",
        "outputId": "1eb8d0d8-fb40-4405-d1a7-f1a6a5b00998",
        "colab": {
          "base_uri": "https://localhost:8080/",
          "height": 166
        }
      },
      "outputs": [
        {
          "output_type": "error",
          "ename": "NameError",
          "evalue": "ignored",
          "traceback": [
            "\u001b[0;31m---------------------------------------------------------------------------\u001b[0m",
            "\u001b[0;31mNameError\u001b[0m                                 Traceback (most recent call last)",
            "\u001b[0;32m<ipython-input-7-d231fbe43a52>\u001b[0m in \u001b[0;36m<module>\u001b[0;34m()\u001b[0m\n\u001b[0;32m----> 1\u001b[0;31m \u001b[0mopenUp\u001b[0m\u001b[0;34m(\u001b[0m\u001b[0;34m)\u001b[0m\u001b[0;34m\u001b[0m\u001b[0;34m\u001b[0m\u001b[0m\n\u001b[0m",
            "\u001b[0;31mNameError\u001b[0m: name 'openUp' is not defined"
          ]
        }
      ],
      "source": [
        "openUp()"
      ]
    },
    {
      "cell_type": "markdown",
      "metadata": {
        "id": "h-nBRLjIPgel"
      },
      "source": [
        "We can only call these methods on objects instantiated by the Laundromat class."
      ]
    },
    {
      "cell_type": "markdown",
      "metadata": {
        "id": "maR8x5s1Pgel"
      },
      "source": [
        "### Making objects take action"
      ]
    },
    {
      "cell_type": "markdown",
      "metadata": {
        "id": "pgm8JybHPgel"
      },
      "source": [
        "Define a class named `Washer` that has two methods.  The first is called `start` and a return value of `whirl whirl`, the second is `pause` and has a return value of `bing`."
      ]
    },
    {
      "cell_type": "code",
      "execution_count": 8,
      "metadata": {
        "id": "y_wfRWU2Pgem"
      },
      "outputs": [],
      "source": [
        "class Washer:\n",
        "  def start(self):\n",
        "    return \"whirl whirl\"\n",
        "\n",
        "  def pause(self):\n",
        "    return \"bing\""
      ]
    },
    {
      "cell_type": "code",
      "execution_count": 9,
      "metadata": {
        "id": "ynqns-3YPgem"
      },
      "outputs": [],
      "source": [
        "washer = Washer()"
      ]
    },
    {
      "cell_type": "code",
      "execution_count": 10,
      "metadata": {
        "id": "E9vouqutPgem",
        "outputId": "e34452a6-17bd-488a-ecf2-e1990822e562",
        "colab": {
          "base_uri": "https://localhost:8080/",
          "height": 36
        }
      },
      "outputs": [
        {
          "output_type": "execute_result",
          "data": {
            "text/plain": [
              "'whirl whirl'"
            ],
            "application/vnd.google.colaboratory.intrinsic+json": {
              "type": "string"
            }
          },
          "metadata": {},
          "execution_count": 10
        }
      ],
      "source": [
        "washer.start()\n",
        "# 'whirl whirl'"
      ]
    },
    {
      "cell_type": "code",
      "execution_count": 12,
      "metadata": {
        "id": "sbQShbG1Pgem",
        "outputId": "54a58d71-64c9-4f48-f4b8-eb101e9440b9",
        "colab": {
          "base_uri": "https://localhost:8080/",
          "height": 36
        }
      },
      "outputs": [
        {
          "output_type": "execute_result",
          "data": {
            "text/plain": [
              "'bing'"
            ],
            "application/vnd.google.colaboratory.intrinsic+json": {
              "type": "string"
            }
          },
          "metadata": {},
          "execution_count": 12
        }
      ],
      "source": [
        "washer.pause()\n",
        "# 'bing'"
      ]
    },
    {
      "cell_type": "markdown",
      "metadata": {
        "id": "hvGQTXXrPgen"
      },
      "source": [
        "## Unique Data, Shared Functionality"
      ]
    },
    {
      "cell_type": "markdown",
      "metadata": {
        "id": "53SK0qxEPgen"
      },
      "source": [
        "Ok, let's take another look at our new laundromat class and create a couple of new laundromats.  "
      ]
    },
    {
      "cell_type": "code",
      "execution_count": 13,
      "metadata": {
        "id": "slI5sArUPgen"
      },
      "outputs": [],
      "source": [
        "class Laundromat:\n",
        "    def openUp(self):\n",
        "        return 'Welcome, come in.'\n",
        "    \n",
        "    def closeUp(self):\n",
        "        return 'Ok, you can all go home now.'"
      ]
    },
    {
      "cell_type": "code",
      "execution_count": 14,
      "metadata": {
        "id": "agYXvY6dPgen"
      },
      "outputs": [],
      "source": [
        "bk_laundromat = Laundromat()"
      ]
    },
    {
      "cell_type": "markdown",
      "metadata": {
        "id": "tuIS1pfBPgeo"
      },
      "source": [
        "Now this is a laundromat from brooklyn, so let's set it's location as such.  "
      ]
    },
    {
      "cell_type": "code",
      "execution_count": 15,
      "metadata": {
        "id": "E-pdeT2bPgeo"
      },
      "outputs": [],
      "source": [
        "bk_laundromat.location = 'brooklyn'"
      ]
    },
    {
      "cell_type": "markdown",
      "metadata": {
        "id": "0mMzPy7VPgeo"
      },
      "source": [
        "And let's create and set the location of our `queens_laundromat`."
      ]
    },
    {
      "cell_type": "code",
      "execution_count": 16,
      "metadata": {
        "id": "eAajOaGPPgeo"
      },
      "outputs": [],
      "source": [
        "queens_laundromat = Laundromat()\n",
        "queens_laundromat.location = 'queens'"
      ]
    },
    {
      "cell_type": "markdown",
      "metadata": {
        "id": "ONJqxyKWPgeo"
      },
      "source": [
        "So now notice that each of these objects contain their own unique `data`."
      ]
    },
    {
      "cell_type": "code",
      "execution_count": 17,
      "metadata": {
        "id": "7mPD2-KyPgeo",
        "outputId": "19898986-b59e-4e8f-920e-980effce7409",
        "colab": {
          "base_uri": "https://localhost:8080/"
        }
      },
      "outputs": [
        {
          "output_type": "execute_result",
          "data": {
            "text/plain": [
              "{'location': 'queens'}"
            ]
          },
          "metadata": {},
          "execution_count": 17
        }
      ],
      "source": [
        "queens_laundromat.__dict__"
      ]
    },
    {
      "cell_type": "code",
      "execution_count": 18,
      "metadata": {
        "id": "04bN6FVlPgep",
        "outputId": "a6836ea7-6905-4db2-efb3-be5ac7ac3281",
        "colab": {
          "base_uri": "https://localhost:8080/"
        }
      },
      "outputs": [
        {
          "output_type": "execute_result",
          "data": {
            "text/plain": [
              "{'location': 'brooklyn'}"
            ]
          },
          "metadata": {},
          "execution_count": 18
        }
      ],
      "source": [
        "bk_laundromat.__dict__"
      ]
    },
    {
      "cell_type": "markdown",
      "metadata": {
        "id": "4DROwZeUPgep"
      },
      "source": [
        "But they share the methods."
      ]
    },
    {
      "cell_type": "code",
      "execution_count": 19,
      "metadata": {
        "id": "wBa07nA6Pgep",
        "outputId": "0cc192f2-1c3d-4374-8b75-ede0576ea3a1",
        "colab": {
          "base_uri": "https://localhost:8080/",
          "height": 36
        }
      },
      "outputs": [
        {
          "output_type": "execute_result",
          "data": {
            "text/plain": [
              "'Ok, you can all go home now.'"
            ],
            "application/vnd.google.colaboratory.intrinsic+json": {
              "type": "string"
            }
          },
          "metadata": {},
          "execution_count": 19
        }
      ],
      "source": [
        "bk_laundromat.closeUp()\n",
        "# \"Ok, you can all go home now.\"\n",
        "queens_laundromat.closeUp()\n",
        "# \"Ok, you can all go home now.\""
      ]
    },
    {
      "cell_type": "markdown",
      "metadata": {
        "id": "WnrnwaX1Pgep"
      },
      "source": [
        "It would of course be nice if we could reference our data in these methods, so that when we open up the queens laundromat we say, `\"Welcome to the best laundromat in Queens\"` and for the brooklyn laundromat we say `\"Welcome to the best laundromat in Brooklyn\"`, but we'll save that for another lesson."
      ]
    },
    {
      "cell_type": "markdown",
      "metadata": {
        "id": "xoBiMdedPgeq"
      },
      "source": [
        "### Summary"
      ]
    },
    {
      "cell_type": "markdown",
      "metadata": {
        "id": "qS3jyFH_Pgeq"
      },
      "source": [
        "In this lesson we saw how to add methods to our objects.  These methods available to each of our objects, but can only be called by objects instantiated from that class.  We cannot call the method unless we are calling it on an object."
      ]
    },
    {
      "cell_type": "code",
      "execution_count": 21,
      "metadata": {
        "id": "EU7a730fPgeq",
        "outputId": "58a599fe-04ce-4a4e-d322-81d2da2374a7",
        "colab": {
          "base_uri": "https://localhost:8080/",
          "height": 36
        }
      },
      "outputs": [
        {
          "output_type": "execute_result",
          "data": {
            "text/plain": [
              "'Welcome, come in.'"
            ],
            "application/vnd.google.colaboratory.intrinsic+json": {
              "type": "string"
            }
          },
          "metadata": {},
          "execution_count": 21
        }
      ],
      "source": [
        "queens_laundromat.openUp()"
      ]
    },
    {
      "cell_type": "markdown",
      "metadata": {
        "id": "EWABIbG1Pgeq"
      },
      "source": [
        "We saw that while methods defined in a class are available to each instance, instances still have their unique data."
      ]
    }
  ],
  "metadata": {
    "kernelspec": {
      "display_name": "Python 3",
      "language": "python",
      "name": "python3"
    },
    "language_info": {
      "codemirror_mode": {
        "name": "ipython",
        "version": 3
      },
      "file_extension": ".py",
      "mimetype": "text/x-python",
      "name": "python",
      "nbconvert_exporter": "python",
      "pygments_lexer": "ipython3",
      "version": "3.8.3"
    },
    "colab": {
      "name": "index-1.ipynb",
      "provenance": []
    }
  },
  "nbformat": 4,
  "nbformat_minor": 0
}