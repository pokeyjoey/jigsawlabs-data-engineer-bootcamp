{
  "cells": [
    {
      "cell_type": "markdown",
      "metadata": {
        "id": "uE1nkzpAREyc"
      },
      "source": [
        "# Understanding Self"
      ]
    },
    {
      "cell_type": "markdown",
      "metadata": {
        "id": "_WHa_UnYREyg"
      },
      "source": [
        "### Introduction"
      ]
    },
    {
      "cell_type": "markdown",
      "metadata": {
        "id": "zdtYRjdpREyg"
      },
      "source": [
        "In the last lesson, we create our `Laundromat` class and added some methods to it."
      ]
    },
    {
      "cell_type": "markdown",
      "metadata": {
        "id": "nZyYSdOhREyh"
      },
      "source": [
        "```python\n",
        "class Laundromat:\n",
        "    def openUp(self):\n",
        "        return 'Welcome, come in.'\n",
        "    \n",
        "    def closeUp(self):\n",
        "        return 'Ok, you can all go home now.'\n",
        "```"
      ]
    },
    {
      "cell_type": "markdown",
      "metadata": {
        "id": "2ULG9nbyREyi"
      },
      "source": [
        "We saw that our methods are available to each instance of our class, however our instances can have unique data.  Now imagine if we want to change our  `openUp` method to say 'Welcome to the *queens* cleaners'.  Or perhaps we'd like to write a method called `needed_supplies`, that calculates what supplies we should purchase more of. \n",
        "\n",
        "Each of these methods will need require us to have customized return values based on the each instance's unique data.  This way, we don't say 'Welcome to the Queens cleaners', when our location is Brooklyn.  Let's see how we can do this."
      ]
    },
    {
      "cell_type": "markdown",
      "metadata": {
        "id": "PskQJC7XREyi"
      },
      "source": [
        "### Creating our objects"
      ]
    },
    {
      "cell_type": "markdown",
      "metadata": {
        "id": "hkxqheMwREyj"
      },
      "source": [
        "Ok, time to create some objects.  We'll start with our `Laundromat` class and the `openUp` method."
      ]
    },
    {
      "cell_type": "code",
      "execution_count": 1,
      "metadata": {
        "id": "-kwKdC5SREyk"
      },
      "outputs": [],
      "source": [
        "class Laundromat:\n",
        "    def openUp(self):\n",
        "        return 'Welcome, come in.'"
      ]
    },
    {
      "cell_type": "markdown",
      "metadata": {
        "id": "dTy7jxhGREym"
      },
      "source": [
        "And now let's create a `Queens` laundromat and a `Brooklyn` laundromat."
      ]
    },
    {
      "cell_type": "code",
      "execution_count": 2,
      "metadata": {
        "id": "Ktb-E0A3REyn"
      },
      "outputs": [],
      "source": [
        "queens_laundromat = Laundromat()\n",
        "queens_laundromat.location = 'Queens'\n",
        "\n",
        "\n",
        "brooklyn_laundromat = Laundromat()\n",
        "brooklyn_laundromat.location = 'Brooklyn'\n"
      ]
    },
    {
      "cell_type": "code",
      "execution_count": 3,
      "metadata": {
        "id": "84VzfIJzREyo",
        "outputId": "0442cdc8-9934-4d66-8ffa-3ab92df404de",
        "colab": {
          "base_uri": "https://localhost:8080/"
        }
      },
      "outputs": [
        {
          "output_type": "execute_result",
          "data": {
            "text/plain": [
              "{'location': 'Brooklyn'}"
            ]
          },
          "metadata": {},
          "execution_count": 3
        }
      ],
      "source": [
        "queens_laundromat.__dict__\n",
        "# {'location': 'Queens'}\n",
        "brooklyn_laundromat.__dict__\n",
        "# {'location': 'Queens'}"
      ]
    },
    {
      "cell_type": "markdown",
      "metadata": {
        "id": "sYAvBdlSREyp"
      },
      "source": [
        "### A neighborhood message"
      ]
    },
    {
      "cell_type": "markdown",
      "metadata": {
        "id": "a0nngvrQREyp"
      },
      "source": [
        "Next, let's try to change our `openUp` method so that it says `\"Welcome to the Queens cleaners\"` for the location in Queens and `\"Welcome to the Brooklyn cleaners\"` for the location in Brooklyn.  Currently, we don't have that capability."
      ]
    },
    {
      "cell_type": "markdown",
      "metadata": {
        "id": "L4F5DuH1REyp"
      },
      "source": [
        "One idea could be to reference the `queens_laundromat` from inside of the `Laundromat` class. "
      ]
    },
    {
      "cell_type": "code",
      "execution_count": 4,
      "metadata": {
        "id": "vONKhZ4fREyq"
      },
      "outputs": [],
      "source": [
        "class Laundromat:\n",
        "    def openUp(self):\n",
        "        return 'Welcome to ' + queens_laundromat.location"
      ]
    },
    {
      "cell_type": "markdown",
      "metadata": {
        "id": "EROtV-KmREyq"
      },
      "source": [
        "What would be wrong with this?  Well take a look."
      ]
    },
    {
      "cell_type": "code",
      "execution_count": 5,
      "metadata": {
        "id": "2F2k0lELREyq",
        "outputId": "b559aeea-bef8-40b4-eb79-31e8a8232856",
        "colab": {
          "base_uri": "https://localhost:8080/",
          "height": 36
        }
      },
      "outputs": [
        {
          "output_type": "execute_result",
          "data": {
            "text/plain": [
              "'Welcome to Queens'"
            ],
            "application/vnd.google.colaboratory.intrinsic+json": {
              "type": "string"
            }
          },
          "metadata": {},
          "execution_count": 5
        }
      ],
      "source": [
        "lm = Laundromat()\n",
        "lm.location = 'brooklyn'\n",
        "lm.openUp()"
      ]
    },
    {
      "cell_type": "markdown",
      "metadata": {
        "id": "bVdlHEpmREyr"
      },
      "source": [
        "Take a look at what happens above.  Attempting to reference the `queens_laundromat` from inside of our class breaks down when we call the `openUp` method on our Brooklyn location.    We continue to get the `Welcome to Queens` message, when really we want `Welcome to Brooklyn`.  "
      ]
    },
    {
      "cell_type": "markdown",
      "metadata": {
        "id": "EcribOaNREyr"
      },
      "source": [
        "How do we fix this?"
      ]
    },
    {
      "cell_type": "markdown",
      "metadata": {
        "id": "XYdM-Co0REys"
      },
      "source": [
        "### The Self Keyword"
      ]
    },
    {
      "cell_type": "markdown",
      "metadata": {
        "id": "vzWS-W6wREys"
      },
      "source": [
        "We can use the keyword `self` to reference a particular instance's data."
      ]
    },
    {
      "cell_type": "markdown",
      "metadata": {
        "id": "viNCBOVQREys"
      },
      "source": [
        "Below we make the fix."
      ]
    },
    {
      "cell_type": "code",
      "execution_count": 6,
      "metadata": {
        "id": "QNGDhBL_REys"
      },
      "outputs": [],
      "source": [
        "class Laundromat:\n",
        "    def openUp(self):\n",
        "        # use the self keyword\n",
        "        return 'Welcome to ' + self.location"
      ]
    },
    {
      "cell_type": "code",
      "execution_count": 7,
      "metadata": {
        "id": "dXeCtFb-REyt"
      },
      "outputs": [],
      "source": [
        "queens_laundromat = Laundromat()\n",
        "queens_laundromat.location = 'Queens'\n",
        "\n",
        "brooklyn_laundromat = Laundromat()\n",
        "brooklyn_laundromat.location = 'Brooklyn'"
      ]
    },
    {
      "cell_type": "markdown",
      "metadata": {
        "id": "SS1tWCG0REyt"
      },
      "source": [
        "Now notice what happens when we call the `openUp` method."
      ]
    },
    {
      "cell_type": "code",
      "execution_count": 8,
      "metadata": {
        "id": "GJDlaJkcREyu",
        "outputId": "32293fdb-5671-444e-d6ac-7f1aa89aa51e",
        "colab": {
          "base_uri": "https://localhost:8080/",
          "height": 36
        }
      },
      "outputs": [
        {
          "output_type": "execute_result",
          "data": {
            "text/plain": [
              "'Welcome to Queens'"
            ],
            "application/vnd.google.colaboratory.intrinsic+json": {
              "type": "string"
            }
          },
          "metadata": {},
          "execution_count": 8
        }
      ],
      "source": [
        "queens_laundromat.openUp()"
      ]
    },
    {
      "cell_type": "code",
      "execution_count": 9,
      "metadata": {
        "id": "-k6M-VnoREyu",
        "outputId": "93db78a2-4c04-44b3-eb9f-9477de98f65a",
        "colab": {
          "base_uri": "https://localhost:8080/",
          "height": 36
        }
      },
      "outputs": [
        {
          "output_type": "execute_result",
          "data": {
            "text/plain": [
              "'Welcome to Brooklyn'"
            ],
            "application/vnd.google.colaboratory.intrinsic+json": {
              "type": "string"
            }
          },
          "metadata": {},
          "execution_count": 9
        }
      ],
      "source": [
        "brooklyn_laundromat.openUp()"
      ]
    },
    {
      "cell_type": "markdown",
      "metadata": {
        "id": "y__9Na8xREyu"
      },
      "source": [
        "So as we can see, the `location` value changes based on the instance that receives the method call.  This is because we used this `self` keyword.  So what is self?"
      ]
    },
    {
      "cell_type": "markdown",
      "metadata": {
        "id": "XuxHwd4SREyv"
      },
      "source": [
        "> **self** takes on the value of the object that *receives* the method call.  Or more simply, it takes on the value of whatever object is to the left of the dot."
      ]
    },
    {
      "cell_type": "markdown",
      "metadata": {
        "id": "ouYT3-AtREyv"
      },
      "source": [
        "Let's take a look at our class again."
      ]
    },
    {
      "cell_type": "code",
      "execution_count": 10,
      "metadata": {
        "id": "kVAujXK3REyv"
      },
      "outputs": [],
      "source": [
        "class Laundromat:\n",
        "    def openUp(self):\n",
        "        return 'Welcome to ' + self.location"
      ]
    },
    {
      "cell_type": "code",
      "execution_count": 11,
      "metadata": {
        "id": "0kR4R9RgREyv",
        "outputId": "d83e381e-8f98-4870-8c9d-8b2a9290b98d",
        "colab": {
          "base_uri": "https://localhost:8080/",
          "height": 36
        }
      },
      "outputs": [
        {
          "output_type": "execute_result",
          "data": {
            "text/plain": [
              "'Welcome to Queens'"
            ],
            "application/vnd.google.colaboratory.intrinsic+json": {
              "type": "string"
            }
          },
          "metadata": {},
          "execution_count": 11
        }
      ],
      "source": [
        "queens_laundromat.openUp()"
      ]
    },
    {
      "cell_type": "markdown",
      "metadata": {
        "id": "Udqk6pEFREyw"
      },
      "source": [
        "Now when we call `queens_laundromat.openUp()`, the object to the left of the dot is the `queens_laundromat`.  So in the method `openUp`, you can replace `self` with `queens_laundromat`, and that is the `location` that is referenced."
      ]
    },
    {
      "cell_type": "markdown",
      "metadata": {
        "id": "_1R8TQw3REyw"
      },
      "source": [
        "However, when we call this same method on the `brooklyn_laundromat`, the value of `self` changes."
      ]
    },
    {
      "cell_type": "code",
      "execution_count": 12,
      "metadata": {
        "id": "2QtbHB9tREyw",
        "outputId": "dea29085-2439-41ab-e509-a0183d019719",
        "colab": {
          "base_uri": "https://localhost:8080/",
          "height": 36
        }
      },
      "outputs": [
        {
          "output_type": "execute_result",
          "data": {
            "text/plain": [
              "'Welcome to Brooklyn'"
            ],
            "application/vnd.google.colaboratory.intrinsic+json": {
              "type": "string"
            }
          },
          "metadata": {},
          "execution_count": 12
        }
      ],
      "source": [
        "brooklyn_laundromat.openUp()"
      ]
    },
    {
      "cell_type": "markdown",
      "metadata": {
        "id": "8CR_NFNfREyw"
      },
      "source": [
        "We can always replace the word `self` with the object that receives the method call, or in other words, the value of self is whatever object is to the left of the dot."
      ]
    },
    {
      "cell_type": "markdown",
      "metadata": {
        "id": "GNt-Xtu-REyx"
      },
      "source": [
        "Of course the best way to get the hang of this is with some practice, so let's move into that."
      ]
    },
    {
      "cell_type": "markdown",
      "metadata": {
        "id": "DQDc7ikGREyx"
      },
      "source": [
        "### Summary"
      ]
    },
    {
      "cell_type": "markdown",
      "metadata": {
        "id": "pwE2MYIbREyx"
      },
      "source": [
        "In this lesson, we saw how to reference an object from inside of a method call.  The way that we do this is by using the `self` keyword.  \n",
        "\n",
        "The `self` keyword takes on the value of whatever object is to the left of the dot.  So when we call `queens_laundromat.openUp()` from inside of the method call, the value of self is the instance `queens_laundromat`.  And when we call `brooklyn_laundromat.openUp()` the value of `self` from inside of the method call is the instance `brooklyn_laundromat`. "
      ]
    },
    {
      "cell_type": "markdown",
      "metadata": {
        "id": "OkfOfCx9REyx"
      },
      "source": [
        "We can then reference that instance's data from inside of the method call, as we saw above."
      ]
    },
    {
      "cell_type": "markdown",
      "metadata": {
        "id": "1_tpZAPMREyx"
      },
      "source": [
        "```python\n",
        "class Laundromat:\n",
        "    def openUp(self):\n",
        "        return 'Welcome to ' + self.location\n",
        "```"
      ]
    },
    {
      "cell_type": "markdown",
      "metadata": {
        "id": "v_EdfTNeREyy"
      },
      "source": [
        "```python\n",
        "queens_laundromat.openUp()\n",
        "# 'Welcome to Queens'\n",
        "```"
      ]
    }
  ],
  "metadata": {
    "kernelspec": {
      "display_name": "Python 3",
      "language": "python",
      "name": "python3"
    },
    "language_info": {
      "codemirror_mode": {
        "name": "ipython",
        "version": 3
      },
      "file_extension": ".py",
      "mimetype": "text/x-python",
      "name": "python",
      "nbconvert_exporter": "python",
      "pygments_lexer": "ipython3",
      "version": "3.7.4"
    },
    "colab": {
      "name": "index-1.ipynb",
      "provenance": []
    }
  },
  "nbformat": 4,
  "nbformat_minor": 0
}