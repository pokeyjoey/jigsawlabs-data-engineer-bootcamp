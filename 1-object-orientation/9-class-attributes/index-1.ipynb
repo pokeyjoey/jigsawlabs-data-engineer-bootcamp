{
  "cells": [
    {
      "cell_type": "markdown",
      "metadata": {
        "id": "_iHykavL8qJl"
      },
      "source": [
        "# Class Attributes"
      ]
    },
    {
      "cell_type": "markdown",
      "metadata": {
        "id": "WQrkOKmd8qJo"
      },
      "source": [
        "### Introduction"
      ]
    },
    {
      "cell_type": "markdown",
      "metadata": {
        "id": "kjkeon808qJp"
      },
      "source": [
        "Now so far we have seen how we can store unique data on our instances.  And we also saw how we can define methods on a class that are shared by instances of that class.  But what if we want certain data to be shared by all of our instances.\n",
        "\n"
      ]
    },
    {
      "cell_type": "markdown",
      "metadata": {
        "id": "7oOLZwPZ8qJp"
      },
      "source": [
        "Let's see how this is accomplished."
      ]
    },
    {
      "cell_type": "markdown",
      "metadata": {
        "id": "fCpzTs4r8qJq"
      },
      "source": [
        "### A slightly different domain"
      ]
    },
    {
      "cell_type": "markdown",
      "metadata": {
        "id": "uF06Hm9y8qJq"
      },
      "source": [
        "Now let's imagine that we are working for Google Maps, and Google wants to store information about our laundromat. We can start with our typical attributes."
      ]
    },
    {
      "cell_type": "code",
      "execution_count": 1,
      "metadata": {
        "id": "ZD0Lifyv8qJr"
      },
      "outputs": [],
      "source": [
        "class Laundromat:\n",
        "    pass"
      ]
    },
    {
      "cell_type": "code",
      "execution_count": 2,
      "metadata": {
        "id": "Ssl7L8Po8qJs"
      },
      "outputs": [],
      "source": [
        "queens_laundromat = Laundromat()\n",
        "queens_laundromat.address = '123 queens'"
      ]
    },
    {
      "cell_type": "markdown",
      "metadata": {
        "id": "qWoSpIev8qJt"
      },
      "source": [
        "However, there may be certain characteristics that are shared by all Laundromats."
      ]
    },
    {
      "cell_type": "markdown",
      "metadata": {
        "id": "ZzV-oNyA8qJt"
      },
      "source": [
        "For example, that laundromats are a commercial business.  This would be different in say an our apartment class, where we specify that each apartment is residential.  So we would like to create an attribute that is the same for every instance."
      ]
    },
    {
      "cell_type": "code",
      "execution_count": 3,
      "metadata": {
        "id": "yhlKxAGy8qJu"
      },
      "outputs": [],
      "source": [
        "class Laundromat:\n",
        "    property_type = 'commercial'"
      ]
    },
    {
      "cell_type": "markdown",
      "metadata": {
        "id": "-qqfpdN48qJu"
      },
      "source": [
        "Now let's see how this works."
      ]
    },
    {
      "cell_type": "code",
      "execution_count": 4,
      "metadata": {
        "id": "eZ38cnRR8qJv"
      },
      "outputs": [],
      "source": [
        "queens_laundromat = Laundromat()"
      ]
    },
    {
      "cell_type": "code",
      "execution_count": 5,
      "metadata": {
        "id": "d6Oqj_gv8qJv",
        "outputId": "cc0bd2c0-6b6f-4f02-93bc-0ca12e37869e",
        "colab": {
          "base_uri": "https://localhost:8080/",
          "height": 36
        }
      },
      "outputs": [
        {
          "output_type": "execute_result",
          "data": {
            "text/plain": [
              "'commercial'"
            ],
            "application/vnd.google.colaboratory.intrinsic+json": {
              "type": "string"
            }
          },
          "metadata": {},
          "execution_count": 5
        }
      ],
      "source": [
        "queens_laundromat.property_type"
      ]
    },
    {
      "cell_type": "code",
      "execution_count": 6,
      "metadata": {
        "id": "BLaG3bHW8qJw",
        "outputId": "a72748aa-45e1-4f1e-c44b-6dcdc3e8735c",
        "colab": {
          "base_uri": "https://localhost:8080/",
          "height": 36
        }
      },
      "outputs": [
        {
          "output_type": "execute_result",
          "data": {
            "text/plain": [
              "'commercial'"
            ],
            "application/vnd.google.colaboratory.intrinsic+json": {
              "type": "string"
            }
          },
          "metadata": {},
          "execution_count": 6
        }
      ],
      "source": [
        "bk_laundromat = Laundromat()\n",
        "bk_laundromat.property_type"
      ]
    },
    {
      "cell_type": "markdown",
      "metadata": {
        "id": "5yHPeAOT8qJw"
      },
      "source": [
        "So by setting our `property_type` as a class variable, each laundromat instance automatically has that property."
      ]
    },
    {
      "cell_type": "markdown",
      "metadata": {
        "id": "jS7rrMDW8qJx"
      },
      "source": [
        "### Class Variable Mechanics"
      ]
    },
    {
      "cell_type": "markdown",
      "metadata": {
        "id": "MCu_Qafk8qJx"
      },
      "source": [
        "Let's go over how to create a class variable, and how this differs from an instance variable.  To review, we can assign data to our instance in two ways.  \n",
        "\n",
        "The first way is to set the assign the data from outside of the class."
      ]
    },
    {
      "cell_type": "code",
      "execution_count": 7,
      "metadata": {
        "id": "Xl1-00ww8qJx"
      },
      "outputs": [],
      "source": [
        "class Laundromat:\n",
        "    pass"
      ]
    },
    {
      "cell_type": "code",
      "execution_count": 8,
      "metadata": {
        "id": "WRUm90pl8qJy",
        "outputId": "3caafe35-63a1-48a2-9003-d0f2d31dd120",
        "colab": {
          "base_uri": "https://localhost:8080/"
        }
      },
      "outputs": [
        {
          "output_type": "execute_result",
          "data": {
            "text/plain": [
              "{'owner_name': 'sally'}"
            ]
          },
          "metadata": {},
          "execution_count": 8
        }
      ],
      "source": [
        "laundromat = Laundromat()\n",
        "laundromat.owner_name = 'sally'\n",
        "laundromat.__dict__"
      ]
    },
    {
      "cell_type": "markdown",
      "metadata": {
        "id": "aIP5cFHy8qJy"
      },
      "source": [
        "The second way is setting the instance variable from inside of a method inside of the class."
      ]
    },
    {
      "cell_type": "code",
      "execution_count": 9,
      "metadata": {
        "id": "Yv80q7o78qJy"
      },
      "outputs": [],
      "source": [
        "class Laundromat:\n",
        "    def set_owner_name(self, owner_name):\n",
        "        self.owner_name = owner_name"
      ]
    },
    {
      "cell_type": "code",
      "execution_count": 10,
      "metadata": {
        "id": "gPdEv8Tt8qJy",
        "outputId": "2eaf89e8-6180-4c63-86cf-8de9b50a56b8",
        "colab": {
          "base_uri": "https://localhost:8080/"
        }
      },
      "outputs": [
        {
          "output_type": "execute_result",
          "data": {
            "text/plain": [
              "{'owner_name': 'susan'}"
            ]
          },
          "metadata": {},
          "execution_count": 10
        }
      ],
      "source": [
        "laundromat = Laundromat()\n",
        "laundromat.set_owner_name('susan')\n",
        "laundromat.__dict__"
      ]
    },
    {
      "cell_type": "markdown",
      "metadata": {
        "id": "om_g7NeZ8qJz"
      },
      "source": [
        "We set up a class variables differently.  We do this with our variable inside of our class, but outside of any method call."
      ]
    },
    {
      "cell_type": "code",
      "execution_count": 11,
      "metadata": {
        "id": "Rrjx68rG8qJz"
      },
      "outputs": [],
      "source": [
        "class Laundromat:\n",
        "    property_type = 'commercial'\n",
        "    \n",
        "    def set_owner_name(self, owner_name):\n",
        "        self.owner_name = owner_name"
      ]
    },
    {
      "cell_type": "code",
      "execution_count": 12,
      "metadata": {
        "id": "gns80s-r8qJz",
        "outputId": "b77aace8-dcb8-4221-e7b0-8988a606a83c",
        "colab": {
          "base_uri": "https://localhost:8080/",
          "height": 36
        }
      },
      "outputs": [
        {
          "output_type": "execute_result",
          "data": {
            "text/plain": [
              "'commercial'"
            ],
            "application/vnd.google.colaboratory.intrinsic+json": {
              "type": "string"
            }
          },
          "metadata": {},
          "execution_count": 12
        }
      ],
      "source": [
        "laundromat = Laundromat()\n",
        "laundromat.property_type"
      ]
    },
    {
      "cell_type": "markdown",
      "metadata": {
        "id": "ByI0dIEm8qJ0"
      },
      "source": [
        "### The variable lookup chain"
      ]
    },
    {
      "cell_type": "markdown",
      "metadata": {
        "id": "0EDzjqBU8qJ0"
      },
      "source": [
        "Notice that when we assign a class variable that variable is not directly stored on the instance."
      ]
    },
    {
      "cell_type": "code",
      "execution_count": 13,
      "metadata": {
        "id": "_NeZMLgZ8qJ0",
        "outputId": "1c528aad-4570-46eb-89f9-63116c339764",
        "colab": {
          "base_uri": "https://localhost:8080/"
        }
      },
      "outputs": [
        {
          "output_type": "execute_result",
          "data": {
            "text/plain": [
              "{}"
            ]
          },
          "metadata": {},
          "execution_count": 13
        }
      ],
      "source": [
        "laundromat.__dict__"
      ]
    },
    {
      "cell_type": "markdown",
      "metadata": {
        "id": "TiWZWVbA8qJ0"
      },
      "source": [
        "Even though seems like it might be."
      ]
    },
    {
      "cell_type": "code",
      "execution_count": 14,
      "metadata": {
        "id": "Pf1FAExU8qJ0",
        "outputId": "80be637f-eb4c-4710-a952-3a0d86500e46",
        "colab": {
          "base_uri": "https://localhost:8080/",
          "height": 36
        }
      },
      "outputs": [
        {
          "output_type": "execute_result",
          "data": {
            "text/plain": [
              "'commercial'"
            ],
            "application/vnd.google.colaboratory.intrinsic+json": {
              "type": "string"
            }
          },
          "metadata": {},
          "execution_count": 14
        }
      ],
      "source": [
        "laundromat.property_type"
      ]
    },
    {
      "cell_type": "markdown",
      "metadata": {
        "id": "9tXDGVdb8qJ1"
      },
      "source": [
        "To see the class attributes, we look for them on the class itself."
      ]
    },
    {
      "cell_type": "code",
      "execution_count": 17,
      "metadata": {
        "id": "Ph1ESijA8qJ1",
        "outputId": "7dfd99f5-0907-4277-8c62-2d1216dcfdb1",
        "colab": {
          "base_uri": "https://localhost:8080/"
        }
      },
      "outputs": [
        {
          "output_type": "execute_result",
          "data": {
            "text/plain": [
              "mappingproxy({'__dict__': <attribute '__dict__' of 'Laundromat' objects>,\n",
              "              '__doc__': None,\n",
              "              '__module__': '__main__',\n",
              "              '__weakref__': <attribute '__weakref__' of 'Laundromat' objects>,\n",
              "              'property_type': 'commercial',\n",
              "              'set_owner_name': <function __main__.Laundromat.set_owner_name>})"
            ]
          },
          "metadata": {},
          "execution_count": 17
        }
      ],
      "source": [
        "Laundromat.__dict__\n",
        "#Laundromat.property_type"
      ]
    },
    {
      "cell_type": "code",
      "source": [
        "Laundromat.property_type"
      ],
      "metadata": {
        "id": "FznH-heu9gKw",
        "outputId": "7945b6ef-e636-4463-f2a2-8efdf795334f",
        "colab": {
          "base_uri": "https://localhost:8080/",
          "height": 36
        }
      },
      "execution_count": 18,
      "outputs": [
        {
          "output_type": "execute_result",
          "data": {
            "text/plain": [
              "'commercial'"
            ],
            "application/vnd.google.colaboratory.intrinsic+json": {
              "type": "string"
            }
          },
          "metadata": {},
          "execution_count": 18
        }
      ]
    },
    {
      "cell_type": "markdown",
      "metadata": {
        "id": "6xnKQL778qJ1"
      },
      "source": [
        "You can see in the second line, that this is stored directly on our class."
      ]
    },
    {
      "cell_type": "markdown",
      "metadata": {
        "id": "8AOTfJNP8qJ1"
      },
      "source": [
        "So notice what happens when we call `laundromat.property_type`.  Python will first look for this as an instance variable, then it will look to see if this is a class variable.  If it is not found as either, Python returns an error."
      ]
    },
    {
      "cell_type": "code",
      "execution_count": 19,
      "metadata": {
        "id": "7QXxdYQJ8qJ1",
        "outputId": "e4fb4573-9b89-4ec9-b2b8-519df6c8f1fd",
        "colab": {
          "base_uri": "https://localhost:8080/",
          "height": 166
        }
      },
      "outputs": [
        {
          "output_type": "error",
          "ename": "AttributeError",
          "evalue": "ignored",
          "traceback": [
            "\u001b[0;31m---------------------------------------------------------------------------\u001b[0m",
            "\u001b[0;31mAttributeError\u001b[0m                            Traceback (most recent call last)",
            "\u001b[0;32m<ipython-input-19-5a7c5e1b9e8d>\u001b[0m in \u001b[0;36m<module>\u001b[0;34m()\u001b[0m\n\u001b[0;32m----> 1\u001b[0;31m \u001b[0mlaundromat\u001b[0m\u001b[0;34m.\u001b[0m\u001b[0mfoobar\u001b[0m\u001b[0;34m\u001b[0m\u001b[0;34m\u001b[0m\u001b[0m\n\u001b[0m",
            "\u001b[0;31mAttributeError\u001b[0m: 'Laundromat' object has no attribute 'foobar'"
          ]
        }
      ],
      "source": [
        "laundromat.foobar"
      ]
    },
    {
      "cell_type": "markdown",
      "metadata": {
        "id": "Kgk_MtIq8qJ2"
      },
      "source": [
        "### Summary"
      ]
    },
    {
      "cell_type": "markdown",
      "metadata": {
        "id": "UkLGBXrH8qJ2"
      },
      "source": [
        "In this lesson, we learned about class attributes.  We use class attributes whenever we would like our attribute to be the same for every instance of a class.\n",
        "\n",
        "To create a class attribute, we simply assign a variable outside of class."
      ]
    },
    {
      "cell_type": "code",
      "execution_count": 20,
      "metadata": {
        "id": "OlEy9XG68qJ2"
      },
      "outputs": [],
      "source": [
        "class Laundromat:\n",
        "    property_type = 'commercial'"
      ]
    },
    {
      "cell_type": "markdown",
      "metadata": {
        "id": "IJUN0lIY8qJ3"
      },
      "source": [
        "We saw that once we do this, the attribute is not defined directly on the instances of the class, but on the class itself."
      ]
    },
    {
      "cell_type": "code",
      "execution_count": 21,
      "metadata": {
        "id": "5sLBxfkl8qJ3",
        "outputId": "401d0abf-a99e-4ca8-feff-d68bb1280e2d",
        "colab": {
          "base_uri": "https://localhost:8080/"
        }
      },
      "outputs": [
        {
          "output_type": "execute_result",
          "data": {
            "text/plain": [
              "mappingproxy({'__dict__': <attribute '__dict__' of 'Laundromat' objects>,\n",
              "              '__doc__': None,\n",
              "              '__module__': '__main__',\n",
              "              '__weakref__': <attribute '__weakref__' of 'Laundromat' objects>,\n",
              "              'property_type': 'commercial'})"
            ]
          },
          "metadata": {},
          "execution_count": 21
        }
      ],
      "source": [
        "Laundromat.__dict__"
      ]
    },
    {
      "cell_type": "markdown",
      "metadata": {
        "id": "a4x9vBZG8qJ3"
      },
      "source": [
        "However, we still can read this attribute directly from an instance of the class."
      ]
    },
    {
      "cell_type": "code",
      "execution_count": 22,
      "metadata": {
        "id": "EkQ187CL8qJ3",
        "outputId": "3d5d4c70-9ae6-4e97-874e-24df1ad1b206",
        "colab": {
          "base_uri": "https://localhost:8080/"
        }
      },
      "outputs": [
        {
          "output_type": "execute_result",
          "data": {
            "text/plain": [
              "{}"
            ]
          },
          "metadata": {},
          "execution_count": 22
        }
      ],
      "source": [
        "laundromat = Laundromat()\n",
        "laundromat.__dict__"
      ]
    },
    {
      "cell_type": "code",
      "execution_count": 23,
      "metadata": {
        "id": "pSLxr2c58qJ3",
        "outputId": "0e335cff-89df-4a7e-8365-17f55f380e2d",
        "colab": {
          "base_uri": "https://localhost:8080/",
          "height": 36
        }
      },
      "outputs": [
        {
          "output_type": "execute_result",
          "data": {
            "text/plain": [
              "'commercial'"
            ],
            "application/vnd.google.colaboratory.intrinsic+json": {
              "type": "string"
            }
          },
          "metadata": {},
          "execution_count": 23
        }
      ],
      "source": [
        "laundromat.property_type"
      ]
    },
    {
      "cell_type": "markdown",
      "metadata": {
        "id": "P0MUaLvD8qJ4"
      },
      "source": [
        "This works because when we call an attribute on an instance, Python first looks for this attribute directly on the instance, and if it does not find it there, gthen looks for it on the class.  "
      ]
    }
  ],
  "metadata": {
    "kernelspec": {
      "display_name": "Python 3",
      "language": "python",
      "name": "python3"
    },
    "language_info": {
      "codemirror_mode": {
        "name": "ipython",
        "version": 3
      },
      "file_extension": ".py",
      "mimetype": "text/x-python",
      "name": "python",
      "nbconvert_exporter": "python",
      "pygments_lexer": "ipython3",
      "version": "3.7.4"
    },
    "colab": {
      "name": "index-1.ipynb",
      "provenance": []
    }
  },
  "nbformat": 4,
  "nbformat_minor": 0
}