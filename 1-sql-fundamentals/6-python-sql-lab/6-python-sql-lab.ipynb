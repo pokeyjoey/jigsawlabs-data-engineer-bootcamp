{
  "cells": [
    {
      "cell_type": "markdown",
      "metadata": {
        "id": "vN_W186hI4Jz"
      },
      "source": [
        "# Python SQL Lab"
      ]
    },
    {
      "cell_type": "markdown",
      "metadata": {
        "jp-MarkdownHeadingCollapsed": true,
        "tags": [],
        "id": "gChTjgPcI4J2"
      },
      "source": [
        "### Introduction\n",
        "In this lab we will practice using the *Python library* called `sqlite3` to execute our SQL calls. This library makes it easy for us to connect to and analyze data in a SQL database within a Python environment. We'll start out by setting up the database in the terminal as we have previously, then we will use the `sqlite3` library set up a connection with the library, create a cursor to call different sql commands, and then execute some sql statements using the cursor."
      ]
    },
    {
      "cell_type": "markdown",
      "metadata": {
        "id": "1B7XJJgjI4J3"
      },
      "source": [
        "### Setup"
      ]
    },
    {
      "cell_type": "markdown",
      "metadata": {
        "id": "G4yapK8tI4J4"
      },
      "source": [
        "We can do so by pressing shift + return on the following cells.  \n",
        "> Let's not try to understand the setup below right now."
      ]
    },
    {
      "cell_type": "code",
      "execution_count": 1,
      "metadata": {
        "id": "Q-Kpqg57I4J4"
      },
      "outputs": [],
      "source": [
        "import pandas as pd\n",
        "employees_url = \"https://raw.githubusercontent.com/eng-6-22/mod-1-sql-curriculum/master/1-sql-fundamentals/6-python-sql-lab/employees.csv\"\n",
        "employees_df = pd.read_csv(employees_url)\n",
        "ingredients_url = \"https://raw.githubusercontent.com/eng-6-22/mod-1-sql-curriculum/master/1-sql-fundamentals/6-python-sql-lab/ingredients.csv\"\n",
        "ingredients_df = pd.read_csv(ingredients_url)"
      ]
    },
    {
      "cell_type": "code",
      "execution_count": 2,
      "metadata": {
        "id": "Txx9z6l5I4J5"
      },
      "outputs": [],
      "source": [
        "import sqlite3\n",
        "conn = sqlite3.connect('./saladshop.db')"
      ]
    },
    {
      "cell_type": "code",
      "execution_count": 3,
      "metadata": {
        "id": "fcDRb9KVI4J6"
      },
      "outputs": [],
      "source": [
        "employees_df.to_sql('employees', conn, index = False)"
      ]
    },
    {
      "cell_type": "code",
      "execution_count": 4,
      "metadata": {
        "id": "wnswFnjYI4J7"
      },
      "outputs": [],
      "source": [
        "ingredients_df.to_sql('ingredients', conn, index = False)"
      ]
    },
    {
      "cell_type": "markdown",
      "metadata": {
        "id": "FhUO6XXlI4J7"
      },
      "source": [
        "### Getting our library ready"
      ]
    },
    {
      "cell_type": "markdown",
      "metadata": {
        "id": "0CwL5o94I4J8"
      },
      "source": [
        "Ok, now that we have created the tables and loaded the data, it's time to practice using our `sqlite` library."
      ]
    },
    {
      "cell_type": "markdown",
      "metadata": {
        "id": "_C9nGmj_I4J8"
      },
      "source": [
        "* First import the necessary `pip` library"
      ]
    },
    {
      "cell_type": "code",
      "execution_count": 6,
      "metadata": {
        "id": "iKM1hqS3I4J9"
      },
      "outputs": [],
      "source": [
        "import sqlite3"
      ]
    },
    {
      "cell_type": "markdown",
      "metadata": {
        "id": "ws2F5jkcI4J9"
      },
      "source": [
        "* Then use the sqlite3 library to connect to the created database "
      ]
    },
    {
      "cell_type": "code",
      "execution_count": 16,
      "metadata": {
        "id": "M5c3QgkSI4J9"
      },
      "outputs": [],
      "source": [
        "conn = sqlite3.connect('./saladshop.db')"
      ]
    },
    {
      "cell_type": "markdown",
      "metadata": {
        "id": "KpZlOFqJI4J-"
      },
      "source": [
        "Finally, create a cursor so that we are ready to call different sql commands on our database."
      ]
    },
    {
      "cell_type": "code",
      "execution_count": 13,
      "metadata": {
        "id": "EcJISpMEI4J-"
      },
      "outputs": [],
      "source": [
        "cursor = sqlite3.Cursor"
      ]
    },
    {
      "cell_type": "markdown",
      "metadata": {
        "id": "XTTFdoagI4J-"
      },
      "source": [
        "### Executing sql"
      ]
    },
    {
      "cell_type": "markdown",
      "metadata": {
        "id": "THntbEjhI4J_"
      },
      "source": [
        "Use the sqlite3 python library to select all of the employees in the database."
      ]
    },
    {
      "cell_type": "code",
      "execution_count": 9,
      "metadata": {
        "id": "mEAnKjO1I4J_"
      },
      "outputs": [],
      "source": [
        "statement = 'SELECT * FROM employees;'"
      ]
    },
    {
      "cell_type": "markdown",
      "metadata": {
        "id": "uXJwFyIUI4J_"
      },
      "source": [
        "Run the command in the cell below. It should return the employees table. \n",
        "\n",
        "> Hint: This requires two commands, one using `cursor.execute()` followed by `cursor.fetchall()`"
      ]
    },
    {
      "cell_type": "code",
      "execution_count": 17,
      "metadata": {
        "colab": {
          "base_uri": "https://localhost:8080/"
        },
        "id": "C5r5m3W8I4KA",
        "outputId": "7b118787-71b6-4b2b-dec3-c31ac8cadaad"
      },
      "outputs": [
        {
          "output_type": "execute_result",
          "data": {
            "text/plain": [
              "[(1, 'Tom', 'manager', '2019-05-20', 10001, '212-438-3984'),\n",
              " (2, 'Alison', 'salad maker', '2020-01-04', 10023, '212-329-2489'),\n",
              " (3, 'Jerry', 'delivery driver', '2019-12-15', 10001, '212-219-1029'),\n",
              " (4, 'Brian', 'salad maker', '2019-12-04', 10002, '646-328-2309'),\n",
              " (5, 'Vanessa', 'clerk', '2019-11-14', 11201, '718-348-2348')]"
            ]
          },
          "metadata": {},
          "execution_count": 17
        }
      ],
      "source": [
        "cursor = conn.cursor()\n",
        "cursor.execute(statement)\n",
        "cursor.fetchall()"
      ]
    },
    {
      "cell_type": "markdown",
      "metadata": {
        "id": "apWfeo8HI4KA"
      },
      "source": [
        "Use the `sqlite3` python library to select all of the ingredients in the database."
      ]
    },
    {
      "cell_type": "code",
      "execution_count": 18,
      "metadata": {
        "colab": {
          "base_uri": "https://localhost:8080/"
        },
        "id": "zmC1g2zZI4KA",
        "outputId": "f6365b6a-14a9-48cb-e4b3-f87a1b25d00d"
      },
      "outputs": [
        {
          "output_type": "execute_result",
          "data": {
            "text/plain": [
              "[(1, 'baby spinach', 0.19, 7, '2020-02-05'),\n",
              " (2, 'kale', 0.5, 10, '2020-02-10'),\n",
              " (3, 'tomatoes', 1.25, 5, '2020-01-30'),\n",
              " (4, 'broccoli', 1.15, 45, '2020-02-10'),\n",
              " (5, 'chicken', 3.5, 60, '2020-02-07')]"
            ]
          },
          "metadata": {},
          "execution_count": 18
        }
      ],
      "source": [
        "statement = 'SELECT * FROM ingredients'\n",
        "cursor.execute(statement)\n",
        "cursor.fetchall()"
      ]
    },
    {
      "cell_type": "markdown",
      "metadata": {
        "id": "emPGSKwlI4KA"
      },
      "source": [
        "Run the command in the cell below. It should return the data in the ingredients table."
      ]
    },
    {
      "cell_type": "code",
      "execution_count": null,
      "metadata": {
        "id": "5zLZaLJyI4KB"
      },
      "outputs": [],
      "source": [
        ""
      ]
    },
    {
      "cell_type": "markdown",
      "metadata": {
        "id": "8yZadRfFI4KB"
      },
      "source": [
        "### Conclusion"
      ]
    },
    {
      "cell_type": "markdown",
      "metadata": {
        "id": "XNksrS-YI4KB"
      },
      "source": [
        "In this lab we focused on how we can use the python library `sqlite3` to connect with a sql database and execute sql commands. First, we created a connection with the salad shop database. We then used this connection to create a cursor object which can be used to execute sql statements. We finished off the lab by using our cursor to select all the data from the two tables in our database."
      ]
    }
  ],
  "metadata": {
    "kernelspec": {
      "display_name": "Python 3 (ipykernel)",
      "language": "python",
      "name": "python3"
    },
    "language_info": {
      "codemirror_mode": {
        "name": "ipython",
        "version": 3
      },
      "file_extension": ".py",
      "mimetype": "text/x-python",
      "name": "python",
      "nbconvert_exporter": "python",
      "pygments_lexer": "ipython3",
      "version": "3.9.10"
    },
    "colab": {
      "name": "6-python-sql-lab.ipynb",
      "provenance": []
    }
  },
  "nbformat": 4,
  "nbformat_minor": 0
}