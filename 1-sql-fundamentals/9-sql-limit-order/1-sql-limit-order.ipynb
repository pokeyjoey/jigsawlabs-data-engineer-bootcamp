{
  "cells": [
    {
      "cell_type": "markdown",
      "metadata": {
        "id": "x7AU4nb3U3qB"
      },
      "source": [
        "# SQL Order and Limit "
      ]
    },
    {
      "cell_type": "markdown",
      "metadata": {
        "id": "XyEjli4BU3qF"
      },
      "source": [
        "### Introduction"
      ]
    },
    {
      "cell_type": "markdown",
      "metadata": {
        "id": "wIa65jEWU3qG"
      },
      "source": [
        "In the last section, we saw how to use the WHERE clause to specify which data to select.  We can think of the WHERE clause as loading up data into memory.  But once we specified which data to be loaded into memory with the WHERE clause, we can go further by ordering that data or limiting the number of rows returned from the selected data.  We do this with the `ORDER BY` and `LIMIT` clauses, where `ORDER BY` orders our rows, and `LIMIT` limits the number of rows returned from the selected data."
      ]
    },
    {
      "cell_type": "markdown",
      "metadata": {
        "id": "UpceicroU3qG"
      },
      "source": [
        "### Setting up our Data"
      ]
    },
    {
      "cell_type": "code",
      "execution_count": 1,
      "metadata": {
        "id": "Q3jE4ksiU3qH"
      },
      "outputs": [],
      "source": [
        "import sqlite3\n",
        "conn = sqlite3.connect('mean_green.db')\n",
        "cursor = conn.cursor()"
      ]
    },
    {
      "cell_type": "code",
      "execution_count": 2,
      "metadata": {
        "id": "iKJI7WV5U3qI"
      },
      "outputs": [],
      "source": [
        "sql = \"\"\"CREATE TABLE IF NOT EXISTS employees (\n",
        "    id INTEGER PRIMARY KEY AUTOINCREMENT,\n",
        "    name TEXT,\n",
        "    phone_number TEXT, \n",
        "    zipcode TEXT,\n",
        "    birthday TEXT\n",
        ");\"\"\"\n",
        "\n",
        "cursor.execute(sql)\n",
        "conn.commit()"
      ]
    },
    {
      "cell_type": "code",
      "execution_count": 3,
      "metadata": {
        "id": "jygYn4CHU3qJ",
        "outputId": "f26faec8-efb9-472f-8929-374d9384e481",
        "colab": {
          "base_uri": "https://localhost:8080/"
        }
      },
      "outputs": [
        {
          "output_type": "execute_result",
          "data": {
            "text/plain": [
              "<sqlite3.Cursor at 0x7fa6e108e340>"
            ]
          },
          "metadata": {},
          "execution_count": 3
        }
      ],
      "source": [
        "insert_data = \"\"\"INSERT INTO employees (name, phone_number, zipcode, birthday) VALUES \n",
        "('fred', '555-333-4444', '10001', '8/17/1990'),\n",
        "('bob', '555-331-4444', '10002', '3/22/1992'),\n",
        "('sally', '555-332-4444', '10001', '6/22/1991');\"\"\"\n",
        "\n",
        "cursor.execute(insert_data)"
      ]
    },
    {
      "cell_type": "code",
      "source": [
        "select_data = \"\"\"Select * from Employees\"\"\"\n",
        "cursor.execute(select_data)\n",
        "cursor.fetchall()"
      ],
      "metadata": {
        "id": "GpTE99o_XtzN",
        "outputId": "1f6e23c1-1297-480d-ed58-1f7464b9543f",
        "colab": {
          "base_uri": "https://localhost:8080/"
        }
      },
      "execution_count": 5,
      "outputs": [
        {
          "output_type": "execute_result",
          "data": {
            "text/plain": [
              "[(1, 'fred', '555-333-4444', '10001', '8/17/1990'),\n",
              " (2, 'bob', '555-331-4444', '10002', '3/22/1992'),\n",
              " (3, 'sally', '555-332-4444', '10001', '6/22/1991')]"
            ]
          },
          "metadata": {},
          "execution_count": 5
        }
      ]
    },
    {
      "cell_type": "markdown",
      "metadata": {
        "id": "rJrk3sovU3qK"
      },
      "source": [
        "### Order By"
      ]
    },
    {
      "cell_type": "markdown",
      "metadata": {
        "id": "wZ8XNPW1U3qL"
      },
      "source": [
        "Now that we have some data, let's work with the ORDER BY clause.  `ORDER BY` works as we would expect.  Here, let's order our list of employees by their name."
      ]
    },
    {
      "cell_type": "code",
      "execution_count": 8,
      "metadata": {
        "id": "M3WSeUgPU3qM",
        "outputId": "f47f1d93-9d35-404f-c65b-a8a36f149356",
        "colab": {
          "base_uri": "https://localhost:8080/"
        }
      },
      "outputs": [
        {
          "output_type": "execute_result",
          "data": {
            "text/plain": [
              "[(2, 'bob', '555-331-4444', '10002', '3/22/1992'),\n",
              " (1, 'fred', '555-333-4444', '10001', '8/17/1990'),\n",
              " (3, 'sally', '555-332-4444', '10001', '6/22/1991')]"
            ]
          },
          "metadata": {},
          "execution_count": 8
        }
      ],
      "source": [
        "sql_select = \"\"\"\n",
        "SELECT * FROM employees ORDER BY name ASC\n",
        "\"\"\"\n",
        "\n",
        "cursor.execute(sql_select)\n",
        "cursor.fetchall()\n",
        "\n",
        "# [(None, 'bob', '555-331-4444', '10002', '3/22/1992'),\n",
        "#  (None, 'fred', '555-333-4444', '10001', '8/17/1990'),\n",
        "#  (None, 'sally', '555-332-4444', '10001', '6/22/1991')]"
      ]
    },
    {
      "cell_type": "markdown",
      "metadata": {
        "id": "Qv3mzSvaU3qN"
      },
      "source": [
        "We can see that we now have our employees listed alphabetically.  If you look at the SQL statement, it says, `ORDER BY name ASC`.  The `ASC` stands for ascending, which means move from lowest to highest.  If we want to go from highest to lowest, this would be `DESC` for descending."
      ]
    },
    {
      "cell_type": "markdown",
      "metadata": {
        "id": "tvTBv5LqU3qN"
      },
      "source": [
        "At the end of our SQL statement, we simply specify the column that we wish to order by, and specify whether to order such that data as `ASC` -- smallest to biggest -- or `DESC`, biggest to smallest.  "
      ]
    },
    {
      "cell_type": "code",
      "execution_count": 9,
      "metadata": {
        "id": "ryhtgEMbU3qN",
        "outputId": "ed9f4c0d-7700-4953-c9e9-80772d9b7bc1",
        "colab": {
          "base_uri": "https://localhost:8080/"
        }
      },
      "outputs": [
        {
          "output_type": "execute_result",
          "data": {
            "text/plain": [
              "[(3, 'sally', '555-332-4444', '10001', '6/22/1991'),\n",
              " (1, 'fred', '555-333-4444', '10001', '8/17/1990'),\n",
              " (2, 'bob', '555-331-4444', '10002', '3/22/1992')]"
            ]
          },
          "metadata": {},
          "execution_count": 9
        }
      ],
      "source": [
        "sql_select = \"\"\"\n",
        "SELECT * FROM employees ORDER BY name DESC\n",
        "\"\"\"\n",
        "\n",
        "cursor.execute(sql_select)\n",
        "cursor.fetchall()\n",
        "\n",
        "# [(None, 'sally', '555-332-4444', '10001', '6/22/1991'),\n",
        "#  (None, 'fred', '555-333-4444', '10001', '8/17/1990'),\n",
        "#  (None, 'bob', '555-331-4444', '10002', '3/22/1992')]"
      ]
    },
    {
      "cell_type": "markdown",
      "metadata": {
        "id": "-ZGh8fbLU3qO"
      },
      "source": [
        "### Limit and Offset"
      ]
    },
    {
      "cell_type": "markdown",
      "metadata": {
        "id": "wFVuJh4NU3qO"
      },
      "source": [
        "1. Limit "
      ]
    },
    {
      "cell_type": "markdown",
      "metadata": {
        "id": "XK4LMJQWU3qP"
      },
      "source": [
        "The `LIMIT` clause allows us to specify a number of records to return.  Let's see it in action."
      ]
    },
    {
      "cell_type": "code",
      "execution_count": 10,
      "metadata": {
        "id": "0GjL531YU3qP",
        "outputId": "3887f472-f418-4598-c55c-a8b20798ff65",
        "colab": {
          "base_uri": "https://localhost:8080/"
        }
      },
      "outputs": [
        {
          "output_type": "execute_result",
          "data": {
            "text/plain": [
              "[(1, 'fred', '555-333-4444', '10001', '8/17/1990')]"
            ]
          },
          "metadata": {},
          "execution_count": 10
        }
      ],
      "source": [
        "sql_select = \"\"\"\n",
        "SELECT * FROM employees LIMIT 1\n",
        "\"\"\"\n",
        "\n",
        "cursor.execute(sql_select)\n",
        "cursor.fetchall()\n",
        "\n",
        "# [(None, 'fred', '555-333-4444', '10001', '8/17/1990')]"
      ]
    },
    {
      "cell_type": "markdown",
      "metadata": {
        "id": "9E5JCxxHU3qP"
      },
      "source": [
        "So here we started with a SELECT statement for all columns, and then said to only return one record."
      ]
    },
    {
      "cell_type": "markdown",
      "metadata": {
        "id": "Bu5RkXueU3qQ"
      },
      "source": [
        "If we want to return the record with the name that comes first alphabetically, we can combine ORDER BY and LIMIT."
      ]
    },
    {
      "cell_type": "code",
      "execution_count": 11,
      "metadata": {
        "id": "W88JaQjsU3qQ",
        "outputId": "d90ed707-6f17-47e1-b02a-9ec31b373977",
        "colab": {
          "base_uri": "https://localhost:8080/"
        }
      },
      "outputs": [
        {
          "output_type": "execute_result",
          "data": {
            "text/plain": [
              "[(2, 'bob', '555-331-4444', '10002', '3/22/1992')]"
            ]
          },
          "metadata": {},
          "execution_count": 11
        }
      ],
      "source": [
        "sql_select = \"\"\"\n",
        "SELECT * FROM employees ORDER BY name ASC LIMIT 1\n",
        "\"\"\"\n",
        "\n",
        "cursor.execute(sql_select)\n",
        "cursor.fetchall()\n",
        "\n",
        "# [(None, 'bob', '555-331-4444', '10002', '3/22/1992')]"
      ]
    },
    {
      "cell_type": "markdown",
      "metadata": {
        "id": "S5NXQRgJU3qQ"
      },
      "source": [
        "2. Offset "
      ]
    },
    {
      "cell_type": "markdown",
      "metadata": {
        "id": "5gWxStskU3qQ"
      },
      "source": [
        "Offset is a cousin to limit so to speak.  It tells us how many rows to skip.  For example, if we want to return only the second row instead of the first row, we can use offset."
      ]
    },
    {
      "cell_type": "code",
      "execution_count": 12,
      "metadata": {
        "id": "p4BFK1IRU3qR",
        "outputId": "394aef35-f570-4bba-9119-1dff5509afef",
        "colab": {
          "base_uri": "https://localhost:8080/"
        }
      },
      "outputs": [
        {
          "output_type": "execute_result",
          "data": {
            "text/plain": [
              "[(2, 'bob', '555-331-4444', '10002', '3/22/1992')]"
            ]
          },
          "metadata": {},
          "execution_count": 12
        }
      ],
      "source": [
        "sql_select = \"\"\"\n",
        "SELECT * FROM employees LIMIT 1 OFFSET 1\n",
        "\"\"\"\n",
        "\n",
        "cursor.execute(sql_select)\n",
        "cursor.fetchall()\n",
        "\n",
        "# [(None, 'bob', '555-331-4444', '10002', '3/22/1992')]"
      ]
    },
    {
      "cell_type": "markdown",
      "metadata": {
        "id": "XgmhDcPAU3qR"
      },
      "source": [
        "Offset can only be used along if there is also a LIMIT clause."
      ]
    },
    {
      "cell_type": "markdown",
      "metadata": {
        "id": "M67GQRo0U3qR"
      },
      "source": [
        "### Order of Operations with SQL"
      ]
    },
    {
      "cell_type": "markdown",
      "metadata": {
        "id": "TGmfRGpQU3qR"
      },
      "source": [
        "Now what tends to get tricky about the WHERE, ORDER BY, and LIMIT clauses is determining the order that we must provide them in SQL query.  To understand this best, we need a solid foundation in SQL's order of operations under the hood.  \n",
        "\n",
        "The clauses are executed and specified in the following order:\n",
        "\n",
        "* `FROM`\n",
        "* `WHERE` \n",
        "* `SELECT` \n",
        "* `ORDER BY`\n",
        "* `OFFSET`\n",
        "* `LIMIT`"
      ]
    },
    {
      "cell_type": "markdown",
      "metadata": {
        "id": "RCEKkNWFU3qS"
      },
      "source": [
        "So think of this order as SQL first loading data from our WHERE clause into memory, then ordering this data, and finally offsetting and limiting the data.  Note that while the order of these operations is maintained, any combination of these SQL clauses can be specified.  The only SQL clause that we must specify is SELECT."
      ]
    },
    {
      "cell_type": "markdown",
      "metadata": {
        "id": "lJy7k1MNU3qS"
      },
      "source": [
        "### Summary"
      ]
    },
    {
      "cell_type": "markdown",
      "metadata": {
        "id": "7IoaV_LHU3qS"
      },
      "source": [
        "In this lesson, we learned about the ORDER BY and LIMIT clauses.  The ORDER BY orders our rows by the values in a column, and can be ordered ASC (lowest to highest) or DESC (highest to lowest).  The LIMIT clause allows us to LIMIT the number of rows.  And if we would like skip a given number of rows and then LIMIT, we can use `LIMIT number OFFSET number`.\n",
        "\n",
        "Finally, it's important to keep track of the order of operations with SQL.  Other than OFFSET, the order of operations follows the order that the clauses appear in a sql statement."
      ]
    },
    {
      "cell_type": "code",
      "execution_count": 13,
      "metadata": {
        "id": "Re4QmzDDU3qS",
        "outputId": "1076b44b-9495-4936-f2b9-c4cbd155cb40",
        "colab": {
          "base_uri": "https://localhost:8080/"
        }
      },
      "outputs": [
        {
          "output_type": "execute_result",
          "data": {
            "text/plain": [
              "[(1, 'fred', '555-333-4444', '10001', '8/17/1990')]"
            ]
          },
          "metadata": {},
          "execution_count": 13
        }
      ],
      "source": [
        "sql_select = \"\"\"\n",
        "SELECT * FROM employees ORDER BY name DESC LIMIT 1 OFFSET 1\n",
        "\"\"\"\n",
        "\n",
        "cursor.execute(sql_select)\n",
        "cursor.fetchall()\n",
        "\n",
        "# [(None, 'fred', '555-333-4444', '10001', '8/17/1990')]"
      ]
    },
    {
      "cell_type": "markdown",
      "metadata": {
        "id": "wxxAhFflU3qT"
      },
      "source": [
        "So above we specify that we are reading all columns from the employees table.  Then we order the rows by name largest to smallest, skip the first row, and only return the second row, which is fred's row."
      ]
    }
  ],
  "metadata": {
    "kernelspec": {
      "display_name": "Python 3 (ipykernel)",
      "language": "python",
      "name": "python3"
    },
    "language_info": {
      "codemirror_mode": {
        "name": "ipython",
        "version": 3
      },
      "file_extension": ".py",
      "mimetype": "text/x-python",
      "name": "python",
      "nbconvert_exporter": "python",
      "pygments_lexer": "ipython3",
      "version": "3.9.10"
    },
    "colab": {
      "name": "1-sql-limit-order.ipynb",
      "provenance": []
    }
  },
  "nbformat": 4,
  "nbformat_minor": 0
}