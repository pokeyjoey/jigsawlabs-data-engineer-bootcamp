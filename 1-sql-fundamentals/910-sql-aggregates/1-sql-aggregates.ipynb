{
  "cells": [
    {
      "cell_type": "markdown",
      "metadata": {
        "id": "SS4_XMN6-GCT"
      },
      "source": [
        "# SQL Aggregates"
      ]
    },
    {
      "cell_type": "markdown",
      "metadata": {
        "id": "VKs-4pGj-GCX"
      },
      "source": [
        "### Introduction"
      ]
    },
    {
      "cell_type": "markdown",
      "metadata": {
        "id": "QXqoGlyz-GCX"
      },
      "source": [
        "So far we have used SQL to retrieve information about individual rows.  For example, we gathered *each* name of an *individual* employee.  However, what if we want to ask a question that must examine multiple rows.  For example, we may want to know the count of a row, the maximum or minimum value of a row, or the average of rows.  We'll explore questions like these in this lesson."
      ]
    },
    {
      "cell_type": "markdown",
      "metadata": {
        "id": "Vh4y1gnL-GCY"
      },
      "source": [
        "### Working with CSV and SQL"
      ]
    },
    {
      "cell_type": "markdown",
      "metadata": {
        "id": "SelMRRWn-GCY"
      },
      "source": [
        "Let's start working with some real sql data.  For this lesson, we'll work with a list of restaurants in New York City, that were listed on Yelp.  We can find the data [here]('https://raw.githubusercontent.com/ledeprogram/courses/master/foundations/mapping/tilemill/yelp-lunch-nyc.csv)."
      ]
    },
    {
      "cell_type": "markdown",
      "metadata": {
        "id": "4XH_hdKy-GCY"
      },
      "source": [
        "And we can transer that data using the `pandas` library.  Let's see how."
      ]
    },
    {
      "cell_type": "code",
      "execution_count": 1,
      "metadata": {
        "id": "W5BkDyif-GCZ"
      },
      "outputs": [],
      "source": [
        "import pandas as pd"
      ]
    },
    {
      "cell_type": "code",
      "execution_count": 2,
      "metadata": {
        "id": "KhY9R731-GCa"
      },
      "outputs": [],
      "source": [
        "import pandas as pd\n",
        "df = pd.read_csv('https://raw.githubusercontent.com/ledeprogram/courses/master/foundations/mapping/tilemill/yelp-lunch-nyc.csv')"
      ]
    },
    {
      "cell_type": "markdown",
      "metadata": {
        "id": "6j1cyjBt-GCb"
      },
      "source": [
        "So we first import the pandas library, and read the csv which we then store as something called a dataframe.  We can see the first few rows of a dataframe by calling the `head` method."
      ]
    },
    {
      "cell_type": "code",
      "execution_count": 3,
      "metadata": {
        "id": "W6ivQmrX-GCb",
        "outputId": "303465a0-cabf-4469-a823-8f4ee3ec7b4a",
        "colab": {
          "base_uri": "https://localhost:8080/",
          "height": 143
        }
      },
      "outputs": [
        {
          "output_type": "execute_result",
          "data": {
            "text/plain": [
              "                      Name           Address     City                Category  \\\n",
              "0           Rambling House  4292 Katonah Ave    Bronx                    Pubs   \n",
              "1               Curry Spot  4268 Katonah Ave    Bronx                  Indian   \n",
              "2  Eileens Country Kitchen    964 McLean Ave  Yonkers  American (Traditional)   \n",
              "\n",
              "   Rating                                                URL  \n",
              "0     4.0       http://www.yelp.com/biz/rambling-house-bronx  \n",
              "1     4.0           http://www.yelp.com/biz/curry-spot-bronx  \n",
              "2     3.5  http://www.yelp.com/biz/eileens-country-kitche...  "
            ],
            "text/html": [
              "\n",
              "  <div id=\"df-dc87de7c-a69a-4f18-b71d-9955ba781c9a\">\n",
              "    <div class=\"colab-df-container\">\n",
              "      <div>\n",
              "<style scoped>\n",
              "    .dataframe tbody tr th:only-of-type {\n",
              "        vertical-align: middle;\n",
              "    }\n",
              "\n",
              "    .dataframe tbody tr th {\n",
              "        vertical-align: top;\n",
              "    }\n",
              "\n",
              "    .dataframe thead th {\n",
              "        text-align: right;\n",
              "    }\n",
              "</style>\n",
              "<table border=\"1\" class=\"dataframe\">\n",
              "  <thead>\n",
              "    <tr style=\"text-align: right;\">\n",
              "      <th></th>\n",
              "      <th>Name</th>\n",
              "      <th>Address</th>\n",
              "      <th>City</th>\n",
              "      <th>Category</th>\n",
              "      <th>Rating</th>\n",
              "      <th>URL</th>\n",
              "    </tr>\n",
              "  </thead>\n",
              "  <tbody>\n",
              "    <tr>\n",
              "      <th>0</th>\n",
              "      <td>Rambling House</td>\n",
              "      <td>4292 Katonah Ave</td>\n",
              "      <td>Bronx</td>\n",
              "      <td>Pubs</td>\n",
              "      <td>4.0</td>\n",
              "      <td>http://www.yelp.com/biz/rambling-house-bronx</td>\n",
              "    </tr>\n",
              "    <tr>\n",
              "      <th>1</th>\n",
              "      <td>Curry Spot</td>\n",
              "      <td>4268 Katonah Ave</td>\n",
              "      <td>Bronx</td>\n",
              "      <td>Indian</td>\n",
              "      <td>4.0</td>\n",
              "      <td>http://www.yelp.com/biz/curry-spot-bronx</td>\n",
              "    </tr>\n",
              "    <tr>\n",
              "      <th>2</th>\n",
              "      <td>Eileens Country Kitchen</td>\n",
              "      <td>964 McLean Ave</td>\n",
              "      <td>Yonkers</td>\n",
              "      <td>American (Traditional)</td>\n",
              "      <td>3.5</td>\n",
              "      <td>http://www.yelp.com/biz/eileens-country-kitche...</td>\n",
              "    </tr>\n",
              "  </tbody>\n",
              "</table>\n",
              "</div>\n",
              "      <button class=\"colab-df-convert\" onclick=\"convertToInteractive('df-dc87de7c-a69a-4f18-b71d-9955ba781c9a')\"\n",
              "              title=\"Convert this dataframe to an interactive table.\"\n",
              "              style=\"display:none;\">\n",
              "        \n",
              "  <svg xmlns=\"http://www.w3.org/2000/svg\" height=\"24px\"viewBox=\"0 0 24 24\"\n",
              "       width=\"24px\">\n",
              "    <path d=\"M0 0h24v24H0V0z\" fill=\"none\"/>\n",
              "    <path d=\"M18.56 5.44l.94 2.06.94-2.06 2.06-.94-2.06-.94-.94-2.06-.94 2.06-2.06.94zm-11 1L8.5 8.5l.94-2.06 2.06-.94-2.06-.94L8.5 2.5l-.94 2.06-2.06.94zm10 10l.94 2.06.94-2.06 2.06-.94-2.06-.94-.94-2.06-.94 2.06-2.06.94z\"/><path d=\"M17.41 7.96l-1.37-1.37c-.4-.4-.92-.59-1.43-.59-.52 0-1.04.2-1.43.59L10.3 9.45l-7.72 7.72c-.78.78-.78 2.05 0 2.83L4 21.41c.39.39.9.59 1.41.59.51 0 1.02-.2 1.41-.59l7.78-7.78 2.81-2.81c.8-.78.8-2.07 0-2.86zM5.41 20L4 18.59l7.72-7.72 1.47 1.35L5.41 20z\"/>\n",
              "  </svg>\n",
              "      </button>\n",
              "      \n",
              "  <style>\n",
              "    .colab-df-container {\n",
              "      display:flex;\n",
              "      flex-wrap:wrap;\n",
              "      gap: 12px;\n",
              "    }\n",
              "\n",
              "    .colab-df-convert {\n",
              "      background-color: #E8F0FE;\n",
              "      border: none;\n",
              "      border-radius: 50%;\n",
              "      cursor: pointer;\n",
              "      display: none;\n",
              "      fill: #1967D2;\n",
              "      height: 32px;\n",
              "      padding: 0 0 0 0;\n",
              "      width: 32px;\n",
              "    }\n",
              "\n",
              "    .colab-df-convert:hover {\n",
              "      background-color: #E2EBFA;\n",
              "      box-shadow: 0px 1px 2px rgba(60, 64, 67, 0.3), 0px 1px 3px 1px rgba(60, 64, 67, 0.15);\n",
              "      fill: #174EA6;\n",
              "    }\n",
              "\n",
              "    [theme=dark] .colab-df-convert {\n",
              "      background-color: #3B4455;\n",
              "      fill: #D2E3FC;\n",
              "    }\n",
              "\n",
              "    [theme=dark] .colab-df-convert:hover {\n",
              "      background-color: #434B5C;\n",
              "      box-shadow: 0px 1px 3px 1px rgba(0, 0, 0, 0.15);\n",
              "      filter: drop-shadow(0px 1px 2px rgba(0, 0, 0, 0.3));\n",
              "      fill: #FFFFFF;\n",
              "    }\n",
              "  </style>\n",
              "\n",
              "      <script>\n",
              "        const buttonEl =\n",
              "          document.querySelector('#df-dc87de7c-a69a-4f18-b71d-9955ba781c9a button.colab-df-convert');\n",
              "        buttonEl.style.display =\n",
              "          google.colab.kernel.accessAllowed ? 'block' : 'none';\n",
              "\n",
              "        async function convertToInteractive(key) {\n",
              "          const element = document.querySelector('#df-dc87de7c-a69a-4f18-b71d-9955ba781c9a');\n",
              "          const dataTable =\n",
              "            await google.colab.kernel.invokeFunction('convertToInteractive',\n",
              "                                                     [key], {});\n",
              "          if (!dataTable) return;\n",
              "\n",
              "          const docLinkHtml = 'Like what you see? Visit the ' +\n",
              "            '<a target=\"_blank\" href=https://colab.research.google.com/notebooks/data_table.ipynb>data table notebook</a>'\n",
              "            + ' to learn more about interactive tables.';\n",
              "          element.innerHTML = '';\n",
              "          dataTable['output_type'] = 'display_data';\n",
              "          await google.colab.output.renderOutput(dataTable, element);\n",
              "          const docLink = document.createElement('div');\n",
              "          docLink.innerHTML = docLinkHtml;\n",
              "          element.appendChild(docLink);\n",
              "        }\n",
              "      </script>\n",
              "    </div>\n",
              "  </div>\n",
              "  "
            ]
          },
          "metadata": {},
          "execution_count": 3
        }
      ],
      "source": [
        "df.head(3)"
      ]
    },
    {
      "cell_type": "markdown",
      "metadata": {
        "id": "0xsQMScH-GCd"
      },
      "source": [
        "There's our data.  Now we'll learn about pandas in future lessons.  For now, let's stick with SQL."
      ]
    },
    {
      "cell_type": "markdown",
      "metadata": {
        "id": "HnJYkUgs-GCd"
      },
      "source": [
        "We can convert our dataframe to SQL with the `to_sql` method in pandas."
      ]
    },
    {
      "cell_type": "code",
      "execution_count": 4,
      "metadata": {
        "id": "thIpneqx-GCd",
        "outputId": "a54da91a-f72b-41dc-ae12-eead898b0fc1",
        "colab": {
          "base_uri": "https://localhost:8080/",
          "height": 166
        }
      },
      "outputs": [
        {
          "output_type": "error",
          "ename": "TypeError",
          "evalue": "ignored",
          "traceback": [
            "\u001b[0;31m---------------------------------------------------------------------------\u001b[0m",
            "\u001b[0;31mTypeError\u001b[0m                                 Traceback (most recent call last)",
            "\u001b[0;32m<ipython-input-4-c99bc5a144a4>\u001b[0m in \u001b[0;36m<module>\u001b[0;34m()\u001b[0m\n\u001b[0;32m----> 1\u001b[0;31m \u001b[0mdf\u001b[0m\u001b[0;34m.\u001b[0m\u001b[0mto_sql\u001b[0m\u001b[0;34m(\u001b[0m\u001b[0;34m)\u001b[0m\u001b[0;34m\u001b[0m\u001b[0;34m\u001b[0m\u001b[0m\n\u001b[0m",
            "\u001b[0;31mTypeError\u001b[0m: to_sql() missing 2 required positional arguments: 'name' and 'con'"
          ]
        }
      ],
      "source": [
        "df.to_sql()"
      ]
    },
    {
      "cell_type": "markdown",
      "metadata": {
        "id": "GoUo8bkX-GCe"
      },
      "source": [
        "This `to_sql` method requires two arguments: the name of the table we wish to create and a connection to the database.  We don't yet have a connection to the database, or even a database at all, so let's use SQLite to create one, and then we can pass through that connection to the `to_sql` method."
      ]
    },
    {
      "cell_type": "code",
      "execution_count": 5,
      "metadata": {
        "id": "Wrf315pq-GCe"
      },
      "outputs": [],
      "source": [
        "import sqlite3\n",
        "yelp_db = sqlite3.connect('yelp.db')"
      ]
    },
    {
      "cell_type": "code",
      "execution_count": 6,
      "metadata": {
        "id": "B-sp-leK-GCf"
      },
      "outputs": [],
      "source": [
        "df.to_sql('restaurants', yelp_db)"
      ]
    },
    {
      "cell_type": "markdown",
      "metadata": {
        "id": "ujP5q9ox-GCf"
      },
      "source": [
        "* Great so now our data from the dataframe should be loaded into our SQL table.  We can confirm this with a SELECT query to our database."
      ]
    },
    {
      "cell_type": "code",
      "execution_count": 7,
      "metadata": {
        "id": "ZFfOgFex-GCf",
        "outputId": "098c5fba-6990-4dce-c49a-dc82b3b2e6fa",
        "colab": {
          "base_uri": "https://localhost:8080/"
        }
      },
      "outputs": [
        {
          "output_type": "execute_result",
          "data": {
            "text/plain": [
              "[(0,\n",
              "  'Rambling House',\n",
              "  '4292 Katonah Ave',\n",
              "  'Bronx',\n",
              "  'Pubs',\n",
              "  4.0,\n",
              "  'http://www.yelp.com/biz/rambling-house-bronx')]"
            ]
          },
          "metadata": {},
          "execution_count": 7
        }
      ],
      "source": [
        "cursor = yelp_db.cursor()\n",
        "cursor.execute('SELECT * FROM restaurants LIMIT 1')\n",
        "cursor.fetchall()\n",
        "\n",
        "# [(0,\n",
        "#   'Rambling House',\n",
        "#   '4292 Katonah Ave',\n",
        "#   'Bronx',\n",
        "#   'Pubs',\n",
        "#   4.0,\n",
        "#   'http://www.yelp.com/biz/rambling-house-bronx')]"
      ]
    },
    {
      "cell_type": "markdown",
      "metadata": {
        "id": "MLi4tKQc-GCg"
      },
      "source": [
        "### Working with Aggregates"
      ]
    },
    {
      "cell_type": "markdown",
      "metadata": {
        "id": "3cssAg93-GCg"
      },
      "source": [
        "Now that we have our data in our `yelp.db` database, it's time to work with our aggregates.  Remember, that with aggregates, we ask questions of multiple rows.  Let's start by trying to find the highest available rating in our database.  We can do so with the following."
      ]
    },
    {
      "cell_type": "code",
      "execution_count": 8,
      "metadata": {
        "id": "S2DIP3Go-GCg",
        "outputId": "2716baf3-4dae-45b6-d4d8-bfc64cefcb35",
        "colab": {
          "base_uri": "https://localhost:8080/"
        }
      },
      "outputs": [
        {
          "output_type": "execute_result",
          "data": {
            "text/plain": [
              "[(5.0,)]"
            ]
          },
          "metadata": {},
          "execution_count": 8
        }
      ],
      "source": [
        "cursor.execute('SELECT MAX(rating) FROM restaurants')\n",
        "cursor.fetchall()\n",
        "\n",
        "# [(5.0,)]"
      ]
    },
    {
      "cell_type": "markdown",
      "metadata": {
        "id": "ByPAg6nq-GCh"
      },
      "source": [
        "Now let's find the lowest."
      ]
    },
    {
      "cell_type": "code",
      "execution_count": 9,
      "metadata": {
        "id": "vQowTCnS-GCh",
        "outputId": "79fb9110-0304-4b56-a2d4-36434534ae65",
        "colab": {
          "base_uri": "https://localhost:8080/"
        }
      },
      "outputs": [
        {
          "output_type": "execute_result",
          "data": {
            "text/plain": [
              "[(1.0,)]"
            ]
          },
          "metadata": {},
          "execution_count": 9
        }
      ],
      "source": [
        "cursor.execute('SELECT MIN(rating) FROM restaurants')\n",
        "cursor.fetchall()\n",
        "\n",
        "# [(1.0,)]"
      ]
    },
    {
      "cell_type": "markdown",
      "metadata": {
        "id": "LXWVzI1A-GCh"
      },
      "source": [
        "So we can see that only one row is returned, as there is only one maximum rating.  And the format for returning an aggregate is \n",
        "\n",
        "```sql\n",
        "SELECT aggregate(column) FROM table_name\n",
        "```"
      ]
    },
    {
      "cell_type": "markdown",
      "metadata": {
        "id": "maQ8VSgK-GCi"
      },
      "source": [
        "Let's see the AVG rating now."
      ]
    },
    {
      "cell_type": "code",
      "execution_count": 10,
      "metadata": {
        "id": "USYx7DZe-GCi",
        "outputId": "e49d9075-1a51-491c-a913-933c5a54193f",
        "colab": {
          "base_uri": "https://localhost:8080/"
        }
      },
      "outputs": [
        {
          "output_type": "execute_result",
          "data": {
            "text/plain": [
              "[(3.892015143692996,)]"
            ]
          },
          "metadata": {},
          "execution_count": 10
        }
      ],
      "source": [
        "cursor.execute('SELECT AVG(rating) FROM restaurants')\n",
        "cursor.fetchall()\n",
        "\n",
        "# [(3.892015143692996,)]"
      ]
    },
    {
      "cell_type": "markdown",
      "metadata": {
        "id": "_hpFpG0Q-GCi"
      },
      "source": [
        "That wasn't so bad.  We quickly found the average rating just using sql."
      ]
    },
    {
      "cell_type": "markdown",
      "metadata": {
        "id": "0U9QjIWG-GCi"
      },
      "source": [
        "And if we want to find the number of entries in our table we use the COUNT keyword."
      ]
    },
    {
      "cell_type": "markdown",
      "metadata": {
        "id": "ICHkM_r4-GCi"
      },
      "source": [
        "Count is interesting because we could count any individual column and if all of our data is filled, it would give us the same answer.  For example, if we counted the number of restaurant names that would return the same as the number of ratings.  Really what we want to do is count the rows.  To specify that we want to count not a specific column, but each of an entire row we use `*` as our argument. "
      ]
    },
    {
      "cell_type": "code",
      "execution_count": 11,
      "metadata": {
        "id": "enNeiLlz-GCj",
        "outputId": "cef57117-b2f5-4601-8ac1-65f2895c635a",
        "colab": {
          "base_uri": "https://localhost:8080/"
        }
      },
      "outputs": [
        {
          "output_type": "execute_result",
          "data": {
            "text/plain": [
              "[(5811,)]"
            ]
          },
          "metadata": {},
          "execution_count": 11
        }
      ],
      "source": [
        "cursor.execute('SELECT COUNT(*) FROM restaurants')\n",
        "cursor.fetchall()\n",
        "\n",
        "# [(5811,)]"
      ]
    },
    {
      "cell_type": "markdown",
      "metadata": {
        "id": "R3yKyLtw-GCj"
      },
      "source": [
        "### Aggregates and Where Clauses"
      ]
    },
    {
      "cell_type": "markdown",
      "metadata": {
        "id": "_MWwW6EM-GCj"
      },
      "source": [
        "So far we have queried the entire table of restaurants.  But now let's say that we want to find the average rating not for  all of the restaurants, but just for restaurants in the Bronx.  Is the rating higher or lower than the average rating of 3.89 for all of our restaurants."
      ]
    },
    {
      "cell_type": "code",
      "execution_count": 12,
      "metadata": {
        "id": "dOm9Tt70-GCj",
        "outputId": "075e3817-10df-4dce-cbc3-50c6904f1c1b",
        "colab": {
          "base_uri": "https://localhost:8080/"
        }
      },
      "outputs": [
        {
          "output_type": "execute_result",
          "data": {
            "text/plain": [
              "[(3.821297429620563,)]"
            ]
          },
          "metadata": {},
          "execution_count": 12
        }
      ],
      "source": [
        "cursor.execute('SELECT AVG(rating) FROM restaurants WHERE City = \"Bronx\"')\n",
        "cursor.fetchall()\n",
        "\n",
        "# [(3.821297429620563,)]"
      ]
    },
    {
      "cell_type": "markdown",
      "metadata": {
        "id": "IpqC5ywt-GCj"
      },
      "source": [
        "So it is slightly lower.  So we can see that first SQL limited the restaurants to those from the Bronx, and then took the average."
      ]
    },
    {
      "cell_type": "markdown",
      "metadata": {
        "id": "V7uu6JiU-GCk"
      },
      "source": [
        "### Summary"
      ]
    },
    {
      "cell_type": "markdown",
      "metadata": {
        "id": "eN14wERu-GCk"
      },
      "source": [
        "In this lesson, we saw how to perform aggregate methods with SQL.  Aggregate methods are those that return a value based on a calculation from multiple rows in the database instead of just one.  We saw that return an aggregate value by using the syntax of `SELECT aggregate(column_name) FROM table_name`.  And we saw that we can return the aggregate for a subset of our rows by combining our aggregate method with a where clause."
      ]
    }
  ],
  "metadata": {
    "kernelspec": {
      "display_name": "Python 3 (ipykernel)",
      "language": "python",
      "name": "python3"
    },
    "language_info": {
      "codemirror_mode": {
        "name": "ipython",
        "version": 3
      },
      "file_extension": ".py",
      "mimetype": "text/x-python",
      "name": "python",
      "nbconvert_exporter": "python",
      "pygments_lexer": "ipython3",
      "version": "3.9.7"
    },
    "colab": {
      "name": "1-sql-aggregates.ipynb",
      "provenance": []
    }
  },
  "nbformat": 4,
  "nbformat_minor": 0
}