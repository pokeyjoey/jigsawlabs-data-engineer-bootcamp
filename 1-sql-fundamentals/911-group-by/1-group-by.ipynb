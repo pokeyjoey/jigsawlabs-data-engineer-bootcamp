{
  "cells": [
    {
      "cell_type": "markdown",
      "metadata": {
        "id": "xb2sfA0QEfnb"
      },
      "source": [
        "# Group By and Having"
      ]
    },
    {
      "cell_type": "markdown",
      "metadata": {
        "id": "DhoKkN7VEfnf"
      },
      "source": [
        "### Introduction"
      ]
    },
    {
      "cell_type": "markdown",
      "metadata": {
        "id": "RoIol6_BEfnf"
      },
      "source": [
        "Now so far, when we have queried for aggregate information, we have done by asking questions about the entire table, or a single subset of the table.  For example, we could answer a question about the average rating of a restaurant in the Bronx, and then perhaps a separate query about the average restaurant rating in Queens.  But what if we'd like to organize our data into different groups based on the neighborhood, and then calculate the average rating of each group of restaurants?  For that we use group by.  "
      ]
    },
    {
      "cell_type": "markdown",
      "metadata": {
        "id": "vuPdmSt2Efng"
      },
      "source": [
        "### Working with Group By"
      ]
    },
    {
      "cell_type": "markdown",
      "metadata": {
        "id": "6hEWH97OEfng"
      },
      "source": [
        "Let's start with that exact query.  We'll group our restaurants based on neighborhood and then calculate the average rating."
      ]
    },
    {
      "cell_type": "code",
      "execution_count": 1,
      "metadata": {
        "id": "zohErZJ6Efnh"
      },
      "outputs": [],
      "source": [
        "import pandas as pd\n",
        "import sqlite3\n",
        "\n",
        "yelp_db = sqlite3.connect('yelp.db')\n",
        "df = pd.read_csv('https://raw.githubusercontent.com/ledeprogram/courses/master/foundations/mapping/tilemill/yelp-lunch-nyc.csv')\n",
        "df.to_sql('restaurants', yelp_db)\n",
        "cursor = yelp_db.cursor()"
      ]
    },
    {
      "cell_type": "code",
      "execution_count": 2,
      "metadata": {
        "id": "LM1qLOmGEfni",
        "outputId": "2bb15db9-14cb-482a-e48c-22491a0b5642",
        "colab": {
          "base_uri": "https://localhost:8080/",
          "height": 112
        }
      },
      "outputs": [
        {
          "output_type": "execute_result",
          "data": {
            "text/plain": [
              "             Name           Address   City Category  Rating  \\\n",
              "0  Rambling House  4292 Katonah Ave  Bronx     Pubs     4.0   \n",
              "1      Curry Spot  4268 Katonah Ave  Bronx   Indian     4.0   \n",
              "\n",
              "                                            URL  \n",
              "0  http://www.yelp.com/biz/rambling-house-bronx  \n",
              "1      http://www.yelp.com/biz/curry-spot-bronx  "
            ],
            "text/html": [
              "\n",
              "  <div id=\"df-8d786b50-613e-45a3-b543-307813111d8e\">\n",
              "    <div class=\"colab-df-container\">\n",
              "      <div>\n",
              "<style scoped>\n",
              "    .dataframe tbody tr th:only-of-type {\n",
              "        vertical-align: middle;\n",
              "    }\n",
              "\n",
              "    .dataframe tbody tr th {\n",
              "        vertical-align: top;\n",
              "    }\n",
              "\n",
              "    .dataframe thead th {\n",
              "        text-align: right;\n",
              "    }\n",
              "</style>\n",
              "<table border=\"1\" class=\"dataframe\">\n",
              "  <thead>\n",
              "    <tr style=\"text-align: right;\">\n",
              "      <th></th>\n",
              "      <th>Name</th>\n",
              "      <th>Address</th>\n",
              "      <th>City</th>\n",
              "      <th>Category</th>\n",
              "      <th>Rating</th>\n",
              "      <th>URL</th>\n",
              "    </tr>\n",
              "  </thead>\n",
              "  <tbody>\n",
              "    <tr>\n",
              "      <th>0</th>\n",
              "      <td>Rambling House</td>\n",
              "      <td>4292 Katonah Ave</td>\n",
              "      <td>Bronx</td>\n",
              "      <td>Pubs</td>\n",
              "      <td>4.0</td>\n",
              "      <td>http://www.yelp.com/biz/rambling-house-bronx</td>\n",
              "    </tr>\n",
              "    <tr>\n",
              "      <th>1</th>\n",
              "      <td>Curry Spot</td>\n",
              "      <td>4268 Katonah Ave</td>\n",
              "      <td>Bronx</td>\n",
              "      <td>Indian</td>\n",
              "      <td>4.0</td>\n",
              "      <td>http://www.yelp.com/biz/curry-spot-bronx</td>\n",
              "    </tr>\n",
              "  </tbody>\n",
              "</table>\n",
              "</div>\n",
              "      <button class=\"colab-df-convert\" onclick=\"convertToInteractive('df-8d786b50-613e-45a3-b543-307813111d8e')\"\n",
              "              title=\"Convert this dataframe to an interactive table.\"\n",
              "              style=\"display:none;\">\n",
              "        \n",
              "  <svg xmlns=\"http://www.w3.org/2000/svg\" height=\"24px\"viewBox=\"0 0 24 24\"\n",
              "       width=\"24px\">\n",
              "    <path d=\"M0 0h24v24H0V0z\" fill=\"none\"/>\n",
              "    <path d=\"M18.56 5.44l.94 2.06.94-2.06 2.06-.94-2.06-.94-.94-2.06-.94 2.06-2.06.94zm-11 1L8.5 8.5l.94-2.06 2.06-.94-2.06-.94L8.5 2.5l-.94 2.06-2.06.94zm10 10l.94 2.06.94-2.06 2.06-.94-2.06-.94-.94-2.06-.94 2.06-2.06.94z\"/><path d=\"M17.41 7.96l-1.37-1.37c-.4-.4-.92-.59-1.43-.59-.52 0-1.04.2-1.43.59L10.3 9.45l-7.72 7.72c-.78.78-.78 2.05 0 2.83L4 21.41c.39.39.9.59 1.41.59.51 0 1.02-.2 1.41-.59l7.78-7.78 2.81-2.81c.8-.78.8-2.07 0-2.86zM5.41 20L4 18.59l7.72-7.72 1.47 1.35L5.41 20z\"/>\n",
              "  </svg>\n",
              "      </button>\n",
              "      \n",
              "  <style>\n",
              "    .colab-df-container {\n",
              "      display:flex;\n",
              "      flex-wrap:wrap;\n",
              "      gap: 12px;\n",
              "    }\n",
              "\n",
              "    .colab-df-convert {\n",
              "      background-color: #E8F0FE;\n",
              "      border: none;\n",
              "      border-radius: 50%;\n",
              "      cursor: pointer;\n",
              "      display: none;\n",
              "      fill: #1967D2;\n",
              "      height: 32px;\n",
              "      padding: 0 0 0 0;\n",
              "      width: 32px;\n",
              "    }\n",
              "\n",
              "    .colab-df-convert:hover {\n",
              "      background-color: #E2EBFA;\n",
              "      box-shadow: 0px 1px 2px rgba(60, 64, 67, 0.3), 0px 1px 3px 1px rgba(60, 64, 67, 0.15);\n",
              "      fill: #174EA6;\n",
              "    }\n",
              "\n",
              "    [theme=dark] .colab-df-convert {\n",
              "      background-color: #3B4455;\n",
              "      fill: #D2E3FC;\n",
              "    }\n",
              "\n",
              "    [theme=dark] .colab-df-convert:hover {\n",
              "      background-color: #434B5C;\n",
              "      box-shadow: 0px 1px 3px 1px rgba(0, 0, 0, 0.15);\n",
              "      filter: drop-shadow(0px 1px 2px rgba(0, 0, 0, 0.3));\n",
              "      fill: #FFFFFF;\n",
              "    }\n",
              "  </style>\n",
              "\n",
              "      <script>\n",
              "        const buttonEl =\n",
              "          document.querySelector('#df-8d786b50-613e-45a3-b543-307813111d8e button.colab-df-convert');\n",
              "        buttonEl.style.display =\n",
              "          google.colab.kernel.accessAllowed ? 'block' : 'none';\n",
              "\n",
              "        async function convertToInteractive(key) {\n",
              "          const element = document.querySelector('#df-8d786b50-613e-45a3-b543-307813111d8e');\n",
              "          const dataTable =\n",
              "            await google.colab.kernel.invokeFunction('convertToInteractive',\n",
              "                                                     [key], {});\n",
              "          if (!dataTable) return;\n",
              "\n",
              "          const docLinkHtml = 'Like what you see? Visit the ' +\n",
              "            '<a target=\"_blank\" href=https://colab.research.google.com/notebooks/data_table.ipynb>data table notebook</a>'\n",
              "            + ' to learn more about interactive tables.';\n",
              "          element.innerHTML = '';\n",
              "          dataTable['output_type'] = 'display_data';\n",
              "          await google.colab.output.renderOutput(dataTable, element);\n",
              "          const docLink = document.createElement('div');\n",
              "          docLink.innerHTML = docLinkHtml;\n",
              "          element.appendChild(docLink);\n",
              "        }\n",
              "      </script>\n",
              "    </div>\n",
              "  </div>\n",
              "  "
            ]
          },
          "metadata": {},
          "execution_count": 2
        }
      ],
      "source": [
        "df[:2]"
      ]
    },
    {
      "cell_type": "code",
      "execution_count": 3,
      "metadata": {
        "id": "ckEVnKbIEfnj",
        "outputId": "70a1f7c7-bd91-4628-f071-12703d758c1d",
        "colab": {
          "base_uri": "https://localhost:8080/"
        }
      },
      "outputs": [
        {
          "output_type": "execute_result",
          "data": {
            "text/plain": [
              "<sqlite3.Cursor at 0x7ff4e8e152d0>"
            ]
          },
          "metadata": {},
          "execution_count": 3
        }
      ],
      "source": [
        "cursor.execute('SELECT City, AVG(rating) from restaurants GROUP BY City LIMIT 5;')"
      ]
    },
    {
      "cell_type": "code",
      "execution_count": 4,
      "metadata": {
        "id": "9yZeIW1uEfnk",
        "outputId": "6ad06418-f18b-4a39-97d1-bde653510108",
        "colab": {
          "base_uri": "https://localhost:8080/"
        }
      },
      "outputs": [
        {
          "output_type": "execute_result",
          "data": {
            "text/plain": [
              "[('Arverne', 4.0),\n",
              " ('Astoria', 4.114130434782608),\n",
              " ('Bayonne', 4.0),\n",
              " ('Bayside', 3.907142857142857),\n",
              " ('Belle Harbor', 2.5)]"
            ]
          },
          "metadata": {},
          "execution_count": 4
        }
      ],
      "source": [
        "cursor.fetchall()"
      ]
    },
    {
      "cell_type": "markdown",
      "metadata": {
        "id": "FQNOz2IPEfnl"
      },
      "source": [
        "`SELECT AVG(rating) from restaurants GROUP BY neighborhood`"
      ]
    },
    {
      "cell_type": "markdown",
      "metadata": {
        "id": "SoI9ngHvEfnl"
      },
      "source": [
        "One way to think of GROUP BY is that it first creates separate piles of the data based on the column provided, and then performs the calculation for each pile."
      ]
    },
    {
      "cell_type": "markdown",
      "metadata": {
        "id": "W7r3M3F0Efnl"
      },
      "source": [
        "Note that we can use GROUP BY with any of our aggregate methods.  Let's do another one."
      ]
    },
    {
      "cell_type": "code",
      "execution_count": 5,
      "metadata": {
        "id": "Gt17as3VEfnm",
        "outputId": "a69f9d85-9af6-4f9d-b14e-8ea9cffb8bb0",
        "colab": {
          "base_uri": "https://localhost:8080/"
        }
      },
      "outputs": [
        {
          "output_type": "execute_result",
          "data": {
            "text/plain": [
              "[('Arverne', 3),\n",
              " ('Astoria', 92),\n",
              " ('Bayonne', 4),\n",
              " ('Bayside', 70),\n",
              " ('Belle Harbor', 3)]"
            ]
          },
          "metadata": {},
          "execution_count": 5
        }
      ],
      "source": [
        "cursor.execute('SELECT City, COUNT(*) from restaurants GROUP BY City LIMIT 5;')\n",
        "cursor.fetchall()"
      ]
    },
    {
      "cell_type": "markdown",
      "metadata": {
        "id": "gB4rLFLyEfnm"
      },
      "source": [
        "So now we have the number of restaurants in each of these cities.  Let's order by the count from largest to smallest."
      ]
    },
    {
      "cell_type": "code",
      "execution_count": 6,
      "metadata": {
        "id": "K_tBz4MbEfnn",
        "outputId": "423b489a-1e26-4149-b61e-5ae1698ed20c",
        "colab": {
          "base_uri": "https://localhost:8080/"
        }
      },
      "outputs": [
        {
          "output_type": "execute_result",
          "data": {
            "text/plain": [
              "[('Brooklyn', 1282),\n",
              " ('New York', 1149),\n",
              " ('Staten Island', 1034),\n",
              " ('Bronx', 817),\n",
              " ('Flushing', 161)]"
            ]
          },
          "metadata": {},
          "execution_count": 6
        }
      ],
      "source": [
        "cursor.execute('SELECT City, COUNT(*) as num_restaurants from restaurants GROUP BY City ORDER BY num_restaurants DESC LIMIT 5;')\n",
        "cursor.fetchall()"
      ]
    },
    {
      "cell_type": "markdown",
      "metadata": {
        "id": "o73PNfrfEfnn"
      },
      "source": [
        "### Having"
      ]
    },
    {
      "cell_type": "markdown",
      "metadata": {
        "id": "6UuACAFUEfnn"
      },
      "source": [
        "Now so far we have returned an answer for each group in a column, but sometimes this can be unweildy.  For example, we may not wish to see the average rating of each neighborhood's restaurants, but only for those neighborhoods with over 50 restaurants.  We can do so with the following:"
      ]
    },
    {
      "cell_type": "code",
      "execution_count": 7,
      "metadata": {
        "id": "EXloUdwMEfno",
        "outputId": "8ddb37cc-55fd-4dea-9b9f-30bc8cd22c66",
        "colab": {
          "base_uri": "https://localhost:8080/"
        }
      },
      "outputs": [
        {
          "output_type": "execute_result",
          "data": {
            "text/plain": [
              "[('Astoria', 4.114130434782608),\n",
              " ('Bayside', 3.907142857142857),\n",
              " ('Bronx', 3.821297429620563),\n",
              " ('Brooklyn', 3.985179407176287),\n",
              " ('Flushing', 3.919254658385093),\n",
              " ('Forest Hills', 3.8556701030927836),\n",
              " ('Jamaica', 3.913793103448276),\n",
              " ('Long Island City', 3.6785714285714284),\n",
              " ('New York', 3.987815491731941),\n",
              " ('Rockaway Park', 3.4491525423728815),\n",
              " ('Staten Island', 3.710348162475822)]"
            ]
          },
          "metadata": {},
          "execution_count": 7
        }
      ],
      "source": [
        "cursor.execute('SELECT City, AVG(rating) FROM restaurants GROUP BY City HAVING COUNT(*) > 50;')\n",
        "cursor.fetchall()"
      ]
    },
    {
      "cell_type": "markdown",
      "metadata": {
        "id": "WWN6kDbhEfno"
      },
      "source": [
        "Notice that we are scoping down our information, so it seems like we would have to use a WHERE statement, but we're using HAVING instead.  What gives?  Well we can't use the WHERE statement because of a problem of order of operations in SQL.\n",
        "\n",
        "For us to select only those categories that have more than five rows, we must first group by and then category and then perform the count.  But in SQL, by default WHERE occurs before the GROUP BY clause.  So to tell SQL to not scope down our data until after we have separated it into groups, we use the HAVING clause."
      ]
    },
    {
      "cell_type": "markdown",
      "metadata": {
        "id": "TvUp5F7qEfno"
      },
      "source": [
        "### Summary"
      ]
    },
    {
      "cell_type": "markdown",
      "metadata": {
        "id": "Eh3Efco7Efno"
      },
      "source": [
        "In this lesson, we learned about using GROUP BY in SQL.  We saw that, GROUP BY first places our rows of data into different piles, and then performs an aggregate calculation on each respective pile.  For example, the following query groups our rows by neighborhood and then counts the items in each group."
      ]
    },
    {
      "cell_type": "code",
      "execution_count": 8,
      "metadata": {
        "id": "j2in36j2Efnp",
        "outputId": "a21de405-ca87-4ae3-eee9-6fde5a3df027",
        "colab": {
          "base_uri": "https://localhost:8080/"
        }
      },
      "outputs": [
        {
          "output_type": "execute_result",
          "data": {
            "text/plain": [
              "[('Arverne', 3),\n",
              " ('Astoria', 92),\n",
              " ('Bayonne', 4),\n",
              " ('Bayside', 70),\n",
              " ('Belle Harbor', 3)]"
            ]
          },
          "metadata": {},
          "execution_count": 8
        }
      ],
      "source": [
        "cursor.execute('SELECT City, COUNT(*) from restaurants GROUP BY City LIMIT 5;')\n",
        "cursor.fetchall()"
      ]
    },
    {
      "cell_type": "markdown",
      "metadata": {
        "id": "IptqY1YeEfnp"
      },
      "source": [
        "When we are then filtering data based on an aggregate, we use the HAVING keyword so that we tell SQL to delay the filtering until after the aggregation occurs."
      ]
    }
  ],
  "metadata": {
    "kernelspec": {
      "display_name": "Python 3",
      "language": "python",
      "name": "python3"
    },
    "language_info": {
      "codemirror_mode": {
        "name": "ipython",
        "version": 3
      },
      "file_extension": ".py",
      "mimetype": "text/x-python",
      "name": "python",
      "nbconvert_exporter": "python",
      "pygments_lexer": "ipython3",
      "version": "3.8.3"
    },
    "colab": {
      "name": "1-group-by.ipynb",
      "provenance": []
    }
  },
  "nbformat": 4,
  "nbformat_minor": 0
}