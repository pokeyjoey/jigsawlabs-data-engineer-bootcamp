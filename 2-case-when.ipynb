{
  "cells": [
    {
      "cell_type": "markdown",
      "id": "42e57a52-7034-4263-8b61-f6828da501fd",
      "metadata": {
        "id": "42e57a52-7034-4263-8b61-f6828da501fd"
      },
      "source": [
        "# Case When"
      ]
    },
    {
      "cell_type": "markdown",
      "id": "41b3781f-8683-4dcc-9968-586d07bb7db4",
      "metadata": {
        "tags": [],
        "id": "41b3781f-8683-4dcc-9968-586d07bb7db4"
      },
      "source": [
        "### Introduction"
      ]
    },
    {
      "cell_type": "markdown",
      "id": "58fb51c0-865f-4477-9f4d-5d8a9411baf7",
      "metadata": {
        "id": "58fb51c0-865f-4477-9f4d-5d8a9411baf7"
      },
      "source": [
        "In this lesson, we'll see another way to convert data and that is with the CASE WHEN command.  Let's get started."
      ]
    },
    {
      "cell_type": "markdown",
      "id": "04b37548-3a1f-4c65-a607-95f21bc6f3fd",
      "metadata": {
        "id": "04b37548-3a1f-4c65-a607-95f21bc6f3fd"
      },
      "source": [
        "### Loading our Data"
      ]
    },
    {
      "cell_type": "markdown",
      "id": "6536c31d-0c93-422f-81d2-3eb172fcd225",
      "metadata": {
        "id": "6536c31d-0c93-422f-81d2-3eb172fcd225"
      },
      "source": [
        "For this lesson, let's use data from yelp on restaurants in NYC."
      ]
    },
    {
      "cell_type": "code",
      "execution_count": null,
      "id": "7f52b830-973a-490a-a495-36496f70fcde",
      "metadata": {
        "id": "7f52b830-973a-490a-a495-36496f70fcde"
      },
      "outputs": [],
      "source": [
        "import sqlite3\n",
        "conn = sqlite3.connect('yelp.db')"
      ]
    },
    {
      "cell_type": "code",
      "execution_count": null,
      "id": "f7a3c587-e636-4d14-b40d-40a9f9c5faa7",
      "metadata": {
        "id": "f7a3c587-e636-4d14-b40d-40a9f9c5faa7",
        "outputId": "f47b6092-6209-4f5f-b40a-399d76dfa4ec"
      },
      "outputs": [
        {
          "data": {
            "text/html": [
              "<div>\n",
              "<style scoped>\n",
              "    .dataframe tbody tr th:only-of-type {\n",
              "        vertical-align: middle;\n",
              "    }\n",
              "\n",
              "    .dataframe tbody tr th {\n",
              "        vertical-align: top;\n",
              "    }\n",
              "\n",
              "    .dataframe thead th {\n",
              "        text-align: right;\n",
              "    }\n",
              "</style>\n",
              "<table border=\"1\" class=\"dataframe\">\n",
              "  <thead>\n",
              "    <tr style=\"text-align: right;\">\n",
              "      <th></th>\n",
              "      <th>Name</th>\n",
              "      <th>Address</th>\n",
              "      <th>City</th>\n",
              "      <th>Category</th>\n",
              "      <th>Rating</th>\n",
              "      <th>URL</th>\n",
              "    </tr>\n",
              "  </thead>\n",
              "  <tbody>\n",
              "    <tr>\n",
              "      <th>0</th>\n",
              "      <td>Rambling House</td>\n",
              "      <td>4292 Katonah Ave</td>\n",
              "      <td>Bronx</td>\n",
              "      <td>Pubs</td>\n",
              "      <td>4.0</td>\n",
              "      <td>http://www.yelp.com/biz/rambling-house-bronx</td>\n",
              "    </tr>\n",
              "  </tbody>\n",
              "</table>\n",
              "</div>"
            ],
            "text/plain": [
              "             Name           Address   City Category  Rating  \\\n",
              "0  Rambling House  4292 Katonah Ave  Bronx     Pubs     4.0   \n",
              "\n",
              "                                            URL  \n",
              "0  http://www.yelp.com/biz/rambling-house-bronx  "
            ]
          },
          "execution_count": 2,
          "metadata": {},
          "output_type": "execute_result"
        }
      ],
      "source": [
        "import pandas as pd\n",
        "url = \"https://raw.githubusercontent.com/data-eng-10-21/case-when/main/lunches.csv\"\n",
        "df = pd.read_csv(url, index_col = 0)\n",
        "df[:1]"
      ]
    },
    {
      "cell_type": "code",
      "execution_count": null,
      "id": "c2d38572-ce7e-4bfc-a925-c77e25f4f30b",
      "metadata": {
        "id": "c2d38572-ce7e-4bfc-a925-c77e25f4f30b"
      },
      "outputs": [],
      "source": [
        "df.to_sql('restaurants', conn, index = False, if_exists = 'replace')"
      ]
    },
    {
      "cell_type": "markdown",
      "id": "b8a854cc-58c3-46b2-bab2-14d1b201772a",
      "metadata": {
        "id": "b8a854cc-58c3-46b2-bab2-14d1b201772a"
      },
      "source": [
        "### Coercing Data"
      ]
    },
    {
      "cell_type": "markdown",
      "id": "75ae8ad2-ba56-4d7d-b70d-bbf75c333340",
      "metadata": {
        "id": "75ae8ad2-ba56-4d7d-b70d-bbf75c333340"
      },
      "source": [
        "Let's get started by looking at some of our data."
      ]
    },
    {
      "cell_type": "code",
      "execution_count": null,
      "id": "bfe7406a-5c05-4b25-a6ea-ecf80b1f4e36",
      "metadata": {
        "id": "bfe7406a-5c05-4b25-a6ea-ecf80b1f4e36",
        "outputId": "83ad1daf-0c39-4e48-d7ee-53be1f16f841"
      },
      "outputs": [
        {
          "data": {
            "text/html": [
              "<div>\n",
              "<style scoped>\n",
              "    .dataframe tbody tr th:only-of-type {\n",
              "        vertical-align: middle;\n",
              "    }\n",
              "\n",
              "    .dataframe tbody tr th {\n",
              "        vertical-align: top;\n",
              "    }\n",
              "\n",
              "    .dataframe thead th {\n",
              "        text-align: right;\n",
              "    }\n",
              "</style>\n",
              "<table border=\"1\" class=\"dataframe\">\n",
              "  <thead>\n",
              "    <tr style=\"text-align: right;\">\n",
              "      <th></th>\n",
              "      <th>Name</th>\n",
              "      <th>Address</th>\n",
              "      <th>City</th>\n",
              "      <th>Category</th>\n",
              "      <th>Rating</th>\n",
              "      <th>URL</th>\n",
              "    </tr>\n",
              "  </thead>\n",
              "  <tbody>\n",
              "    <tr>\n",
              "      <th>0</th>\n",
              "      <td>Rambling House</td>\n",
              "      <td>4292 Katonah Ave</td>\n",
              "      <td>Bronx</td>\n",
              "      <td>Pubs</td>\n",
              "      <td>4.0</td>\n",
              "      <td>http://www.yelp.com/biz/rambling-house-bronx</td>\n",
              "    </tr>\n",
              "    <tr>\n",
              "      <th>1</th>\n",
              "      <td>Curry Spot</td>\n",
              "      <td>4268 Katonah Ave</td>\n",
              "      <td>Bronx</td>\n",
              "      <td>Indian</td>\n",
              "      <td>4.0</td>\n",
              "      <td>http://www.yelp.com/biz/curry-spot-bronx</td>\n",
              "    </tr>\n",
              "    <tr>\n",
              "      <th>2</th>\n",
              "      <td>Eileens Country Kitchen</td>\n",
              "      <td>964 McLean Ave</td>\n",
              "      <td>Yonkers</td>\n",
              "      <td>American (Traditional)</td>\n",
              "      <td>3.5</td>\n",
              "      <td>http://www.yelp.com/biz/eileens-country-kitche...</td>\n",
              "    </tr>\n",
              "    <tr>\n",
              "      <th>3</th>\n",
              "      <td>Ali's Roti Shop</td>\n",
              "      <td>4220 White Plains Rd</td>\n",
              "      <td>Bronx</td>\n",
              "      <td>Trinidadian</td>\n",
              "      <td>4.0</td>\n",
              "      <td>http://www.yelp.com/biz/alis-roti-shop-bronx</td>\n",
              "    </tr>\n",
              "    <tr>\n",
              "      <th>4</th>\n",
              "      <td>HIM Ital Health Food Market</td>\n",
              "      <td>4374b White Plains Rd</td>\n",
              "      <td>Bronx</td>\n",
              "      <td>Health Markets</td>\n",
              "      <td>4.5</td>\n",
              "      <td>http://www.yelp.com/biz/him-ital-health-food-m...</td>\n",
              "    </tr>\n",
              "  </tbody>\n",
              "</table>\n",
              "</div>"
            ],
            "text/plain": [
              "                          Name                Address     City  \\\n",
              "0               Rambling House       4292 Katonah Ave    Bronx   \n",
              "1                   Curry Spot       4268 Katonah Ave    Bronx   \n",
              "2      Eileens Country Kitchen         964 McLean Ave  Yonkers   \n",
              "3              Ali's Roti Shop   4220 White Plains Rd    Bronx   \n",
              "4  HIM Ital Health Food Market  4374b White Plains Rd    Bronx   \n",
              "\n",
              "                 Category  Rating  \\\n",
              "0                    Pubs     4.0   \n",
              "1                  Indian     4.0   \n",
              "2  American (Traditional)     3.5   \n",
              "3             Trinidadian     4.0   \n",
              "4          Health Markets     4.5   \n",
              "\n",
              "                                                 URL  \n",
              "0       http://www.yelp.com/biz/rambling-house-bronx  \n",
              "1           http://www.yelp.com/biz/curry-spot-bronx  \n",
              "2  http://www.yelp.com/biz/eileens-country-kitche...  \n",
              "3       http://www.yelp.com/biz/alis-roti-shop-bronx  \n",
              "4  http://www.yelp.com/biz/him-ital-health-food-m...  "
            ]
          },
          "execution_count": 35,
          "metadata": {},
          "output_type": "execute_result"
        }
      ],
      "source": [
        "query = \"\"\"\n",
        "SELECT *\n",
        "FROM restaurants LIMIT 5;\n",
        "\"\"\"\n",
        "\n",
        "pd.read_sql(query, conn)"
      ]
    },
    {
      "cell_type": "markdown",
      "id": "420aac08-05a7-455b-b08b-2317000b4096",
      "metadata": {
        "id": "420aac08-05a7-455b-b08b-2317000b4096"
      },
      "source": [
        "We can see that one of the first categories is `American (Traditional)`.  Let's use a CASE when statement to change `American (Traditional)` to just American."
      ]
    },
    {
      "cell_type": "code",
      "execution_count": null,
      "id": "f79e1dc7-f7bd-4036-8842-cc0e66818037",
      "metadata": {
        "id": "f79e1dc7-f7bd-4036-8842-cc0e66818037",
        "outputId": "f7c340fc-5906-4b14-f656-d7cf414f053b"
      },
      "outputs": [
        {
          "data": {
            "text/html": [
              "<div>\n",
              "<style scoped>\n",
              "    .dataframe tbody tr th:only-of-type {\n",
              "        vertical-align: middle;\n",
              "    }\n",
              "\n",
              "    .dataframe tbody tr th {\n",
              "        vertical-align: top;\n",
              "    }\n",
              "\n",
              "    .dataframe thead th {\n",
              "        text-align: right;\n",
              "    }\n",
              "</style>\n",
              "<table border=\"1\" class=\"dataframe\">\n",
              "  <thead>\n",
              "    <tr style=\"text-align: right;\">\n",
              "      <th></th>\n",
              "      <th>category</th>\n",
              "    </tr>\n",
              "  </thead>\n",
              "  <tbody>\n",
              "    <tr>\n",
              "      <th>0</th>\n",
              "      <td>Pubs</td>\n",
              "    </tr>\n",
              "    <tr>\n",
              "      <th>1</th>\n",
              "      <td>Indian</td>\n",
              "    </tr>\n",
              "    <tr>\n",
              "      <th>2</th>\n",
              "      <td>American</td>\n",
              "    </tr>\n",
              "    <tr>\n",
              "      <th>3</th>\n",
              "      <td>Trinidadian</td>\n",
              "    </tr>\n",
              "    <tr>\n",
              "      <th>4</th>\n",
              "      <td>Health Markets</td>\n",
              "    </tr>\n",
              "  </tbody>\n",
              "</table>\n",
              "</div>"
            ],
            "text/plain": [
              "         category\n",
              "0            Pubs\n",
              "1          Indian\n",
              "2        American\n",
              "3     Trinidadian\n",
              "4  Health Markets"
            ]
          },
          "execution_count": 32,
          "metadata": {},
          "output_type": "execute_result"
        }
      ],
      "source": [
        "query = \"\"\"\n",
        "SELECT \n",
        "CASE WHEN category = 'American (Traditional)'\n",
        "THEN 'American'\n",
        "ELSE category\n",
        "END as category\n",
        "FROM restaurants \n",
        "LIMIT 5\n",
        "\"\"\"\n",
        "\n",
        "pd.read_sql(query, conn)"
      ]
    },
    {
      "cell_type": "markdown",
      "id": "36bb6e69-27d6-4061-8584-7e03f6603560",
      "metadata": {
        "id": "36bb6e69-27d6-4061-8584-7e03f6603560"
      },
      "source": [
        "Our case when statement above looks like the following:"
      ]
    },
    {
      "cell_type": "markdown",
      "id": "585c0dc4-6854-466f-90ed-01c7a9afd6d1",
      "metadata": {
        "id": "585c0dc4-6854-466f-90ed-01c7a9afd6d1"
      },
      "source": [
        "```SQL\n",
        "CASE WHEN category = 'American (Traditional)'\n",
        "THEN 'American'\n",
        "ELSE category\n",
        "END as category\n",
        "```"
      ]
    },
    {
      "cell_type": "markdown",
      "id": "7f7a17fe-4010-473c-a038-57c492304a52",
      "metadata": {
        "id": "7f7a17fe-4010-473c-a038-57c492304a52"
      },
      "source": [
        "So above, the `CASE WHEN ... = ` essentially acts as our `if` statement.  And we are saying that when the category is `American (Traditional)` change it to just be `American` otherwise, keep the `category` value.  \n",
        "\n",
        "Finally, we end the case when statement with the ELSE value and give the resulting column an alias of category. \n",
        "\n",
        "Notice that if we do not provide an ELSE value, SQL will set this value to null."
      ]
    },
    {
      "cell_type": "code",
      "execution_count": null,
      "id": "5a76e8f8-9726-42b9-9df4-c24bea51d914",
      "metadata": {
        "id": "5a76e8f8-9726-42b9-9df4-c24bea51d914",
        "outputId": "04e6f0e2-aa74-41eb-8a8b-fe7b7abf158f"
      },
      "outputs": [
        {
          "data": {
            "text/html": [
              "<div>\n",
              "<style scoped>\n",
              "    .dataframe tbody tr th:only-of-type {\n",
              "        vertical-align: middle;\n",
              "    }\n",
              "\n",
              "    .dataframe tbody tr th {\n",
              "        vertical-align: top;\n",
              "    }\n",
              "\n",
              "    .dataframe thead th {\n",
              "        text-align: right;\n",
              "    }\n",
              "</style>\n",
              "<table border=\"1\" class=\"dataframe\">\n",
              "  <thead>\n",
              "    <tr style=\"text-align: right;\">\n",
              "      <th></th>\n",
              "      <th>category</th>\n",
              "    </tr>\n",
              "  </thead>\n",
              "  <tbody>\n",
              "    <tr>\n",
              "      <th>0</th>\n",
              "      <td>None</td>\n",
              "    </tr>\n",
              "    <tr>\n",
              "      <th>1</th>\n",
              "      <td>None</td>\n",
              "    </tr>\n",
              "    <tr>\n",
              "      <th>2</th>\n",
              "      <td>American</td>\n",
              "    </tr>\n",
              "  </tbody>\n",
              "</table>\n",
              "</div>"
            ],
            "text/plain": [
              "   category\n",
              "0      None\n",
              "1      None\n",
              "2  American"
            ]
          },
          "execution_count": 34,
          "metadata": {},
          "output_type": "execute_result"
        }
      ],
      "source": [
        "query = \"\"\"\n",
        "SELECT \n",
        "CASE WHEN category = 'American (Traditional)'\n",
        "THEN 'American'\n",
        "END as category\n",
        "FROM restaurants \n",
        "LIMIT 3\n",
        "\"\"\"\n",
        "\n",
        "pd.read_sql(query, conn)"
      ]
    },
    {
      "cell_type": "markdown",
      "id": "c1ba3659-31bf-4ba0-afd8-18085294d256",
      "metadata": {
        "id": "c1ba3659-31bf-4ba0-afd8-18085294d256"
      },
      "source": [
        "### Case When in Aggregates"
      ]
    },
    {
      "cell_type": "markdown",
      "id": "616a7dd9-d8bb-466a-b117-f58463702a3a",
      "metadata": {
        "id": "616a7dd9-d8bb-466a-b117-f58463702a3a"
      },
      "source": [
        "So above, we saw how we can use case when to coerce our data.  It turns out, it is also common to use case when to perform certain calculations with SQL.  \n",
        "\n",
        "For example, let's say that we want to calculate the number of Chinese restaurants in each borough.  We can do this with the following."
      ]
    },
    {
      "cell_type": "code",
      "execution_count": null,
      "id": "8e46f9af-04ac-4b2e-a228-7cff176e5f35",
      "metadata": {
        "id": "8e46f9af-04ac-4b2e-a228-7cff176e5f35",
        "outputId": "985fedf6-81b6-4d08-d381-81d595da9a6d"
      },
      "outputs": [
        {
          "data": {
            "text/html": [
              "<div>\n",
              "<style scoped>\n",
              "    .dataframe tbody tr th:only-of-type {\n",
              "        vertical-align: middle;\n",
              "    }\n",
              "\n",
              "    .dataframe tbody tr th {\n",
              "        vertical-align: top;\n",
              "    }\n",
              "\n",
              "    .dataframe thead th {\n",
              "        text-align: right;\n",
              "    }\n",
              "</style>\n",
              "<table border=\"1\" class=\"dataframe\">\n",
              "  <thead>\n",
              "    <tr style=\"text-align: right;\">\n",
              "      <th></th>\n",
              "      <th>City</th>\n",
              "      <th>num_chinese_restaurants</th>\n",
              "    </tr>\n",
              "  </thead>\n",
              "  <tbody>\n",
              "    <tr>\n",
              "      <th>0</th>\n",
              "      <td>Staten Island</td>\n",
              "      <td>73</td>\n",
              "    </tr>\n",
              "    <tr>\n",
              "      <th>1</th>\n",
              "      <td>Brooklyn</td>\n",
              "      <td>68</td>\n",
              "    </tr>\n",
              "  </tbody>\n",
              "</table>\n",
              "</div>"
            ],
            "text/plain": [
              "            City  num_chinese_restaurants\n",
              "0  Staten Island                       73\n",
              "1       Brooklyn                       68"
            ]
          },
          "execution_count": 45,
          "metadata": {},
          "output_type": "execute_result"
        }
      ],
      "source": [
        "query = \"\"\"\n",
        "SELECT City, \n",
        "COUNT(CASE WHEN Category = 'Chinese' THEN 1 END) as num_chinese_restaurants \n",
        "FROM restaurants \n",
        "GROUP BY City \n",
        "ORDER BY num_chinese_restaurants DESC\n",
        "LIMIT 2\n",
        "\"\"\"\n",
        "\n",
        "pd.read_sql(query, conn)"
      ]
    },
    {
      "cell_type": "markdown",
      "id": "797e2b73-c585-438c-8aad-0c8838d34d2b",
      "metadata": {
        "id": "797e2b73-c585-438c-8aad-0c8838d34d2b"
      },
      "source": [
        "Let's focus on our CASE WHEN statement.  "
      ]
    },
    {
      "cell_type": "markdown",
      "id": "5e362e56-319e-4d9f-bd05-252765d7243f",
      "metadata": {
        "id": "5e362e56-319e-4d9f-bd05-252765d7243f"
      },
      "source": [
        "```sql\n",
        "COUNT(CASE WHEN Category = 'Chinese' THEN 1 END) as num_chinese_restaurants \n",
        "```"
      ]
    },
    {
      "cell_type": "markdown",
      "id": "c0032a5f-a24a-405c-a908-8a877b1413c9",
      "metadata": {
        "id": "c0032a5f-a24a-405c-a908-8a877b1413c9"
      },
      "source": [
        "The above, first replaces any occurrences of `'Chinese'` with the number 1, and any other category with a null value - as there is no ELSE statement.  Then because we have a 1 when we have a matching category and a null otherwise, we are only counting the matching categories."
      ]
    },
    {
      "cell_type": "markdown",
      "id": "9149bc5f-7e63-4467-802f-4ff47f049ec1",
      "metadata": {
        "id": "9149bc5f-7e63-4467-802f-4ff47f049ec1"
      },
      "source": [
        "Note that we can use this technique to calculate across multiple categories."
      ]
    },
    {
      "cell_type": "code",
      "execution_count": null,
      "id": "8c102391-ef17-4b0e-ab89-4aef0f1c3d75",
      "metadata": {
        "id": "8c102391-ef17-4b0e-ab89-4aef0f1c3d75",
        "outputId": "6c5699b9-fe76-4075-b1dd-a4f558333513"
      },
      "outputs": [
        {
          "data": {
            "text/html": [
              "<div>\n",
              "<style scoped>\n",
              "    .dataframe tbody tr th:only-of-type {\n",
              "        vertical-align: middle;\n",
              "    }\n",
              "\n",
              "    .dataframe tbody tr th {\n",
              "        vertical-align: top;\n",
              "    }\n",
              "\n",
              "    .dataframe thead th {\n",
              "        text-align: right;\n",
              "    }\n",
              "</style>\n",
              "<table border=\"1\" class=\"dataframe\">\n",
              "  <thead>\n",
              "    <tr style=\"text-align: right;\">\n",
              "      <th></th>\n",
              "      <th>City</th>\n",
              "      <th>num_chinese_restaurants</th>\n",
              "      <th>num_italian_restaurants</th>\n",
              "    </tr>\n",
              "  </thead>\n",
              "  <tbody>\n",
              "    <tr>\n",
              "      <th>0</th>\n",
              "      <td>Staten Island</td>\n",
              "      <td>73</td>\n",
              "      <td>121</td>\n",
              "    </tr>\n",
              "    <tr>\n",
              "      <th>1</th>\n",
              "      <td>Brooklyn</td>\n",
              "      <td>68</td>\n",
              "      <td>56</td>\n",
              "    </tr>\n",
              "  </tbody>\n",
              "</table>\n",
              "</div>"
            ],
            "text/plain": [
              "            City  num_chinese_restaurants  num_italian_restaurants\n",
              "0  Staten Island                       73                      121\n",
              "1       Brooklyn                       68                       56"
            ]
          },
          "execution_count": 47,
          "metadata": {},
          "output_type": "execute_result"
        }
      ],
      "source": [
        "query = \"\"\"\n",
        "SELECT City, \n",
        "COUNT(CASE WHEN Category = 'Chinese' THEN 1 END) as num_chinese_restaurants,\n",
        "COUNT(CASE WHEN Category = 'Italian' THEN 1 END) as num_italian_restaurants \n",
        "FROM restaurants \n",
        "GROUP BY City \n",
        "ORDER BY num_chinese_restaurants DESC\n",
        "LIMIT 2\n",
        "\"\"\"\n",
        "\n",
        "pd.read_sql(query, conn)"
      ]
    },
    {
      "cell_type": "markdown",
      "id": "47c9d7cf-e953-4422-b768-565bbb324c31",
      "metadata": {
        "id": "47c9d7cf-e953-4422-b768-565bbb324c31"
      },
      "source": [
        "And we can use case when for more than just counting.  For example, let's use case when to find the average amount of rating of chinese restaurants in each neighborhood.  We can do so with the following:"
      ]
    },
    {
      "cell_type": "code",
      "execution_count": null,
      "id": "14849cba-0bed-4b1f-81f8-9417de54a97b",
      "metadata": {
        "id": "14849cba-0bed-4b1f-81f8-9417de54a97b",
        "outputId": "7bdf825e-77bc-4867-9361-c2749e710a61"
      },
      "outputs": [
        {
          "data": {
            "text/html": [
              "<div>\n",
              "<style scoped>\n",
              "    .dataframe tbody tr th:only-of-type {\n",
              "        vertical-align: middle;\n",
              "    }\n",
              "\n",
              "    .dataframe tbody tr th {\n",
              "        vertical-align: top;\n",
              "    }\n",
              "\n",
              "    .dataframe thead th {\n",
              "        text-align: right;\n",
              "    }\n",
              "</style>\n",
              "<table border=\"1\" class=\"dataframe\">\n",
              "  <thead>\n",
              "    <tr style=\"text-align: right;\">\n",
              "      <th></th>\n",
              "      <th>City</th>\n",
              "      <th>avg_ratings</th>\n",
              "    </tr>\n",
              "  </thead>\n",
              "  <tbody>\n",
              "    <tr>\n",
              "      <th>0</th>\n",
              "      <td>New York</td>\n",
              "      <td>4.230769</td>\n",
              "    </tr>\n",
              "    <tr>\n",
              "      <th>1</th>\n",
              "      <td>Woodside</td>\n",
              "      <td>4.000000</td>\n",
              "    </tr>\n",
              "  </tbody>\n",
              "</table>\n",
              "</div>"
            ],
            "text/plain": [
              "       City  avg_ratings\n",
              "0  New York     4.230769\n",
              "1  Woodside     4.000000"
            ]
          },
          "execution_count": 54,
          "metadata": {},
          "output_type": "execute_result"
        }
      ],
      "source": [
        "query = \"\"\"\n",
        "SELECT City, \n",
        "SUM(CASE WHEN Category = 'Chinese' THEN rating ELSE 0 END)/\n",
        "COUNT(CASE WHEN Category = 'Chinese' THEN 1 END) as avg_ratings\n",
        "FROM restaurants \n",
        "GROUP BY City \n",
        "ORDER BY avg_ratings DESC\n",
        "LIMIT 2\n",
        "\"\"\"\n",
        "\n",
        "pd.read_sql(query, conn)"
      ]
    },
    {
      "cell_type": "markdown",
      "id": "a5d16b30-1353-458f-90f1-e7e312ce2bb8",
      "metadata": {
        "id": "a5d16b30-1353-458f-90f1-e7e312ce2bb8"
      },
      "source": [
        "Take a moment to try to understand the above.  In the first part, we add up the reviews of all chinese restaurants by neighborhood, and then in the second part we divide by the total number of chinese restaurants."
      ]
    },
    {
      "cell_type": "markdown",
      "id": "c0cdfd47-c7f3-4fa3-8a55-7c6898f1c008",
      "metadata": {
        "id": "c0cdfd47-c7f3-4fa3-8a55-7c6898f1c008"
      },
      "source": [
        "```sql\n",
        "SUM(CASE WHEN Category = 'Chinese' THEN rating ELSE 0 END)/\n",
        "COUNT(CASE WHEN Category = 'Chinese' THEN 1 END) as avg_ratings\n",
        "```"
      ]
    },
    {
      "cell_type": "markdown",
      "id": "8972a394-8de4-436e-9157-0a3a6fdbbe96",
      "metadata": {
        "id": "8972a394-8de4-436e-9157-0a3a6fdbbe96"
      },
      "source": [
        "### Summary "
      ]
    },
    {
      "cell_type": "markdown",
      "id": "6bc3a08c-0ff7-47d6-a7b0-404badbaa499",
      "metadata": {
        "id": "6bc3a08c-0ff7-47d6-a7b0-404badbaa499"
      },
      "source": [
        "In this lesson, we practiced using the CASE WHEN command.  We saw that two use cases for case when.  The first is to coerce our data.   \n",
        "```sql\n",
        "SELECT \n",
        "CASE WHEN category = 'American (Traditional)'\n",
        "THEN 'American'\n",
        "ELSE catgeory\n",
        "END as category\n",
        "```"
      ]
    },
    {
      "cell_type": "markdown",
      "id": "e9864d0a-a6ca-4809-a57c-2753fe54db68",
      "metadata": {
        "id": "e9864d0a-a6ca-4809-a57c-2753fe54db68"
      },
      "source": [
        "So the above coerces the `American (Traditional)` values into `American`. "
      ]
    },
    {
      "cell_type": "markdown",
      "id": "efc2a564-8cbe-4580-b97f-a2eb82fb57a3",
      "metadata": {
        "id": "efc2a564-8cbe-4580-b97f-a2eb82fb57a3"
      },
      "source": [
        "The second usecase is with aggregates to only count or add when certain conditions are met.  We were able to do this to count the number of rows that met a certain condition.  "
      ]
    },
    {
      "cell_type": "markdown",
      "id": "46e1da10-86ef-47b6-8799-4e41072261da",
      "metadata": {
        "id": "46e1da10-86ef-47b6-8799-4e41072261da"
      },
      "source": [
        "```sql\n",
        "COUNT(CASE WHEN Category = 'Chinese' THEN 1 END) as num_chinese_restaurants \n",
        "```"
      ]
    },
    {
      "cell_type": "markdown",
      "id": "664eb475-c883-4f71-9b1e-7dbc0ae90a99",
      "metadata": {
        "id": "664eb475-c883-4f71-9b1e-7dbc0ae90a99"
      },
      "source": [
        "So the above sets rows with category of `Chinese` to `1` and otherwise sets the value to null.  And then count only counts the non-null values, thus only counting up restaurants with a category of `Chinese`. "
      ]
    },
    {
      "cell_type": "markdown",
      "id": "22b852b5-8104-4dd7-8a2f-6642205c288b",
      "metadata": {
        "id": "22b852b5-8104-4dd7-8a2f-6642205c288b"
      },
      "source": [
        "### Resources\n",
        "\n",
        "[Case When dataschool](https://dataschool.com/how-to-teach-people-sql/how-case-when-works/)"
      ]
    },
    {
      "cell_type": "code",
      "execution_count": null,
      "id": "5703eff8-839f-4e7b-adef-78a0a3a544a6",
      "metadata": {
        "id": "5703eff8-839f-4e7b-adef-78a0a3a544a6"
      },
      "outputs": [],
      "source": []
    }
  ],
  "metadata": {
    "kernelspec": {
      "display_name": "Python 3 (ipykernel)",
      "language": "python",
      "name": "python3"
    },
    "language_info": {
      "codemirror_mode": {
        "name": "ipython",
        "version": 3
      },
      "file_extension": ".py",
      "mimetype": "text/x-python",
      "name": "python",
      "nbconvert_exporter": "python",
      "pygments_lexer": "ipython3",
      "version": "3.9.7"
    },
    "colab": {
      "provenance": [],
      "toc_visible": true
    }
  },
  "nbformat": 4,
  "nbformat_minor": 5
}