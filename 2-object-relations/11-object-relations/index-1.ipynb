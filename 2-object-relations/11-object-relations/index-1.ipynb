{
  "cells": [
    {
      "cell_type": "markdown",
      "metadata": {
        "id": "RD3yacI--wke"
      },
      "source": [
        "# Object Relations"
      ]
    },
    {
      "cell_type": "markdown",
      "metadata": {
        "id": "chkIk5eZ-wki"
      },
      "source": [
        "### Introduction"
      ]
    },
    {
      "cell_type": "markdown",
      "metadata": {
        "id": "mEKijZXH-wki"
      },
      "source": [
        "Now so far we have worked with individual classes, but in a larger program, we'll need to create multiple classes, whose instances interact with one another.  Let's see\n",
        "how. "
      ]
    },
    {
      "cell_type": "markdown",
      "metadata": {
        "id": "Nh1oJXTe-wkj"
      },
      "source": [
        "### Storing our instances"
      ]
    },
    {
      "cell_type": "markdown",
      "metadata": {
        "id": "Ky_PrsTW-wkj"
      },
      "source": [
        "Let's move back to our plane example.  We can create a new plane with something like the following."
      ]
    },
    {
      "cell_type": "code",
      "execution_count": 1,
      "metadata": {
        "id": "ix6DOzeY-wkk"
      },
      "outputs": [],
      "source": [
        "import datetime\n",
        "class Plane:\n",
        "    def __init__(self, year):\n",
        "        self.year = year\n",
        "        \n",
        "    def age(self):\n",
        "        now = datetime.datetime.now()\n",
        "        current_year = now.year\n",
        "        return current_year - self.year"
      ]
    },
    {
      "cell_type": "markdown",
      "metadata": {
        "id": "9KmNecq--wkl"
      },
      "source": [
        "Now, in the life of our program, we may mant to create multiple planes, and after the plane is created may want an easy way to reference each of the planes that are created.  To do this, let's create a `store` object that looks like the following."
      ]
    },
    {
      "cell_type": "code",
      "execution_count": 2,
      "metadata": {
        "id": "KgLXtf9r-wkm"
      },
      "outputs": [],
      "source": [
        "store = {'planes': []}"
      ]
    },
    {
      "cell_type": "markdown",
      "metadata": {
        "id": "hEu5IHrT-wkn"
      },
      "source": [
        "Now inside this dictionary, we can store each of the planes that are created.  Now, we can do this simply by creating a new plan, and then adding it to the store."
      ]
    },
    {
      "cell_type": "code",
      "execution_count": 3,
      "metadata": {
        "id": "PIWYQ-pj-wko"
      },
      "outputs": [],
      "source": [
        "plane = Plane(2010)"
      ]
    },
    {
      "cell_type": "code",
      "execution_count": 4,
      "metadata": {
        "id": "P03tS-pR-wko"
      },
      "outputs": [],
      "source": [
        "store['planes'].append(plane)"
      ]
    },
    {
      "cell_type": "code",
      "execution_count": 5,
      "metadata": {
        "id": "GiTLWbe2-wkp",
        "outputId": "f9e642be-2c5f-44c8-f808-609b455ff592",
        "colab": {
          "base_uri": "https://localhost:8080/"
        }
      },
      "outputs": [
        {
          "output_type": "execute_result",
          "data": {
            "text/plain": [
              "{'planes': [<__main__.Plane at 0x7f972fcedb90>]}"
            ]
          },
          "metadata": {},
          "execution_count": 5
        }
      ],
      "source": [
        "store"
      ]
    },
    {
      "cell_type": "markdown",
      "metadata": {
        "id": "3VBDb_dq-wkq"
      },
      "source": [
        "However, to ensure that this occurs automatically, upon creating a plan, we should add this process into the `__init__` function like so."
      ]
    },
    {
      "cell_type": "code",
      "execution_count": 6,
      "metadata": {
        "id": "-56cBLQ4-wkq"
      },
      "outputs": [],
      "source": [
        "store = {'planes': []}\n",
        "\n",
        "class Plane:\n",
        "    def __init__(self, year):\n",
        "        # *** line we are adding ***\n",
        "        store['planes'].append(self)\n",
        "        self.year = year\n",
        "        \n",
        "    def age(self):\n",
        "        now = datetime.datetime.now()\n",
        "        current_year = now.year\n",
        "        return current_year - self.year"
      ]
    },
    {
      "cell_type": "markdown",
      "metadata": {
        "id": "YIXKzGtq-wkr"
      },
      "source": [
        "So this time, each time a plan is created, we automatically add it to the store."
      ]
    },
    {
      "cell_type": "markdown",
      "metadata": {
        "id": "ov5qYeX6-wkr"
      },
      "source": [
        "> Let's try this by creating two new planes."
      ]
    },
    {
      "cell_type": "code",
      "execution_count": 7,
      "metadata": {
        "id": "eQgqgv2W-wkr",
        "outputId": "15359dce-bdeb-4341-ddb5-ba38b8353d09",
        "colab": {
          "base_uri": "https://localhost:8080/"
        }
      },
      "outputs": [
        {
          "output_type": "execute_result",
          "data": {
            "text/plain": [
              "{'planes': [<__main__.Plane at 0x7f972ca849d0>,\n",
              "  <__main__.Plane at 0x7f972ca84d90>]}"
            ]
          },
          "metadata": {},
          "execution_count": 7
        }
      ],
      "source": [
        "plane_one = Plane(2010)\n",
        "plane_two = Plane(2011)\n",
        "\n",
        "store"
      ]
    },
    {
      "cell_type": "markdown",
      "metadata": {
        "id": "3LQXWF8Q-wks"
      },
      "source": [
        "What's nice about this is that if we say, would like to see all of the years that our planes were made, we can do so with the following:"
      ]
    },
    {
      "cell_type": "code",
      "execution_count": 8,
      "metadata": {
        "id": "qae27J0L-wks",
        "outputId": "9a59358c-20f4-4dff-aba9-bce16c32a764",
        "colab": {
          "base_uri": "https://localhost:8080/"
        }
      },
      "outputs": [
        {
          "output_type": "execute_result",
          "data": {
            "text/plain": [
              "[2010, 2011]"
            ]
          },
          "metadata": {},
          "execution_count": 8
        }
      ],
      "source": [
        "planes = store['planes']\n",
        "[plane.year for plane in planes]"
      ]
    },
    {
      "cell_type": "markdown",
      "metadata": {
        "id": "fuECKusp-wks"
      },
      "source": [
        "So saving our instances in a collection is a nice way to see aggregate information about all of the planes created."
      ]
    },
    {
      "cell_type": "markdown",
      "metadata": {
        "id": "wkl82_Fn-wkt"
      },
      "source": [
        "Let's give each of these planes an id as well.  We can do so by updating our code to the following."
      ]
    },
    {
      "cell_type": "code",
      "execution_count": 9,
      "metadata": {
        "id": "EX6KRGWD-wkt"
      },
      "outputs": [],
      "source": [
        "store = {'planes': []}\n",
        "\n",
        "class Plane:\n",
        "    def __init__(self, year):\n",
        "        self.year = year\n",
        "        # plane counter\n",
        "        plane_id = len(store['planes']) + 1\n",
        "        store['planes'].append(self)\n",
        "        self.id = plane_id\n",
        "        \n",
        "    def age(self):\n",
        "        now = datetime.datetime.now()\n",
        "        current_year = now.year\n",
        "        return current_year - self.year"
      ]
    },
    {
      "cell_type": "code",
      "execution_count": 10,
      "metadata": {
        "id": "6fvFO9tm-wkt",
        "outputId": "900ae5ae-fef9-4d3e-ec8d-8f953e33fa82",
        "colab": {
          "base_uri": "https://localhost:8080/"
        }
      },
      "outputs": [
        {
          "output_type": "execute_result",
          "data": {
            "text/plain": [
              "{'planes': []}"
            ]
          },
          "metadata": {},
          "execution_count": 10
        }
      ],
      "source": [
        "store"
      ]
    },
    {
      "cell_type": "code",
      "execution_count": 11,
      "metadata": {
        "id": "n_d05law-wku",
        "outputId": "a6e10d6c-be18-4122-ed17-49be14b294c0",
        "colab": {
          "base_uri": "https://localhost:8080/"
        }
      },
      "outputs": [
        {
          "output_type": "execute_result",
          "data": {
            "text/plain": [
              "1"
            ]
          },
          "metadata": {},
          "execution_count": 11
        }
      ],
      "source": [
        "plane = Plane(2015)\n",
        "\n",
        "plane.id"
      ]
    },
    {
      "cell_type": "markdown",
      "metadata": {
        "id": "rTvDgx0e-wku"
      },
      "source": [
        "And now, this time, each of the planes has their own id."
      ]
    },
    {
      "cell_type": "markdown",
      "metadata": {
        "id": "aelt4MS8-wku"
      },
      "source": [
        "### Adding flights"
      ]
    },
    {
      "cell_type": "markdown",
      "metadata": {
        "id": "mBn905c0-wku"
      },
      "source": [
        "Now let's say we want to keep track of flights.  We can do so with something like the following."
      ]
    },
    {
      "cell_type": "code",
      "execution_count": 12,
      "metadata": {
        "id": "xQKvY5Xc-wku"
      },
      "outputs": [],
      "source": [
        "store = {'planes': [], 'flights': []}\n",
        "\n",
        "class Flight:\n",
        "    def __init__(self, origin_city, destination_city):\n",
        "        store['flights'].append(self)\n",
        "        self.id = len(store['flights'])\n",
        "        self.origin_city = origin_city\n",
        "        self.destination_city = destination_city"
      ]
    },
    {
      "cell_type": "code",
      "execution_count": 13,
      "metadata": {
        "id": "TejOc3id-wkv"
      },
      "outputs": [],
      "source": [
        "flight_1 = Flight('NYC', 'CHI')\n",
        "flight_2 = Flight('NYC', 'LA')"
      ]
    },
    {
      "cell_type": "markdown",
      "metadata": {
        "id": "45Kd-WVO-wkv"
      },
      "source": [
        "And then we can look reference each of the flights created with something like the following."
      ]
    },
    {
      "cell_type": "code",
      "execution_count": 14,
      "metadata": {
        "id": "5dLG6xh3-wkv",
        "outputId": "b0dad983-149f-4fc8-9c80-9de3dbc93512",
        "colab": {
          "base_uri": "https://localhost:8080/"
        }
      },
      "outputs": [
        {
          "output_type": "execute_result",
          "data": {
            "text/plain": [
              "[<__main__.Flight at 0x7f972fcedbd0>, <__main__.Flight at 0x7f972fceda90>]"
            ]
          },
          "metadata": {},
          "execution_count": 14
        }
      ],
      "source": [
        "store['flights']"
      ]
    },
    {
      "cell_type": "code",
      "execution_count": 15,
      "metadata": {
        "id": "y8xxMOC7-wkv",
        "outputId": "7aa85802-580d-46f3-edb1-8456533bffa7",
        "colab": {
          "base_uri": "https://localhost:8080/"
        }
      },
      "outputs": [
        {
          "output_type": "execute_result",
          "data": {
            "text/plain": [
              "[{'destination_city': 'CHI', 'id': 1, 'origin_city': 'NYC'},\n",
              " {'destination_city': 'LA', 'id': 2, 'origin_city': 'NYC'}]"
            ]
          },
          "metadata": {},
          "execution_count": 15
        }
      ],
      "source": [
        "[flight.__dict__ for flight in store['flights']]"
      ]
    },
    {
      "cell_type": "markdown",
      "metadata": {
        "id": "D5kQHK2V-wkw"
      },
      "source": [
        "Now it probably makes sense to associate a flight with a plane.  If we were to describe the relationship between flights and planes, we would say that: \n",
        "\n",
        "* A flight **has one** plane\n",
        "* A plane **has many** flights"
      ]
    },
    {
      "cell_type": "markdown",
      "metadata": {
        "id": "yK8ElEbw-wkw"
      },
      "source": [
        "> Take a moment to think about the above.  It's one of the key relationships we'll see.  A flight can only have one particular plane associated with it, but a plane can have many associated flights."
      ]
    },
    {
      "cell_type": "markdown",
      "metadata": {
        "id": "5lb0nXu9-wkw"
      },
      "source": [
        "Ok, now to link a a flight to a plane in code we can do something like the following."
      ]
    },
    {
      "cell_type": "code",
      "execution_count": 16,
      "metadata": {
        "id": "zWryiUOU-wkw"
      },
      "outputs": [],
      "source": [
        "class Flight:\n",
        "    def __init__(self, origin_city, destination_city, plane):\n",
        "        \n",
        "        self.id = len(store['flights']) + 1\n",
        "        self.origin_city = origin_city\n",
        "        self.destination_city = destination_city\n",
        "        \n",
        "        self.plane_id = plane.id\n",
        "        store['flights'].append(self)\n",
        "        \n",
        "    def plane(self):\n",
        "        return [plane for plane in store['planes'] if plane.id == flight.plane_id][0]"
      ]
    },
    {
      "cell_type": "code",
      "execution_count": 17,
      "metadata": {
        "id": "0iIp_ot5-wkw"
      },
      "outputs": [],
      "source": [
        "store = {'planes': [], 'plane_counter': 0, 'flights': [], 'flights_counter': 0}\n",
        "\n",
        "plane = Plane(2015)"
      ]
    },
    {
      "cell_type": "code",
      "execution_count": 18,
      "metadata": {
        "id": "ZFi81ZeT-wkx"
      },
      "outputs": [],
      "source": [
        "flight = Flight('NYC', 'CHI', plane)"
      ]
    },
    {
      "cell_type": "code",
      "execution_count": 19,
      "metadata": {
        "id": "U72iHMin-wkx",
        "outputId": "52abbd9b-aa0c-47d3-c4c8-19ceb20bf715",
        "colab": {
          "base_uri": "https://localhost:8080/"
        }
      },
      "outputs": [
        {
          "output_type": "execute_result",
          "data": {
            "text/plain": [
              "<__main__.Plane at 0x7f972fced910>"
            ]
          },
          "metadata": {},
          "execution_count": 19
        }
      ],
      "source": [
        "flight.plane()"
      ]
    },
    {
      "cell_type": "markdown",
      "metadata": {
        "id": "w55kiUjz-wkx"
      },
      "source": [
        "Let's break down what we did above.  First we stored the `plane_id` on our flight with the line `self.plane_id = plane.id` in our `__init__` function.  "
      ]
    },
    {
      "cell_type": "code",
      "execution_count": 20,
      "metadata": {
        "id": "D0ijdgf--wkx",
        "outputId": "7997dcec-4ac8-44a6-8b7f-7fc75618fee1",
        "colab": {
          "base_uri": "https://localhost:8080/"
        }
      },
      "outputs": [
        {
          "output_type": "execute_result",
          "data": {
            "text/plain": [
              "1"
            ]
          },
          "metadata": {},
          "execution_count": 20
        }
      ],
      "source": [
        "flight.plane_id"
      ]
    },
    {
      "cell_type": "markdown",
      "metadata": {
        "id": "aXG_GwpC-wky"
      },
      "source": [
        "Then in the `plane` function, to return the associated plane, we search through the associated planes until we find the plane whose id matches the flight's `plane_id`."
      ]
    },
    {
      "cell_type": "markdown",
      "metadata": {
        "id": "Afipm0QF-wky"
      },
      "source": [
        "```python \n",
        "[plane for plane in store['planes'] if plane.id == flight.plane_id][0]\n",
        "```"
      ]
    },
    {
      "cell_type": "markdown",
      "metadata": {
        "id": "FgAHSO9J-wky"
      },
      "source": [
        "### Adding a has many function"
      ]
    },
    {
      "cell_type": "markdown",
      "metadata": {
        "id": "xmiUUT2N-wky"
      },
      "source": [
        "So above, we saw how we can write a function to find the plane that belongs to the flight.  Now what if we want to find *all* of the flights associated with a plane."
      ]
    },
    {
      "cell_type": "markdown",
      "metadata": {
        "id": "GrnJ6YdO-wky"
      },
      "source": [
        "Let's start by creating another flight."
      ]
    },
    {
      "cell_type": "code",
      "execution_count": 22,
      "metadata": {
        "id": "tU9Xfgl9-wky"
      },
      "outputs": [],
      "source": [
        "store = {'planes': [], 'flights': []}\n",
        "plane = Plane(2015)\n",
        "plane_two = Plane(2018)\n",
        "\n",
        "flight = Flight('NYC', 'CHI', plane)\n",
        "flight_two = Flight('NYC', 'CHI', plane_two)\n",
        "flight_three = Flight('NYC', 'LA', plane)"
      ]
    },
    {
      "cell_type": "markdown",
      "metadata": {
        "id": "gubRYmBy-wky"
      },
      "source": [
        "So we want to find all of the flights associated with our plane.  Notice that on our plane, there is no associating data to the flight."
      ]
    },
    {
      "cell_type": "code",
      "execution_count": 23,
      "metadata": {
        "id": "6Qj9cJcN-wkz",
        "outputId": "5effdc90-8304-4acb-eb7a-e8badfbe0ec8",
        "colab": {
          "base_uri": "https://localhost:8080/"
        }
      },
      "outputs": [
        {
          "output_type": "execute_result",
          "data": {
            "text/plain": [
              "{'id': 1, 'year': 2015}"
            ]
          },
          "metadata": {},
          "execution_count": 23
        }
      ],
      "source": [
        "plane.__dict__"
      ]
    },
    {
      "cell_type": "markdown",
      "metadata": {
        "id": "fWVEn3xQ-wkz"
      },
      "source": [
        "Rather, the link between planes and flights lives on the object that *has one*, that is the flight (as the flight has one plane)."
      ]
    },
    {
      "cell_type": "code",
      "execution_count": 24,
      "metadata": {
        "id": "KHDbn9l3-wkz",
        "outputId": "f4823185-f159-47f8-8e22-c7e9a4918bbd",
        "colab": {
          "base_uri": "https://localhost:8080/"
        }
      },
      "outputs": [
        {
          "output_type": "execute_result",
          "data": {
            "text/plain": [
              "[{'destination_city': 'CHI', 'id': 1, 'origin_city': 'NYC', 'plane_id': 1},\n",
              " {'destination_city': 'CHI', 'id': 2, 'origin_city': 'NYC', 'plane_id': 2},\n",
              " {'destination_city': 'LA', 'id': 3, 'origin_city': 'NYC', 'plane_id': 1}]"
            ]
          },
          "metadata": {},
          "execution_count": 24
        }
      ],
      "source": [
        "[flight.__dict__ for flight in store['flights']]"
      ]
    },
    {
      "cell_type": "markdown",
      "metadata": {
        "id": "nUO_582e-wkz"
      },
      "source": [
        "So to find all of the flights associated with the plane with id 1, we can do the following."
      ]
    },
    {
      "cell_type": "code",
      "execution_count": 25,
      "metadata": {
        "id": "K4WEFQst-wkz"
      },
      "outputs": [],
      "source": [
        "class Plane:\n",
        "    def __init__(self, year):\n",
        "        self.year = year\n",
        "        self.id = len(store['planes']) + 1\n",
        "        store['planes'].append(self)\n",
        "        \n",
        "    def age(self):\n",
        "        now = datetime.datetime.now()\n",
        "        current_year = now.year\n",
        "        return current_year - self.year\n",
        "        \n",
        "    def flights(self):\n",
        "        return [flight for flight in store['flights'] if flight.plane_id == self.id]"
      ]
    },
    {
      "cell_type": "markdown",
      "metadata": {
        "id": "qYikMNoV-wk0"
      },
      "source": [
        "So our flights method goes through each of the flights, returning only the flight that has the plane_id that matches the current instances id."
      ]
    },
    {
      "cell_type": "markdown",
      "metadata": {
        "id": "hZ-S2jBV-wk0"
      },
      "source": [
        "Now let's try it by recreating some data."
      ]
    },
    {
      "cell_type": "code",
      "execution_count": 26,
      "metadata": {
        "id": "-pFEC89t-wk0"
      },
      "outputs": [],
      "source": [
        "store = {'planes': [], 'flights': []}\n",
        "plane = Plane(2015)\n",
        "plane_two = Plane(2018)\n",
        "\n",
        "flight = Flight('NYC', 'CHI', plane)\n",
        "flight_two = Flight('NYC', 'CHI', plane_two)\n",
        "flight_three = Flight('NYC', 'LA', plane)"
      ]
    },
    {
      "cell_type": "code",
      "execution_count": 27,
      "metadata": {
        "id": "sewK3pkd-wk0",
        "outputId": "f15d9418-33eb-48df-9d00-87b72be6481d",
        "colab": {
          "base_uri": "https://localhost:8080/"
        }
      },
      "outputs": [
        {
          "output_type": "execute_result",
          "data": {
            "text/plain": [
              "1"
            ]
          },
          "metadata": {},
          "execution_count": 27
        }
      ],
      "source": [
        "plane.id"
      ]
    },
    {
      "cell_type": "markdown",
      "metadata": {
        "id": "p-aR4rmi-wk0"
      },
      "source": [
        "So each plane_id is stored on the flight, and to find all of the flights associated with a plane, we call the flights method, which looks for the flights with the matching `plane_id`."
      ]
    },
    {
      "cell_type": "code",
      "execution_count": null,
      "metadata": {
        "id": "jnP62FVC-wk1",
        "outputId": "5a034d42-2d14-4a2f-8e83-6cc97706b118"
      },
      "outputs": [
        {
          "data": {
            "text/plain": [
              "[<__main__.Flight at 0x10f3b9130>, <__main__.Flight at 0x10f4a0ca0>]"
            ]
          },
          "execution_count": 88,
          "metadata": {},
          "output_type": "execute_result"
        }
      ],
      "source": [
        "plane.flights()"
      ]
    },
    {
      "cell_type": "code",
      "execution_count": 28,
      "metadata": {
        "id": "yMGdyAgN-wk1",
        "outputId": "194794d5-d396-4a5b-8e2b-11237655948c",
        "colab": {
          "base_uri": "https://localhost:8080/"
        }
      },
      "outputs": [
        {
          "output_type": "execute_result",
          "data": {
            "text/plain": [
              "[{'destination_city': 'CHI', 'id': 1, 'origin_city': 'NYC', 'plane_id': 1},\n",
              " {'destination_city': 'LA', 'id': 3, 'origin_city': 'NYC', 'plane_id': 1}]"
            ]
          },
          "metadata": {},
          "execution_count": 28
        }
      ],
      "source": [
        "[flight.__dict__ for flight in plane.flights()]"
      ]
    },
    {
      "cell_type": "markdown",
      "metadata": {
        "id": "9ZOAbYip-wk1"
      },
      "source": [
        "### Summary"
      ]
    },
    {
      "cell_type": "markdown",
      "metadata": {
        "id": "fvqQ47rJ-wk1"
      },
      "source": [
        "In this lesson, we learned how to associate objects with one another.  We first saw that we can store each of the instances created in a `store` where our store is a dictionary that has keys to store instances of each of the classes, as well as an associated counter.  Then, every time an instance is created we add the new instance to the store through the `__init__` function."
      ]
    },
    {
      "cell_type": "code",
      "execution_count": 29,
      "metadata": {
        "id": "VB2dGFlP-wk1"
      },
      "outputs": [],
      "source": [
        "store = {'planes': []}\n",
        "\n",
        "class Plane:\n",
        "    def __init__(self, year):\n",
        "        store['planes'].append(self)\n",
        "        self.id = len(store['planes']) + 1\n",
        "        self.year = year"
      ]
    },
    {
      "cell_type": "markdown",
      "metadata": {
        "id": "0TjgqyB9-wk2"
      },
      "source": [
        "Then we saw how we can associate a flight with a plane by storing the `plane_id` on the flight."
      ]
    },
    {
      "cell_type": "code",
      "execution_count": 30,
      "metadata": {
        "id": "_3XUEaiK-wk2"
      },
      "outputs": [],
      "source": [
        "store = {'planes': [], 'flights': []}\n",
        "\n",
        "class Flight:\n",
        "    def __init__(self, origin_city, destination_city, plane):\n",
        "        self.id = len(store['flights']) + 1\n",
        "        self.origin_city = origin_city\n",
        "        self.destination_city = destination_city\n",
        "        self.plane_id = plane.id\n",
        "        store['flights'].append(self)\n",
        "        \n",
        "    def plane(self):\n",
        "        return [plane for plane in store['planes'] if plane.id == flight.plane_id][0]"
      ]
    },
    {
      "cell_type": "code",
      "execution_count": 31,
      "metadata": {
        "id": "J6lKpiOG-wk2"
      },
      "outputs": [],
      "source": [
        "plane = Plane(2018)\n",
        "flight = Flight('NYC', 'CHI', plane)"
      ]
    },
    {
      "cell_type": "markdown",
      "metadata": {
        "id": "Fk-WkDDW-wk2"
      },
      "source": [
        "And we can find the plane associated with a flight by looping through each of the planes, finding the plane whose id matches the flight's `plane_id`."
      ]
    },
    {
      "cell_type": "code",
      "execution_count": 32,
      "metadata": {
        "id": "GxwbNnq0-wk2",
        "outputId": "81b3a52d-caf7-4195-c04d-d9631117ed1b",
        "colab": {
          "base_uri": "https://localhost:8080/"
        }
      },
      "outputs": [
        {
          "output_type": "execute_result",
          "data": {
            "text/plain": [
              "<__main__.Plane at 0x7f972fced150>"
            ]
          },
          "metadata": {},
          "execution_count": 32
        }
      ],
      "source": [
        "flight.plane()"
      ]
    },
    {
      "cell_type": "markdown",
      "metadata": {
        "id": "8_cYznLO-wk3"
      },
      "source": [
        "And we can also find a plane's flights by  searching through all flights, returning the flight whose `plane_id` matches the current flight's `id`. "
      ]
    },
    {
      "cell_type": "code",
      "execution_count": 33,
      "metadata": {
        "id": "tiwYbAu1-wk3"
      },
      "outputs": [],
      "source": [
        "class Plane:\n",
        "    def __init__(self, year):\n",
        "        store['planes'].append(self)\n",
        "        self.id = len(store['planes']) + 1\n",
        "        self.year = year\n",
        "        \n",
        "    def flights(self):\n",
        "        return [flight for flight in store['flights'] if flight.plane_id == self.id]"
      ]
    },
    {
      "cell_type": "code",
      "execution_count": null,
      "metadata": {
        "id": "uXVymDqc-wk3"
      },
      "outputs": [],
      "source": [
        ""
      ]
    }
  ],
  "metadata": {
    "kernelspec": {
      "display_name": "Python 3.9.10 64-bit",
      "language": "python",
      "name": "python3"
    },
    "language_info": {
      "codemirror_mode": {
        "name": "ipython",
        "version": 3
      },
      "file_extension": ".py",
      "mimetype": "text/x-python",
      "name": "python",
      "nbconvert_exporter": "python",
      "pygments_lexer": "ipython3",
      "version": "3.9.10"
    },
    "vscode": {
      "interpreter": {
        "hash": "aee8b7b246df8f9039afb4144a1f6fd8d2ca17a180786b69acc140d282b71a49"
      }
    },
    "colab": {
      "name": "index-1.ipynb",
      "provenance": []
    }
  },
  "nbformat": 4,
  "nbformat_minor": 0
}