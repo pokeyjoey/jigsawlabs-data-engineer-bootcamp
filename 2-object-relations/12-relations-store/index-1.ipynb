{
  "cells": [
    {
      "cell_type": "markdown",
      "metadata": {
        "id": "6-BrFBjzMxds"
      },
      "source": [
        "# Updating the store"
      ]
    },
    {
      "cell_type": "markdown",
      "metadata": {
        "id": "hXaw1UniMxdw"
      },
      "source": [
        "### Introduction"
      ]
    },
    {
      "cell_type": "markdown",
      "metadata": {
        "id": "yrE1l45yMxdw"
      },
      "source": [
        "In this lesson, we'll see a slightly different mechanism for storing our data.  This is what we'll be using in the following lab."
      ]
    },
    {
      "cell_type": "markdown",
      "metadata": {
        "id": "CEC6KI7RMxdx"
      },
      "source": [
        "### Storing our instances"
      ]
    },
    {
      "cell_type": "markdown",
      "metadata": {
        "id": "49-CU2BNMxdx"
      },
      "source": [
        "Previously, we created a store and added our instances to it like so."
      ]
    },
    {
      "cell_type": "code",
      "execution_count": 1,
      "metadata": {
        "id": "NJOFPuHSMxdy"
      },
      "outputs": [],
      "source": [
        "store = {'planes': []}"
      ]
    },
    {
      "cell_type": "code",
      "execution_count": 2,
      "metadata": {
        "id": "effuXHQgMxdz"
      },
      "outputs": [],
      "source": [
        "store = {'planes': []}\n",
        "\n",
        "class Plane:\n",
        "    def __init__(self, year):\n",
        "        self.year = year\n",
        "        plane_id = len(store['planes']) + 1\n",
        "        store['planes'].append(self)\n",
        "        self.id = plane_id\n",
        "        \n",
        "    def age(self):\n",
        "        now = datetime.datetime.now()\n",
        "        current_year = now.year\n",
        "        return current_year - self.year"
      ]
    },
    {
      "cell_type": "code",
      "execution_count": 3,
      "metadata": {
        "id": "P5DmkLovMxd0",
        "outputId": "42e8d230-75b2-43c8-b555-aced30b2b2df",
        "colab": {
          "base_uri": "https://localhost:8080/"
        }
      },
      "outputs": [
        {
          "output_type": "execute_result",
          "data": {
            "text/plain": [
              "1"
            ]
          },
          "metadata": {},
          "execution_count": 3
        }
      ],
      "source": [
        "plane = Plane(2015)\n",
        "\n",
        "plane.id"
      ]
    },
    {
      "cell_type": "code",
      "execution_count": 4,
      "metadata": {
        "id": "_k_LjEhkMxd1",
        "outputId": "07e95925-aed0-4808-c30b-a7ddc5ddca36",
        "colab": {
          "base_uri": "https://localhost:8080/"
        }
      },
      "outputs": [
        {
          "output_type": "execute_result",
          "data": {
            "text/plain": [
              "{'planes': [<__main__.Plane at 0x7f729c68df10>]}"
            ]
          },
          "metadata": {},
          "execution_count": 4
        }
      ],
      "source": [
        "store"
      ]
    },
    {
      "cell_type": "markdown",
      "metadata": {
        "id": "Z_bCddB3Mxd2"
      },
      "source": [
        "### Updating the Store"
      ]
    },
    {
      "cell_type": "markdown",
      "metadata": {
        "id": "vLjN0poTMxd3"
      },
      "source": [
        "Now let's update the store so that we store each of our planes in a dictionary instead of a list."
      ]
    },
    {
      "cell_type": "code",
      "execution_count": 5,
      "metadata": {
        "id": "NVoy_XNjMxd3"
      },
      "outputs": [],
      "source": [
        "store = {'planes': {}}"
      ]
    },
    {
      "cell_type": "markdown",
      "metadata": {
        "id": "APOeR3xrMxd3"
      },
      "source": [
        "We want the keys to be the id of each plane, and the value to be the plane itself.  Each plane should also have it's own id.  \n",
        "\n",
        "> We can achieve this like so."
      ]
    },
    {
      "cell_type": "code",
      "execution_count": 6,
      "metadata": {
        "id": "6DtZWXtwMxd4"
      },
      "outputs": [],
      "source": [
        "class Plane:\n",
        "    def __init__(self, year):\n",
        "        self.year = year\n",
        "        plane_id = len(store['planes']) + 1\n",
        "        self.id = plane_id\n",
        "        store['planes'][plane_id] = self\n",
        "        \n",
        "    def age(self):\n",
        "        now = datetime.datetime.now()\n",
        "        current_year = now.year\n",
        "        return current_year - self.year"
      ]
    },
    {
      "cell_type": "code",
      "execution_count": 7,
      "metadata": {
        "id": "-Myne0fxMxd4",
        "outputId": "f3e8cf13-bafb-4714-dad7-c141d897079d",
        "colab": {
          "base_uri": "https://localhost:8080/"
        }
      },
      "outputs": [
        {
          "output_type": "execute_result",
          "data": {
            "text/plain": [
              "<__main__.Plane at 0x7f7298c1c050>"
            ]
          },
          "metadata": {},
          "execution_count": 7
        }
      ],
      "source": [
        "Plane(2010)"
      ]
    },
    {
      "cell_type": "code",
      "execution_count": 8,
      "metadata": {
        "id": "_5ZKf7-rMxd5",
        "outputId": "1415ec2b-a049-4d7e-faea-bae3dc1e6c1f",
        "colab": {
          "base_uri": "https://localhost:8080/"
        }
      },
      "outputs": [
        {
          "output_type": "execute_result",
          "data": {
            "text/plain": [
              "{1: <__main__.Plane at 0x7f7298c1c050>}"
            ]
          },
          "metadata": {},
          "execution_count": 8
        }
      ],
      "source": [
        "store['planes']"
      ]
    },
    {
      "cell_type": "markdown",
      "metadata": {
        "id": "A7BxRlYnMxd5"
      },
      "source": [
        "Let's copy our code below, and make sure we understand it. "
      ]
    },
    {
      "cell_type": "code",
      "execution_count": 9,
      "metadata": {
        "id": "dJHY-hdHMxd5"
      },
      "outputs": [],
      "source": [
        "store = {'planes': {}}\n",
        "class Plane:\n",
        "    def __init__(self, year):\n",
        "        self.year = year\n",
        "        plane_id = len(store['planes']) + 1\n",
        "        self.id = plane_id\n",
        "        store['planes'][plane_id] = self\n",
        "        \n",
        "    def age(self):\n",
        "        now = datetime.datetime.now()\n",
        "        current_year = now.year\n",
        "        return current_year - self.year"
      ]
    },
    {
      "cell_type": "markdown",
      "metadata": {
        "id": "vVGfxDjBMxd6"
      },
      "source": [
        "So we again calculate a plane id by the length of the collection -- this time a dictionary.  And we store the plane in the dictionary with a key value pair, where the key is the id of the plane and the value is the plane itself. "
      ]
    },
    {
      "cell_type": "code",
      "source": [
        "plane1 = Plane(2010)\n",
        "store['planes'][1].__dict__\n"
      ],
      "metadata": {
        "id": "ikI7FkTONORr",
        "outputId": "7ac098ff-10fd-43a9-9445-3bd319e400f0",
        "colab": {
          "base_uri": "https://localhost:8080/"
        }
      },
      "execution_count": 14,
      "outputs": [
        {
          "output_type": "execute_result",
          "data": {
            "text/plain": [
              "{'id': 1, 'year': 2010}"
            ]
          },
          "metadata": {},
          "execution_count": 14
        }
      ]
    },
    {
      "cell_type": "markdown",
      "metadata": {
        "id": "AYFrf-O9Mxd6"
      },
      "source": [
        "### Summary\n",
        "\n",
        "In this lesson, we saw how to store our planes in a dictionary instead of a list.  "
      ]
    }
  ],
  "metadata": {
    "kernelspec": {
      "display_name": "Python 3 (ipykernel)",
      "language": "python",
      "name": "python3"
    },
    "language_info": {
      "codemirror_mode": {
        "name": "ipython",
        "version": 3
      },
      "file_extension": ".py",
      "mimetype": "text/x-python",
      "name": "python",
      "nbconvert_exporter": "python",
      "pygments_lexer": "ipython3",
      "version": "3.9.10"
    },
    "vscode": {
      "interpreter": {
        "hash": "aee8b7b246df8f9039afb4144a1f6fd8d2ca17a180786b69acc140d282b71a49"
      }
    },
    "colab": {
      "name": "index-1.ipynb",
      "provenance": []
    }
  },
  "nbformat": 4,
  "nbformat_minor": 0
}