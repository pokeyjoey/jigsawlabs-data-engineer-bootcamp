{
  "cells": [
    {
      "cell_type": "markdown",
      "metadata": {
        "id": "qWiJ6pAm5o0z"
      },
      "source": [
        "# String Methods"
      ]
    },
    {
      "cell_type": "markdown",
      "metadata": {
        "id": "X5iHTQhB5o02"
      },
      "source": [
        "### Introduction\n",
        "\n",
        "In this lesson, we'll go a little further into our understanding of strings.  Lots of times when we're working with data on the Internet, we're really working with strings.  So it's important for us to know the different methods for cleaning up this kind of data, and then how to coerce it into different data structures that may be easiest to work with."
      ]
    },
    {
      "cell_type": "markdown",
      "metadata": {
        "id": "t1aG4nwJ5o03"
      },
      "source": [
        "### Loading our Data"
      ]
    },
    {
      "cell_type": "markdown",
      "metadata": {
        "id": "8CWctFnI5o04"
      },
      "source": [
        "For this lesson, let's work with data regarding NBA players.  We can go to a website and scrape roster data with something like the following."
      ]
    },
    {
      "cell_type": "markdown",
      "metadata": {
        "id": "GgSF-urt5o04"
      },
      "source": [
        "> Press `shift + return` on the following."
      ]
    },
    {
      "cell_type": "code",
      "execution_count": 1,
      "metadata": {
        "id": "xtdiolC55o05"
      },
      "outputs": [],
      "source": [
        "import pandas as pd\n",
        "\n",
        "url = \"https://www.espn.com/nba/team/roster/_/name/phi\"\n",
        "\n",
        "roster = pd.read_html(url)[0]"
      ]
    },
    {
      "cell_type": "markdown",
      "metadata": {
        "id": "LD78y8en5o07"
      },
      "source": [
        "> Or we can just load the data from the following CSV file."
      ]
    },
    {
      "cell_type": "code",
      "execution_count": 2,
      "metadata": {
        "id": "Uh-kOYl35o08"
      },
      "outputs": [],
      "source": [
        "import pandas as pd\n",
        "url = \"https://raw.githubusercontent.com/eng-6-22/mod-1-fundamentals/master/sixers_roster.csv\"\n",
        "roster_df = pd.read_csv(url)"
      ]
    },
    {
      "cell_type": "markdown",
      "metadata": {
        "id": "dnpdHCCY5o1B"
      },
      "source": [
        "Ok, let's work with the first list of data.\n",
        "\n",
        "> Before doing so, we'll use just a bit of pandas here to slightly clean up our data.  You can ignore what we're doing below.  Just press `shift + return`.  "
      ]
    },
    {
      "cell_type": "code",
      "execution_count": 3,
      "metadata": {
        "id": "PaAKeyGP5o1C"
      },
      "outputs": [],
      "source": [
        "players_df = roster_df[['Name', 'POS', 'Age', 'HT', 'WT', 'College', 'Salary']]"
      ]
    },
    {
      "cell_type": "markdown",
      "metadata": {
        "id": "HDSHd-0Z5o1C"
      },
      "source": [
        "Then we convert our data to a list of dictionaries."
      ]
    },
    {
      "cell_type": "code",
      "execution_count": 4,
      "metadata": {
        "id": "lmiWYhYy5o1D"
      },
      "outputs": [],
      "source": [
        "players = players_df.to_dict('records')"
      ]
    },
    {
      "cell_type": "markdown",
      "metadata": {
        "id": "aMSsL6Kl5o1D"
      },
      "source": [
        "Now let's look at the data in players."
      ]
    },
    {
      "cell_type": "code",
      "execution_count": 5,
      "metadata": {
        "id": "wLFB9Pk05o1D",
        "outputId": "44fe3acf-ef4a-4caa-a61c-089788dabb70",
        "colab": {
          "base_uri": "https://localhost:8080/"
        }
      },
      "outputs": [
        {
          "output_type": "execute_result",
          "data": {
            "text/plain": [
              "[{'Age': 30,\n",
              "  'College': 'Valparaiso',\n",
              "  'HT': '6\\' 6\"',\n",
              "  'Name': 'Ryan Broekhoff45',\n",
              "  'POS': 'SG',\n",
              "  'Salary': '$1,416,852',\n",
              "  'WT': '215 lbs'},\n",
              " {'Age': 29,\n",
              "  'College': 'Colorado',\n",
              "  'HT': '6\\' 6\"',\n",
              "  'Name': 'Alec Burks20',\n",
              "  'POS': 'SG',\n",
              "  'Salary': '$1,620,564',\n",
              "  'WT': '214 lbs'}]"
            ]
          },
          "metadata": {},
          "execution_count": 5
        }
      ],
      "source": [
        "players[:2]"
      ]
    },
    {
      "cell_type": "markdown",
      "metadata": {
        "id": "DjQghBDb5o1F"
      },
      "source": [
        "So `players` is a list of dictionaries. And if we look at the first few players, we can see that there are various issues with the text.  It would be nice, if we could programatically clean up some of this data."
      ]
    },
    {
      "cell_type": "markdown",
      "metadata": {
        "id": "AbXOpj8R5o1F"
      },
      "source": [
        "Let's focus in on the first nba player and see how we can do so."
      ]
    },
    {
      "cell_type": "code",
      "execution_count": 6,
      "metadata": {
        "id": "pMr21FAS5o1F"
      },
      "outputs": [],
      "source": [
        "player = players[0]"
      ]
    },
    {
      "cell_type": "code",
      "execution_count": 7,
      "metadata": {
        "id": "jRd1KDj25o1G",
        "outputId": "a0bd8df0-ceaf-4bc8-a0ad-1f92b1b743e6",
        "colab": {
          "base_uri": "https://localhost:8080/"
        }
      },
      "outputs": [
        {
          "output_type": "execute_result",
          "data": {
            "text/plain": [
              "{'Age': 30,\n",
              " 'College': 'Valparaiso',\n",
              " 'HT': '6\\' 6\"',\n",
              " 'Name': 'Ryan Broekhoff45',\n",
              " 'POS': 'SG',\n",
              " 'Salary': '$1,416,852',\n",
              " 'WT': '215 lbs'}"
            ]
          },
          "metadata": {},
          "execution_count": 7
        }
      ],
      "source": [
        "player"
      ]
    },
    {
      "cell_type": "markdown",
      "metadata": {
        "id": "XlU774GU5o1H"
      },
      "source": [
        "Now from there we can select the current player name."
      ]
    },
    {
      "cell_type": "code",
      "execution_count": 8,
      "metadata": {
        "id": "_WxOeWYE5o1H",
        "outputId": "eb3588af-dcd7-4d5a-a0bd-99f576027724",
        "colab": {
          "base_uri": "https://localhost:8080/",
          "height": 36
        }
      },
      "outputs": [
        {
          "output_type": "execute_result",
          "data": {
            "text/plain": [
              "'Ryan Broekhoff45'"
            ],
            "application/vnd.google.colaboratory.intrinsic+json": {
              "type": "string"
            }
          },
          "metadata": {},
          "execution_count": 8
        }
      ],
      "source": [
        "name = player['Name']\n",
        "name"
      ]
    },
    {
      "cell_type": "markdown",
      "metadata": {
        "id": "L9Eo8GBJ5o1I"
      },
      "source": [
        "Ok now it's time to focus on cleaning up this data.  To do so, there are few things about strings we should learn."
      ]
    },
    {
      "cell_type": "markdown",
      "metadata": {
        "id": "g1Dd2vtY5o1J"
      },
      "source": [
        "### Strings are like lists"
      ]
    },
    {
      "cell_type": "markdown",
      "metadata": {
        "id": "tv_1PcNu5o1J"
      },
      "source": [
        "One thing that can help us our in working with strings is recognizing they are pretty similar to lists.  A string is really just a collection of characters.  And because of that, we can perform similar operations as we would on a list.\n",
        "\n",
        "For example, below we select the first from string."
      ]
    },
    {
      "cell_type": "code",
      "execution_count": 12,
      "metadata": {
        "id": "49RQyiTF5o1J",
        "outputId": "3fd99eef-4785-424d-fb88-c4fd61f4c24e",
        "colab": {
          "base_uri": "https://localhost:8080/",
          "height": 36
        }
      },
      "outputs": [
        {
          "output_type": "execute_result",
          "data": {
            "text/plain": [
              "'R'"
            ],
            "application/vnd.google.colaboratory.intrinsic+json": {
              "type": "string"
            }
          },
          "metadata": {},
          "execution_count": 12
        }
      ],
      "source": [
        "name[0]"
      ]
    },
    {
      "cell_type": "markdown",
      "metadata": {
        "id": "kNRzKSuT5o1K"
      },
      "source": [
        "> So just like with a list, we use the bracket accessors followed by the index."
      ]
    },
    {
      "cell_type": "markdown",
      "metadata": {
        "id": "uvwSQKDY5o1K"
      },
      "source": [
        "And, just like in a list, we can also slice elements from a string.  For example, let's slice all but the last two elements from our string above."
      ]
    },
    {
      "cell_type": "code",
      "execution_count": 13,
      "metadata": {
        "id": "0emiVDdW5o1K",
        "outputId": "ed07a525-a4fc-4270-b45d-9aee34e37f80",
        "colab": {
          "base_uri": "https://localhost:8080/",
          "height": 36
        }
      },
      "outputs": [
        {
          "output_type": "execute_result",
          "data": {
            "text/plain": [
              "'Ryan Broekhoff45'"
            ],
            "application/vnd.google.colaboratory.intrinsic+json": {
              "type": "string"
            }
          },
          "metadata": {},
          "execution_count": 13
        }
      ],
      "source": [
        "name"
      ]
    },
    {
      "cell_type": "code",
      "execution_count": 14,
      "metadata": {
        "id": "wMfxaMXH5o1L",
        "outputId": "06d1c6e9-cfe4-45f5-c7c7-c4537bfdeb54",
        "colab": {
          "base_uri": "https://localhost:8080/",
          "height": 36
        }
      },
      "outputs": [
        {
          "output_type": "execute_result",
          "data": {
            "text/plain": [
              "'Ryan Broekhoff'"
            ],
            "application/vnd.google.colaboratory.intrinsic+json": {
              "type": "string"
            }
          },
          "metadata": {},
          "execution_count": 14
        }
      ],
      "source": [
        "name[0:-2]"
      ]
    },
    {
      "cell_type": "markdown",
      "metadata": {
        "id": "M7Tm167k5o1L"
      },
      "source": [
        "### Changing between Strings and Lists"
      ]
    },
    {
      "cell_type": "markdown",
      "metadata": {
        "id": "pnbrKk9B5o1M"
      },
      "source": [
        "1. Splitting our Strings"
      ]
    },
    {
      "cell_type": "markdown",
      "metadata": {
        "id": "b4qBuH_I5o1M"
      },
      "source": [
        "Often times we'll want to divide go from a string to a list of words.  We can do so with the split method.  "
      ]
    },
    {
      "cell_type": "code",
      "execution_count": 15,
      "metadata": {
        "id": "xbJhaSIC5o1M",
        "outputId": "b14ff537-f91b-4e9e-85e5-2edbb328d052",
        "colab": {
          "base_uri": "https://localhost:8080/",
          "height": 36
        }
      },
      "outputs": [
        {
          "output_type": "execute_result",
          "data": {
            "text/plain": [
              "'Ryan Broekhoff45'"
            ],
            "application/vnd.google.colaboratory.intrinsic+json": {
              "type": "string"
            }
          },
          "metadata": {},
          "execution_count": 15
        }
      ],
      "source": [
        "name"
      ]
    },
    {
      "cell_type": "code",
      "execution_count": 16,
      "metadata": {
        "id": "Cf_uNHdp5o1M",
        "outputId": "069103e8-ec53-4746-cde8-aa561fd38b43",
        "colab": {
          "base_uri": "https://localhost:8080/"
        }
      },
      "outputs": [
        {
          "output_type": "execute_result",
          "data": {
            "text/plain": [
              "['Ryan', 'Broekhoff45']"
            ]
          },
          "metadata": {},
          "execution_count": 16
        }
      ],
      "source": [
        "name.split()"
      ]
    },
    {
      "cell_type": "markdown",
      "metadata": {
        "id": "5hab-2z_5o1N"
      },
      "source": [
        "The default behavior with `split` is to divide the string by a space.  But really, we can split by any character that we like."
      ]
    },
    {
      "cell_type": "markdown",
      "metadata": {
        "id": "HFB4ThHe5o1N"
      },
      "source": [
        "> For example, let's select the player's salary."
      ]
    },
    {
      "cell_type": "code",
      "execution_count": 17,
      "metadata": {
        "id": "qLc2lFL55o1N",
        "outputId": "d13e90fe-0120-490b-f464-d9e5e5d9906e",
        "colab": {
          "base_uri": "https://localhost:8080/",
          "height": 36
        }
      },
      "outputs": [
        {
          "output_type": "execute_result",
          "data": {
            "text/plain": [
              "'$1,416,852'"
            ],
            "application/vnd.google.colaboratory.intrinsic+json": {
              "type": "string"
            }
          },
          "metadata": {},
          "execution_count": 17
        }
      ],
      "source": [
        "salary = player['Salary']\n",
        "salary"
      ]
    },
    {
      "cell_type": "markdown",
      "metadata": {
        "id": "mxPvHyQo5o1O"
      },
      "source": [
        "1. `replace`"
      ]
    },
    {
      "cell_type": "markdown",
      "metadata": {
        "id": "bntTOj5y5o1O"
      },
      "source": [
        "Now one way to remove the commas is with the replace method."
      ]
    },
    {
      "cell_type": "code",
      "execution_count": 18,
      "metadata": {
        "id": "MInt_8Cv5o1O",
        "outputId": "2e89c7e7-f09c-4261-bdaf-87c4242eaab7",
        "colab": {
          "base_uri": "https://localhost:8080/",
          "height": 36
        }
      },
      "outputs": [
        {
          "output_type": "execute_result",
          "data": {
            "text/plain": [
              "'$1416852'"
            ],
            "application/vnd.google.colaboratory.intrinsic+json": {
              "type": "string"
            }
          },
          "metadata": {},
          "execution_count": 18
        }
      ],
      "source": [
        "salary.replace(',', '')"
      ]
    },
    {
      "cell_type": "markdown",
      "metadata": {
        "id": "dx3MC4b05o1P"
      },
      "source": [
        "So above we are replacing the `,` with an empty string `''`, which effectively removes it."
      ]
    },
    {
      "cell_type": "markdown",
      "metadata": {
        "id": "CBrdPmEo5o1P"
      },
      "source": [
        "2. Split"
      ]
    },
    {
      "cell_type": "markdown",
      "metadata": {
        "id": "chSqCL8w5o1P"
      },
      "source": [
        "Another way we can remove the commas is with the `split` method.  Below we'll start with our salary again, and then split by comma."
      ]
    },
    {
      "cell_type": "code",
      "execution_count": 19,
      "metadata": {
        "id": "uY5i291f5o1Q",
        "outputId": "615df19a-649d-49c6-af6e-09878371430c",
        "colab": {
          "base_uri": "https://localhost:8080/",
          "height": 36
        }
      },
      "outputs": [
        {
          "output_type": "execute_result",
          "data": {
            "text/plain": [
              "'$1,416,852'"
            ],
            "application/vnd.google.colaboratory.intrinsic+json": {
              "type": "string"
            }
          },
          "metadata": {},
          "execution_count": 19
        }
      ],
      "source": [
        "salary"
      ]
    },
    {
      "cell_type": "code",
      "execution_count": 20,
      "metadata": {
        "id": "EwdjCMwH5o1Q",
        "outputId": "16fc16a5-ae96-40f2-cdb2-ebe0a31ee7a5",
        "colab": {
          "base_uri": "https://localhost:8080/"
        }
      },
      "outputs": [
        {
          "output_type": "execute_result",
          "data": {
            "text/plain": [
              "['$1', '416', '852']"
            ]
          },
          "metadata": {},
          "execution_count": 20
        }
      ],
      "source": [
        "salary_div = salary.split(',')\n",
        "\n",
        "salary_div"
      ]
    },
    {
      "cell_type": "markdown",
      "metadata": {
        "id": "lJF8DjEm5o1R"
      },
      "source": [
        "Notice that the `split` method removes the character that we are splitting on, and turns each partition into a separate element in a list."
      ]
    },
    {
      "cell_type": "markdown",
      "metadata": {
        "id": "WaOvaG9g5o1R"
      },
      "source": [
        "2. Joining from lists"
      ]
    },
    {
      "cell_type": "markdown",
      "metadata": {
        "id": "mwXFBhUh5o1R"
      },
      "source": [
        "Now a way to go from list to string is with the join method.  Let's take another look at our `salary_div` list."
      ]
    },
    {
      "cell_type": "code",
      "execution_count": 21,
      "metadata": {
        "id": "kOAy-0pC5o1S",
        "outputId": "ea0ec2f3-1e54-4eb0-b125-a22b843a83f8",
        "colab": {
          "base_uri": "https://localhost:8080/"
        }
      },
      "outputs": [
        {
          "output_type": "execute_result",
          "data": {
            "text/plain": [
              "['$1', '416', '852']"
            ]
          },
          "metadata": {},
          "execution_count": 21
        }
      ],
      "source": [
        "salary_div"
      ]
    },
    {
      "cell_type": "code",
      "execution_count": 22,
      "metadata": {
        "id": "dKfoXjUQ5o1S",
        "outputId": "2695b0c6-fadf-431b-b0b4-e959ccd92c3a",
        "colab": {
          "base_uri": "https://localhost:8080/",
          "height": 36
        }
      },
      "outputs": [
        {
          "output_type": "execute_result",
          "data": {
            "text/plain": [
              "'$1416852'"
            ],
            "application/vnd.google.colaboratory.intrinsic+json": {
              "type": "string"
            }
          },
          "metadata": {},
          "execution_count": 22
        }
      ],
      "source": [
        "''.join(salary_div)"
      ]
    },
    {
      "cell_type": "markdown",
      "metadata": {
        "id": "g2hUsaZ-5o1T"
      },
      "source": [
        "So with join, we start with the string we are joining by and then pass through the list as the argument.  If we want to reinsert our commas, we can simply join on a string with a comma."
      ]
    },
    {
      "cell_type": "code",
      "execution_count": 23,
      "metadata": {
        "id": "I_lWbi745o1T",
        "outputId": "0d7c9787-fe75-4234-9af3-30af42096c34",
        "colab": {
          "base_uri": "https://localhost:8080/",
          "height": 36
        }
      },
      "outputs": [
        {
          "output_type": "execute_result",
          "data": {
            "text/plain": [
              "'$1,416,852'"
            ],
            "application/vnd.google.colaboratory.intrinsic+json": {
              "type": "string"
            }
          },
          "metadata": {},
          "execution_count": 23
        }
      ],
      "source": [
        "','.join(salary_div)"
      ]
    },
    {
      "cell_type": "markdown",
      "metadata": {
        "id": "ST4ZFNiy5o1T"
      },
      "source": [
        "So moving between lists and strings can often be a good way to clean up our data.  For example, let's clean up the weight information about a player."
      ]
    },
    {
      "cell_type": "code",
      "execution_count": 24,
      "metadata": {
        "id": "4bf8LPdK5o1T",
        "outputId": "c8f9242e-4db8-4aab-d297-97e73cfd17a5",
        "colab": {
          "base_uri": "https://localhost:8080/",
          "height": 36
        }
      },
      "outputs": [
        {
          "output_type": "execute_result",
          "data": {
            "text/plain": [
              "'215 lbs'"
            ],
            "application/vnd.google.colaboratory.intrinsic+json": {
              "type": "string"
            }
          },
          "metadata": {},
          "execution_count": 24
        }
      ],
      "source": [
        "player['WT']"
      ]
    },
    {
      "cell_type": "code",
      "execution_count": 25,
      "metadata": {
        "id": "oBnURHRw5o1U",
        "outputId": "9ec32dce-8950-4ee9-e07e-8fd55fb1df94",
        "colab": {
          "base_uri": "https://localhost:8080/"
        }
      },
      "outputs": [
        {
          "output_type": "execute_result",
          "data": {
            "text/plain": [
              "['215', 'lbs']"
            ]
          },
          "metadata": {},
          "execution_count": 25
        }
      ],
      "source": [
        "player['WT'].split(' ')"
      ]
    },
    {
      "cell_type": "code",
      "execution_count": 26,
      "metadata": {
        "id": "dU5pN-m65o1U",
        "outputId": "d1aafd12-59fc-4a39-fd14-86be07c0caed",
        "colab": {
          "base_uri": "https://localhost:8080/",
          "height": 36
        }
      },
      "outputs": [
        {
          "output_type": "execute_result",
          "data": {
            "text/plain": [
              "'215'"
            ],
            "application/vnd.google.colaboratory.intrinsic+json": {
              "type": "string"
            }
          },
          "metadata": {},
          "execution_count": 26
        }
      ],
      "source": [
        "player['WT'].split(' ')[0]"
      ]
    },
    {
      "cell_type": "markdown",
      "metadata": {
        "id": "0WDtwHxS5o1U"
      },
      "source": [
        "And now we can even coerce this to an integer."
      ]
    },
    {
      "cell_type": "code",
      "execution_count": 27,
      "metadata": {
        "id": "cHpfjnSl5o1U",
        "outputId": "96b5387a-e976-4238-ed67-b873e95e59a9",
        "colab": {
          "base_uri": "https://localhost:8080/"
        }
      },
      "outputs": [
        {
          "output_type": "execute_result",
          "data": {
            "text/plain": [
              "215"
            ]
          },
          "metadata": {},
          "execution_count": 27
        }
      ],
      "source": [
        "int(player['WT'].split(' ')[0])"
      ]
    },
    {
      "cell_type": "markdown",
      "metadata": {
        "id": "snDcOZEI5o1V"
      },
      "source": [
        "### Summary"
      ]
    },
    {
      "cell_type": "markdown",
      "metadata": {
        "id": "Mr4l4JMt5o1V"
      },
      "source": [
        "In this lesson, we continued our understanding of operations we can perform using strings.  For example, we saw that we can think of strings as a collection of characters.  And to that respect, we can select certain characters from a string with our bracket accessors."
      ]
    },
    {
      "cell_type": "code",
      "execution_count": 28,
      "metadata": {
        "id": "zY9yde-s5o1V",
        "outputId": "cbd391d9-bcbf-448f-9fc1-3345abbf15b0",
        "colab": {
          "base_uri": "https://localhost:8080/",
          "height": 36
        }
      },
      "outputs": [
        {
          "output_type": "execute_result",
          "data": {
            "text/plain": [
              "'Ryan Broekhoff'"
            ],
            "application/vnd.google.colaboratory.intrinsic+json": {
              "type": "string"
            }
          },
          "metadata": {},
          "execution_count": 28
        }
      ],
      "source": [
        "name = 'Ryan Broekhoff45'\n",
        "\n",
        "name[0:-2]"
      ]
    },
    {
      "cell_type": "markdown",
      "metadata": {
        "id": "6dKgmE8G5o1V"
      },
      "source": [
        "We also saw that we can use the replace method to subsitute, or to simply remove characters from a string. "
      ]
    },
    {
      "cell_type": "code",
      "execution_count": 29,
      "metadata": {
        "id": "M83dpJa75o1W",
        "outputId": "c072c35c-a8e8-4fe8-e5a4-1454544e3819",
        "colab": {
          "base_uri": "https://localhost:8080/",
          "height": 36
        }
      },
      "outputs": [
        {
          "output_type": "execute_result",
          "data": {
            "text/plain": [
              "'$1416852'"
            ],
            "application/vnd.google.colaboratory.intrinsic+json": {
              "type": "string"
            }
          },
          "metadata": {},
          "execution_count": 29
        }
      ],
      "source": [
        "salary = '$1,416,852'\n",
        "\n",
        "salary.replace(',', '')"
      ]
    },
    {
      "cell_type": "markdown",
      "metadata": {
        "id": "TPIEOkmB5o1W"
      },
      "source": [
        "In addition, we can divide our string by a specified character using split."
      ]
    },
    {
      "cell_type": "code",
      "execution_count": 30,
      "metadata": {
        "id": "kK9XPvYb5o1W",
        "outputId": "0727dbca-29a3-4c8f-c076-533eb88a8feb",
        "colab": {
          "base_uri": "https://localhost:8080/"
        }
      },
      "outputs": [
        {
          "output_type": "execute_result",
          "data": {
            "text/plain": [
              "['Ryan', 'Broekhoff']"
            ]
          },
          "metadata": {},
          "execution_count": 30
        }
      ],
      "source": [
        "name[0:-2].split(' ')"
      ]
    },
    {
      "cell_type": "code",
      "execution_count": 31,
      "metadata": {
        "id": "skg6fZfl5o1W",
        "outputId": "89f48f74-b7a2-4032-bd47-95bbd9862e65",
        "colab": {
          "base_uri": "https://localhost:8080/"
        }
      },
      "outputs": [
        {
          "output_type": "execute_result",
          "data": {
            "text/plain": [
              "['Ryan ', 'roekhoff']"
            ]
          },
          "metadata": {},
          "execution_count": 31
        }
      ],
      "source": [
        "name[0:-2].split('B')"
      ]
    },
    {
      "cell_type": "markdown",
      "metadata": {
        "id": "6G_9lhPW5o1X"
      },
      "source": [
        "Just be aware that the character we split by is removed.  Finally, we can go from a list back to a string with the join method.  "
      ]
    },
    {
      "cell_type": "code",
      "execution_count": 32,
      "metadata": {
        "id": "ssr7jdZ-5o1X",
        "outputId": "10bb59a3-cb26-4b02-afaa-fe92a8cfc7b2",
        "colab": {
          "base_uri": "https://localhost:8080/",
          "height": 36
        }
      },
      "outputs": [
        {
          "output_type": "execute_result",
          "data": {
            "text/plain": [
              "'Ryan Broekhoff'"
            ],
            "application/vnd.google.colaboratory.intrinsic+json": {
              "type": "string"
            }
          },
          "metadata": {},
          "execution_count": 32
        }
      ],
      "source": [
        "' '.join(['Ryan', 'Broekhoff'])"
      ]
    }
  ],
  "metadata": {
    "kernelspec": {
      "display_name": "Python 3 (ipykernel)",
      "language": "python",
      "name": "python3"
    },
    "language_info": {
      "codemirror_mode": {
        "name": "ipython",
        "version": 3
      },
      "file_extension": ".py",
      "mimetype": "text/x-python",
      "name": "python",
      "nbconvert_exporter": "python",
      "pygments_lexer": "ipython3",
      "version": "3.9.10"
    },
    "colab": {
      "name": "2-string-methods.ipynb",
      "provenance": []
    }
  },
  "nbformat": 4,
  "nbformat_minor": 0
}