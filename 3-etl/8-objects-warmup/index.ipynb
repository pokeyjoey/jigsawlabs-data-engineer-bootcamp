{
  "cells": [
    {
      "cell_type": "markdown",
      "metadata": {
        "id": "X_KAQUrB2fa9"
      },
      "source": [
        "# Objects Warmup"
      ]
    },
    {
      "cell_type": "markdown",
      "metadata": {
        "id": "i6ABWRgE2fbA"
      },
      "source": [
        "### Selecting From an API"
      ]
    },
    {
      "cell_type": "markdown",
      "metadata": {
        "id": "njIxK7Gi2fbB"
      },
      "source": [
        "Let's start with our movies imdb dataset."
      ]
    },
    {
      "cell_type": "code",
      "execution_count": 3,
      "metadata": {
        "id": "-QHp1zDP2fbB"
      },
      "outputs": [],
      "source": [
        "import pandas as pd\n",
        "url = \"https://raw.githubusercontent.com/eng-6-22/mod-1-a-data-structures/master/3-coercing-filtering-data/imdb_movies.csv\"\n",
        "movies_df = pd.read_csv(url)\n",
        "movies = movies_df.to_dict('records')"
      ]
    },
    {
      "cell_type": "markdown",
      "metadata": {
        "id": "85bS98EA2fbD"
      },
      "source": [
        "1. Begin by looping through the movies and adding a list of `movie_titles`, where each element is a different movie title."
      ]
    },
    {
      "cell_type": "code",
      "execution_count": 7,
      "metadata": {
        "id": "45YSm1pr2fbD",
        "outputId": "17c872e4-f598-4318-bd34-b7237e897571",
        "colab": {
          "base_uri": "https://localhost:8080/"
        }
      },
      "outputs": [
        {
          "output_type": "execute_result",
          "data": {
            "text/plain": [
              "['Avatar', \"Pirates of the Caribbean: At World's End\", 'Spectre']"
            ]
          },
          "metadata": {},
          "execution_count": 7
        }
      ],
      "source": [
        "movies\n",
        "titles = [movie['title'] for movie in movies]\n",
        "titles[:3]\n",
        "# titles[:3]\n",
        "# ['Avatar', \"Pirates of the Caribbean: At World's End\", 'Spectre']"
      ]
    },
    {
      "cell_type": "markdown",
      "metadata": {
        "id": "t6sP0lMg2fbD"
      },
      "source": [
        "2. Now let's select a single movie"
      ]
    },
    {
      "cell_type": "code",
      "execution_count": 8,
      "metadata": {
        "id": "HAfQayx02fbE"
      },
      "outputs": [],
      "source": [
        "first_movie = movies[0]"
      ]
    },
    {
      "cell_type": "code",
      "execution_count": 9,
      "metadata": {
        "id": "mOijMwNi2fbF",
        "outputId": "64991762-4dab-40a1-e56a-d058c6a766ab",
        "colab": {
          "base_uri": "https://localhost:8080/"
        }
      },
      "outputs": [
        {
          "output_type": "execute_result",
          "data": {
            "text/plain": [
              "{'budget': 237000000,\n",
              " 'genre': 'Action',\n",
              " 'month': 12,\n",
              " 'revenue': 2787965087,\n",
              " 'runtime': 162.0,\n",
              " 'title': 'Avatar',\n",
              " 'year': 2009}"
            ]
          },
          "metadata": {},
          "execution_count": 9
        }
      ],
      "source": [
        "first_movie"
      ]
    },
    {
      "cell_type": "markdown",
      "metadata": {
        "id": "9IMgPCxh2fbG"
      },
      "source": [
        "Now call `items` to coerce this dictionary into a list of key value tuples."
      ]
    },
    {
      "cell_type": "code",
      "execution_count": 10,
      "metadata": {
        "id": "JpZ0c5VV2fbH",
        "outputId": "f9175aec-419c-4196-969d-fee8ee601e05",
        "colab": {
          "base_uri": "https://localhost:8080/"
        }
      },
      "outputs": [
        {
          "output_type": "execute_result",
          "data": {
            "text/plain": [
              "dict_items([('title', 'Avatar'), ('genre', 'Action'), ('budget', 237000000), ('runtime', 162.0), ('year', 2009), ('month', 12), ('revenue', 2787965087)])"
            ]
          },
          "metadata": {},
          "execution_count": 10
        }
      ],
      "source": [
        "first_movie_items = first_movie.items()\n",
        "first_movie_items\n",
        "# dict_items([('title', 'Avatar'), ('genre', 'Action'),\n",
        "# ('budget', 237000000), ('runtime', 162.0), ('year', 2009), \n",
        "# ('month', 12), ('revenue', 2787965087)])"
      ]
    },
    {
      "cell_type": "code",
      "execution_count": 15,
      "metadata": {
        "id": "cDDNwWHK2fbH",
        "outputId": "b636373f-e1f2-4f03-edc5-abf91de1fc4a",
        "colab": {
          "base_uri": "https://localhost:8080/"
        }
      },
      "outputs": [
        {
          "output_type": "execute_result",
          "data": {
            "text/plain": [
              "{'budget': 237000000, 'revenue': 2787965087, 'title': 'Avatar'}"
            ]
          },
          "metadata": {},
          "execution_count": 15
        }
      ],
      "source": [
        "selected_attrs = ['title', 'budget', 'revenue']\n",
        "temp_dict = {key:value for key, value in first_movie_items if key in selected_attrs}\n",
        "temp_dict"
      ]
    },
    {
      "cell_type": "markdown",
      "metadata": {
        "id": "pnhtya-b2fbI"
      },
      "source": [
        "Use dictionary comprehension to select only those attributes listed in `selected_attrs`."
      ]
    },
    {
      "cell_type": "markdown",
      "metadata": {
        "id": "sLGis3_T2fbI"
      },
      "source": [
        "3. Then narrow down the list of attributes to just the `selected_attrs` for all movies. "
      ]
    },
    {
      "cell_type": "code",
      "execution_count": 21,
      "metadata": {
        "id": "I4U7quXm2fbI",
        "outputId": "90f4fb72-00f8-495f-edb6-c4e38e3ff954",
        "colab": {
          "base_uri": "https://localhost:8080/"
        }
      },
      "outputs": [
        {
          "output_type": "execute_result",
          "data": {
            "text/plain": [
              "[{'budget': 237000000, 'revenue': 2787965087, 'title': 'Avatar'},\n",
              " {'budget': 300000000,\n",
              "  'revenue': 961000000,\n",
              "  'title': \"Pirates of the Caribbean: At World's End\"},\n",
              " {'budget': 245000000, 'revenue': 880674609, 'title': 'Spectre'}]"
            ]
          },
          "metadata": {},
          "execution_count": 21
        }
      ],
      "source": [
        "movies_with_selected_attributes = [{key:value for key, value in movie.items() if key in selected_attrs} for movie in movies]\n",
        "movies_with_selected_attributes[:3]"
      ]
    },
    {
      "cell_type": "markdown",
      "metadata": {
        "id": "DQ8PpXVr2fbJ"
      },
      "source": [
        "4. Next, create class called `Movie` that upon initialization takes the arguments of `title`, `budget` and revenue."
      ]
    },
    {
      "cell_type": "code",
      "execution_count": 19,
      "metadata": {
        "id": "AV0FPj_f2fbJ"
      },
      "outputs": [],
      "source": [
        "class Movie:\n",
        "\n",
        "  def __init__(self, title, budget, revenue):\n",
        "    self.title = title\n",
        "    self.budget = budget\n",
        "    self.revenue = revenue"
      ]
    },
    {
      "cell_type": "markdown",
      "metadata": {
        "id": "dju_-TxV2fbJ"
      },
      "source": [
        "5. Finally, use `kwargs` to create a list of movies."
      ]
    },
    {
      "cell_type": "code",
      "execution_count": 22,
      "metadata": {
        "id": "qB0JjRqw2fbJ"
      },
      "outputs": [],
      "source": [
        "list_of_movies = [Movie(**movie) for movie in movies_with_selected_attributes]"
      ]
    },
    {
      "cell_type": "code",
      "source": [
        "for movie in list_of_movies[:3]:\n",
        "  print(movie.__dict__)\n"
      ],
      "metadata": {
        "id": "_unx8aQ27MvU",
        "outputId": "c0eb6f6b-aa54-47d5-ba61-02861eed6f82",
        "colab": {
          "base_uri": "https://localhost:8080/"
        }
      },
      "execution_count": 27,
      "outputs": [
        {
          "output_type": "stream",
          "name": "stdout",
          "text": [
            "{'title': 'Avatar', 'budget': 237000000, 'revenue': 2787965087}\n",
            "{'title': \"Pirates of the Caribbean: At World's End\", 'budget': 300000000, 'revenue': 961000000}\n",
            "{'title': 'Spectre', 'budget': 245000000, 'revenue': 880674609}\n"
          ]
        }
      ]
    },
    {
      "cell_type": "code",
      "source": [
        ""
      ],
      "metadata": {
        "id": "TkYEepeF7Q4b"
      },
      "execution_count": null,
      "outputs": []
    }
  ],
  "metadata": {
    "kernelspec": {
      "display_name": "Python 3",
      "language": "python",
      "name": "python3"
    },
    "language_info": {
      "codemirror_mode": {
        "name": "ipython",
        "version": 3
      },
      "file_extension": ".py",
      "mimetype": "text/x-python",
      "name": "python",
      "nbconvert_exporter": "python",
      "pygments_lexer": "ipython3",
      "version": "3.8.3"
    },
    "colab": {
      "name": "index.ipynb",
      "provenance": []
    }
  },
  "nbformat": 4,
  "nbformat_minor": 0
}