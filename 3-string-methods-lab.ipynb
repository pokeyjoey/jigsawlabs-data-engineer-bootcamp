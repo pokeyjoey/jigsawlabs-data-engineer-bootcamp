{
  "cells": [
    {
      "cell_type": "markdown",
      "metadata": {
        "id": "xog4koZH8U40"
      },
      "source": [
        "# String Methods"
      ]
    },
    {
      "cell_type": "markdown",
      "metadata": {
        "id": "IGMXZ4kW8U44"
      },
      "source": [
        "### Loading our some data"
      ]
    },
    {
      "cell_type": "markdown",
      "metadata": {
        "id": "3N4MwApH8U44"
      },
      "source": [
        "In this lesson, we'll work with data regarding Midwestern cities.  Now the data we'll be working with is available on [this Wikipedia page]('https://en.wikipedia.org/wiki/List_of_Midwestern_cities_by_size').  But unfortunately, it is not formatted in a way that pandas can understand it.  \n",
        "\n",
        "So instead we just copied and pasted the data below.  And assigned it to a variable."
      ]
    },
    {
      "cell_type": "code",
      "execution_count": 2,
      "metadata": {
        "id": "3zK0kNH18U45",
        "outputId": "5cc320fc-b22b-4a99-b6c8-3218b42555ba",
        "colab": {
          "base_uri": "https://localhost:8080/",
          "height": 105
        }
      },
      "outputs": [
        {
          "output_type": "execute_result",
          "data": {
            "text/plain": [
              "'Chicago, Illinois; 2,722,586\\nIndianapolis, Indiana; 853,431\\nColumbus, Ohio; 852,144\\nDetroit, Michigan; 679,865\\nMilwaukee, Wisconsin; 599,086\\nKansas City, Missouri; 476,974\\nOmaha, Nebraska; 463,081\\nMinneapolis, Minnesota; 411,452\\nWichita, Kansas; 389,054\\nCleveland, Ohio; 388,812\\nSt. Louis, Missouri; 314,867\\nSt. Paul, Minnesota; 300,820\\nCincinnati, Ohio; 298,957\\nToledo, Ohio; 279,455\\nLincoln, Nebraska; 277,315\\nFort Wayne, Indiana; 262,450\\nMadison, Wisconsin; 248,856\\nDes Moines, Iowa; 214,778\\nAurora, Illinois; 200,946\\nGrand Rapids, Michigan; 195,355\\nAkron, Ohio; 198,252\\nOverland Park, Kansas; 186,147\\nSioux Falls, South Dakota; 170,401\\nSpringfield, Missouri; 165,785\\nKansas City, Kansas; 151,042\\nRockford, Illinois; 148,640\\nJoliet, Illinois; 148,172\\nNaperville, Illinois; 146,431\\nDayton, Ohio; 140,939\\nWarren, Michigan; 135,147\\nOlathe, Kansas; 134,368\\nSterling Heights, Michigan; 131,996\\nCedar Rapids, Iowa; 130,330\\nTopeka, Kansas; 127,139\\nEvansville, Indiana; 119,806\\nAnn Arbor, Michigan; 119,303\\nColumbia, Missouri; 118,620\\nFargo, North Dakota; 118,099\\nIndependence, Missouri; 117,369\\nSpringfield, Illinois; 116,313\\nPeoria, Illinois; 115,424\\nLansing, Michigan; 115,222\\nRochester, Minnesota; 112,683\\nElgin, Illinois; 112,628\\nGreen Bay, Wisconsin; 104,796\\nDavenport, Iowa; 102,268\\nSouth Bend, Indiana; 101,928'"
            ],
            "application/vnd.google.colaboratory.intrinsic+json": {
              "type": "string"
            }
          },
          "metadata": {},
          "execution_count": 2
        }
      ],
      "source": [
        "cities_text = \"\"\"Chicago, Illinois; 2,722,586\n",
        "Indianapolis, Indiana; 853,431\n",
        "Columbus, Ohio; 852,144\n",
        "Detroit, Michigan; 679,865\n",
        "Milwaukee, Wisconsin; 599,086\n",
        "Kansas City, Missouri; 476,974\n",
        "Omaha, Nebraska; 463,081\n",
        "Minneapolis, Minnesota; 411,452\n",
        "Wichita, Kansas; 389,054\n",
        "Cleveland, Ohio; 388,812\n",
        "St. Louis, Missouri; 314,867\n",
        "St. Paul, Minnesota; 300,820\n",
        "Cincinnati, Ohio; 298,957\n",
        "Toledo, Ohio; 279,455\n",
        "Lincoln, Nebraska; 277,315\n",
        "Fort Wayne, Indiana; 262,450\n",
        "Madison, Wisconsin; 248,856\n",
        "Des Moines, Iowa; 214,778\n",
        "Aurora, Illinois; 200,946\n",
        "Grand Rapids, Michigan; 195,355\n",
        "Akron, Ohio; 198,252\n",
        "Overland Park, Kansas; 186,147\n",
        "Sioux Falls, South Dakota; 170,401\n",
        "Springfield, Missouri; 165,785\n",
        "Kansas City, Kansas; 151,042\n",
        "Rockford, Illinois; 148,640\n",
        "Joliet, Illinois; 148,172\n",
        "Naperville, Illinois; 146,431\n",
        "Dayton, Ohio; 140,939\n",
        "Warren, Michigan; 135,147\n",
        "Olathe, Kansas; 134,368\n",
        "Sterling Heights, Michigan; 131,996\n",
        "Cedar Rapids, Iowa; 130,330\n",
        "Topeka, Kansas; 127,139\n",
        "Evansville, Indiana; 119,806\n",
        "Ann Arbor, Michigan; 119,303\n",
        "Columbia, Missouri; 118,620\n",
        "Fargo, North Dakota; 118,099\n",
        "Independence, Missouri; 117,369\n",
        "Springfield, Illinois; 116,313\n",
        "Peoria, Illinois; 115,424\n",
        "Lansing, Michigan; 115,222\n",
        "Rochester, Minnesota; 112,683\n",
        "Elgin, Illinois; 112,628\n",
        "Green Bay, Wisconsin; 104,796\n",
        "Davenport, Iowa; 102,268\n",
        "South Bend, Indiana; 101,928\"\"\"\n",
        "\n",
        "cities_text"
      ]
    },
    {
      "cell_type": "markdown",
      "metadata": {
        "id": "86mhjnI18U47"
      },
      "source": [
        "> Notice that we wrapped the string in triple quotes so that our string could span multiple lines."
      ]
    },
    {
      "cell_type": "markdown",
      "metadata": {
        "id": "evwOz9g58U47"
      },
      "source": [
        "To begin, select just the first 100 characters from the string to take a closer look at the data."
      ]
    },
    {
      "cell_type": "code",
      "execution_count": 4,
      "metadata": {
        "id": "Z3aU4VAr8U48",
        "outputId": "b105bb33-5306-4100-e5ff-62cd4f4c1939",
        "colab": {
          "base_uri": "https://localhost:8080/",
          "height": 36
        }
      },
      "outputs": [
        {
          "output_type": "execute_result",
          "data": {
            "text/plain": [
              "'Chicago, Illinois; 2,722,586\\nIndianapolis, Indiana; 853,431\\nColumbus, Ohio; 852,144\\nDetroit, Michiga'"
            ],
            "application/vnd.google.colaboratory.intrinsic+json": {
              "type": "string"
            }
          },
          "metadata": {},
          "execution_count": 4
        }
      ],
      "source": [
        "cities_text[:100]\n",
        "\n",
        "# 'Chicago, Illinois; 2,722,586\\nIndianapolis, Indiana; 853,431\\nColumbus, Ohio; \n",
        "# 852,144\\nDetroit, Michiga'"
      ]
    },
    {
      "cell_type": "markdown",
      "metadata": {
        "id": "vLuWRUEw8U49"
      },
      "source": [
        "So we can see that the pattern for each row of data is: \n",
        "    \n",
        "`city, State; 9,999,999 \\n`"
      ]
    },
    {
      "cell_type": "markdown",
      "metadata": {
        "id": "Vhn20NXE8U4-"
      },
      "source": [
        "Now currently our data is simply one long string.  Calculate the number of characters in the string."
      ]
    },
    {
      "cell_type": "code",
      "execution_count": 5,
      "metadata": {
        "id": "tKUv_QpP8U4-",
        "outputId": "fe3643ad-3340-4bc2-f2cb-899a2273e1c2",
        "colab": {
          "base_uri": "https://localhost:8080/"
        }
      },
      "outputs": [
        {
          "output_type": "execute_result",
          "data": {
            "text/plain": [
              "1313"
            ]
          },
          "metadata": {},
          "execution_count": 5
        }
      ],
      "source": [
        "len(cities_text)\n",
        "\n",
        "# 1313"
      ]
    },
    {
      "cell_type": "markdown",
      "metadata": {
        "id": "lV5CFRBI8U4_"
      },
      "source": [
        "Ok, it's a good idea if we begin to organize this string a bit better.  Let's begin by splitting the data by each line.\n",
        "\n",
        "> It may feel a little tricky, but try some different methods.  You can always google if you get stuck."
      ]
    },
    {
      "cell_type": "code",
      "execution_count": 6,
      "metadata": {
        "id": "zQyU7hJ-8U4_"
      },
      "outputs": [],
      "source": [
        "city_rows = cities_text.split('\\n')"
      ]
    },
    {
      "cell_type": "code",
      "execution_count": 7,
      "metadata": {
        "id": "sas1oRXa8U5A",
        "outputId": "4619fe30-ff60-4bff-bec2-8ea1e7637d1b",
        "colab": {
          "base_uri": "https://localhost:8080/"
        }
      },
      "outputs": [
        {
          "output_type": "execute_result",
          "data": {
            "text/plain": [
              "['Chicago, Illinois; 2,722,586',\n",
              " 'Indianapolis, Indiana; 853,431',\n",
              " 'Columbus, Ohio; 852,144']"
            ]
          },
          "metadata": {},
          "execution_count": 7
        }
      ],
      "source": [
        "city_rows[:3]\n",
        "\n",
        "# ['Chicago, Illinois; 2,722,586',\n",
        "#  'Indianapolis, Indiana; 853,431',\n",
        "#  'Columbus, Ohio; 852,144']"
      ]
    },
    {
      "cell_type": "markdown",
      "metadata": {
        "id": "t5eUQaTn8U5A"
      },
      "source": [
        "Next, let's select the first element from the list of strings."
      ]
    },
    {
      "cell_type": "code",
      "execution_count": 10,
      "metadata": {
        "id": "w-bHjRK98U5A",
        "outputId": "44080103-a743-4181-f0ca-44dd571cbcf5",
        "colab": {
          "base_uri": "https://localhost:8080/",
          "height": 36
        }
      },
      "outputs": [
        {
          "output_type": "execute_result",
          "data": {
            "text/plain": [
              "'Chicago, Illinois; 2,722,586'"
            ],
            "application/vnd.google.colaboratory.intrinsic+json": {
              "type": "string"
            }
          },
          "metadata": {},
          "execution_count": 10
        }
      ],
      "source": [
        "city = city_rows[0]\n",
        "\n",
        "\n",
        "city\n",
        "# 'Chicago, Illinois; 2,722,586'"
      ]
    },
    {
      "cell_type": "markdown",
      "metadata": {
        "id": "CsyerB0G8U5B"
      },
      "source": [
        "Ideally, we can organize this as a dictionary.  Where we have the city, state, and population values. \n",
        "\n",
        "First use split to divide the data between `city_and_state` and `population`."
      ]
    },
    {
      "cell_type": "code",
      "execution_count": 11,
      "metadata": {
        "id": "Fq9C9AIf8U5B"
      },
      "outputs": [],
      "source": [
        "city_and_state = city.split(';')[0]\n",
        "\n",
        "population = city.split(';')[1]"
      ]
    },
    {
      "cell_type": "code",
      "execution_count": 12,
      "metadata": {
        "id": "9Ba7w0M38U5B",
        "outputId": "8955f945-e4f7-4c84-da9b-e3a9ed5a6242",
        "colab": {
          "base_uri": "https://localhost:8080/",
          "height": 36
        }
      },
      "outputs": [
        {
          "output_type": "execute_result",
          "data": {
            "text/plain": [
              "'Chicago, Illinois'"
            ],
            "application/vnd.google.colaboratory.intrinsic+json": {
              "type": "string"
            }
          },
          "metadata": {},
          "execution_count": 12
        }
      ],
      "source": [
        "city_and_state\n",
        "# 'Chicago, Illinois'"
      ]
    },
    {
      "cell_type": "code",
      "execution_count": 13,
      "metadata": {
        "id": "RIUx31LE8U5C",
        "outputId": "be576e70-32aa-4257-e422-2d7e4a9ac093",
        "colab": {
          "base_uri": "https://localhost:8080/",
          "height": 36
        }
      },
      "outputs": [
        {
          "output_type": "execute_result",
          "data": {
            "text/plain": [
              "' 2,722,586'"
            ],
            "application/vnd.google.colaboratory.intrinsic+json": {
              "type": "string"
            }
          },
          "metadata": {},
          "execution_count": 13
        }
      ],
      "source": [
        "population\n",
        "\n",
        "# '2,722,586'"
      ]
    },
    {
      "cell_type": "markdown",
      "metadata": {
        "id": "T7B6WUXy8U5C"
      },
      "source": [
        "Now separate `city_and_state` into `city_name` and `state`."
      ]
    },
    {
      "cell_type": "code",
      "execution_count": 14,
      "metadata": {
        "id": "i8dCe8uk8U5C"
      },
      "outputs": [],
      "source": [
        "\n",
        "\n",
        "city_name = city_and_state.split(',')[0]\n",
        "\n",
        "state = city_and_state.split(',')[1]\n",
        "# ['Chicago', 'Illinois']"
      ]
    },
    {
      "cell_type": "code",
      "execution_count": 15,
      "metadata": {
        "id": "q465-CZx8U5D",
        "outputId": "b4fe9db0-6bed-4302-fa69-6e8bb46508f2",
        "colab": {
          "base_uri": "https://localhost:8080/",
          "height": 36
        }
      },
      "outputs": [
        {
          "output_type": "execute_result",
          "data": {
            "text/plain": [
              "'Chicago'"
            ],
            "application/vnd.google.colaboratory.intrinsic+json": {
              "type": "string"
            }
          },
          "metadata": {},
          "execution_count": 15
        }
      ],
      "source": [
        "city_name\n",
        "\n",
        "# 'Chicago'"
      ]
    },
    {
      "cell_type": "code",
      "execution_count": 16,
      "metadata": {
        "id": "RZQ_41KW8U5D",
        "outputId": "678a8269-9fd3-4a6d-fd54-08da6278c416",
        "colab": {
          "base_uri": "https://localhost:8080/",
          "height": 36
        }
      },
      "outputs": [
        {
          "output_type": "execute_result",
          "data": {
            "text/plain": [
              "' Illinois'"
            ],
            "application/vnd.google.colaboratory.intrinsic+json": {
              "type": "string"
            }
          },
          "metadata": {},
          "execution_count": 16
        }
      ],
      "source": [
        "state\n",
        "\n",
        "# 'Illinois'"
      ]
    },
    {
      "cell_type": "markdown",
      "metadata": {
        "id": "O0O2W9Kh8U5D"
      },
      "source": [
        "### Now a bit harder"
      ]
    },
    {
      "cell_type": "markdown",
      "metadata": {
        "id": "zUTiD4ni8U5D"
      },
      "source": [
        "Ok, now that we explored how to work individually on a row, let's get into this.  Let's now write code to start with the text in our variable `cities_text`.  And end with the variable `cities` with cities is a list of dictionaries with keys of `city`, `state`, and `population`."
      ]
    },
    {
      "cell_type": "code",
      "execution_count": 24,
      "metadata": {
        "id": "JLpy-qHO8U5D",
        "outputId": "b727088c-0010-46d3-ca7a-0b428b0d2a89",
        "colab": {
          "base_uri": "https://localhost:8080/",
          "height": 36
        }
      },
      "outputs": [
        {
          "output_type": "execute_result",
          "data": {
            "text/plain": [
              "'Chicago, Illinois; 2,722,586\\nIndianapolis, Indiana; 853,431\\nColumbus, Ohio; 852,144\\nDetroit, Michiga'"
            ],
            "application/vnd.google.colaboratory.intrinsic+json": {
              "type": "string"
            }
          },
          "metadata": {},
          "execution_count": 24
        }
      ],
      "source": [
        "cities_text[:100]\n",
        "\n",
        "# 'Chicago, Illinois; 2,722,586\\nIndianapolis, Indiana; 853,431\\nColumbus, Ohio;\n",
        "# 852,144\\nDetroit, Michiga'"
      ]
    },
    {
      "cell_type": "code",
      "execution_count": 39,
      "metadata": {
        "id": "VNEFZCOC8U5E",
        "outputId": "76dfdcab-8e5a-452f-8c7b-f1abb68e776a",
        "colab": {
          "base_uri": "https://localhost:8080/"
        }
      },
      "outputs": [
        {
          "output_type": "stream",
          "name": "stdout",
          "text": [
            "[{'city': 'Chicago', 'state': ' Illinois', 'population': ' 2,722,586'}, {'city': 'Indianapolis', 'state': ' Indiana', 'population': ' 853,431'}, {'city': 'Columbus', 'state': ' Ohio', 'population': ' 852,144'}, {'city': 'Detroit', 'state': ' Michigan', 'population': ' 679,865'}, {'city': 'Milwaukee', 'state': ' Wisconsin', 'population': ' 599,086'}, {'city': 'Kansas City', 'state': ' Missouri', 'population': ' 476,974'}, {'city': 'Omaha', 'state': ' Nebraska', 'population': ' 463,081'}, {'city': 'Minneapolis', 'state': ' Minnesota', 'population': ' 411,452'}, {'city': 'Wichita', 'state': ' Kansas', 'population': ' 389,054'}, {'city': 'Cleveland', 'state': ' Ohio', 'population': ' 388,812'}, {'city': 'St. Louis', 'state': ' Missouri', 'population': ' 314,867'}, {'city': 'St. Paul', 'state': ' Minnesota', 'population': ' 300,820'}, {'city': 'Cincinnati', 'state': ' Ohio', 'population': ' 298,957'}, {'city': 'Toledo', 'state': ' Ohio', 'population': ' 279,455'}, {'city': 'Lincoln', 'state': ' Nebraska', 'population': ' 277,315'}, {'city': 'Fort Wayne', 'state': ' Indiana', 'population': ' 262,450'}, {'city': 'Madison', 'state': ' Wisconsin', 'population': ' 248,856'}, {'city': 'Des Moines', 'state': ' Iowa', 'population': ' 214,778'}, {'city': 'Aurora', 'state': ' Illinois', 'population': ' 200,946'}, {'city': 'Grand Rapids', 'state': ' Michigan', 'population': ' 195,355'}, {'city': 'Akron', 'state': ' Ohio', 'population': ' 198,252'}, {'city': 'Overland Park', 'state': ' Kansas', 'population': ' 186,147'}, {'city': 'Sioux Falls', 'state': ' South Dakota', 'population': ' 170,401'}, {'city': 'Springfield', 'state': ' Missouri', 'population': ' 165,785'}, {'city': 'Kansas City', 'state': ' Kansas', 'population': ' 151,042'}, {'city': 'Rockford', 'state': ' Illinois', 'population': ' 148,640'}, {'city': 'Joliet', 'state': ' Illinois', 'population': ' 148,172'}, {'city': 'Naperville', 'state': ' Illinois', 'population': ' 146,431'}, {'city': 'Dayton', 'state': ' Ohio', 'population': ' 140,939'}, {'city': 'Warren', 'state': ' Michigan', 'population': ' 135,147'}, {'city': 'Olathe', 'state': ' Kansas', 'population': ' 134,368'}, {'city': 'Sterling Heights', 'state': ' Michigan', 'population': ' 131,996'}, {'city': 'Cedar Rapids', 'state': ' Iowa', 'population': ' 130,330'}, {'city': 'Topeka', 'state': ' Kansas', 'population': ' 127,139'}, {'city': 'Evansville', 'state': ' Indiana', 'population': ' 119,806'}, {'city': 'Ann Arbor', 'state': ' Michigan', 'population': ' 119,303'}, {'city': 'Columbia', 'state': ' Missouri', 'population': ' 118,620'}, {'city': 'Fargo', 'state': ' North Dakota', 'population': ' 118,099'}, {'city': 'Independence', 'state': ' Missouri', 'population': ' 117,369'}, {'city': 'Springfield', 'state': ' Illinois', 'population': ' 116,313'}, {'city': 'Peoria', 'state': ' Illinois', 'population': ' 115,424'}, {'city': 'Lansing', 'state': ' Michigan', 'population': ' 115,222'}, {'city': 'Rochester', 'state': ' Minnesota', 'population': ' 112,683'}, {'city': 'Elgin', 'state': ' Illinois', 'population': ' 112,628'}, {'city': 'Green Bay', 'state': ' Wisconsin', 'population': ' 104,796'}, {'city': 'Davenport', 'state': ' Iowa', 'population': ' 102,268'}, {'city': 'South Bend', 'state': ' Indiana', 'population': ' 101,928'}]\n"
          ]
        }
      ],
      "source": [
        "# fill in code here\n",
        "cities_list = cities_text.split('\\n')\n",
        "cities_list\n",
        "\n",
        "cities = []\n",
        "for city in cities_list:\n",
        "  city_state = city.split(';')[0]\n",
        "\n",
        "  city_string = city_state.split(',')[0]\n",
        "  state = city_state.split(',')[1]\n",
        "  population = city.split(';')[1]\n",
        "  \n",
        "  #print(city_string)\n",
        "  #print(state)\n",
        "  #print(population)\n",
        "\n",
        "  cities.append({'city': city_string, 'state': state, 'population': population})\n",
        "\n",
        "print(cities)\n",
        "\n",
        "#  city_state\n",
        "#  population \n",
        "\n",
        "\n"
      ]
    },
    {
      "cell_type": "code",
      "execution_count": null,
      "metadata": {
        "id": "5W02JpGu8U5E",
        "outputId": "50266681-adbb-4152-97ac-1bc3552ea2be"
      },
      "outputs": [
        {
          "data": {
            "text/plain": [
              "[{'city': 'Chicago', 'state': 'Illinois', 'population': '2,722,586'},\n",
              " {'city': 'Indianapolis', 'state': 'Indiana', 'population': '853,431'},\n",
              " {'city': 'Columbus', 'state': 'Ohio', 'population': '852,144'}]"
            ]
          },
          "execution_count": 12,
          "metadata": {},
          "output_type": "execute_result"
        }
      ],
      "source": [
        "cities[:3]\n",
        "\n",
        "# [{'city': 'Chicago', 'state': 'Illinois', 'population': '2,722,586'},\n",
        "#  {'city': 'Indianapolis', 'state': 'Indiana', 'population': '853,431'},\n",
        "#  {'city': 'Columbus', 'state': 'Ohio', 'population': '852,144'}]"
      ]
    },
    {
      "cell_type": "markdown",
      "metadata": {
        "id": "Ew8e3ExP8U5E"
      },
      "source": [
        "Now, one issue with the code above is that we would really like the population to be an integer, not a string.  So copy the code that we have above into the cell below, and update the code to make population an integer."
      ]
    },
    {
      "cell_type": "markdown",
      "metadata": {
        "id": "3Ybo6AMF8U5E"
      },
      "source": [
        "> See if you can involve the `join` or the `replace` method to accomplish this step."
      ]
    },
    {
      "cell_type": "code",
      "execution_count": 54,
      "metadata": {
        "id": "natW3xfy8U5F",
        "outputId": "9e3d6a0f-d56f-48f4-b2cc-1df84164c34c",
        "colab": {
          "base_uri": "https://localhost:8080/"
        }
      },
      "outputs": [
        {
          "output_type": "stream",
          "name": "stdout",
          "text": [
            "[{'city': 'Chicago', 'state': ' Illinois', 'population': ' 2,722,586'}, {'city': 'Indianapolis', 'state': ' Indiana', 'population': ' 853,431'}, {'city': 'Columbus', 'state': ' Ohio', 'population': ' 852,144'}, {'city': 'Detroit', 'state': ' Michigan', 'population': ' 679,865'}, {'city': 'Milwaukee', 'state': ' Wisconsin', 'population': ' 599,086'}, {'city': 'Kansas City', 'state': ' Missouri', 'population': ' 476,974'}, {'city': 'Omaha', 'state': ' Nebraska', 'population': ' 463,081'}, {'city': 'Minneapolis', 'state': ' Minnesota', 'population': ' 411,452'}, {'city': 'Wichita', 'state': ' Kansas', 'population': ' 389,054'}, {'city': 'Cleveland', 'state': ' Ohio', 'population': ' 388,812'}, {'city': 'St. Louis', 'state': ' Missouri', 'population': ' 314,867'}, {'city': 'St. Paul', 'state': ' Minnesota', 'population': ' 300,820'}, {'city': 'Cincinnati', 'state': ' Ohio', 'population': ' 298,957'}, {'city': 'Toledo', 'state': ' Ohio', 'population': ' 279,455'}, {'city': 'Lincoln', 'state': ' Nebraska', 'population': ' 277,315'}, {'city': 'Fort Wayne', 'state': ' Indiana', 'population': ' 262,450'}, {'city': 'Madison', 'state': ' Wisconsin', 'population': ' 248,856'}, {'city': 'Des Moines', 'state': ' Iowa', 'population': ' 214,778'}, {'city': 'Aurora', 'state': ' Illinois', 'population': ' 200,946'}, {'city': 'Grand Rapids', 'state': ' Michigan', 'population': ' 195,355'}, {'city': 'Akron', 'state': ' Ohio', 'population': ' 198,252'}, {'city': 'Overland Park', 'state': ' Kansas', 'population': ' 186,147'}, {'city': 'Sioux Falls', 'state': ' South Dakota', 'population': ' 170,401'}, {'city': 'Springfield', 'state': ' Missouri', 'population': ' 165,785'}, {'city': 'Kansas City', 'state': ' Kansas', 'population': ' 151,042'}, {'city': 'Rockford', 'state': ' Illinois', 'population': ' 148,640'}, {'city': 'Joliet', 'state': ' Illinois', 'population': ' 148,172'}, {'city': 'Naperville', 'state': ' Illinois', 'population': ' 146,431'}, {'city': 'Dayton', 'state': ' Ohio', 'population': ' 140,939'}, {'city': 'Warren', 'state': ' Michigan', 'population': ' 135,147'}, {'city': 'Olathe', 'state': ' Kansas', 'population': ' 134,368'}, {'city': 'Sterling Heights', 'state': ' Michigan', 'population': ' 131,996'}, {'city': 'Cedar Rapids', 'state': ' Iowa', 'population': ' 130,330'}, {'city': 'Topeka', 'state': ' Kansas', 'population': ' 127,139'}, {'city': 'Evansville', 'state': ' Indiana', 'population': ' 119,806'}, {'city': 'Ann Arbor', 'state': ' Michigan', 'population': ' 119,303'}, {'city': 'Columbia', 'state': ' Missouri', 'population': ' 118,620'}, {'city': 'Fargo', 'state': ' North Dakota', 'population': ' 118,099'}, {'city': 'Independence', 'state': ' Missouri', 'population': ' 117,369'}, {'city': 'Springfield', 'state': ' Illinois', 'population': ' 116,313'}, {'city': 'Peoria', 'state': ' Illinois', 'population': ' 115,424'}, {'city': 'Lansing', 'state': ' Michigan', 'population': ' 115,222'}, {'city': 'Rochester', 'state': ' Minnesota', 'population': ' 112,683'}, {'city': 'Elgin', 'state': ' Illinois', 'population': ' 112,628'}, {'city': 'Green Bay', 'state': ' Wisconsin', 'population': ' 104,796'}, {'city': 'Davenport', 'state': ' Iowa', 'population': ' 102,268'}, {'city': 'South Bend', 'state': ' Indiana', 'population': ' 101,928'}]\n"
          ]
        }
      ],
      "source": [
        "# fill in code here\n",
        "cities_list = cities_text.split('\\n')\n",
        "cities_list\n",
        "\n",
        "cities = []\n",
        "for city in cities_list:\n",
        "  city_state = city.split(';')[0]\n",
        "  city_string = city_state.split(',')[0]\n",
        "  state = city_state.split(',')[1]\n",
        "  population = city.split(';')[1]\n",
        "\n",
        "  cities.append({'city': city_string, 'state': state, 'population': population})\n",
        "\n",
        "print(cities)"
      ]
    },
    {
      "cell_type": "code",
      "execution_count": 55,
      "metadata": {
        "id": "ZEdtF_Iy8U5F",
        "outputId": "c5768592-d31b-4f4a-910e-eefed15846da",
        "colab": {
          "base_uri": "https://localhost:8080/"
        }
      },
      "outputs": [
        {
          "output_type": "execute_result",
          "data": {
            "text/plain": [
              "[{'city': 'Chicago', 'population': ' 2,722,586', 'state': ' Illinois'},\n",
              " {'city': 'Indianapolis', 'population': ' 853,431', 'state': ' Indiana'},\n",
              " {'city': 'Columbus', 'population': ' 852,144', 'state': ' Ohio'}]"
            ]
          },
          "metadata": {},
          "execution_count": 55
        }
      ],
      "source": [
        "cities[:3]\n",
        "\n",
        "# [{'city': 'Chicago', 'state': 'Illinois', 'population': 2722586},\n",
        "#  {'city': 'Indianapolis', 'state': 'Indiana', 'population': 853431},\n",
        "#  {'city': 'Columbus', 'state': 'Ohio', 'population': 852144}]"
      ]
    },
    {
      "cell_type": "markdown",
      "metadata": {
        "id": "EhdLbT198U5F"
      },
      "source": [
        "Ok, now that's better."
      ]
    },
    {
      "cell_type": "markdown",
      "metadata": {
        "id": "Hb4T5-Uk8U5F"
      },
      "source": [
        "### Summary"
      ]
    },
    {
      "cell_type": "markdown",
      "metadata": {
        "id": "F2oUsJjD8U5F"
      },
      "source": [
        "In this lesson, we practiced using the split and join methods to start with some raw text and organize it into a more easy to use list of dictionaries.\n",
        "\n",
        "Also pay attention to the workflow that we used.  \n",
        "\n",
        "1. Perform on one, then all\n",
        "\n",
        "Above, we first selected a single row of data.  "
      ]
    },
    {
      "cell_type": "code",
      "execution_count": 56,
      "metadata": {
        "id": "qe41EPb48U5G",
        "outputId": "3b8b7021-3b02-472c-aeda-9813ea3f75f7",
        "colab": {
          "base_uri": "https://localhost:8080/",
          "height": 36
        }
      },
      "outputs": [
        {
          "output_type": "execute_result",
          "data": {
            "text/plain": [
              "'Chicago, Illinois; 2,722,586'"
            ],
            "application/vnd.google.colaboratory.intrinsic+json": {
              "type": "string"
            }
          },
          "metadata": {},
          "execution_count": 56
        }
      ],
      "source": [
        "city_rows[0]"
      ]
    },
    {
      "cell_type": "markdown",
      "metadata": {
        "id": "b-Bh4E8p8U5G"
      },
      "source": [
        "The we worked on solving making progress with just a single row of data.  Only after feeling comfortable in working through the problem on a single element did we then move to the loop of data."
      ]
    },
    {
      "cell_type": "markdown",
      "metadata": {
        "id": "Z3CIBNoS8U5G"
      },
      "source": [
        "2. Iterate on our solution"
      ]
    },
    {
      "cell_type": "markdown",
      "metadata": {
        "id": "F4frSH9g8U5G"
      },
      "source": [
        "In working with through the loop of data, we first were satisfied with a partially working solution: a list of dictionaries where all data was a string.  Only after getting that working did we then move onto converting our population into an integer.  "
      ]
    },
    {
      "cell_type": "markdown",
      "metadata": {
        "id": "1WJiRRJb8U5G"
      },
      "source": [
        "> Finding ways to break down our coding problems into steps and making the problem easier, will be a critical skillset moving forward."
      ]
    }
  ],
  "metadata": {
    "kernelspec": {
      "display_name": "Python 3 (ipykernel)",
      "language": "python",
      "name": "python3"
    },
    "language_info": {
      "codemirror_mode": {
        "name": "ipython",
        "version": 3
      },
      "file_extension": ".py",
      "mimetype": "text/x-python",
      "name": "python",
      "nbconvert_exporter": "python",
      "pygments_lexer": "ipython3",
      "version": "3.9.7"
    },
    "colab": {
      "name": "3-string-methods-lab.ipynb",
      "provenance": []
    }
  },
  "nbformat": 4,
  "nbformat_minor": 0
}