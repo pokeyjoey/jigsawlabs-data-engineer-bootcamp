{
  "cells": [
    {
      "cell_type": "markdown",
      "metadata": {
        "id": "OckUqmkASZCG"
      },
      "source": [
        "# Dictionaries Methods in Python"
      ]
    },
    {
      "cell_type": "markdown",
      "metadata": {
        "id": "kfVjqNKeSZCK"
      },
      "source": [
        "### Introduction"
      ]
    },
    {
      "cell_type": "markdown",
      "metadata": {
        "id": "rN1b5A25SZCL"
      },
      "source": [
        "Previously, we saw that dictionaries are a set of key value pairs.  We know that we can initialize a dictonary with the following:"
      ]
    },
    {
      "cell_type": "code",
      "execution_count": 1,
      "metadata": {
        "id": "qySCxqPOSZCM",
        "outputId": "023d0aea-d603-4068-d3f4-afee2ff02f55",
        "colab": {
          "base_uri": "https://localhost:8080/"
        }
      },
      "outputs": [
        {
          "output_type": "execute_result",
          "data": {
            "text/plain": [
              "{'hq': 'newport beach', 'name': 'chipotle', 'num_of_locations': 2500}"
            ]
          },
          "metadata": {},
          "execution_count": 1
        }
      ],
      "source": [
        "chipotle = {'name': 'chipotle', 'hq': 'newport beach', 'num_of_locations': 2500}\n",
        "chipotle"
      ]
    },
    {
      "cell_type": "markdown",
      "metadata": {
        "id": "NFde0MSHSZCO"
      },
      "source": [
        "And that we can retrieve a specific value from the dictionary with the following:"
      ]
    },
    {
      "cell_type": "code",
      "execution_count": 2,
      "metadata": {
        "id": "1IpY4yGzSZCO",
        "outputId": "09772034-3431-40e9-f9c5-a81ac7a9b0aa",
        "colab": {
          "base_uri": "https://localhost:8080/",
          "height": 36
        }
      },
      "outputs": [
        {
          "output_type": "execute_result",
          "data": {
            "text/plain": [
              "'chipotle'"
            ],
            "application/vnd.google.colaboratory.intrinsic+json": {
              "type": "string"
            }
          },
          "metadata": {},
          "execution_count": 2
        }
      ],
      "source": [
        "chipotle['name']"
      ]
    },
    {
      "cell_type": "markdown",
      "metadata": {
        "id": "VWF38O4uSZCP"
      },
      "source": [
        "In this lesson, we'll learn how to access multiple components from a dictionary - like the keys, values, and items."
      ]
    },
    {
      "cell_type": "markdown",
      "metadata": {
        "id": "kbErVQ0CSZCP"
      },
      "source": [
        "### Changing our dictionaries"
      ]
    },
    {
      "cell_type": "markdown",
      "metadata": {
        "id": "vCWIAcHiSZCQ"
      },
      "source": [
        "Now that we know the different mechanisms to retrieve a value from a dictionary, let's make sure that we know how to update a dictionary."
      ]
    },
    {
      "cell_type": "markdown",
      "metadata": {
        "id": "60atkfeySZCQ"
      },
      "source": [
        "For example, let's add in that key of `num_of_employees` to chipotle."
      ]
    },
    {
      "cell_type": "code",
      "execution_count": 3,
      "metadata": {
        "id": "i1qFlRaRSZCR",
        "outputId": "f6d5f0ce-e3ca-40ea-ec56-aa3e3503d459",
        "colab": {
          "base_uri": "https://localhost:8080/"
        }
      },
      "outputs": [
        {
          "output_type": "execute_result",
          "data": {
            "text/plain": [
              "{'hq': 'newport beach', 'name': 'chipotle', 'num_of_locations': 2500}"
            ]
          },
          "metadata": {},
          "execution_count": 3
        }
      ],
      "source": [
        "chipotle"
      ]
    },
    {
      "cell_type": "code",
      "execution_count": 4,
      "metadata": {
        "id": "HZ50zvBpSZCR"
      },
      "outputs": [],
      "source": [
        "chipotle['num_of_employees'] = 64570"
      ]
    },
    {
      "cell_type": "code",
      "execution_count": 5,
      "metadata": {
        "id": "hKRNXRGFSZCS",
        "outputId": "57cc94d2-df91-4de5-d540-1b1b7ea44f41",
        "colab": {
          "base_uri": "https://localhost:8080/"
        }
      },
      "outputs": [
        {
          "output_type": "execute_result",
          "data": {
            "text/plain": [
              "{'hq': 'newport beach',\n",
              " 'name': 'chipotle',\n",
              " 'num_of_employees': 64570,\n",
              " 'num_of_locations': 2500}"
            ]
          },
          "metadata": {},
          "execution_count": 5
        }
      ],
      "source": [
        "chipotle"
      ]
    },
    {
      "cell_type": "markdown",
      "metadata": {
        "id": "Z-cQYzn7SZCS"
      },
      "source": [
        "So we added a new key value pair with the following pattern:"
      ]
    },
    {
      "cell_type": "markdown",
      "metadata": {
        "id": "2E20QfmbSZCS"
      },
      "source": [
        "```python\n",
        "dictionary['key'] = 'value'\n",
        "```"
      ]
    },
    {
      "cell_type": "markdown",
      "metadata": {
        "id": "cNZPHImxSZCT"
      },
      "source": [
        "Let's see this again by now updating the name to be capitalized."
      ]
    },
    {
      "cell_type": "code",
      "execution_count": 6,
      "metadata": {
        "id": "OEsaWFLaSZCT"
      },
      "outputs": [],
      "source": [
        "chipotle['name'] = 'Chipotle'"
      ]
    },
    {
      "cell_type": "code",
      "execution_count": 7,
      "metadata": {
        "id": "VLTo5jx-SZCT",
        "outputId": "9f8dc2e1-ff2e-4a52-92f9-ec55b1643e65",
        "colab": {
          "base_uri": "https://localhost:8080/"
        }
      },
      "outputs": [
        {
          "output_type": "execute_result",
          "data": {
            "text/plain": [
              "{'hq': 'newport beach',\n",
              " 'name': 'Chipotle',\n",
              " 'num_of_employees': 64570,\n",
              " 'num_of_locations': 2500}"
            ]
          },
          "metadata": {},
          "execution_count": 7
        }
      ],
      "source": [
        "chipotle"
      ]
    },
    {
      "cell_type": "markdown",
      "metadata": {
        "id": "yAlqhUx7SZCU"
      },
      "source": [
        "Ok, so we can see that by sticking to that pattern of `dictionary['key'] = 'value'` we not only can update our dictionary with a new key value pair, but can also change an existing value."
      ]
    },
    {
      "cell_type": "code",
      "execution_count": 8,
      "metadata": {
        "id": "UH6RzxsYSZCU",
        "outputId": "6e693694-579b-47a9-b048-ee1c8a0cfe6f",
        "colab": {
          "base_uri": "https://localhost:8080/"
        }
      },
      "outputs": [
        {
          "output_type": "execute_result",
          "data": {
            "text/plain": [
              "{'hq': 'newport beach',\n",
              " 'name': 'Chipotle',\n",
              " 'num_of_employees': 64570,\n",
              " 'num_of_locations': 2500}"
            ]
          },
          "metadata": {},
          "execution_count": 8
        }
      ],
      "source": [
        "chipotle"
      ]
    },
    {
      "cell_type": "markdown",
      "metadata": {
        "id": "5QZUDt6KSZCU"
      },
      "source": [
        "### Exploring Dictionary Methods"
      ]
    },
    {
      "cell_type": "markdown",
      "metadata": {
        "id": "6PVqTvStSZCV"
      },
      "source": [
        "Now our lesson wouldn't be complete without a little more exploration into what methods are available to us on a dictionary.  Let's see what methods are available by pressing a dot after the dictionary and then pressing tab."
      ]
    },
    {
      "cell_type": "code",
      "execution_count": 10,
      "metadata": {
        "id": "Pi8rnwsRSZCV",
        "outputId": "5d9d690d-175b-425d-bcb5-ff3a49f24c28",
        "colab": {
          "base_uri": "https://localhost:8080/"
        }
      },
      "outputs": [
        {
          "output_type": "execute_result",
          "data": {
            "text/plain": [
              "dict_items([('name', 'Chipotle'), ('hq', 'newport beach'), ('num_of_locations', 2500), ('num_of_employees', 64570)])"
            ]
          },
          "metadata": {},
          "execution_count": 10
        }
      ],
      "source": [
        "chipotle.items()"
      ]
    },
    {
      "cell_type": "markdown",
      "metadata": {
        "id": "CuO4PSKySZCV"
      },
      "source": [
        "Ok, so of the methods that we saw listed, there are two that are mainly important to us. The `keys` and `values` methods.  Lets start with the keys method."
      ]
    },
    {
      "cell_type": "code",
      "execution_count": 11,
      "metadata": {
        "id": "4p4AixZPSZCV",
        "outputId": "48cf9a1b-3e2b-405b-ff50-0b749ff6c14c",
        "colab": {
          "base_uri": "https://localhost:8080/"
        }
      },
      "outputs": [
        {
          "output_type": "execute_result",
          "data": {
            "text/plain": [
              "dict_keys(['name', 'hq', 'num_of_locations', 'num_of_employees'])"
            ]
          },
          "metadata": {},
          "execution_count": 11
        }
      ],
      "source": [
        "chipotle.keys()"
      ]
    },
    {
      "cell_type": "markdown",
      "metadata": {
        "id": "ZmCfegiLSZCW"
      },
      "source": [
        "Ok, so oftentimes we'll use the keys method to get an overview of a large dictionary.  It's a way to see what data is available to us.  Above, we see that we have the four pieces of information about the restaurant.  "
      ]
    },
    {
      "cell_type": "markdown",
      "metadata": {
        "id": "hh7uidGfSZCW"
      },
      "source": [
        "We can also access a dictionary's values method."
      ]
    },
    {
      "cell_type": "code",
      "execution_count": 12,
      "metadata": {
        "id": "07ACq3hvSZCW",
        "outputId": "cd9a1819-d635-46c5-ea3f-190fc5b71219",
        "colab": {
          "base_uri": "https://localhost:8080/"
        }
      },
      "outputs": [
        {
          "output_type": "execute_result",
          "data": {
            "text/plain": [
              "dict_values(['Chipotle', 'newport beach', 2500, 64570])"
            ]
          },
          "metadata": {},
          "execution_count": 12
        }
      ],
      "source": [
        "chipotle.values()"
      ]
    },
    {
      "cell_type": "markdown",
      "metadata": {
        "id": "ArFB6kVnSZCW"
      },
      "source": [
        "> Notice that when we call `keys()` or `values()`, we are returned the `dict_keys` or `dict_values` datatype, which we can just understand as being pretty similar to a list.  \n",
        "\n",
        "We can coerce our `dict_keys` or `dict_values` into a list by wrapping the result in the `list` method:"
      ]
    },
    {
      "cell_type": "code",
      "execution_count": 15,
      "metadata": {
        "id": "vFtE8zN_SZCX",
        "outputId": "e0c1a81e-c193-413e-8337-6223ff0d1240",
        "colab": {
          "base_uri": "https://localhost:8080/"
        }
      },
      "outputs": [
        {
          "output_type": "execute_result",
          "data": {
            "text/plain": [
              "dict_values"
            ]
          },
          "metadata": {},
          "execution_count": 15
        }
      ],
      "source": [
        "list(chipotle.values())\n",
        "type(chipotle.values())"
      ]
    },
    {
      "cell_type": "markdown",
      "metadata": {
        "id": "aq_T_h8PSZCX"
      },
      "source": [
        "Finally, if we wish to access both the key value pairs as a list, we can do so with a call to items."
      ]
    },
    {
      "cell_type": "code",
      "execution_count": 16,
      "metadata": {
        "id": "nMH3jESwSZCX",
        "outputId": "797a5556-38e0-41f8-e439-ec21ba579e46",
        "colab": {
          "base_uri": "https://localhost:8080/"
        }
      },
      "outputs": [
        {
          "output_type": "execute_result",
          "data": {
            "text/plain": [
              "dict_items([('name', 'Chipotle'), ('hq', 'newport beach'), ('num_of_locations', 2500), ('num_of_employees', 64570)])"
            ]
          },
          "metadata": {},
          "execution_count": 16
        }
      ],
      "source": [
        "chipotle.items()"
      ]
    },
    {
      "cell_type": "markdown",
      "metadata": {
        "id": "DHXcztwfSZCX"
      },
      "source": [
        "Remember that if we try slice just a subset of our items, we can't do so as we are not currently working with a lit."
      ]
    },
    {
      "cell_type": "code",
      "execution_count": 17,
      "metadata": {
        "id": "lBwOEjcPSZCY",
        "outputId": "74411194-28b6-4ceb-d55e-a2266ad8480b",
        "colab": {
          "base_uri": "https://localhost:8080/",
          "height": 166
        }
      },
      "outputs": [
        {
          "output_type": "error",
          "ename": "TypeError",
          "evalue": "ignored",
          "traceback": [
            "\u001b[0;31m---------------------------------------------------------------------------\u001b[0m",
            "\u001b[0;31mTypeError\u001b[0m                                 Traceback (most recent call last)",
            "\u001b[0;32m<ipython-input-17-c33d883e0dd3>\u001b[0m in \u001b[0;36m<module>\u001b[0;34m()\u001b[0m\n\u001b[0;32m----> 1\u001b[0;31m \u001b[0mchipotle\u001b[0m\u001b[0;34m.\u001b[0m\u001b[0mitems\u001b[0m\u001b[0;34m(\u001b[0m\u001b[0;34m)\u001b[0m\u001b[0;34m[\u001b[0m\u001b[0;34m:\u001b[0m\u001b[0;36m3\u001b[0m\u001b[0;34m]\u001b[0m\u001b[0;34m\u001b[0m\u001b[0;34m\u001b[0m\u001b[0m\n\u001b[0m",
            "\u001b[0;31mTypeError\u001b[0m: 'dict_items' object is not subscriptable"
          ]
        }
      ],
      "source": [
        "chipotle.items()[:3]"
      ]
    },
    {
      "cell_type": "markdown",
      "metadata": {
        "id": "gni57SHySZCY"
      },
      "source": [
        "> Pay attention to the `is not subscriptable` error message.  Oftentimes, we'll see this message when we *think* that we are working with a list, but really we are working with something else.  Like in the above case, our `dict_items`."
      ]
    },
    {
      "cell_type": "markdown",
      "metadata": {
        "id": "Ko8LygAMSZCY"
      },
      "source": [
        "Ok, so before we slice pairs of elements from the above, we need to first coerce our data into a list."
      ]
    },
    {
      "cell_type": "code",
      "execution_count": 18,
      "metadata": {
        "id": "f6HPTuFESZCY"
      },
      "outputs": [],
      "source": [
        "chipotle_items = list(chipotle.items())"
      ]
    },
    {
      "cell_type": "code",
      "execution_count": 19,
      "metadata": {
        "id": "kTQefMDRSZCZ",
        "outputId": "60979c8f-317c-4333-e7d6-9d20cc99e906",
        "colab": {
          "base_uri": "https://localhost:8080/"
        }
      },
      "outputs": [
        {
          "output_type": "execute_result",
          "data": {
            "text/plain": [
              "list"
            ]
          },
          "metadata": {},
          "execution_count": 19
        }
      ],
      "source": [
        "type(chipotle_items)"
      ]
    },
    {
      "cell_type": "markdown",
      "metadata": {
        "id": "TTnZiAPPSZCZ"
      },
      "source": [
        "Now we can slice."
      ]
    },
    {
      "cell_type": "code",
      "execution_count": 20,
      "metadata": {
        "id": "qNGw2zhVSZCZ",
        "outputId": "e01b476a-4f10-41ed-b9c6-ca0324ebe9c2",
        "colab": {
          "base_uri": "https://localhost:8080/"
        }
      },
      "outputs": [
        {
          "output_type": "execute_result",
          "data": {
            "text/plain": [
              "[('name', 'Chipotle'), ('hq', 'newport beach'), ('num_of_locations', 2500)]"
            ]
          },
          "metadata": {},
          "execution_count": 20
        }
      ],
      "source": [
        "chipotle_items[:3]"
      ]
    },
    {
      "cell_type": "markdown",
      "metadata": {
        "id": "9gSVSpfCSZCZ"
      },
      "source": [
        "Finally, we can coerce any list of tuples into a dictionary with a call of dict.  Let's create a dictionary of just the first three key value pairs."
      ]
    },
    {
      "cell_type": "code",
      "execution_count": 21,
      "metadata": {
        "id": "zlcwlfMQSZCZ",
        "outputId": "7fe3e9a7-cdbe-435b-8945-43777a1f6001",
        "colab": {
          "base_uri": "https://localhost:8080/"
        }
      },
      "outputs": [
        {
          "output_type": "execute_result",
          "data": {
            "text/plain": [
              "{'hq': 'newport beach', 'name': 'Chipotle', 'num_of_locations': 2500}"
            ]
          },
          "metadata": {},
          "execution_count": 21
        }
      ],
      "source": [
        "dict(list(chipotle.items())[:3])"
      ]
    },
    {
      "cell_type": "markdown",
      "metadata": {
        "id": "oOmMwOe1SZCa"
      },
      "source": [
        "### Summary"
      ]
    },
    {
      "cell_type": "markdown",
      "metadata": {
        "id": "XnuyaZQTSZCa"
      },
      "source": [
        "In this lesson, we learned some more advanced methods with dictionaries.  We saw that an we can add new data to our dictionaries with the pattern:\n",
        "\n",
        "```python\n",
        "dictionary['key'] = 'value'\n",
        "```"
      ]
    },
    {
      "cell_type": "markdown",
      "metadata": {
        "id": "u6j8Ih5ESZCa"
      },
      "source": [
        "And we saw that we can access certain components of a dictionary with a call to the `keys()`, `values()` or `items()` methods.  One thing to pay atttention to is, the type of data we are working with.  Oftentimes, because we want access to the list methods, we'll need to coerce the return value into a list, by wrapping this in the `list()` method."
      ]
    },
    {
      "cell_type": "code",
      "execution_count": 22,
      "metadata": {
        "id": "VLmfNKmdSZCa",
        "outputId": "572cff04-764e-430c-f091-edb4b37ef6e0",
        "colab": {
          "base_uri": "https://localhost:8080/"
        }
      },
      "outputs": [
        {
          "output_type": "execute_result",
          "data": {
            "text/plain": [
              "[('name', 'Chipotle'),\n",
              " ('hq', 'newport beach'),\n",
              " ('num_of_locations', 2500),\n",
              " ('num_of_employees', 64570)]"
            ]
          },
          "metadata": {},
          "execution_count": 22
        }
      ],
      "source": [
        "chipotle_items = list(chipotle.items())\n",
        "\n",
        "chipotle_items"
      ]
    },
    {
      "cell_type": "markdown",
      "metadata": {
        "id": "cHA9sseuSZCb"
      },
      "source": [
        "Then if we wish to coerce this list of nested tuples back into a dictionary, we can do so by wrapping this in `dict`."
      ]
    },
    {
      "cell_type": "code",
      "execution_count": 23,
      "metadata": {
        "id": "dCcErMbeSZCb",
        "outputId": "37631273-c1c9-4062-d94e-6453d476dc3d",
        "colab": {
          "base_uri": "https://localhost:8080/"
        }
      },
      "outputs": [
        {
          "output_type": "execute_result",
          "data": {
            "text/plain": [
              "{'hq': 'newport beach',\n",
              " 'name': 'Chipotle',\n",
              " 'num_of_employees': 64570,\n",
              " 'num_of_locations': 2500}"
            ]
          },
          "metadata": {},
          "execution_count": 23
        }
      ],
      "source": [
        "dict(chipotle_items)"
      ]
    },
    {
      "cell_type": "code",
      "source": [
        ""
      ],
      "metadata": {
        "id": "iraboEaqUEqL"
      },
      "execution_count": null,
      "outputs": []
    }
  ],
  "metadata": {
    "kernelspec": {
      "display_name": "Python 3 (ipykernel)",
      "language": "python",
      "name": "python3"
    },
    "language_info": {
      "codemirror_mode": {
        "name": "ipython",
        "version": 3
      },
      "file_extension": ".py",
      "mimetype": "text/x-python",
      "name": "python",
      "nbconvert_exporter": "python",
      "pygments_lexer": "ipython3",
      "version": "3.9.7"
    },
    "colab": {
      "name": "4-full-dictionaries.ipynb",
      "provenance": []
    }
  },
  "nbformat": 4,
  "nbformat_minor": 0
}