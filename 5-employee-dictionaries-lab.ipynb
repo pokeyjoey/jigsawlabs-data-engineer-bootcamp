{
  "cells": [
    {
      "cell_type": "markdown",
      "metadata": {
        "id": "ZNWSOz-5UfmQ"
      },
      "source": [
        "# Working with dictionaries lab"
      ]
    },
    {
      "cell_type": "markdown",
      "metadata": {
        "id": "WmPyNfUQUfmT"
      },
      "source": [
        "### Introduction"
      ]
    },
    {
      "cell_type": "markdown",
      "metadata": {
        "id": "KQHXWSH8UfmU"
      },
      "source": [
        "Ok, so in this lesson, we'll practice working with dictionaries.  We'll start with  creating some dictionaries, and working with those.  Then, we'll move on to using our knowledge of dictionaries to explore the API."
      ]
    },
    {
      "cell_type": "markdown",
      "metadata": {
        "id": "reGyGeVhUfmU"
      },
      "source": [
        "### Using our own dictionaries"
      ]
    },
    {
      "cell_type": "markdown",
      "metadata": {
        "id": "WbpmeIcHUfmU"
      },
      "source": [
        "As we know, dictionaries are a great way to label attributes about an entity.  Let's start with a dictionary describing a restaurant employee."
      ]
    },
    {
      "cell_type": "code",
      "execution_count": 13,
      "metadata": {
        "id": "SRKXgkpEUfmV"
      },
      "outputs": [],
      "source": [
        "olivia = {'name': 'olivia', 'birthday': '11/6/1992', \n",
        "          'days_available': ['Monday', 'Tuesday', 'Saturday', 'Sunday']}"
      ]
    },
    {
      "cell_type": "markdown",
      "metadata": {
        "id": "j-U4WWVpUfmW"
      },
      "source": [
        "Let's explore our data structure by looking at **all of the keys** in the data structure.  We'll assign these key values to a variable named `attributes`."
      ]
    },
    {
      "cell_type": "markdown",
      "metadata": {
        "id": "lafCfTPhUfmX"
      },
      "source": [
        "> Remember to use dot and tab if you cannot remember the name of the method."
      ]
    },
    {
      "cell_type": "code",
      "execution_count": 2,
      "metadata": {
        "id": "azDSaHaxUfmX",
        "outputId": "5e48994c-869b-4fb2-dc71-80cf83bfd9ac",
        "colab": {
          "base_uri": "https://localhost:8080/"
        }
      },
      "outputs": [
        {
          "output_type": "execute_result",
          "data": {
            "text/plain": [
              "dict_keys"
            ]
          },
          "metadata": {},
          "execution_count": 2
        }
      ],
      "source": [
        "olivia_keys =olivia.keys()\n",
        "\n",
        "type(olivia_keys)\n",
        "# # dict_keys"
      ]
    },
    {
      "cell_type": "markdown",
      "metadata": {
        "id": "PQDxGgEuUfmY"
      },
      "source": [
        "So if we look at keys, we see that three attributes are available."
      ]
    },
    {
      "cell_type": "code",
      "execution_count": 3,
      "metadata": {
        "id": "-oCdFCZdUfmZ",
        "outputId": "45f77aac-5412-4eb4-8250-123d80829d0b",
        "colab": {
          "base_uri": "https://localhost:8080/"
        }
      },
      "outputs": [
        {
          "output_type": "execute_result",
          "data": {
            "text/plain": [
              "dict_keys(['name', 'birthday', 'days_available'])"
            ]
          },
          "metadata": {},
          "execution_count": 3
        }
      ],
      "source": [
        "olivia_keys\n",
        "\n",
        "# dict_keys(['name', 'birthday', 'days_available'])"
      ]
    },
    {
      "cell_type": "markdown",
      "metadata": {
        "id": "DI3Yc4_XUfma"
      },
      "source": [
        "Now, retreive the value for `birthday` for `olivia` and assign it to the variable `birthday`."
      ]
    },
    {
      "cell_type": "code",
      "execution_count": 4,
      "metadata": {
        "id": "LgU0KZ05Ufma",
        "outputId": "a2f6f3a8-8c93-4186-b95f-13ed5abe3a76",
        "colab": {
          "base_uri": "https://localhost:8080/",
          "height": 36
        }
      },
      "outputs": [
        {
          "output_type": "execute_result",
          "data": {
            "text/plain": [
              "'11/6/1992'"
            ],
            "application/vnd.google.colaboratory.intrinsic+json": {
              "type": "string"
            }
          },
          "metadata": {},
          "execution_count": 4
        }
      ],
      "source": [
        "birthday = olivia.get('birthday')\n",
        "\n",
        "birthday\n",
        "# 11/6/1992"
      ]
    },
    {
      "cell_type": "markdown",
      "metadata": {
        "id": "Qn0Cte6jUfma"
      },
      "source": [
        "Now retreive the list of days that olivia is available, and assign it to the variable days available."
      ]
    },
    {
      "cell_type": "code",
      "execution_count": 11,
      "metadata": {
        "id": "OPjhYzlkUfmb",
        "outputId": "241667c6-72e4-4d2d-c08c-2a508f7be768",
        "colab": {
          "base_uri": "https://localhost:8080/"
        }
      },
      "outputs": [
        {
          "output_type": "execute_result",
          "data": {
            "text/plain": [
              "['Monday', 'Tuesday', 'Saturday', 'Sunday']"
            ]
          },
          "metadata": {},
          "execution_count": 11
        }
      ],
      "source": [
        "days_available = olivia.get('days_available')\n",
        "days_available\n",
        "# ['Monday', 'Tuesday', 'Saturday', 'Sunday']"
      ]
    },
    {
      "cell_type": "markdown",
      "metadata": {
        "id": "s605y71AUfmb"
      },
      "source": [
        "Now Olivia tells us that she is no longer availabe on Sunday.  Start with the variable `olivia` and remove the last element from the list of days she is available."
      ]
    },
    {
      "cell_type": "code",
      "execution_count": 9,
      "metadata": {
        "id": "Kg280jc1Ufmc",
        "outputId": "c028ef71-1f5f-4985-ffa1-f6f97de8c9cc",
        "colab": {
          "base_uri": "https://localhost:8080/"
        }
      },
      "outputs": [
        {
          "output_type": "execute_result",
          "data": {
            "text/plain": [
              "{'birthday': '11/6/1992', 'days_available': 'Sunday', 'name': 'olivia'}"
            ]
          },
          "metadata": {},
          "execution_count": 9
        }
      ],
      "source": [
        "# write code here \n",
        "olivia"
      ]
    },
    {
      "cell_type": "code",
      "source": [
        "olivia['days_available'] = olivia['days_available'][0:3]\n",
        "olivia"
      ],
      "metadata": {
        "id": "pfO8UhxLVTCT",
        "outputId": "8011cc17-88e0-43b2-84f7-d4205c7e13bb",
        "colab": {
          "base_uri": "https://localhost:8080/"
        }
      },
      "execution_count": 14,
      "outputs": [
        {
          "output_type": "execute_result",
          "data": {
            "text/plain": [
              "{'birthday': '11/6/1992',\n",
              " 'days_available': ['Monday', 'Tuesday', 'Saturday'],\n",
              " 'name': 'olivia'}"
            ]
          },
          "metadata": {},
          "execution_count": 14
        }
      ]
    },
    {
      "cell_type": "code",
      "execution_count": 15,
      "metadata": {
        "id": "vgAaLGHFUfmc",
        "outputId": "612853cd-f7a2-45e4-909a-3c4c88101ef1",
        "colab": {
          "base_uri": "https://localhost:8080/"
        }
      },
      "outputs": [
        {
          "output_type": "execute_result",
          "data": {
            "text/plain": [
              "['Monday', 'Tuesday', 'Saturday']"
            ]
          },
          "metadata": {},
          "execution_count": 15
        }
      ],
      "source": [
        "olivia['days_available']\n",
        "# ['Monday', 'Tuesday', 'Saturday']"
      ]
    },
    {
      "cell_type": "markdown",
      "metadata": {
        "id": "DIWU-a3dUfmc"
      },
      "source": [
        "Now let's create a new dictionary to represent another employee.  We'll assign it to the variable of `amelia`.  Our dictionary should have keys of `name`, `birthday`, and `days_available`.  And the corresponding values should be `amelia`, `3/18/1989` and an empty list for days available (as these are unknown to us right now.  "
      ]
    },
    {
      "cell_type": "code",
      "execution_count": 16,
      "metadata": {
        "id": "PdoQNqXPUfmc"
      },
      "outputs": [],
      "source": [
        "amelia = {'name': 'amelia',\n",
        "          'birthday': '3/18/1989',\n",
        "          'days_availiable': []}"
      ]
    },
    {
      "cell_type": "code",
      "execution_count": 17,
      "metadata": {
        "id": "PFFGWk87Ufmd",
        "outputId": "b4e185fc-e379-42b4-8050-5af2a36f64e2",
        "colab": {
          "base_uri": "https://localhost:8080/"
        }
      },
      "outputs": [
        {
          "output_type": "execute_result",
          "data": {
            "text/plain": [
              "dict_keys(['name', 'birthday', 'days_availiable'])"
            ]
          },
          "metadata": {},
          "execution_count": 17
        }
      ],
      "source": [
        "amelia.keys()\n",
        "\n",
        "# dict_keys(['name', 'birthday', 'days_available'])"
      ]
    },
    {
      "cell_type": "code",
      "execution_count": 18,
      "metadata": {
        "id": "Ou7l6FdaUfmd",
        "outputId": "edbea78c-9af9-4979-bab3-418d16175237",
        "colab": {
          "base_uri": "https://localhost:8080/"
        }
      },
      "outputs": [
        {
          "output_type": "execute_result",
          "data": {
            "text/plain": [
              "dict_values(['amelia', '3/18/1989', []])"
            ]
          },
          "metadata": {},
          "execution_count": 18
        }
      ],
      "source": [
        "amelia.values()\n",
        "\n",
        "# dict_values(['amelia', '3/18/1989', []])"
      ]
    },
    {
      "cell_type": "markdown",
      "metadata": {
        "id": "xoHXmfJmUfmd"
      },
      "source": [
        "Now, convert the dictionary above into the following list of nested data."
      ]
    },
    {
      "cell_type": "code",
      "execution_count": 19,
      "metadata": {
        "id": "9y2BT_hLUfme",
        "outputId": "0984bc78-1b03-4c47-e8e7-c5e2c5e6cf4a",
        "colab": {
          "base_uri": "https://localhost:8080/"
        }
      },
      "outputs": [
        {
          "output_type": "execute_result",
          "data": {
            "text/plain": [
              "[('name', 'amelia'), ('birthday', '3/18/1989'), ('days_availiable', [])]"
            ]
          },
          "metadata": {},
          "execution_count": 19
        }
      ],
      "source": [
        "amelia_list = list(amelia.items())\n",
        "\n",
        "amelia_list\n",
        "# [('name', 'amelia'), ('birthday', '3/18/1989'), ('days_available', [])]"
      ]
    },
    {
      "cell_type": "markdown",
      "metadata": {
        "id": "raPYr_NoUfme"
      },
      "source": [
        "Then go usee this `amelia_list` to convert our data to a dictionary without the key value pair of `days_available`, `[]`."
      ]
    },
    {
      "cell_type": "code",
      "execution_count": 21,
      "metadata": {
        "id": "wKiTkSRoUfme",
        "outputId": "a9f97ab5-ff7b-492a-e907-5b50837dd4cb",
        "colab": {
          "base_uri": "https://localhost:8080/"
        }
      },
      "outputs": [
        {
          "output_type": "execute_result",
          "data": {
            "text/plain": [
              "{'birthday': '3/18/1989', 'name': 'amelia'}"
            ]
          },
          "metadata": {},
          "execution_count": 21
        }
      ],
      "source": [
        "amelia_dictionary = dict(amelia_list[0:2])\n",
        "amelia_dictionary\n",
        "\n",
        "# {'name': 'amelia', 'birthday': '3/18/1989'}"
      ]
    },
    {
      "cell_type": "markdown",
      "metadata": {
        "id": "oVxcrO3OUfmf"
      },
      "source": [
        "### Summary"
      ]
    },
    {
      "cell_type": "markdown",
      "metadata": {
        "id": "ca2TpevlUfmf"
      },
      "source": [
        "In this lesson, we accessed information from dictionaries and we created our own dictionaries.  We practiced using the `keys` method, and the `values` method.  Then we moved onto nested data structures, a list of dictionaries.  We'll see in the next lesson that working with nested data structures is really one of the keys to working with APIs."
      ]
    }
  ],
  "metadata": {
    "kernelspec": {
      "display_name": "Python 3 (ipykernel)",
      "language": "python",
      "name": "python3"
    },
    "language_info": {
      "codemirror_mode": {
        "name": "ipython",
        "version": 3
      },
      "file_extension": ".py",
      "mimetype": "text/x-python",
      "name": "python",
      "nbconvert_exporter": "python",
      "pygments_lexer": "ipython3",
      "version": "3.9.7"
    },
    "colab": {
      "name": "5-employee-dictionaries-lab.ipynb",
      "provenance": []
    }
  },
  "nbformat": 4,
  "nbformat_minor": 0
}