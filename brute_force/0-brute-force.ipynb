{
  "cells": [
    {
      "cell_type": "markdown",
      "id": "f6e75d6e-2f2e-4463-83e5-9342f6ebf428",
      "metadata": {
        "id": "f6e75d6e-2f2e-4463-83e5-9342f6ebf428"
      },
      "source": [
        "# Brute Force in Python"
      ]
    },
    {
      "cell_type": "markdown",
      "id": "c6e19045-8839-4fc8-b45a-e9c1edb76fd6",
      "metadata": {
        "id": "c6e19045-8839-4fc8-b45a-e9c1edb76fd6"
      },
      "source": [
        "### Introduction"
      ]
    },
    {
      "cell_type": "markdown",
      "id": "5c30c59b-0ee2-45ae-a478-9da16cc6c317",
      "metadata": {
        "id": "5c30c59b-0ee2-45ae-a478-9da16cc6c317"
      },
      "source": [
        "When working through algorithmic problems, one technique that often comes up is the brute force solution.  The brute force solution can be describe pretty simply:\n",
        "\n",
        "> Go through all permutations of the data until we simply find a solution.\n",
        "\n",
        "The brute force solution is often called the **naive** solution.  This is because it doesn't involve too much thinking to say let's try everything.  But just because the *try everything* approach is easy to think of as a strategy, it doesn't mean that it's always easy to implement.  \n",
        "\n",
        "In this lesson, we'll see applications of the brute force solution, and work through some examples."
      ]
    },
    {
      "cell_type": "markdown",
      "id": "994da345-7fa1-4312-a0b6-2e85d8d63c66",
      "metadata": {
        "id": "994da345-7fa1-4312-a0b6-2e85d8d63c66"
      },
      "source": [
        "### Brute Force with Loops"
      ]
    },
    {
      "cell_type": "markdown",
      "id": "1a5c6151-9e73-40e4-835c-52b83affc0d6",
      "metadata": {
        "id": "1a5c6151-9e73-40e4-835c-52b83affc0d6"
      },
      "source": [
        "The first problem we will work through is to check if an element is in a list.  Use the brute force solution to solve the problem below."
      ]
    },
    {
      "cell_type": "markdown",
      "id": "2bf86475-9c90-435b-90bb-8b4ee251c064",
      "metadata": {
        "id": "2bf86475-9c90-435b-90bb-8b4ee251c064"
      },
      "source": [
        "> Give yourself at least 10 minutes to complete the below.  If you cannot solve it then, look at the solution at the end."
      ]
    },
    {
      "cell_type": "code",
      "execution_count": 1,
      "id": "dcb7d987-6ae3-4cc7-a600-102231478bce",
      "metadata": {
        "id": "dcb7d987-6ae3-4cc7-a600-102231478bce"
      },
      "outputs": [],
      "source": [
        "letters = ['d', 'f', 'l', 'a', 'c']"
      ]
    },
    {
      "cell_type": "code",
      "execution_count": 10,
      "id": "2458d96e-1d17-42c8-91f4-76c04c646fe6",
      "metadata": {
        "id": "2458d96e-1d17-42c8-91f4-76c04c646fe6"
      },
      "outputs": [],
      "source": [
        "def is_in(element, letters):\n",
        "    #is_in = True if letters.count(element) else False\n",
        "    for letter in letters:\n",
        "      if element == letter:\n",
        "        return True\n",
        "\n",
        "    return False"
      ]
    },
    {
      "cell_type": "code",
      "execution_count": 11,
      "id": "631e29f1-7c6c-43a9-8d52-1071a3d8f7d0",
      "metadata": {
        "id": "631e29f1-7c6c-43a9-8d52-1071a3d8f7d0",
        "outputId": "0769f75b-12bb-47c8-dafe-33ba6312ed1b",
        "colab": {
          "base_uri": "https://localhost:8080/"
        }
      },
      "outputs": [
        {
          "output_type": "execute_result",
          "data": {
            "text/plain": [
              "True"
            ]
          },
          "metadata": {},
          "execution_count": 11
        }
      ],
      "source": [
        "is_in('d', letters)\n",
        "# True"
      ]
    },
    {
      "cell_type": "code",
      "source": [
        "is_in('k', letters)\n",
        "# False"
      ],
      "metadata": {
        "id": "0JxB-rjGJaNk",
        "outputId": "6fd97e93-9493-460d-824f-57995b2f70d1",
        "colab": {
          "base_uri": "https://localhost:8080/"
        }
      },
      "id": "0JxB-rjGJaNk",
      "execution_count": 12,
      "outputs": [
        {
          "output_type": "execute_result",
          "data": {
            "text/plain": [
              "False"
            ]
          },
          "metadata": {},
          "execution_count": 12
        }
      ]
    },
    {
      "cell_type": "markdown",
      "id": "e86cabb0-142c-4bbd-9c72-6806163d87b2",
      "metadata": {
        "id": "e86cabb0-142c-4bbd-9c72-6806163d87b2"
      },
      "source": [
        "Try writing out the above function."
      ]
    },
    {
      "cell_type": "code",
      "execution_count": 14,
      "id": "b73b49fe-2eb3-422a-9a84-695b17633c83",
      "metadata": {
        "id": "b73b49fe-2eb3-422a-9a84-695b17633c83"
      },
      "outputs": [],
      "source": [
        "def is_in(element, letters):\n",
        "    return element in set(letters)"
      ]
    },
    {
      "cell_type": "markdown",
      "id": "758726f9-c6b5-42ec-81a1-758e93d78dc1",
      "metadata": {
        "id": "758726f9-c6b5-42ec-81a1-758e93d78dc1"
      },
      "source": [
        "The above involves checking every single letter, and we can solve it with the brute force solution in big O of n time.  \n",
        "\n",
        "> If we change the dictionary into a set we can solve it in bigO(1) time.  "
      ]
    },
    {
      "cell_type": "markdown",
      "id": "a0d80c66-01d2-4a17-9ca6-bb6c11d89daa",
      "metadata": {
        "id": "a0d80c66-01d2-4a17-9ca6-bb6c11d89daa"
      },
      "source": [
        "Let's try another problem that can be used with a brute force solution: finding the minimum value of a list.  \n",
        "\n",
        "> Again, the goal is to only use the brute force solution to solve this."
      ]
    },
    {
      "cell_type": "code",
      "execution_count": 15,
      "id": "3852e1c6-4d35-49a7-b163-d14f601893ea",
      "metadata": {
        "id": "3852e1c6-4d35-49a7-b163-d14f601893ea"
      },
      "outputs": [],
      "source": [
        "values = [4, 5, 8, 9, 2, -10, 0]"
      ]
    },
    {
      "cell_type": "code",
      "execution_count": 16,
      "id": "1c9c19ad-5810-4525-8a30-2350762939f0",
      "metadata": {
        "id": "1c9c19ad-5810-4525-8a30-2350762939f0"
      },
      "outputs": [],
      "source": [
        "def minimum_of(values):\n",
        "  minimum_of = values[0]\n",
        "\n",
        "  for value in values:\n",
        "    if value < minimum_of:\n",
        "      minimum_of = value\n",
        "\n",
        "  return minimum_of\n"
      ]
    },
    {
      "cell_type": "code",
      "execution_count": 17,
      "id": "777f34ee-7eac-4691-b109-076c3de41145",
      "metadata": {
        "id": "777f34ee-7eac-4691-b109-076c3de41145",
        "outputId": "a34e085f-e3ae-439e-eeb1-f1884455ee35",
        "colab": {
          "base_uri": "https://localhost:8080/"
        }
      },
      "outputs": [
        {
          "output_type": "execute_result",
          "data": {
            "text/plain": [
              "-10"
            ]
          },
          "metadata": {},
          "execution_count": 17
        }
      ],
      "source": [
        "minimum_of(values)\n",
        "\n",
        "# -10"
      ]
    },
    {
      "cell_type": "markdown",
      "id": "490da131-b5f6-4149-a2ef-a54d24ba8585",
      "metadata": {
        "id": "490da131-b5f6-4149-a2ef-a54d24ba8585"
      },
      "source": [
        "Once again, we'll place the answer here at the end."
      ]
    },
    {
      "cell_type": "markdown",
      "id": "997a2623-31e3-4032-82a3-d776d86f4da1",
      "metadata": {
        "id": "997a2623-31e3-4032-82a3-d776d86f4da1"
      },
      "source": [
        "The above has a typical approach.  We start with a initial value, which we randomly choose as the first number, and set it as our current minimum.  Then for each number, we check if it's less than the current minimum, and if it is, we set that number as the current minimum."
      ]
    },
    {
      "cell_type": "markdown",
      "id": "352ba7fd-b6ee-4cba-82b6-f2b702f064ea",
      "metadata": {
        "id": "352ba7fd-b6ee-4cba-82b6-f2b702f064ea"
      },
      "source": [
        "So we just saw how to use the brute force solution with a single loop.  But often times, the brute force solution can involve nested loops, so let's see that in the next lesson."
      ]
    },
    {
      "cell_type": "markdown",
      "id": "91a3636d-a961-47ee-907a-d8ebafdbff86",
      "metadata": {
        "id": "91a3636d-a961-47ee-907a-d8ebafdbff86"
      },
      "source": [
        "### Answers"
      ]
    },
    {
      "cell_type": "code",
      "execution_count": 18,
      "id": "b05890a3-c2a0-4ea0-aaf5-71f6557e4762",
      "metadata": {
        "id": "b05890a3-c2a0-4ea0-aaf5-71f6557e4762",
        "outputId": "ac920687-65fd-441c-f8d0-34aa645150c7",
        "colab": {
          "base_uri": "https://localhost:8080/"
        }
      },
      "outputs": [
        {
          "output_type": "execute_result",
          "data": {
            "text/plain": [
              "False"
            ]
          },
          "metadata": {},
          "execution_count": 18
        }
      ],
      "source": [
        "letters = ['d', 'f', 'l', 'a', 'c']\n",
        "\n",
        "def is_in(element, letters):\n",
        "    for letter in letters:\n",
        "        if letter == element:\n",
        "            return True\n",
        "    return False\n",
        "\n",
        "is_in('d', letters)\n",
        "\n",
        "is_in('k', letters)"
      ]
    },
    {
      "cell_type": "code",
      "execution_count": 19,
      "id": "ca97ff03-3ca6-4132-8276-a3604fc9eadf",
      "metadata": {
        "id": "ca97ff03-3ca6-4132-8276-a3604fc9eadf"
      },
      "outputs": [],
      "source": [
        "def minimum_of(values):\n",
        "    min_num = values[0]\n",
        "    for value in values:\n",
        "        if value < min_num:\n",
        "            min_num = value\n",
        "    return min_num"
      ]
    }
  ],
  "metadata": {
    "kernelspec": {
      "display_name": "Python 3 (ipykernel)",
      "language": "python",
      "name": "python3"
    },
    "language_info": {
      "codemirror_mode": {
        "name": "ipython",
        "version": 3
      },
      "file_extension": ".py",
      "mimetype": "text/x-python",
      "name": "python",
      "nbconvert_exporter": "python",
      "pygments_lexer": "ipython3",
      "version": "3.9.10"
    },
    "colab": {
      "name": "0-brute-force.ipynb",
      "provenance": []
    }
  },
  "nbformat": 4,
  "nbformat_minor": 5
}