{
  "cells": [
    {
      "cell_type": "markdown",
      "metadata": {
        "id": "I9GgGDKM2oUm"
      },
      "source": [
        "# Objects Discussion Questions"
      ]
    },
    {
      "cell_type": "markdown",
      "metadata": {
        "id": "zt6O7nil2oUp"
      },
      "source": [
        "### Introduction"
      ]
    },
    {
      "cell_type": "markdown",
      "metadata": {
        "id": "I0MVxgid2oUq"
      },
      "source": [
        "Previously, we learned about object oriented programming.  Let's do some brief review in this lesson."
      ]
    },
    {
      "cell_type": "markdown",
      "metadata": {
        "id": "QBArl04l2oUq"
      },
      "source": [
        "### 1. Creating Objects"
      ]
    },
    {
      "cell_type": "markdown",
      "metadata": {
        "id": "pOfS0hj22oUq"
      },
      "source": [
        "1. Below, create a class called `Plane`, and initialize two different plane instances."
      ]
    },
    {
      "cell_type": "code",
      "execution_count": 23,
      "metadata": {
        "id": "tDjEyYbI2oUr"
      },
      "outputs": [],
      "source": [
        "# create the plane class here\n",
        "import datetime\n",
        "class Plane:\n",
        "\n",
        "  def __init__(self, seats_per_row, year, number_of_rows = 20):\n",
        "    self.seats_per_row = seats_per_row\n",
        "    self.number_of_rows = number_of_rows\n",
        "    self.year = year\n",
        "\n",
        "  def total_seats(self):\n",
        "    total_seats = self.seats_per_row * self.number_of_rows\n",
        "    return total_seats\n",
        "\n",
        "  def age(self):\n",
        "    # get todays year\n",
        "    today = datetime.date.today()\n",
        "    this_year = today.year\n",
        "\n",
        "    # calculate the age\n",
        "    age = this_year - self.year\n",
        "\n",
        "    return age\n",
        "\n",
        "    "
      ]
    },
    {
      "cell_type": "code",
      "execution_count": 12,
      "metadata": {
        "id": "0JfAx7Sh2oUs",
        "outputId": "b8fde8f5-0ad1-4924-9b42-7135a38eff40",
        "colab": {
          "base_uri": "https://localhost:8080/",
          "height": 218
        }
      },
      "outputs": [
        {
          "output_type": "error",
          "ename": "TypeError",
          "evalue": "ignored",
          "traceback": [
            "\u001b[0;31m---------------------------------------------------------------------------\u001b[0m",
            "\u001b[0;31mTypeError\u001b[0m                                 Traceback (most recent call last)",
            "\u001b[0;32m<ipython-input-12-4d844074bd90>\u001b[0m in \u001b[0;36m<module>\u001b[0;34m()\u001b[0m\n\u001b[0;32m----> 1\u001b[0;31m \u001b[0mboeing\u001b[0m \u001b[0;34m=\u001b[0m \u001b[0mPlane\u001b[0m\u001b[0;34m(\u001b[0m\u001b[0;34m)\u001b[0m\u001b[0;34m\u001b[0m\u001b[0;34m\u001b[0m\u001b[0m\n\u001b[0m\u001b[1;32m      2\u001b[0m \u001b[0mboeing\u001b[0m\u001b[0;34m.\u001b[0m\u001b[0mseats_per_row\u001b[0m \u001b[0;34m=\u001b[0m \u001b[0;36m10\u001b[0m\u001b[0;34m\u001b[0m\u001b[0;34m\u001b[0m\u001b[0m\n\u001b[1;32m      3\u001b[0m \u001b[0mboeing\u001b[0m\u001b[0;34m.\u001b[0m\u001b[0mnumber_of_rows\u001b[0m \u001b[0;34m=\u001b[0m \u001b[0;36m30\u001b[0m\u001b[0;34m\u001b[0m\u001b[0;34m\u001b[0m\u001b[0m\n\u001b[1;32m      4\u001b[0m \u001b[0mboeing\u001b[0m\u001b[0;34m.\u001b[0m\u001b[0m__dict__\u001b[0m\u001b[0;34m\u001b[0m\u001b[0;34m\u001b[0m\u001b[0m\n",
            "\u001b[0;31mTypeError\u001b[0m: __init__() missing 1 required positional argument: 'seats_per_row'"
          ]
        }
      ],
      "source": [
        "boeing = Plane()\n",
        "boeing.seats_per_row = 10\n",
        "boeing.number_of_rows = 30\n",
        "boeing.__dict__"
      ]
    },
    {
      "cell_type": "code",
      "execution_count": 10,
      "metadata": {
        "id": "-vrxZVyY2oUt",
        "outputId": "d391e18f-ff68-4b55-81b9-c4abc7e0a7c6",
        "colab": {
          "base_uri": "https://localhost:8080/"
        }
      },
      "outputs": [
        {
          "output_type": "execute_result",
          "data": {
            "text/plain": [
              "{'number_of_rows': 25, 'seats_per_row': 6}"
            ]
          },
          "metadata": {},
          "execution_count": 10
        }
      ],
      "source": [
        "twa = Plane()\n",
        "twa.seats_per_row = 6\n",
        "twa.number_of_rows = 25\n",
        "twa.__dict__"
      ]
    },
    {
      "cell_type": "markdown",
      "metadata": {
        "id": "o5na10IZ2oUu"
      },
      "source": [
        "Next add a couple of attributes to the boeing plane."
      ]
    },
    {
      "cell_type": "markdown",
      "metadata": {
        "id": "ss0tvbl42oUu"
      },
      "source": [
        "Give the Boeing instance the following attributes:\n",
        "* Assign the `seats_per_row` to be `10` \n",
        "* And assign be and `number_of_rows` to be 30."
      ]
    },
    {
      "cell_type": "markdown",
      "metadata": {
        "id": "mliByncF2oUv"
      },
      "source": [
        "Give the `twa` instance the following attributes:\n",
        "* Assign the `seats_per_row` to be `6` \n",
        "* And assign be and `number_of_rows` to be `25`."
      ]
    },
    {
      "cell_type": "markdown",
      "metadata": {
        "id": "x5naVUey2oUv"
      },
      "source": [
        "### 2. Enforcing Attributes"
      ]
    },
    {
      "cell_type": "markdown",
      "metadata": {
        "id": "ZkUv3zdb2oUw"
      },
      "source": [
        "A. Next update the `Plane` class so that a plane cannot be created unless the `seat_per_row` is assigned.  \n",
        "\n",
        "B. The class also allows for the `number_of_rows` to be assigned upon initialization, but if not assigned, the instance assigns the default number of 20 seats to the plane.\n",
        "\n",
        "C. Finally an instance of the class must also be initialized with a `year` attribute to represent the year it was built."
      ]
    },
    {
      "cell_type": "code",
      "execution_count": 17,
      "metadata": {
        "id": "CHkFItgL2oUw",
        "outputId": "60f4ed9a-9813-4e0a-f9b4-5f736566dea6",
        "colab": {
          "base_uri": "https://localhost:8080/"
        }
      },
      "outputs": [
        {
          "output_type": "execute_result",
          "data": {
            "text/plain": [
              "{'number_of_rows': 20, 'seats_per_row': 10, 'year': 2020}"
            ]
          },
          "metadata": {},
          "execution_count": 17
        }
      ],
      "source": [
        "boeing_2020 = Plane(year = 2020, seats_per_row = 10)\n",
        "\n",
        "boeing_2020.__dict__\n",
        "# {'seats_per_row': 10, 'number_of_rows': 20, 'year': 2020}"
      ]
    },
    {
      "cell_type": "code",
      "execution_count": 18,
      "metadata": {
        "id": "78AdKXUl2oUx",
        "outputId": "875cad46-1c65-4420-e814-7cc9e8dabd37",
        "colab": {
          "base_uri": "https://localhost:8080/"
        }
      },
      "outputs": [
        {
          "output_type": "execute_result",
          "data": {
            "text/plain": [
              "{'number_of_rows': 10, 'seats_per_row': 17, 'year': 2017}"
            ]
          },
          "metadata": {},
          "execution_count": 18
        }
      ],
      "source": [
        "twa = Plane(year = 2017, seats_per_row = 17, number_of_rows = 10)\n",
        "\n",
        "twa.__dict__\n",
        "# {'seats_per_row': 17, 'number_of_rows': 10, 'year': 2017}"
      ]
    },
    {
      "cell_type": "markdown",
      "metadata": {
        "id": "bZ2RSmKg2oUx"
      },
      "source": [
        "### 3. Adding Methods\n",
        "\n",
        "Now let's add a couple of methods to the `Plane` class.  \n",
        "\n",
        "* `total_seats`\n",
        "    * Write a method that uses the `number_of_rows` and `seats_per_row` to calculate the total number of seats in the plane.\n",
        "\n",
        "* `age`\n",
        "    * Write a method that uses the `year` attribute to return the number of years old that the plane is.\n",
        "    * Try to use the `datetime` module so that the calculation will continue to be accurate in future years"
      ]
    },
    {
      "cell_type": "code",
      "execution_count": 24,
      "metadata": {
        "id": "np8-Jo-E2oUy"
      },
      "outputs": [],
      "source": [
        "twa = Plane(year = 2017, seats_per_row = 17, number_of_rows = 10)"
      ]
    },
    {
      "cell_type": "code",
      "execution_count": 25,
      "metadata": {
        "id": "jK_2yiLm2oUy",
        "outputId": "b78f030e-defe-4aa7-8599-7634163f12c2",
        "colab": {
          "base_uri": "https://localhost:8080/"
        }
      },
      "outputs": [
        {
          "output_type": "execute_result",
          "data": {
            "text/plain": [
              "170"
            ]
          },
          "metadata": {},
          "execution_count": 25
        }
      ],
      "source": [
        "twa.total_seats()\n",
        "# 170"
      ]
    },
    {
      "cell_type": "code",
      "execution_count": 26,
      "metadata": {
        "id": "AGHPYrIh2oUz",
        "outputId": "bee73342-fee6-4417-aa0e-96e250747d13",
        "colab": {
          "base_uri": "https://localhost:8080/"
        }
      },
      "outputs": [
        {
          "output_type": "execute_result",
          "data": {
            "text/plain": [
              "5"
            ]
          },
          "metadata": {},
          "execution_count": 26
        }
      ],
      "source": [
        "twa.age()\n",
        "# 3"
      ]
    },
    {
      "cell_type": "code",
      "source": [
        ""
      ],
      "metadata": {
        "id": "GllwRofB6cA3"
      },
      "execution_count": null,
      "outputs": []
    }
  ],
  "metadata": {
    "kernelspec": {
      "display_name": "Python 3",
      "language": "python",
      "name": "python3"
    },
    "language_info": {
      "codemirror_mode": {
        "name": "ipython",
        "version": 3
      },
      "file_extension": ".py",
      "mimetype": "text/x-python",
      "name": "python",
      "nbconvert_exporter": "python",
      "pygments_lexer": "ipython3",
      "version": "3.7.4"
    },
    "colab": {
      "name": "index.ipynb",
      "provenance": []
    }
  },
  "nbformat": 4,
  "nbformat_minor": 0
}