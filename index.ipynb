{
  "cells": [
    {
      "cell_type": "markdown",
      "metadata": {
        "id": "pFpzPvHeC5P6"
      },
      "source": [
        "# St. Regis Reservations"
      ]
    },
    {
      "cell_type": "markdown",
      "metadata": {
        "id": "XDxFyuGtC5P-"
      },
      "source": [
        "### Introduction\n",
        "\n",
        "The St. Regis is a hotel in New York and they would like to build out their reservation system.  The main task is to keep track of which guests are staying in which rooms.  Let's get started.\n",
        "\n",
        "To submit the code, we'll ask you to copy code from each of the classes into the cell at the end, and then share the colab."
      ]
    },
    {
      "cell_type": "markdown",
      "metadata": {
        "id": "adnEWCTkC5P-"
      },
      "source": [
        "### Getting Started"
      ]
    },
    {
      "cell_type": "markdown",
      "metadata": {
        "id": "6_E54AOfC5P_"
      },
      "source": [
        "We'll be working with three different classes.  \n",
        "\n",
        "* `Guest` - A guest is the person making each reservation.  A guest is also the person staying in the room.  For this lab, let's assume that there is only one guest per reservation, and one guest per room.  (Sorry, my house, my rules.)\n",
        "\n",
        "* `Reservation` - A reservation should store a guest, a room, and a `start_day` and `end_day` (which can just be the day of the month -- like 20).  We can ignore the month and year.\n",
        "\n",
        "*  `Room` - A room has a room number, and a `rate` of `premium` or `basic`."
      ]
    },
    {
      "cell_type": "markdown",
      "metadata": {
        "id": "ygtyDxicC5P_"
      },
      "source": [
        "**Begin by** describing the object relations between the three classes (relations can be described as `has_many` or `belongs_to`/`has_one`).\n",
        "\n",
        "* A guest\n",
        "    * has many...\n",
        "* A reservation\n",
        "* A room "
      ]
    },
    {
      "cell_type": "markdown",
      "metadata": {
        "id": "oWc5aZdvC5QA"
      },
      "source": [
        "### Building the classes"
      ]
    },
    {
      "cell_type": "markdown",
      "metadata": {
        "id": "zkcii9IbC5QA"
      },
      "source": [
        "Next let's build each of the classes.  We can see that we already have some files created in the `src` directory, and that there is a `store` in the `index.py` file.  Finally, we have loaded the classes into the `console.py` file.\n",
        "\n",
        "1. For each of the Room, Reservation, and Guest classes, make sure that\n",
        "\n",
        "    * each object is added to the store.\n",
        "    * each instance is assigned an id    \n",
        "    \n",
        "For adding instances to the store, use the following pattern\n",
        "```python\n",
        "store = {'guests': {1: <guest instance>, 2: <other guest instance>}}\n",
        "```\n",
        "So in other words, we store the instances of each class as a dictionary, where each keys is an instance ids and each value is the corresponding instance.\n",
        "\n",
        "You do not need to initialize the an instance with the store, instead you can simply access the store as a global variable from anywhere inside of your class.\n",
        "\n",
        "2. For each class, the attributes should be set when initializing each instance.\n",
        "\n",
        "So for example a Guest has a `name`, and we should be able to set this attribute simply by writing `guest = Guest('bob')`, setting the name when initializing.  A room has a `room_number` and a `rate` and we want to initialize it like so `room = Room(400, 'premium')`.\n",
        "\n",
        "Ok, so here are the attributes for each of the classes:\n",
        "\n",
        "* Guest - `name`\n",
        "* Room - `room_number`, `rate`\n",
        "* Reservation - `guest`, `room`, `start_day`, `end_day`\n",
        "\n"
      ]
    },
    {
      "cell_type": "markdown",
      "metadata": {
        "id": "sISRaH_EC5QB"
      },
      "source": [
        "### Relations\n",
        "\n",
        "Now that the classes are working next let's write out the relations.\n",
        "\n",
        "* Room \n",
        "    * `reservations()` - returns all of the reservations for that room\n",
        "\n",
        "* Guest \n",
        "    * `reservations()` - returns all of the reservations of a guest\n",
        "    * `rooms()` - returns all of the rooms a guest has made reservations for    "
      ]
    },
    {
      "cell_type": "markdown",
      "metadata": {
        "id": "8ehXkFxCC5QC"
      },
      "source": [
        "When done copy code from the Guest, Reservation and Room classes in the cell below."
      ]
    },
    {
      "cell_type": "code",
      "execution_count": 1,
      "metadata": {
        "id": "74naCZzMC5QD",
        "outputId": "83cd64be-f539-43bf-f541-60b79042a54b",
        "colab": {
          "base_uri": "https://localhost:8080/",
          "height": 374
        }
      },
      "outputs": [
        {
          "output_type": "error",
          "ename": "ModuleNotFoundError",
          "evalue": "ignored",
          "traceback": [
            "\u001b[0;31m---------------------------------------------------------------------------\u001b[0m",
            "\u001b[0;31mModuleNotFoundError\u001b[0m                       Traceback (most recent call last)",
            "\u001b[0;32m<ipython-input-1-f073664903f4>\u001b[0m in \u001b[0;36m<module>\u001b[0;34m()\u001b[0m\n\u001b[0;32m----> 1\u001b[0;31m \u001b[0;32mfrom\u001b[0m \u001b[0msrc\u001b[0m\u001b[0;34m.\u001b[0m\u001b[0mindex\u001b[0m \u001b[0;32mimport\u001b[0m \u001b[0mstore\u001b[0m\u001b[0;34m\u001b[0m\u001b[0;34m\u001b[0m\u001b[0m\n\u001b[0m\u001b[1;32m      2\u001b[0m \u001b[0;34m\u001b[0m\u001b[0m\n\u001b[1;32m      3\u001b[0m \u001b[0;32mclass\u001b[0m \u001b[0mGuest\u001b[0m\u001b[0;34m:\u001b[0m\u001b[0;34m\u001b[0m\u001b[0;34m\u001b[0m\u001b[0m\n\u001b[1;32m      4\u001b[0m \u001b[0;34m\u001b[0m\u001b[0m\n\u001b[1;32m      5\u001b[0m     \u001b[0;32mdef\u001b[0m \u001b[0m__init__\u001b[0m\u001b[0;34m(\u001b[0m\u001b[0mself\u001b[0m\u001b[0;34m,\u001b[0m \u001b[0mname\u001b[0m\u001b[0;34m)\u001b[0m\u001b[0;34m:\u001b[0m\u001b[0;34m\u001b[0m\u001b[0;34m\u001b[0m\u001b[0m\n",
            "\u001b[0;31mModuleNotFoundError\u001b[0m: No module named 'src'",
            "",
            "\u001b[0;31m---------------------------------------------------------------------------\u001b[0;32m\nNOTE: If your import is failing due to a missing package, you can\nmanually install dependencies using either !pip or !apt.\n\nTo view examples of installing some common dependencies, click the\n\"Open Examples\" button below.\n\u001b[0;31m---------------------------------------------------------------------------\u001b[0m\n"
          ],
          "errorDetails": {
            "actions": [
              {
                "action": "open_url",
                "actionText": "Open Examples",
                "url": "/notebooks/snippets/importing_libraries.ipynb"
              }
            ]
          }
        }
      ],
      "source": [
        "from src.index import store\n",
        "\n",
        "class Guest:\n",
        "\n",
        "    def __init__(self, name):\n",
        "        self._id = len(store['guests']) + 1\n",
        "        store['guests'][self._id] = self\n",
        "        self._name = name\n",
        "\n",
        "    @property\n",
        "    def name(self):\n",
        "        return self._name\n",
        "\n",
        "    @name.setter\n",
        "    def name(self, name):\n",
        "        self._name = name\n",
        "\n",
        "    @property\n",
        "    def id(self):\n",
        "        return self._id\n",
        "\n",
        "    @id.setter\n",
        "    def id(self, id):\n",
        "        self._id = id\n",
        "\n",
        "    def reservations(self):\n",
        "        # return all the reservations of a guest\n",
        "        reservations = [reservation for reservation in store['reservations'].values() if reservation.guest.id == self.id]\n",
        "        return reservations\n",
        "\n",
        "    def rooms(self):\n",
        "        #returns all of the rooms a guest has made a reservation for\n",
        "        rooms =  [reservation.room for reservation in self.reservations()]\n",
        "        return rooms\n",
        "\n",
        "\n",
        "from src.index import store\n",
        "\n",
        "class Room:\n",
        "\n",
        "    def __init__(self, room_number, rate):\n",
        "        self._id = len(store['rooms']) + 1\n",
        "        store['rooms'][self.id] = self\n",
        "        self._room_number = room_number\n",
        "        self._rate = rate\n",
        "\n",
        "    @property\n",
        "    def id(self):\n",
        "        return self._id\n",
        "\n",
        "    @id.setter\n",
        "    def id(self, id):\n",
        "        self._id = id\n",
        "\n",
        "    @property\n",
        "    def room_number(self):\n",
        "        return self._room_number\n",
        "\n",
        "    @room_number.setter\n",
        "    def room_number(self, room_number):\n",
        "        self._room_number = room_number\n",
        "\n",
        "    @property\n",
        "    def rate(self):\n",
        "        return self._rate\n",
        "\n",
        "    @rate.setter\n",
        "    def rate(self, rate):\n",
        "        self._rate = rate\n",
        "\n",
        "    def reservations(self):\n",
        "        #return all of the reservations for this room\n",
        "        reservations = [reservation for reservation in store['reservations'].values() if reservation.room.id == self.id]\n",
        "        return reservations\n",
        "\n",
        "\n",
        "from src.index import store\n",
        "\n",
        "class Reservation:\n",
        "\n",
        "    def __init__(self, room, guest, start_day, end_day):\n",
        "        self._id = len(store['reservations']) + 1\n",
        "        store['reservations'][self._id] = self\n",
        "        self._guest = guest\n",
        "        self._room = room\n",
        "        self._start_day = start_day\n",
        "        self._end_day = end_day\n",
        "\n",
        "    @property\n",
        "    def id(self):\n",
        "        return self._id\n",
        "\n",
        "    @id.setter\n",
        "    def id(self, id):\n",
        "        self._id = id\n",
        "\n",
        "    @property\n",
        "    def guest(self):\n",
        "        return self._guest\n",
        "\n",
        "    @guest.setter\n",
        "    def guest(self, guest):\n",
        "        self._guest = guest\n",
        "\n",
        "    @property\n",
        "    def room(self):\n",
        "        return self._room\n",
        "\n",
        "    @room.setter\n",
        "    def room(self, room):\n",
        "        self.room = room\n",
        "\n",
        "    @property\n",
        "    def start_day(self):\n",
        "        return self._start_day\n",
        "\n",
        "    @start_day.setter\n",
        "    def start_day(self, start_day):\n",
        "        self._start_day = start_day\n",
        "\n",
        "    @property\n",
        "    def end_day(self):\n",
        "        return self._end_day\n",
        "\n",
        "    @end_day.setter\n",
        "    def end_day(self, end_day):\n",
        "        self._end_day = end_day"
      ]
    },
    {
      "cell_type": "markdown",
      "metadata": {
        "id": "f5WKbpeoC5QD"
      },
      "source": [
        ""
      ]
    },
    {
      "cell_type": "code",
      "source": [
        "from src.index import store\n",
        "from src.reservation import Reservation\n",
        "from src.guest import Guest\n",
        "from src.room import Room\n",
        "\n",
        "def test_can_create_guest():\n",
        "    assert type(Guest('bob')) == Guest\n",
        "\n",
        "def test_guest_initializes_with_name():\n",
        "    bob = Guest('bob')\n",
        "    assert bob.name == \"bob\"\n",
        "\n",
        "def test_can_create_room():\n",
        "    assert type(Room('402', 'basic')) == Room\n",
        "\n",
        "def test_room_initializes_with_number_and_rate():\n",
        "    basic_room = Room(402, 'basic')\n",
        "    assert basic_room.room_number == 402\n",
        "    assert basic_room.rate == 'basic'\n",
        "\n",
        "def test_can_create_reservation():\n",
        "    basic_first_floor = Room(401, 'basic')\n",
        "    sam = Guest('sam')\n",
        "    assert type(Reservation(basic_first_floor, sam, 20, 25)) == Reservation\n",
        "\n",
        "def test_reservation_initialises_with_guest_room_start_day_end_day():\n",
        "    basic_first_floor = Room(401, 'basic')\n",
        "    sam = Guest('sam')\n",
        "    reservation_one = Reservation(basic_first_floor, sam, 20, 25)\n",
        "    assert reservation_one.guest == sam\n",
        "    assert reservation_one.room == basic_first_floor\n",
        "    assert reservation_one.start_day == 20\n",
        "    assert reservation_one.end_day == 25\n",
        "\n",
        "def test_room_reservations():\n",
        "    basic_room = Room(402, 'basic')\n",
        "    sam = Guest('sam')\n",
        "    reservation_one = Reservation(basic_room, sam, 20, 25)\n",
        "    assert  basic_room.reservations() == [reservation_one]\n",
        "\n",
        "def test_guest_reservations():\n",
        "    basic_room = Room(402, 'basic')\n",
        "    sam = Guest('sam')\n",
        "    reservation_one = Reservation(basic_room, sam, 20, 25)\n",
        "    assert  sam.reservations() == [reservation_one]\n",
        "\n",
        "def test_guest_rooms():\n",
        "    basic_room = Room(402, 'basic')\n",
        "    sam = Guest('sam')\n",
        "    reservation_one = Reservation(basic_room, sam, 20, 25)\n",
        "    assert  sam.rooms() == [basic_room]"
      ],
      "metadata": {
        "id": "Z52XL3cRXSWN",
        "outputId": "90a93d4f-73e2-445d-dc39-54c36ef8f371",
        "colab": {
          "base_uri": "https://localhost:8080/",
          "height": 374
        }
      },
      "execution_count": 2,
      "outputs": [
        {
          "output_type": "error",
          "ename": "ModuleNotFoundError",
          "evalue": "ignored",
          "traceback": [
            "\u001b[0;31m---------------------------------------------------------------------------\u001b[0m",
            "\u001b[0;31mModuleNotFoundError\u001b[0m                       Traceback (most recent call last)",
            "\u001b[0;32m<ipython-input-2-4fc92e0a663f>\u001b[0m in \u001b[0;36m<module>\u001b[0;34m()\u001b[0m\n\u001b[0;32m----> 1\u001b[0;31m \u001b[0;32mfrom\u001b[0m \u001b[0msrc\u001b[0m\u001b[0;34m.\u001b[0m\u001b[0mindex\u001b[0m \u001b[0;32mimport\u001b[0m \u001b[0mstore\u001b[0m\u001b[0;34m\u001b[0m\u001b[0;34m\u001b[0m\u001b[0m\n\u001b[0m\u001b[1;32m      2\u001b[0m \u001b[0;32mfrom\u001b[0m \u001b[0msrc\u001b[0m\u001b[0;34m.\u001b[0m\u001b[0mreservation\u001b[0m \u001b[0;32mimport\u001b[0m \u001b[0mReservation\u001b[0m\u001b[0;34m\u001b[0m\u001b[0;34m\u001b[0m\u001b[0m\n\u001b[1;32m      3\u001b[0m \u001b[0;32mfrom\u001b[0m \u001b[0msrc\u001b[0m\u001b[0;34m.\u001b[0m\u001b[0mguest\u001b[0m \u001b[0;32mimport\u001b[0m \u001b[0mGuest\u001b[0m\u001b[0;34m\u001b[0m\u001b[0;34m\u001b[0m\u001b[0m\n\u001b[1;32m      4\u001b[0m \u001b[0;32mfrom\u001b[0m \u001b[0msrc\u001b[0m\u001b[0;34m.\u001b[0m\u001b[0mroom\u001b[0m \u001b[0;32mimport\u001b[0m \u001b[0mRoom\u001b[0m\u001b[0;34m\u001b[0m\u001b[0;34m\u001b[0m\u001b[0m\n\u001b[1;32m      5\u001b[0m \u001b[0;34m\u001b[0m\u001b[0m\n",
            "\u001b[0;31mModuleNotFoundError\u001b[0m: No module named 'src'",
            "",
            "\u001b[0;31m---------------------------------------------------------------------------\u001b[0;32m\nNOTE: If your import is failing due to a missing package, you can\nmanually install dependencies using either !pip or !apt.\n\nTo view examples of installing some common dependencies, click the\n\"Open Examples\" button below.\n\u001b[0;31m---------------------------------------------------------------------------\u001b[0m\n"
          ],
          "errorDetails": {
            "actions": [
              {
                "action": "open_url",
                "actionText": "Open Examples",
                "url": "/notebooks/snippets/importing_libraries.ipynb"
              }
            ]
          }
        }
      ]
    }
  ],
  "metadata": {
    "kernelspec": {
      "display_name": "Python 3.9.10 64-bit",
      "language": "python",
      "name": "python3"
    },
    "language_info": {
      "name": "python",
      "version": "3.9.10"
    },
    "orig_nbformat": 4,
    "vscode": {
      "interpreter": {
        "hash": "aee8b7b246df8f9039afb4144a1f6fd8d2ca17a180786b69acc140d282b71a49"
      }
    },
    "colab": {
      "name": "index.ipynb",
      "provenance": []
    }
  },
  "nbformat": 4,
  "nbformat_minor": 0
}