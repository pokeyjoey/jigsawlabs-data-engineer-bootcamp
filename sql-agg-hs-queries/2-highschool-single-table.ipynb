{
  "cells": [
    {
      "cell_type": "markdown",
      "metadata": {
        "id": "tR4cNutiI5rY"
      },
      "source": [
        "# NYC High Schools Aggregates"
      ]
    },
    {
      "cell_type": "markdown",
      "metadata": {
        "id": "dkKhgjaII5rc"
      },
      "source": [
        "### Introduction\n",
        "In this lab we will practice using aggregate SQL functions. These functions, such as AVG, MIN, and MAX, allow us to perform mathematical operations on a set of numbers, and return one value. We will also use the GROUP BY function. GROUP BY allows us to group rows that have identical values in a column (or columns), often with the intention of performing an aggregate function on these groups. In the database we are using in this lab, each row represents a school, with each column representing some metric or information about that school. We could use an aggregate function to find the MAX total students of all the schools listed. But what if we wanted to know the MAX number of students by Boro? Previously we might have used a WHERE clause, but that would require a separate statement for each boro. Thats where GROUP BY clauses come in. In this example we could use GROUP BY boro, and the query would return the results of our aggregate function for each boro."
      ]
    },
    {
      "cell_type": "markdown",
      "metadata": {
        "id": "liPq4_UyI5rd"
      },
      "source": [
        "Lets begin by using the `sqlite3` library to connect to the database"
      ]
    },
    {
      "cell_type": "code",
      "execution_count": 1,
      "metadata": {
        "id": "-LFuqdx1I5re"
      },
      "outputs": [],
      "source": [
        "import sqlite3\n",
        "import pandas as pd\n",
        "conn = sqlite3.connect('nyc_schools.db')\n",
        "cursor = conn.cursor()\n",
        "hs_url = \"https://raw.githubusercontent.com/eng-6-22/mod-1-sql-curriculum/master/sql-agg-hs-queries/highschools.csv\"\n",
        "high_school_df = pd.read_csv(hs_url)\n",
        "high_school_df.to_sql('high_schools', conn, index = False, if_exists = 'replace')"
      ]
    },
    {
      "cell_type": "code",
      "execution_count": 2,
      "metadata": {
        "id": "qN_SciiUI5rf",
        "outputId": "5b6df488-5178-4b2f-c6f8-0f22661c4911",
        "colab": {
          "base_uri": "https://localhost:8080/"
        }
      },
      "outputs": [
        {
          "output_type": "execute_result",
          "data": {
            "text/plain": [
              "[('high_schools',)]"
            ]
          },
          "metadata": {},
          "execution_count": 2
        }
      ],
      "source": [
        "cursor.execute('SELECT name from sqlite_master where type= \"table\"')\n",
        "cursor.fetchall()"
      ]
    },
    {
      "cell_type": "code",
      "execution_count": 3,
      "metadata": {
        "id": "rTnJwWwyI5rg",
        "outputId": "90608bf6-2d26-432e-c76d-e825595c67e6",
        "colab": {
          "base_uri": "https://localhost:8080/"
        }
      },
      "outputs": [
        {
          "output_type": "execute_result",
          "data": {
            "text/plain": [
              "[(0, 'id', 'INTEGER', 0, None, 0),\n",
              " (1, 'dbn', 'TEXT', 0, None, 0),\n",
              " (2, 'name', 'TEXT', 0, None, 0),\n",
              " (3, 'num_test_takers', 'REAL', 0, None, 0),\n",
              " (4, 'reading_avg', 'REAL', 0, None, 0),\n",
              " (5, 'math_avg', 'REAL', 0, None, 0),\n",
              " (6, 'writing_score', 'REAL', 0, None, 0),\n",
              " (7, 'boro', 'TEXT', 0, None, 0),\n",
              " (8, 'total_students', 'INTEGER', 0, None, 0),\n",
              " (9, 'graduation_rate', 'REAL', 0, None, 0),\n",
              " (10, 'attendance_rate', 'REAL', 0, None, 0),\n",
              " (11, 'college_career_rate', 'REAL', 0, None, 0)]"
            ]
          },
          "metadata": {},
          "execution_count": 3
        }
      ],
      "source": [
        "cursor.execute('PRAGMA table_info(high_schools)')\n",
        "cursor.fetchall()"
      ]
    },
    {
      "cell_type": "markdown",
      "metadata": {
        "id": "pkbo81lTI5rg"
      },
      "source": [
        "### Aggregates"
      ]
    },
    {
      "cell_type": "markdown",
      "metadata": {
        "id": "bTxMmGbPI5rh"
      },
      "source": [
        "For each of the questions below, use a SQL aggregate function to find the solution. (Note that in the database, the boro column consists of the values \"M\" for Manhattan, \"X\" for the Bronx, \"K\" for Brooklyn, and \"Q\" for Queens)"
      ]
    },
    {
      "cell_type": "markdown",
      "metadata": {
        "id": "5Nxq9-rcI5rh"
      },
      "source": [
        "* What's the average number of students in Manhattan?"
      ]
    },
    {
      "cell_type": "code",
      "execution_count": 6,
      "metadata": {
        "id": "Gl5zwBrZI5ri",
        "outputId": "3a5428b3-034f-4cbe-cd61-21999f24873d",
        "colab": {
          "base_uri": "https://localhost:8080/"
        }
      },
      "outputs": [
        {
          "output_type": "execute_result",
          "data": {
            "text/plain": [
              "[(601.9666666666667,)]"
            ]
          },
          "metadata": {},
          "execution_count": 6
        }
      ],
      "source": [
        "def avg_students_manhattan():\n",
        "    cursor.execute('SELECT AVG(total_students) from high_schools WHERE boro = \"M\"')\n",
        "    avg_students = cursor.fetchall()\n",
        "    return avg_students\n",
        "\n",
        "avg_students_manhattan()\n",
        "#avg_attendance_rate_in_hs()\n",
        "# [(601.9666666666667,)]"
      ]
    },
    {
      "cell_type": "markdown",
      "metadata": {
        "id": "BAWHfatVI5ri"
      },
      "source": [
        "* What's the average attendance in Manhattan?"
      ]
    },
    {
      "cell_type": "code",
      "source": [
        ""
      ],
      "metadata": {
        "id": "ZVIdkVqzNmpm"
      },
      "execution_count": null,
      "outputs": []
    },
    {
      "cell_type": "code",
      "execution_count": 9,
      "metadata": {
        "id": "q-Tmq5rOI5rj",
        "outputId": "1fe423e4-1aa8-4e06-bd26-f65c9e5dbfc2",
        "colab": {
          "base_uri": "https://localhost:8080/"
        }
      },
      "outputs": [
        {
          "output_type": "execute_result",
          "data": {
            "text/plain": [
              "[(0.8782222222222222,)]"
            ]
          },
          "metadata": {},
          "execution_count": 9
        }
      ],
      "source": [
        "def avg_attendance_rate_in_hs():\n",
        "    cursor.execute('SELECT AVG(attendance_rate) FROM high_schools WHERE boro = \"M\";')\n",
        "    avg_attendance_rate_in_hs =  cursor.fetchall()\n",
        "    return avg_attendance_rate_in_hs\n",
        "\n",
        "\n",
        "avg_attendance_rate_in_hs()\n",
        "# [(0.8782222222222222,)]\n"
      ]
    },
    {
      "cell_type": "markdown",
      "metadata": {
        "id": "_ZEXVk8rI5rj"
      },
      "source": [
        "* What's the largest difference between graduation_rate and college_career_rate?"
      ]
    },
    {
      "cell_type": "code",
      "execution_count": 18,
      "metadata": {
        "id": "oA3Vs9rKI5rj",
        "outputId": "c7e39464-9fa1-4f53-92db-735ed5a7ef3f",
        "colab": {
          "base_uri": "https://localhost:8080/"
        }
      },
      "outputs": [
        {
          "output_type": "execute_result",
          "data": {
            "text/plain": [
              "[(0.8200000000000001,)]"
            ]
          },
          "metadata": {},
          "execution_count": 18
        }
      ],
      "source": [
        "def largest_diff_btwn_grad_rate_and_college_career_rate():\n",
        "    cursor.execute('SELECT (MAX(graduation_rate)-MIN(college_career_rate)) from high_schools')\n",
        "    largest_diff_btwn_grad_rate_and_college_career_rate = cursor.fetchall()\n",
        "    return largest_diff_btwn_grad_rate_and_college_career_rate\n",
        "    \n",
        "largest_diff_btwn_grad_rate_and_college_career_rate()\n",
        "\n",
        "# [(0.55,)]"
      ]
    },
    {
      "cell_type": "markdown",
      "metadata": {
        "id": "72OfsxsxI5rk"
      },
      "source": [
        "* What is the highest math_avg in queens"
      ]
    },
    {
      "cell_type": "code",
      "execution_count": 10,
      "metadata": {
        "id": "sFLOW8qjI5rk",
        "outputId": "3ca7be5b-af01-4178-914d-b35dae6b1a4f",
        "colab": {
          "base_uri": "https://localhost:8080/"
        }
      },
      "outputs": [
        {
          "output_type": "execute_result",
          "data": {
            "text/plain": [
              "[(660.0,)]"
            ]
          },
          "metadata": {},
          "execution_count": 10
        }
      ],
      "source": [
        "def highest_math_avg_queens():\n",
        "    cursor.execute('SELECT MAX(math_avg) from high_schools WHERE boro = \"Q\";')\n",
        "    highest_math_avg_queens = cursor.fetchall()\n",
        "    return highest_math_avg_queens\n",
        "\n",
        "highest_math_avg_queens()\n",
        "\n",
        "# [(660.0,)]"
      ]
    },
    {
      "cell_type": "markdown",
      "metadata": {
        "id": "T9iuZ4-XI5rk"
      },
      "source": [
        "* What is the highest math_avg in manhattan?"
      ]
    },
    {
      "cell_type": "code",
      "execution_count": 11,
      "metadata": {
        "id": "qZHUcEe_I5rl",
        "outputId": "af857256-1c47-4cba-e55b-0a4bd9c09566",
        "colab": {
          "base_uri": "https://localhost:8080/"
        }
      },
      "outputs": [
        {
          "output_type": "execute_result",
          "data": {
            "text/plain": [
              "[(735.0,)]"
            ]
          },
          "metadata": {},
          "execution_count": 11
        }
      ],
      "source": [
        "def highest_math_avg_manhattan():\n",
        "    cursor.execute('SELECT MAX(math_avg) from high_schools WHERE boro = \"M\";')\n",
        "    highest_math_avg_manhattan = cursor.fetchall()\n",
        "    return highest_math_avg_manhattan\n",
        "\n",
        "highest_math_avg_manhattan()\n"
      ]
    },
    {
      "cell_type": "code",
      "execution_count": null,
      "metadata": {
        "id": "cojqd55FI5rl"
      },
      "outputs": [],
      "source": [
        ""
      ]
    },
    {
      "cell_type": "markdown",
      "metadata": {
        "id": "qAi8l8iEI5rl"
      },
      "source": [
        "* What is the highest combined score in manhattan?"
      ]
    },
    {
      "cell_type": "code",
      "execution_count": null,
      "metadata": {
        "id": "gb-hN7CnI5rl"
      },
      "outputs": [],
      "source": [
        "def highest_combined_score():\n",
        "    pass\n",
        "\n",
        "# [(1414.0,)]"
      ]
    },
    {
      "cell_type": "markdown",
      "metadata": {
        "id": "a7L6GSt0I5rm"
      },
      "source": [
        "### Group By"
      ]
    },
    {
      "cell_type": "markdown",
      "metadata": {
        "id": "qtD_KN5BI5rm"
      },
      "source": [
        "* What's the average number of students in each borough"
      ]
    },
    {
      "cell_type": "code",
      "execution_count": 12,
      "metadata": {
        "id": "jhAjkPDvI5rm",
        "outputId": "04e516e8-e7fb-4295-9a59-a6626f22a42a",
        "colab": {
          "base_uri": "https://localhost:8080/"
        }
      },
      "outputs": [
        {
          "output_type": "execute_result",
          "data": {
            "text/plain": [
              "[('K', 740.2884615384615),\n",
              " ('M', 601.9666666666667),\n",
              " ('Q', 1135.4615384615386),\n",
              " ('R', 1863.2),\n",
              " ('X', 523.4827586206897)]"
            ]
          },
          "metadata": {},
          "execution_count": 12
        }
      ],
      "source": [
        "def avg_num_of_students_per_borough():\n",
        "    cursor.execute('SELECT boro, AVG(total_students) from high_schools GROUP BY boro;')\n",
        "    avg_num_of_students_per_borough = cursor.fetchall()\n",
        "    return avg_num_of_students_per_borough\n",
        "\n",
        "avg_num_of_students_per_borough()\n",
        "# [('K', 740.2884615384615), \n",
        "#         ('M', 601.9666666666667),\n",
        "#         ('Q', 1135.4615384615386),\n",
        "#         ('R', 1863.2),\n",
        "#         ('X', 523.4827586206897)]"
      ]
    },
    {
      "cell_type": "markdown",
      "metadata": {
        "id": "rmCU5C-VI5rm"
      },
      "source": [
        "* What's the average difference between graduation_rate and college_career_rate by borough"
      ]
    },
    {
      "cell_type": "code",
      "execution_count": 15,
      "metadata": {
        "id": "fN0yUrrrI5rn",
        "outputId": "13aa7125-5cbb-46d1-c957-7653e46034a3",
        "colab": {
          "base_uri": "https://localhost:8080/"
        }
      },
      "outputs": [
        {
          "output_type": "execute_result",
          "data": {
            "text/plain": [
              "[('K', 0.22480392156862716),\n",
              " ('M', 0.1729885057471261),\n",
              " ('Q', 0.17061538461538417),\n",
              " ('R', 0.23199999999999998),\n",
              " ('X', 0.21264367816091956)]"
            ]
          },
          "metadata": {},
          "execution_count": 15
        }
      ],
      "source": [
        "def avg_diff_btwn_grad_rate_and_college_career_rate_by_boro():\n",
        "    cursor.execute('SELECT boro, (AVG(graduation_rate) - AVG(college_career_rate)) FROM high_schools GROUP BY boro;')\n",
        "    avg_diff_btwn_grad_rate_and_college_career_rate_by_boro = cursor.fetchall()\n",
        "    return avg_diff_btwn_grad_rate_and_college_career_rate_by_boro\n",
        "\n",
        "avg_diff_btwn_grad_rate_and_college_career_rate_by_boro()\n",
        "\n",
        "# [('K', 0.22480392156862752),\n",
        "#             ('M', 0.17298850574712643),\n",
        "#             ('Q', 0.1706153846153846),\n",
        "#             ('R', 0.23200000000000004),\n",
        "#             ('X', 0.21264367816091953)]"
      ]
    },
    {
      "cell_type": "markdown",
      "metadata": {
        "id": "bL9tuuKzI5rn"
      },
      "source": [
        "* What's the avg college career rate grouped by math_avg scores (Hint: https://stackoverflow.com/questions/30929526/sqlite-group-by-range-of-1000s)"
      ]
    },
    {
      "cell_type": "markdown",
      "source": [
        ""
      ],
      "metadata": {
        "id": "yizG_4jbVw0L"
      }
    },
    {
      "cell_type": "code",
      "execution_count": null,
      "metadata": {
        "id": "GfRJbpboI5rn"
      },
      "outputs": [],
      "source": [
        ""
      ]
    },
    {
      "cell_type": "markdown",
      "metadata": {
        "id": "U62EvNEFI5rn"
      },
      "source": [
        "### HAVING\n",
        "One important thing to note is that once we use the GROUP BY clause, we can no longer use the WHERE clause for aggregate functions. For example, let's say we wanted to know the average number of students in each boro, but we only wanted the results for boros with an average of more than 1000. Here we would use the HAVING clause. See the example below and then use the HAVING clause to find the solution for the the next question."
      ]
    },
    {
      "cell_type": "code",
      "execution_count": 19,
      "metadata": {
        "id": "69cjg2-II5rn",
        "outputId": "0d40f270-477d-4d41-e110-2a7788c8a571",
        "colab": {
          "base_uri": "https://localhost:8080/"
        }
      },
      "outputs": [
        {
          "output_type": "execute_result",
          "data": {
            "text/plain": [
              "[('Q', 1135.4615384615386), ('R', 1863.2)]"
            ]
          },
          "metadata": {},
          "execution_count": 19
        }
      ],
      "source": [
        "cursor.execute('''SELECT boro, AVG(total_students)\n",
        "FROM high_schools \n",
        "GROUP BY boro HAVING AVG(total_students) > 1000''')\n",
        "cursor.fetchall()"
      ]
    },
    {
      "cell_type": "code",
      "execution_count": 23,
      "metadata": {
        "id": "_uJGmkxvI5ro",
        "outputId": "f94a4512-4912-4cc2-cf85-720180291730",
        "colab": {
          "base_uri": "https://localhost:8080/"
        }
      },
      "outputs": [
        {
          "output_type": "execute_result",
          "data": {
            "text/plain": [
              "[('Q', 1135.4615384615386), ('R', 1863.2)]"
            ]
          },
          "metadata": {},
          "execution_count": 23
        }
      ],
      "source": [
        "def boroughs_with_avg_total_students_over_one_thousand():\n",
        "    cursor.execute('SELECT boro, AVG(total_students) from high_schools GROUP BY boro HAVING AVG(total_students) > 1000;') \n",
        "    boroughs_with_avg_total_students_over_one_thousand = cursor.fetchall()\n",
        "    return boroughs_with_avg_total_students_over_one_thousand\n",
        "\n",
        "boroughs_with_avg_total_students_over_one_thousand()\n",
        "# [('Q', 1135.4615384615386), ('R', 1863.2)]"
      ]
    },
    {
      "cell_type": "markdown",
      "metadata": {
        "id": "xsyCIOoMI5ro"
      },
      "source": [
        "What is the average college career rate for each boro, selecting only boros with an average college career rate less than .6?"
      ]
    },
    {
      "cell_type": "code",
      "execution_count": 28,
      "metadata": {
        "id": "-iG3WzaaI5ro",
        "outputId": "7af2375f-ae9d-4779-aae7-8705d896f048",
        "colab": {
          "base_uri": "https://localhost:8080/"
        }
      },
      "outputs": [
        {
          "output_type": "execute_result",
          "data": {
            "text/plain": [
              "[('K', 0.5471568627450981), ('X', 0.5295402298850576)]"
            ]
          },
          "metadata": {},
          "execution_count": 28
        }
      ],
      "source": [
        "def boroughs_with_avg_college_career_under_point_six():\n",
        "    cursor.execute('SELECT boro, AVG(college_career_rate) from high_schools GROUP BY boro HAVING AVG(college_career_rate) < 0.6;')\n",
        "    #cursor.execute('SELECT boro, AVG(college_career_rate) from high_schools GROUP BY boro;')\n",
        "    boroughs_with_avg_college_career_under_point_six = cursor.fetchall()\n",
        "    return boroughs_with_avg_college_career_under_point_six\n",
        "\n",
        "boroughs_with_avg_college_career_under_point_six()    \n",
        "\n",
        "# [('K', 0.5471568627450981), ('X', 0.5295402298850576)]"
      ]
    },
    {
      "cell_type": "markdown",
      "metadata": {
        "id": "6iGwoBbHI5ro"
      },
      "source": [
        "### Conclusion\n",
        "In this lab, we performed aggregate functions on our data. This allows us to perform mathematical operations on a set of values in our database. We also used the GROUP BY clause, which gave us the ability to perform the aggregate functions on different subsets of the data at once. Finally, we used the HAVING clause to filter our results in GROUP BY queries."
      ]
    }
  ],
  "metadata": {
    "kernelspec": {
      "display_name": "Python 3 (ipykernel)",
      "language": "python",
      "name": "python3"
    },
    "language_info": {
      "codemirror_mode": {
        "name": "ipython",
        "version": 3
      },
      "file_extension": ".py",
      "mimetype": "text/x-python",
      "name": "python",
      "nbconvert_exporter": "python",
      "pygments_lexer": "ipython3",
      "version": "3.9.10"
    },
    "colab": {
      "name": "2-highschool-single-table.ipynb",
      "provenance": []
    }
  },
  "nbformat": 4,
  "nbformat_minor": 0
}