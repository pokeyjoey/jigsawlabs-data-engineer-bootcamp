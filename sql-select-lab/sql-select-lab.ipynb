{
  "cells": [
    {
      "cell_type": "markdown",
      "metadata": {
        "id": "ceEpYTgeZdSj"
      },
      "source": [
        "# Select SQL Lab"
      ]
    },
    {
      "cell_type": "markdown",
      "metadata": {
        "id": "Q5o-NWeAZdSn"
      },
      "source": [
        "### Introduction\n",
        "We've learned all the basics about setting up our SQL database, creating tables, and inserting data. In this lab we will practice querying the data from our salad shop database using `SELECT` statements."
      ]
    },
    {
      "cell_type": "markdown",
      "metadata": {
        "id": "FyMGuT_iZdSo"
      },
      "source": [
        "### Loading the Data"
      ]
    },
    {
      "cell_type": "code",
      "execution_count": 1,
      "metadata": {
        "id": "o-vmIrT3ZdSo"
      },
      "outputs": [],
      "source": [
        "import sqlite3\n",
        "import pandas as pd\n",
        "\n",
        "\n",
        "conn = sqlite3.connect('./grocery.db')\n",
        "cursor = conn.cursor()\n",
        "\n",
        "employees_url = \"https://raw.githubusercontent.com/eng-6-22/mod-1-sql-curriculum/master/sql-select-lab/data/employees.csv\"\n",
        "ingredients_url = \"https://raw.githubusercontent.com/eng-6-22/mod-1-sql-curriculum/master/sql-select-lab/data/ingredients.csv\"\n",
        "ingredients_df = pd.read_csv(ingredients_url)\n",
        "employees_df = pd.read_csv(employees_url)\n",
        "ingredients_df.to_sql('ingredients', conn,\n",
        "                  index = False, if_exists = 'replace')\n",
        "employees_df.to_sql('employees', conn, index = False,\n",
        "        if_exists = 'replace')"
      ]
    },
    {
      "cell_type": "markdown",
      "metadata": {
        "id": "c7PtAsykZdSr"
      },
      "source": [
        "### Selecting data\n",
        "Our database is now ready for querying. We will use the python library `sqlite3` for running our SELECT statements.\n",
        "So to begin, let's select select the employees.\n",
        "\n",
        "Fill in the appropriate SQL statements inside of each function.\n",
        "\n",
        "> We'll help you get started with the first one."
      ]
    },
    {
      "cell_type": "code",
      "execution_count": 2,
      "metadata": {
        "id": "kV5JAYBmZdSs",
        "outputId": "55626358-a208-4bb2-a689-b796c55f64a0",
        "colab": {
          "base_uri": "https://localhost:8080/"
        }
      },
      "outputs": [
        {
          "output_type": "execute_result",
          "data": {
            "text/plain": [
              "[(1, 'Tom', 'manager', '2019-05-20', 10001, '212-438-3984'),\n",
              " (2, 'Alison', 'salad maker', '2020-01-04', 10023, '212-329-2489'),\n",
              " (3, 'Jerry', 'delivery driver', '2019-12-15', 10001, '212-219-1029'),\n",
              " (4, 'Brian', 'salad maker', '2019-12-04', 10002, '646-328-2309'),\n",
              " (5, 'Vanessa', 'clerk', '2019-11-14', 11201, '718-348-2348'),\n",
              " (6, 'Cindy', 'assistant manager', '2019-11-12', 10002, '212-300-1203'),\n",
              " (7, 'Charles', 'delivery driver', '2020-01-02', 10003, '212-993-2348'),\n",
              " (8, 'Alex', 'assistant manager', '2019-06-11', 10001, '718-293-1823'),\n",
              " (9, 'Naomi', 'manager', '2019-02-12', 10002, '212-493-2922'),\n",
              " (10, 'Isabel', 'salad maker', '2020-01-04', 10001, '212-390-9122'),\n",
              " (11, 'James', 'clerk', '2020-01-10', 10023, '718-645-2929'),\n",
              " (12, 'Max', 'salad maker', '2019-10-03', 10002, '212-555-2911')]"
            ]
          },
          "metadata": {},
          "execution_count": 2
        }
      ],
      "source": [
        "cursor = conn.cursor()\n",
        "cursor.execute('select * from employees;')\n",
        "cursor.fetchall()"
      ]
    },
    {
      "cell_type": "code",
      "execution_count": 4,
      "metadata": {
        "id": "ErAUgk8qZdSt"
      },
      "outputs": [],
      "source": [
        "def all_employees():\n",
        "    cursor = conn.cursor()\n",
        "    cursor.execute('select * from employees')\n",
        "    all_employees = cursor.fetchall()\n",
        "    return all_employees\n"
      ]
    },
    {
      "cell_type": "code",
      "execution_count": 5,
      "metadata": {
        "id": "Pfud4QI1ZdSt",
        "outputId": "e8a59886-5d42-492f-adc1-a3e12c3c1ad3",
        "colab": {
          "base_uri": "https://localhost:8080/"
        }
      },
      "outputs": [
        {
          "output_type": "execute_result",
          "data": {
            "text/plain": [
              "True"
            ]
          },
          "metadata": {},
          "execution_count": 5
        }
      ],
      "source": [
        "len(all_employees()) == 12"
      ]
    },
    {
      "cell_type": "code",
      "execution_count": 6,
      "metadata": {
        "id": "oAjaiU0UZdSu"
      },
      "outputs": [],
      "source": [
        "def all_ingredients():\n",
        "    cursor = conn.cursor()\n",
        "    cursor.execute(\"select * from ingredients\")\n",
        "    all_ingredients = cursor.fetchall()\n",
        "    return all_ingredients"
      ]
    },
    {
      "cell_type": "code",
      "execution_count": 7,
      "metadata": {
        "id": "W3M9-hQKZdSv",
        "outputId": "d4fb3eaa-6f9e-4d78-e073-3264fa3e0232",
        "colab": {
          "base_uri": "https://localhost:8080/"
        }
      },
      "outputs": [
        {
          "output_type": "execute_result",
          "data": {
            "text/plain": [
              "True"
            ]
          },
          "metadata": {},
          "execution_count": 7
        }
      ],
      "source": [
        "len(all_ingredients()) == 20"
      ]
    },
    {
      "cell_type": "code",
      "execution_count": 8,
      "metadata": {
        "id": "TIF5B7MaZdSv"
      },
      "outputs": [],
      "source": [
        "def all_ingredient_names():\n",
        "    cursor = conn.cursor()\n",
        "    cursor.execute('select name from ingredients')\n",
        "    all_ingredient_names = cursor.fetchall()\n",
        "    return all_ingredient_names"
      ]
    },
    {
      "cell_type": "code",
      "execution_count": 9,
      "metadata": {
        "id": "c1SG3TPbZdSv",
        "outputId": "81ee84f2-a557-4c27-f491-96bcdef2671d",
        "colab": {
          "base_uri": "https://localhost:8080/"
        }
      },
      "outputs": [
        {
          "output_type": "execute_result",
          "data": {
            "text/plain": [
              "True"
            ]
          },
          "metadata": {},
          "execution_count": 9
        }
      ],
      "source": [
        "len(all_ingredient_names()) == 20"
      ]
    },
    {
      "cell_type": "code",
      "execution_count": 10,
      "metadata": {
        "id": "UJNw2iouZdSw"
      },
      "outputs": [],
      "source": [
        "def all_employee_start_dates():\n",
        "    cursor = conn.cursor()\n",
        "    cursor.execute(\"select start_date from employees\")\n",
        "    employee_start_dates = cursor.fetchall()\n",
        "    return employee_start_dates"
      ]
    },
    {
      "cell_type": "code",
      "execution_count": 11,
      "metadata": {
        "id": "3REZ5pvLZdSw",
        "outputId": "a6610d67-5399-4cb3-9e7a-b43eb882351e",
        "colab": {
          "base_uri": "https://localhost:8080/"
        }
      },
      "outputs": [
        {
          "output_type": "execute_result",
          "data": {
            "text/plain": [
              "True"
            ]
          },
          "metadata": {},
          "execution_count": 11
        }
      ],
      "source": [
        "len(all_employee_start_dates()) == 12"
      ]
    },
    {
      "cell_type": "markdown",
      "metadata": {
        "id": "ipXcBOyhZdSx"
      },
      "source": [
        "### Select Practice"
      ]
    },
    {
      "cell_type": "markdown",
      "metadata": {
        "id": "DBfzzJx-ZdSx"
      },
      "source": [
        "In the following exercises, answer the question by creating a sql select statement that will provide us with the solution. After reading each question, first create a sql statement, the run it using the cursor object to find the answer. \n",
        "\n",
        "> HINT: use the WHERE clause and boolean logic to filter the data within the select statement.\n"
      ]
    },
    {
      "cell_type": "markdown",
      "metadata": {
        "id": "LuGcTMkJZdSx"
      },
      "source": [
        "Here's an example:\n",
        "What ingredients cost less than $1/oz?"
      ]
    },
    {
      "cell_type": "code",
      "execution_count": 12,
      "metadata": {
        "id": "IjE9f47zZdSy",
        "outputId": "2d467809-8533-4d88-cb73-905b8b45b36e",
        "colab": {
          "base_uri": "https://localhost:8080/"
        }
      },
      "outputs": [
        {
          "output_type": "execute_result",
          "data": {
            "text/plain": [
              "[(1, 'baby spinach', 0.19, 7, '2020-02-05'),\n",
              " (2, 'kale', 0.5, 10, '2020-02-10'),\n",
              " (6, 'arugula', 0.5, 20, '2020-02-10'),\n",
              " (11, 'almonds', 0.9, 50, '2020-02-02'),\n",
              " (15, 'romaine', 0.2, 5, '2020-02-07')]"
            ]
          },
          "metadata": {},
          "execution_count": 12
        }
      ],
      "source": [
        "statement = '''SELECT * FROM ingredients WHERE cost_per_ounce < 1.0'''\n",
        "cursor.execute(statement)\n",
        "cursor.fetchall()"
      ]
    },
    {
      "cell_type": "code",
      "execution_count": 14,
      "metadata": {
        "id": "FRK7j0PoZdSy",
        "outputId": "838f0a13-94ac-41c4-9003-93a829c501e0",
        "colab": {
          "base_uri": "https://localhost:8080/"
        }
      },
      "outputs": [
        {
          "output_type": "execute_result",
          "data": {
            "text/plain": [
              "[(1, 'baby spinach', 0.19, 7, '2020-02-05'),\n",
              " (2, 'kale', 0.5, 10, '2020-02-10'),\n",
              " (6, 'arugula', 0.5, 20, '2020-02-10'),\n",
              " (11, 'almonds', 0.9, 50, '2020-02-02'),\n",
              " (15, 'romaine', 0.2, 5, '2020-02-07')]"
            ]
          },
          "metadata": {},
          "execution_count": 14
        }
      ],
      "source": [
        "def cheaper_ingredients():\n",
        "    statement = \"\"\"Select * from ingredients where cost_per_ounce < 1.0\"\"\"\n",
        "    cursor.execute(statement)\n",
        "    cheaper_ingredients = cursor.fetchall()\n",
        "    return cheaper_ingredients\n",
        "\n",
        "cheaper_ingredients()"
      ]
    },
    {
      "cell_type": "markdown",
      "metadata": {
        "id": "iN-Lomw2ZdSy"
      },
      "source": [
        "What date did the employee Naomi begin working? "
      ]
    },
    {
      "cell_type": "code",
      "execution_count": 21,
      "metadata": {
        "id": "UB7wsRRKZdSy",
        "outputId": "e0873652-e61e-43c8-bafd-091fb204042c",
        "colab": {
          "base_uri": "https://localhost:8080/"
        }
      },
      "outputs": [
        {
          "output_type": "execute_result",
          "data": {
            "text/plain": [
              "[('2019-02-12',)]"
            ]
          },
          "metadata": {},
          "execution_count": 21
        }
      ],
      "source": [
        "def naomi_start_date():\n",
        "    statement = \"\"\"Select start_date from employees where name='Naomi'\"\"\"\n",
        "    cursor.execute(statement)\n",
        "    naomi_start_date = cursor.fetchall()\n",
        "    return naomi_start_date\n",
        "\n",
        "naomi_start_date()"
      ]
    },
    {
      "cell_type": "code",
      "source": [
        "naomi_start_date()"
      ],
      "metadata": {
        "id": "c5V0qHZEfoOz",
        "outputId": "522b3753-ccaf-4530-9173-bb93c98f7dc3",
        "colab": {
          "base_uri": "https://localhost:8080/"
        }
      },
      "execution_count": 22,
      "outputs": [
        {
          "output_type": "execute_result",
          "data": {
            "text/plain": [
              "[('2019-02-12',)]"
            ]
          },
          "metadata": {},
          "execution_count": 22
        }
      ]
    },
    {
      "cell_type": "code",
      "execution_count": 23,
      "metadata": {
        "id": "ZYaSaQQ4ZdSz",
        "outputId": "3c94c04c-96ad-43f2-c25f-f3c85dd189ac",
        "colab": {
          "base_uri": "https://localhost:8080/"
        }
      },
      "outputs": [
        {
          "output_type": "execute_result",
          "data": {
            "text/plain": [
              "True"
            ]
          },
          "metadata": {},
          "execution_count": 23
        }
      ],
      "source": [
        "naomi_start_date() == [('2019-02-12',)]"
      ]
    },
    {
      "cell_type": "markdown",
      "metadata": {
        "id": "IJIVqgINZdSz"
      },
      "source": [
        "Which ingredients expire after February 3rd 2020? "
      ]
    },
    {
      "cell_type": "code",
      "execution_count": 24,
      "metadata": {
        "id": "ln32DPUKZdSz",
        "outputId": "3aebe834-9519-42cd-9e92-f91f2b06074a",
        "colab": {
          "base_uri": "https://localhost:8080/"
        }
      },
      "outputs": [
        {
          "output_type": "execute_result",
          "data": {
            "text/plain": [
              "[(1, 'baby spinach', 0.19, 7, '2020-02-05'),\n",
              " (2, 'kale', 0.5, 10, '2020-02-10'),\n",
              " (3, 'tomatoes', 1.25, 5, '2020-01-30'),\n",
              " (4, 'broccoli', 1.15, 45, '2020-02-10'),\n",
              " (5, 'chicken', 3.5, 90, '2020-02-07'),\n",
              " (6, 'arugula', 0.5, 20, '2020-02-10'),\n",
              " (7, 'apples', 1.2, 30, '2020-02-08'),\n",
              " (8, 'pears', 1.1, 30, '2020-02-10'),\n",
              " (9, 'corn', 1.25, 40, '2020-02-08'),\n",
              " (10, 'brussels sprouts', 1.4, 40, '2020-02-01'),\n",
              " (11, 'almonds', 0.9, 50, '2020-02-02'),\n",
              " (12, 'mushrooms', 1.4, 60, '2020-02-02'),\n",
              " (13, 'tofu', 1.35, 40, '2020-02-03'),\n",
              " (14, 'avocado', 2.05, 70, '2020-02-08'),\n",
              " (15, 'romaine', 0.2, 5, '2020-02-07'),\n",
              " (16, 'cauliflower', 1.6, 45, '2020-01-30'),\n",
              " (17, 'parmesan', 2.1, 75, '2020-02-01'),\n",
              " (18, 'feta', 2.2, 80, '2020-02-02'),\n",
              " (19, 'caesar dressing', 1.5, 90, '2020-02-03'),\n",
              " (20, 'balsamic vinaigrette', 1.45, 40, '2020-02-07')]"
            ]
          },
          "metadata": {},
          "execution_count": 24
        }
      ],
      "source": [
        "def ingredients_expiring_after_feb():\n",
        "    statement = \"select * from ingredients where \"\n",
        "    cursor.execute(statement)\n",
        "    ingredients_expiring_after_feb = cursor.fetchall()\n",
        "    return ingredients_expiring_after_feb\n",
        "\n",
        "ingredients_expiring_after_feb()"
      ]
    },
    {
      "cell_type": "code",
      "execution_count": null,
      "metadata": {
        "id": "Xam-HVZdZdSz"
      },
      "outputs": [],
      "source": [
        ""
      ]
    },
    {
      "cell_type": "markdown",
      "metadata": {
        "id": "6Q6X_XgBZdSz"
      },
      "source": [
        "Which ingredients cost more than 1.00 but less than 1.50?"
      ]
    },
    {
      "cell_type": "code",
      "execution_count": 31,
      "metadata": {
        "id": "QtsCzG9hZdSz",
        "outputId": "055618c8-c64b-438e-ede0-056a3065dc0e",
        "colab": {
          "base_uri": "https://localhost:8080/",
          "height": 322
        }
      },
      "outputs": [
        {
          "output_type": "error",
          "ename": "OperationalError",
          "evalue": "ignored",
          "traceback": [
            "\u001b[0;31m---------------------------------------------------------------------------\u001b[0m",
            "\u001b[0;31mOperationalError\u001b[0m                          Traceback (most recent call last)",
            "\u001b[0;32m<ipython-input-31-fc60010e4eca>\u001b[0m in \u001b[0;36m<module>\u001b[0;34m()\u001b[0m\n\u001b[1;32m      6\u001b[0m     \u001b[0;32mreturn\u001b[0m \u001b[0mingredients_middle_price\u001b[0m\u001b[0;34m\u001b[0m\u001b[0;34m\u001b[0m\u001b[0m\n\u001b[1;32m      7\u001b[0m \u001b[0;34m\u001b[0m\u001b[0m\n\u001b[0;32m----> 8\u001b[0;31m \u001b[0mingredients_middle_price\u001b[0m\u001b[0;34m(\u001b[0m\u001b[0;34m)\u001b[0m\u001b[0;34m\u001b[0m\u001b[0;34m\u001b[0m\u001b[0m\n\u001b[0m",
            "\u001b[0;32m<ipython-input-31-fc60010e4eca>\u001b[0m in \u001b[0;36mingredients_middle_price\u001b[0;34m()\u001b[0m\n\u001b[1;32m      2\u001b[0m \u001b[0;32mdef\u001b[0m \u001b[0mingredients_middle_price\u001b[0m\u001b[0;34m(\u001b[0m\u001b[0;34m)\u001b[0m\u001b[0;34m:\u001b[0m\u001b[0;34m\u001b[0m\u001b[0;34m\u001b[0m\u001b[0m\n\u001b[1;32m      3\u001b[0m     \u001b[0mstatement\u001b[0m \u001b[0;34m=\u001b[0m \u001b[0;34m\"\"\"select * from ingredientswhere price > 1.0\"\"\"\u001b[0m\u001b[0;34m\u001b[0m\u001b[0;34m\u001b[0m\u001b[0m\n\u001b[0;32m----> 4\u001b[0;31m     \u001b[0mcursor\u001b[0m\u001b[0;34m.\u001b[0m\u001b[0mexecute\u001b[0m\u001b[0;34m(\u001b[0m\u001b[0mstatement\u001b[0m\u001b[0;34m)\u001b[0m\u001b[0;34m\u001b[0m\u001b[0;34m\u001b[0m\u001b[0m\n\u001b[0m\u001b[1;32m      5\u001b[0m     \u001b[0mingredients_middle_price\u001b[0m \u001b[0;34m=\u001b[0m \u001b[0mcursor\u001b[0m\u001b[0;34m.\u001b[0m\u001b[0mfetchall\u001b[0m\u001b[0;34m(\u001b[0m\u001b[0;34m)\u001b[0m\u001b[0;34m\u001b[0m\u001b[0;34m\u001b[0m\u001b[0m\n\u001b[1;32m      6\u001b[0m     \u001b[0;32mreturn\u001b[0m \u001b[0mingredients_middle_price\u001b[0m\u001b[0;34m\u001b[0m\u001b[0;34m\u001b[0m\u001b[0m\n",
            "\u001b[0;31mOperationalError\u001b[0m: near \">\": syntax error"
          ]
        }
      ],
      "source": [
        "from os import stat\n",
        "def ingredients_middle_price():\n",
        "    statement = \"\"\"select * from ingredientswhere price > 1.0\"\"\"\n",
        "    cursor.execute(statement)\n",
        "    ingredients_middle_price = cursor.fetchall()\n",
        "    return ingredients_middle_price\n",
        "\n",
        "ingredients_middle_price()"
      ]
    },
    {
      "cell_type": "code",
      "execution_count": null,
      "metadata": {
        "id": "WrLQgKy-ZdS0"
      },
      "outputs": [],
      "source": [
        "# all([(ingredient[2] < 1.50 or ingredient[2] > 1) for ingredient in ingredients_middle_price()])"
      ]
    },
    {
      "cell_type": "markdown",
      "metadata": {
        "id": "_uVhJU2mZdS0"
      },
      "source": [
        "Which employees' home zip code is 10001 or 10002?"
      ]
    },
    {
      "cell_type": "code",
      "execution_count": 26,
      "metadata": {
        "id": "HRT81ci0ZdS0",
        "outputId": "43c54966-e298-4f62-eaf9-6de0415dc452",
        "colab": {
          "base_uri": "https://localhost:8080/"
        }
      },
      "outputs": [
        {
          "output_type": "execute_result",
          "data": {
            "text/plain": [
              "[(1, 'Tom', 'manager', '2019-05-20', 10001, '212-438-3984'),\n",
              " (3, 'Jerry', 'delivery driver', '2019-12-15', 10001, '212-219-1029'),\n",
              " (4, 'Brian', 'salad maker', '2019-12-04', 10002, '646-328-2309'),\n",
              " (6, 'Cindy', 'assistant manager', '2019-11-12', 10002, '212-300-1203'),\n",
              " (8, 'Alex', 'assistant manager', '2019-06-11', 10001, '718-293-1823'),\n",
              " (9, 'Naomi', 'manager', '2019-02-12', 10002, '212-493-2922'),\n",
              " (10, 'Isabel', 'salad maker', '2020-01-04', 10001, '212-390-9122'),\n",
              " (12, 'Max', 'salad maker', '2019-10-03', 10002, '212-555-2911')]"
            ]
          },
          "metadata": {},
          "execution_count": 26
        }
      ],
      "source": [
        "def employees_in_nearby_zip_code():\n",
        "    statement = \"\"\"select * from employees where zip_code in (10001, 10002)\"\"\"\n",
        "    cursor.execute(statement)\n",
        "    employees = cursor.fetchall()\n",
        "    return employees\n",
        "\n",
        "employees_in_nearby_zip_code()"
      ]
    },
    {
      "cell_type": "code",
      "execution_count": null,
      "metadata": {
        "id": "uYoBsaB9ZdS0"
      },
      "outputs": [],
      "source": [
        "all([(employee[-2] == 10001 or employee[-2] == 10002) for employee in employees_in_nearby_zip_code()])"
      ]
    },
    {
      "cell_type": "markdown",
      "metadata": {
        "id": "M0tVItaWZdS0"
      },
      "source": [
        "### Conclusion"
      ]
    },
    {
      "cell_type": "markdown",
      "metadata": {
        "id": "R-Vrg9ruZdS1"
      },
      "source": [
        "Using the SELECT statement in sql is how we query the data in the database. We use the SELECT statement to retrieve exactly the data we are interested in analyzing. In this lab we started off with some basic SELECT commands using `SELECT *` to select everything from a table, and `SELECT column_name` to select all the data from a specific column, or columns, in a table.\n",
        "\n",
        "Most of the time however, we are going to want to add some more complex filters to our SELECT statements, so we can be more precise in the data we are querying. For example, if our employees table had a 1,000,000 rows but we only wanted to see those rows for employees that started after a certain date, we would use a filter to limit the results of a query. The `WHERE` clause is how we filter in our SELECT statements. \n",
        "\n",
        "At the end of the lab, we used the `WHERE` clause, in conjunction with boolean logic, to apply filters to the queries."
      ]
    }
  ],
  "metadata": {
    "kernelspec": {
      "display_name": "Python 3 (ipykernel)",
      "language": "python",
      "name": "python3"
    },
    "language_info": {
      "codemirror_mode": {
        "name": "ipython",
        "version": 3
      },
      "file_extension": ".py",
      "mimetype": "text/x-python",
      "name": "python",
      "nbconvert_exporter": "python",
      "pygments_lexer": "ipython3",
      "version": "3.9.10"
    },
    "colab": {
      "name": "sql-select-lab.ipynb",
      "provenance": []
    }
  },
  "nbformat": 4,
  "nbformat_minor": 0
}